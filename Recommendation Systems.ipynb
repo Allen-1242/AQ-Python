{
 "cells": [
  {
   "cell_type": "markdown",
   "metadata": {},
   "source": [
    "# Introduction\n",
    "\n",
    "In todays world, a user is often faced with multiple choices and often does not have the intrest to browse through the options.\n",
    "\n",
    "\n",
    "\n",
    "We will look at the concept of Recommendation system using Goodreads book dataset\n",
    "\n",
    "The goodreads book dataset contains six million ratings for 10000 most popular books.The dataset contains, ratings for the books by users, the books marked to-read by users, metadata of the book and tags associated with abook\n",
    "Ratings are between 1-5. Both book IDs and user IDs are contiguous. For books, they are 1-10000, for users, 1-53424.\n",
    "\n",
    "\n",
    "\n",
    "The link to the dataset can be found at :\n",
    "\n",
    "https://github.com/zygmuntz/goodbooks-10k/releases"
   ]
  },
  {
   "cell_type": "markdown",
   "metadata": {},
   "source": [
    "## Importing Libraries"
   ]
  },
  {
   "cell_type": "code",
   "execution_count": 1,
   "metadata": {},
   "outputs": [],
   "source": [
    "import pandas as pd\n",
    "import numpy as np\n",
    "import seaborn as sns\n",
    "import matplotlib.pyplot as plt\n",
    "pd.set_option('display.max_colwidth', -1)\n",
    "\n",
    "import os"
   ]
  },
  {
   "cell_type": "code",
   "execution_count": 2,
   "metadata": {},
   "outputs": [],
   "source": [
    "input_path=\"../data/goodbooks-10k/\""
   ]
  },
  {
   "cell_type": "code",
   "execution_count": 3,
   "metadata": {},
   "outputs": [
    {
     "data": {
      "text/plain": [
       "['book_tags.csv',\n",
       " 'LICENSE',\n",
       " 'tags.csv',\n",
       " 'README.md',\n",
       " 'ratings.csv',\n",
       " 'to_read.csv',\n",
       " 'books.csv']"
      ]
     },
     "execution_count": 3,
     "metadata": {},
     "output_type": "execute_result"
    }
   ],
   "source": [
    "os.listdir(input_path)"
   ]
  },
  {
   "cell_type": "markdown",
   "metadata": {},
   "source": [
    "## The data folder has the following data files\n",
    "\n",
    "**ratings.csv** contains ratings sorted by time. It is 69MB and looks like that:\n",
    "user_id,book_id,rating\n",
    "1,258,5\n",
    "2,4081,4\n",
    "2,260,5\n",
    "2,9296,5\n",
    "2,2318,3\n",
    "\n",
    "Ratings go from one to five. Both book IDs and user IDs are contiguous. For books, they are 1-10000, for users, 1-53424. \t\n",
    "\n",
    "**to_read.csv** provides IDs of the books marked \"to read\" by each user, as _user_id,book_id_ pairs, sorted by time. There are close to a million pairs.\n",
    "\n",
    "**books.csv** has metadata for each book (goodreads IDs, authors, title, average rating, etc.).\n",
    "\n",
    "**book_tags.csv** contains tags/shelves/genres assigned by users to books. Tags in this file are represented by their IDs. They are sorted by _goodreads_book_id_ ascending and _count_ descending. \n",
    "\n"
   ]
  },
  {
   "cell_type": "markdown",
   "metadata": {},
   "source": [
    "## Load the data"
   ]
  },
  {
   "cell_type": "code",
   "execution_count": 4,
   "metadata": {},
   "outputs": [
    {
     "data": {
      "text/html": [
       "<div>\n",
       "<style scoped>\n",
       "    .dataframe tbody tr th:only-of-type {\n",
       "        vertical-align: middle;\n",
       "    }\n",
       "\n",
       "    .dataframe tbody tr th {\n",
       "        vertical-align: top;\n",
       "    }\n",
       "\n",
       "    .dataframe thead th {\n",
       "        text-align: right;\n",
       "    }\n",
       "</style>\n",
       "<table border=\"1\" class=\"dataframe\">\n",
       "  <thead>\n",
       "    <tr style=\"text-align: right;\">\n",
       "      <th></th>\n",
       "      <th>user_id</th>\n",
       "      <th>book_id</th>\n",
       "      <th>rating</th>\n",
       "    </tr>\n",
       "  </thead>\n",
       "  <tbody>\n",
       "    <tr>\n",
       "      <th>0</th>\n",
       "      <td>1</td>\n",
       "      <td>258</td>\n",
       "      <td>5</td>\n",
       "    </tr>\n",
       "    <tr>\n",
       "      <th>1</th>\n",
       "      <td>2</td>\n",
       "      <td>4081</td>\n",
       "      <td>4</td>\n",
       "    </tr>\n",
       "    <tr>\n",
       "      <th>2</th>\n",
       "      <td>2</td>\n",
       "      <td>260</td>\n",
       "      <td>5</td>\n",
       "    </tr>\n",
       "    <tr>\n",
       "      <th>3</th>\n",
       "      <td>2</td>\n",
       "      <td>9296</td>\n",
       "      <td>5</td>\n",
       "    </tr>\n",
       "    <tr>\n",
       "      <th>4</th>\n",
       "      <td>2</td>\n",
       "      <td>2318</td>\n",
       "      <td>3</td>\n",
       "    </tr>\n",
       "  </tbody>\n",
       "</table>\n",
       "</div>"
      ],
      "text/plain": [
       "   user_id  book_id  rating\n",
       "0  1        258      5     \n",
       "1  2        4081     4     \n",
       "2  2        260      5     \n",
       "3  2        9296     5     \n",
       "4  2        2318     3     "
      ]
     },
     "execution_count": 4,
     "metadata": {},
     "output_type": "execute_result"
    }
   ],
   "source": [
    "ratings=pd.read_csv(input_path+\"ratings.csv\")\n",
    "ratings.head()"
   ]
  },
  {
   "cell_type": "code",
   "execution_count": 5,
   "metadata": {},
   "outputs": [
    {
     "data": {
      "text/html": [
       "<div>\n",
       "<style scoped>\n",
       "    .dataframe tbody tr th:only-of-type {\n",
       "        vertical-align: middle;\n",
       "    }\n",
       "\n",
       "    .dataframe tbody tr th {\n",
       "        vertical-align: top;\n",
       "    }\n",
       "\n",
       "    .dataframe thead th {\n",
       "        text-align: right;\n",
       "    }\n",
       "</style>\n",
       "<table border=\"1\" class=\"dataframe\">\n",
       "  <thead>\n",
       "    <tr style=\"text-align: right;\">\n",
       "      <th></th>\n",
       "      <th>user_id</th>\n",
       "      <th>book_id</th>\n",
       "    </tr>\n",
       "  </thead>\n",
       "  <tbody>\n",
       "    <tr>\n",
       "      <th>0</th>\n",
       "      <td>9</td>\n",
       "      <td>8</td>\n",
       "    </tr>\n",
       "    <tr>\n",
       "      <th>1</th>\n",
       "      <td>15</td>\n",
       "      <td>398</td>\n",
       "    </tr>\n",
       "    <tr>\n",
       "      <th>2</th>\n",
       "      <td>15</td>\n",
       "      <td>275</td>\n",
       "    </tr>\n",
       "    <tr>\n",
       "      <th>3</th>\n",
       "      <td>37</td>\n",
       "      <td>7173</td>\n",
       "    </tr>\n",
       "    <tr>\n",
       "      <th>4</th>\n",
       "      <td>34</td>\n",
       "      <td>380</td>\n",
       "    </tr>\n",
       "  </tbody>\n",
       "</table>\n",
       "</div>"
      ],
      "text/plain": [
       "   user_id  book_id\n",
       "0  9        8      \n",
       "1  15       398    \n",
       "2  15       275    \n",
       "3  37       7173   \n",
       "4  34       380    "
      ]
     },
     "execution_count": 5,
     "metadata": {},
     "output_type": "execute_result"
    }
   ],
   "source": [
    "to_read=pd.read_csv(input_path+\"to_read.csv\")\n",
    "to_read.head()"
   ]
  },
  {
   "cell_type": "code",
   "execution_count": 6,
   "metadata": {},
   "outputs": [
    {
     "data": {
      "text/html": [
       "<div>\n",
       "<style scoped>\n",
       "    .dataframe tbody tr th:only-of-type {\n",
       "        vertical-align: middle;\n",
       "    }\n",
       "\n",
       "    .dataframe tbody tr th {\n",
       "        vertical-align: top;\n",
       "    }\n",
       "\n",
       "    .dataframe thead th {\n",
       "        text-align: right;\n",
       "    }\n",
       "</style>\n",
       "<table border=\"1\" class=\"dataframe\">\n",
       "  <thead>\n",
       "    <tr style=\"text-align: right;\">\n",
       "      <th></th>\n",
       "      <th>book_id</th>\n",
       "      <th>goodreads_book_id</th>\n",
       "      <th>best_book_id</th>\n",
       "      <th>work_id</th>\n",
       "      <th>books_count</th>\n",
       "      <th>isbn</th>\n",
       "      <th>isbn13</th>\n",
       "      <th>authors</th>\n",
       "      <th>original_publication_year</th>\n",
       "      <th>original_title</th>\n",
       "      <th>...</th>\n",
       "      <th>ratings_count</th>\n",
       "      <th>work_ratings_count</th>\n",
       "      <th>work_text_reviews_count</th>\n",
       "      <th>ratings_1</th>\n",
       "      <th>ratings_2</th>\n",
       "      <th>ratings_3</th>\n",
       "      <th>ratings_4</th>\n",
       "      <th>ratings_5</th>\n",
       "      <th>image_url</th>\n",
       "      <th>small_image_url</th>\n",
       "    </tr>\n",
       "  </thead>\n",
       "  <tbody>\n",
       "    <tr>\n",
       "      <th>0</th>\n",
       "      <td>1</td>\n",
       "      <td>2767052</td>\n",
       "      <td>2767052</td>\n",
       "      <td>2792775</td>\n",
       "      <td>272</td>\n",
       "      <td>439023483</td>\n",
       "      <td>9.780439e+12</td>\n",
       "      <td>Suzanne Collins</td>\n",
       "      <td>2008.0</td>\n",
       "      <td>The Hunger Games</td>\n",
       "      <td>...</td>\n",
       "      <td>4780653</td>\n",
       "      <td>4942365</td>\n",
       "      <td>155254</td>\n",
       "      <td>66715</td>\n",
       "      <td>127936</td>\n",
       "      <td>560092</td>\n",
       "      <td>1481305</td>\n",
       "      <td>2706317</td>\n",
       "      <td>https://images.gr-assets.com/books/1447303603m/2767052.jpg</td>\n",
       "      <td>https://images.gr-assets.com/books/1447303603s/2767052.jpg</td>\n",
       "    </tr>\n",
       "    <tr>\n",
       "      <th>1</th>\n",
       "      <td>2</td>\n",
       "      <td>3</td>\n",
       "      <td>3</td>\n",
       "      <td>4640799</td>\n",
       "      <td>491</td>\n",
       "      <td>439554934</td>\n",
       "      <td>9.780440e+12</td>\n",
       "      <td>J.K. Rowling, Mary GrandPré</td>\n",
       "      <td>1997.0</td>\n",
       "      <td>Harry Potter and the Philosopher's Stone</td>\n",
       "      <td>...</td>\n",
       "      <td>4602479</td>\n",
       "      <td>4800065</td>\n",
       "      <td>75867</td>\n",
       "      <td>75504</td>\n",
       "      <td>101676</td>\n",
       "      <td>455024</td>\n",
       "      <td>1156318</td>\n",
       "      <td>3011543</td>\n",
       "      <td>https://images.gr-assets.com/books/1474154022m/3.jpg</td>\n",
       "      <td>https://images.gr-assets.com/books/1474154022s/3.jpg</td>\n",
       "    </tr>\n",
       "    <tr>\n",
       "      <th>2</th>\n",
       "      <td>3</td>\n",
       "      <td>41865</td>\n",
       "      <td>41865</td>\n",
       "      <td>3212258</td>\n",
       "      <td>226</td>\n",
       "      <td>316015849</td>\n",
       "      <td>9.780316e+12</td>\n",
       "      <td>Stephenie Meyer</td>\n",
       "      <td>2005.0</td>\n",
       "      <td>Twilight</td>\n",
       "      <td>...</td>\n",
       "      <td>3866839</td>\n",
       "      <td>3916824</td>\n",
       "      <td>95009</td>\n",
       "      <td>456191</td>\n",
       "      <td>436802</td>\n",
       "      <td>793319</td>\n",
       "      <td>875073</td>\n",
       "      <td>1355439</td>\n",
       "      <td>https://images.gr-assets.com/books/1361039443m/41865.jpg</td>\n",
       "      <td>https://images.gr-assets.com/books/1361039443s/41865.jpg</td>\n",
       "    </tr>\n",
       "    <tr>\n",
       "      <th>3</th>\n",
       "      <td>4</td>\n",
       "      <td>2657</td>\n",
       "      <td>2657</td>\n",
       "      <td>3275794</td>\n",
       "      <td>487</td>\n",
       "      <td>61120081</td>\n",
       "      <td>9.780061e+12</td>\n",
       "      <td>Harper Lee</td>\n",
       "      <td>1960.0</td>\n",
       "      <td>To Kill a Mockingbird</td>\n",
       "      <td>...</td>\n",
       "      <td>3198671</td>\n",
       "      <td>3340896</td>\n",
       "      <td>72586</td>\n",
       "      <td>60427</td>\n",
       "      <td>117415</td>\n",
       "      <td>446835</td>\n",
       "      <td>1001952</td>\n",
       "      <td>1714267</td>\n",
       "      <td>https://images.gr-assets.com/books/1361975680m/2657.jpg</td>\n",
       "      <td>https://images.gr-assets.com/books/1361975680s/2657.jpg</td>\n",
       "    </tr>\n",
       "    <tr>\n",
       "      <th>4</th>\n",
       "      <td>5</td>\n",
       "      <td>4671</td>\n",
       "      <td>4671</td>\n",
       "      <td>245494</td>\n",
       "      <td>1356</td>\n",
       "      <td>743273567</td>\n",
       "      <td>9.780743e+12</td>\n",
       "      <td>F. Scott Fitzgerald</td>\n",
       "      <td>1925.0</td>\n",
       "      <td>The Great Gatsby</td>\n",
       "      <td>...</td>\n",
       "      <td>2683664</td>\n",
       "      <td>2773745</td>\n",
       "      <td>51992</td>\n",
       "      <td>86236</td>\n",
       "      <td>197621</td>\n",
       "      <td>606158</td>\n",
       "      <td>936012</td>\n",
       "      <td>947718</td>\n",
       "      <td>https://images.gr-assets.com/books/1490528560m/4671.jpg</td>\n",
       "      <td>https://images.gr-assets.com/books/1490528560s/4671.jpg</td>\n",
       "    </tr>\n",
       "  </tbody>\n",
       "</table>\n",
       "<p>5 rows × 23 columns</p>\n",
       "</div>"
      ],
      "text/plain": [
       "   book_id  goodreads_book_id  best_book_id  work_id  books_count       isbn  \\\n",
       "0  1        2767052            2767052       2792775  272          439023483   \n",
       "1  2        3                  3             4640799  491          439554934   \n",
       "2  3        41865              41865         3212258  226          316015849   \n",
       "3  4        2657               2657          3275794  487          61120081    \n",
       "4  5        4671               4671          245494   1356         743273567   \n",
       "\n",
       "         isbn13                      authors  original_publication_year  \\\n",
       "0  9.780439e+12  Suzanne Collins              2008.0                      \n",
       "1  9.780440e+12  J.K. Rowling, Mary GrandPré  1997.0                      \n",
       "2  9.780316e+12  Stephenie Meyer              2005.0                      \n",
       "3  9.780061e+12  Harper Lee                   1960.0                      \n",
       "4  9.780743e+12  F. Scott Fitzgerald          1925.0                      \n",
       "\n",
       "                             original_title  \\\n",
       "0  The Hunger Games                           \n",
       "1  Harry Potter and the Philosopher's Stone   \n",
       "2  Twilight                                   \n",
       "3  To Kill a Mockingbird                      \n",
       "4  The Great Gatsby                           \n",
       "\n",
       "                              ...                             ratings_count  \\\n",
       "0                             ...                              4780653        \n",
       "1                             ...                              4602479        \n",
       "2                             ...                              3866839        \n",
       "3                             ...                              3198671        \n",
       "4                             ...                              2683664        \n",
       "\n",
       "  work_ratings_count  work_text_reviews_count  ratings_1  ratings_2  \\\n",
       "0  4942365            155254                   66715      127936      \n",
       "1  4800065            75867                    75504      101676      \n",
       "2  3916824            95009                    456191     436802      \n",
       "3  3340896            72586                    60427      117415      \n",
       "4  2773745            51992                    86236      197621      \n",
       "\n",
       "   ratings_3  ratings_4  ratings_5  \\\n",
       "0  560092     1481305    2706317     \n",
       "1  455024     1156318    3011543     \n",
       "2  793319     875073     1355439     \n",
       "3  446835     1001952    1714267     \n",
       "4  606158     936012     947718      \n",
       "\n",
       "                                                    image_url  \\\n",
       "0  https://images.gr-assets.com/books/1447303603m/2767052.jpg   \n",
       "1  https://images.gr-assets.com/books/1474154022m/3.jpg         \n",
       "2  https://images.gr-assets.com/books/1361039443m/41865.jpg     \n",
       "3  https://images.gr-assets.com/books/1361975680m/2657.jpg      \n",
       "4  https://images.gr-assets.com/books/1490528560m/4671.jpg      \n",
       "\n",
       "                                              small_image_url  \n",
       "0  https://images.gr-assets.com/books/1447303603s/2767052.jpg  \n",
       "1  https://images.gr-assets.com/books/1474154022s/3.jpg        \n",
       "2  https://images.gr-assets.com/books/1361039443s/41865.jpg    \n",
       "3  https://images.gr-assets.com/books/1361975680s/2657.jpg     \n",
       "4  https://images.gr-assets.com/books/1490528560s/4671.jpg     \n",
       "\n",
       "[5 rows x 23 columns]"
      ]
     },
     "execution_count": 6,
     "metadata": {},
     "output_type": "execute_result"
    }
   ],
   "source": [
    "books=pd.read_csv(input_path+\"books.csv\")\n",
    "books.head()"
   ]
  },
  {
   "cell_type": "code",
   "execution_count": 7,
   "metadata": {},
   "outputs": [
    {
     "data": {
      "text/html": [
       "<div>\n",
       "<style scoped>\n",
       "    .dataframe tbody tr th:only-of-type {\n",
       "        vertical-align: middle;\n",
       "    }\n",
       "\n",
       "    .dataframe tbody tr th {\n",
       "        vertical-align: top;\n",
       "    }\n",
       "\n",
       "    .dataframe thead th {\n",
       "        text-align: right;\n",
       "    }\n",
       "</style>\n",
       "<table border=\"1\" class=\"dataframe\">\n",
       "  <thead>\n",
       "    <tr style=\"text-align: right;\">\n",
       "      <th></th>\n",
       "      <th>goodreads_book_id</th>\n",
       "      <th>tag_id</th>\n",
       "      <th>count</th>\n",
       "    </tr>\n",
       "  </thead>\n",
       "  <tbody>\n",
       "    <tr>\n",
       "      <th>0</th>\n",
       "      <td>1</td>\n",
       "      <td>30574</td>\n",
       "      <td>167697</td>\n",
       "    </tr>\n",
       "    <tr>\n",
       "      <th>1</th>\n",
       "      <td>1</td>\n",
       "      <td>11305</td>\n",
       "      <td>37174</td>\n",
       "    </tr>\n",
       "    <tr>\n",
       "      <th>2</th>\n",
       "      <td>1</td>\n",
       "      <td>11557</td>\n",
       "      <td>34173</td>\n",
       "    </tr>\n",
       "    <tr>\n",
       "      <th>3</th>\n",
       "      <td>1</td>\n",
       "      <td>8717</td>\n",
       "      <td>12986</td>\n",
       "    </tr>\n",
       "    <tr>\n",
       "      <th>4</th>\n",
       "      <td>1</td>\n",
       "      <td>33114</td>\n",
       "      <td>12716</td>\n",
       "    </tr>\n",
       "  </tbody>\n",
       "</table>\n",
       "</div>"
      ],
      "text/plain": [
       "   goodreads_book_id  tag_id   count\n",
       "0  1                  30574   167697\n",
       "1  1                  11305   37174 \n",
       "2  1                  11557   34173 \n",
       "3  1                  8717    12986 \n",
       "4  1                  33114   12716 "
      ]
     },
     "execution_count": 7,
     "metadata": {},
     "output_type": "execute_result"
    }
   ],
   "source": [
    "book_tags=pd.read_csv(input_path+\"book_tags.csv\")\n",
    "book_tags.head()"
   ]
  },
  {
   "cell_type": "code",
   "execution_count": 8,
   "metadata": {},
   "outputs": [
    {
     "data": {
      "text/html": [
       "<div>\n",
       "<style scoped>\n",
       "    .dataframe tbody tr th:only-of-type {\n",
       "        vertical-align: middle;\n",
       "    }\n",
       "\n",
       "    .dataframe tbody tr th {\n",
       "        vertical-align: top;\n",
       "    }\n",
       "\n",
       "    .dataframe thead th {\n",
       "        text-align: right;\n",
       "    }\n",
       "</style>\n",
       "<table border=\"1\" class=\"dataframe\">\n",
       "  <thead>\n",
       "    <tr style=\"text-align: right;\">\n",
       "      <th></th>\n",
       "      <th>tag_id</th>\n",
       "      <th>tag_name</th>\n",
       "    </tr>\n",
       "  </thead>\n",
       "  <tbody>\n",
       "    <tr>\n",
       "      <th>0</th>\n",
       "      <td>0</td>\n",
       "      <td>-</td>\n",
       "    </tr>\n",
       "    <tr>\n",
       "      <th>1</th>\n",
       "      <td>1</td>\n",
       "      <td>--1-</td>\n",
       "    </tr>\n",
       "    <tr>\n",
       "      <th>2</th>\n",
       "      <td>2</td>\n",
       "      <td>--10-</td>\n",
       "    </tr>\n",
       "    <tr>\n",
       "      <th>3</th>\n",
       "      <td>3</td>\n",
       "      <td>--12-</td>\n",
       "    </tr>\n",
       "    <tr>\n",
       "      <th>4</th>\n",
       "      <td>4</td>\n",
       "      <td>--122-</td>\n",
       "    </tr>\n",
       "  </tbody>\n",
       "</table>\n",
       "</div>"
      ],
      "text/plain": [
       "   tag_id tag_name\n",
       "0  0       -      \n",
       "1  1       --1-   \n",
       "2  2       --10-  \n",
       "3  3       --12-  \n",
       "4  4       --122- "
      ]
     },
     "execution_count": 8,
     "metadata": {},
     "output_type": "execute_result"
    }
   ],
   "source": [
    "tags=pd.read_csv(input_path+\"tags.csv\")\n",
    "tags.head()"
   ]
  },
  {
   "cell_type": "markdown",
   "metadata": {},
   "source": [
    "### How are we goin to evaluate our recommendation Model?\n",
    "\n",
    "We have data on what books the users have marked as to read. We can predict top k books for each user and calculate the orecision and recall"
   ]
  },
  {
   "cell_type": "markdown",
   "metadata": {},
   "source": [
    "## How can we recommend Books to Users?\n",
    "\n",
    "1. Recommend most popular book among all users - In this method, we lose out on user personalisation\n",
    "2. Recommend books based on what users with similar reading preference have liked\n",
    "3. Recommend books similar to what user has liked in the past"
   ]
  },
  {
   "cell_type": "markdown",
   "metadata": {},
   "source": [
    "## Exploring the data"
   ]
  },
  {
   "cell_type": "markdown",
   "metadata": {},
   "source": [
    "#### Are there any duplicate (user_id,book_id) pairs??"
   ]
  },
  {
   "cell_type": "code",
   "execution_count": 9,
   "metadata": {},
   "outputs": [
    {
     "data": {
      "text/plain": [
       "1"
      ]
     },
     "execution_count": 9,
     "metadata": {},
     "output_type": "execute_result"
    }
   ],
   "source": [
    "duplicate=ratings.groupby(['user_id','book_id'])['rating'].count().reset_index().rename(columns={'rating':'#Ratings'})\n",
    "max(duplicate['#Ratings'])"
   ]
  },
  {
   "cell_type": "markdown",
   "metadata": {},
   "source": [
    "There are no duplicate (user_id,book_id) pairs"
   ]
  },
  {
   "cell_type": "markdown",
   "metadata": {},
   "source": [
    "#### What is the distribution of Ratings?"
   ]
  },
  {
   "cell_type": "code",
   "execution_count": 10,
   "metadata": {},
   "outputs": [
    {
     "data": {
      "text/plain": [
       "Text(0.5,1,'Distribution of Ratings')"
      ]
     },
     "execution_count": 10,
     "metadata": {},
     "output_type": "execute_result"
    },
    {
     "data": {
      "image/png": "[encoded data removed]",
      "text/plain": [
       "<matplotlib.figure.Figure at 0x1161a0b70>"
      ]
     },
     "metadata": {
      "needs_background": "light"
     },
     "output_type": "display_data"
    }
   ],
   "source": [
    "sns.countplot(ratings['rating']).set_title(\"Distribution of Ratings\")"
   ]
  },
  {
   "cell_type": "markdown",
   "metadata": {},
   "source": [
    "### What is the number of ratings per user (ideally should follow power law)"
   ]
  },
  {
   "cell_type": "code",
   "execution_count": 11,
   "metadata": {},
   "outputs": [],
   "source": [
    "avg_ratings_user=ratings.groupby(['user_id'])['rating'].count().reset_index().rename(columns={'rating':'#Ratings'})\n"
   ]
  },
  {
   "cell_type": "code",
   "execution_count": 12,
   "metadata": {},
   "outputs": [
    {
     "data": {
      "text/plain": [
       "Text(0.5,1,'Average Number of Rating per user')"
      ]
     },
     "execution_count": 12,
     "metadata": {},
     "output_type": "execute_result"
    },
    {
     "data": {
      "image/png": "[encoded data removed]",
      "text/plain": [
       "<matplotlib.figure.Figure at 0x1157071d0>"
      ]
     },
     "metadata": {
      "needs_background": "light"
     },
     "output_type": "display_data"
    }
   ],
   "source": [
    "sns.distplot(avg_ratings_user['#Ratings']).set_title(\"Average Number of Rating per user\")"
   ]
  },
  {
   "cell_type": "markdown",
   "metadata": {},
   "source": [
    "### What are the top 10 highly rated books?"
   ]
  },
  {
   "cell_type": "code",
   "execution_count": 13,
   "metadata": {},
   "outputs": [],
   "source": [
    "popular_books=books.sort_values(by='average_rating',ascending=False)[['book_id','average_rating','ratings_count','title']]"
   ]
  },
  {
   "cell_type": "code",
   "execution_count": 14,
   "metadata": {},
   "outputs": [
    {
     "data": {
      "text/html": [
       "<div>\n",
       "<style scoped>\n",
       "    .dataframe tbody tr th:only-of-type {\n",
       "        vertical-align: middle;\n",
       "    }\n",
       "\n",
       "    .dataframe tbody tr th {\n",
       "        vertical-align: top;\n",
       "    }\n",
       "\n",
       "    .dataframe thead th {\n",
       "        text-align: right;\n",
       "    }\n",
       "</style>\n",
       "<table border=\"1\" class=\"dataframe\">\n",
       "  <thead>\n",
       "    <tr style=\"text-align: right;\">\n",
       "      <th></th>\n",
       "      <th>book_id</th>\n",
       "      <th>average_rating</th>\n",
       "      <th>ratings_count</th>\n",
       "      <th>title</th>\n",
       "    </tr>\n",
       "  </thead>\n",
       "  <tbody>\n",
       "    <tr>\n",
       "      <th>3627</th>\n",
       "      <td>3628</td>\n",
       "      <td>4.82</td>\n",
       "      <td>28900</td>\n",
       "      <td>The Complete Calvin and Hobbes</td>\n",
       "    </tr>\n",
       "    <tr>\n",
       "      <th>3274</th>\n",
       "      <td>3275</td>\n",
       "      <td>4.77</td>\n",
       "      <td>33220</td>\n",
       "      <td>Harry Potter Boxed Set, Books 1-5 (Harry Potter, #1-5)</td>\n",
       "    </tr>\n",
       "    <tr>\n",
       "      <th>861</th>\n",
       "      <td>862</td>\n",
       "      <td>4.77</td>\n",
       "      <td>73572</td>\n",
       "      <td>Words of Radiance (The Stormlight Archive, #2)</td>\n",
       "    </tr>\n",
       "    <tr>\n",
       "      <th>8853</th>\n",
       "      <td>8854</td>\n",
       "      <td>4.76</td>\n",
       "      <td>9081</td>\n",
       "      <td>Mark of the Lion Trilogy</td>\n",
       "    </tr>\n",
       "    <tr>\n",
       "      <th>7946</th>\n",
       "      <td>7947</td>\n",
       "      <td>4.76</td>\n",
       "      <td>8953</td>\n",
       "      <td>ESV Study Bible</td>\n",
       "    </tr>\n",
       "    <tr>\n",
       "      <th>4482</th>\n",
       "      <td>4483</td>\n",
       "      <td>4.75</td>\n",
       "      <td>22351</td>\n",
       "      <td>It's a Magical World: A Calvin and Hobbes Collection</td>\n",
       "    </tr>\n",
       "    <tr>\n",
       "      <th>6360</th>\n",
       "      <td>6361</td>\n",
       "      <td>4.74</td>\n",
       "      <td>16766</td>\n",
       "      <td>There's Treasure Everywhere: A Calvin and Hobbes Collection</td>\n",
       "    </tr>\n",
       "    <tr>\n",
       "      <th>421</th>\n",
       "      <td>422</td>\n",
       "      <td>4.74</td>\n",
       "      <td>190050</td>\n",
       "      <td>Harry Potter Boxset (Harry Potter, #1-7)</td>\n",
       "    </tr>\n",
       "    <tr>\n",
       "      <th>3752</th>\n",
       "      <td>3753</td>\n",
       "      <td>4.73</td>\n",
       "      <td>24618</td>\n",
       "      <td>Harry Potter Collection (Harry Potter, #1-6)</td>\n",
       "    </tr>\n",
       "    <tr>\n",
       "      <th>6919</th>\n",
       "      <td>6920</td>\n",
       "      <td>4.73</td>\n",
       "      <td>14597</td>\n",
       "      <td>The Indispensable Calvin and Hobbes</td>\n",
       "    </tr>\n",
       "  </tbody>\n",
       "</table>\n",
       "</div>"
      ],
      "text/plain": [
       "      book_id  average_rating  ratings_count  \\\n",
       "3627  3628     4.82            28900           \n",
       "3274  3275     4.77            33220           \n",
       "861   862      4.77            73572           \n",
       "8853  8854     4.76            9081            \n",
       "7946  7947     4.76            8953            \n",
       "4482  4483     4.75            22351           \n",
       "6360  6361     4.74            16766           \n",
       "421   422      4.74            190050          \n",
       "3752  3753     4.73            24618           \n",
       "6919  6920     4.73            14597           \n",
       "\n",
       "                                                            title  \n",
       "3627  The Complete Calvin and Hobbes                               \n",
       "3274  Harry Potter Boxed Set, Books 1-5 (Harry Potter, #1-5)       \n",
       "861   Words of Radiance (The Stormlight Archive, #2)               \n",
       "8853  Mark of the Lion Trilogy                                     \n",
       "7946  ESV Study Bible                                              \n",
       "4482  It's a Magical World: A Calvin and Hobbes Collection         \n",
       "6360  There's Treasure Everywhere: A Calvin and Hobbes Collection  \n",
       "421   Harry Potter Boxset (Harry Potter, #1-7)                     \n",
       "3752  Harry Potter Collection (Harry Potter, #1-6)                 \n",
       "6919  The Indispensable Calvin and Hobbes                          "
      ]
     },
     "execution_count": 14,
     "metadata": {},
     "output_type": "execute_result"
    }
   ],
   "source": [
    "popular_books[:10]"
   ]
  },
  {
   "cell_type": "markdown",
   "metadata": {},
   "source": [
    "Calvin and Hobbes and Harry Potter Box set seem to be the top 10 most highly rated books"
   ]
  },
  {
   "cell_type": "markdown",
   "metadata": {},
   "source": [
    "### What books are most read??"
   ]
  },
  {
   "cell_type": "code",
   "execution_count": 15,
   "metadata": {},
   "outputs": [],
   "source": [
    "most_read=books.sort_values(by='ratings_count',ascending=False)[['book_id','ratings_count','title']]\n"
   ]
  },
  {
   "cell_type": "code",
   "execution_count": 16,
   "metadata": {},
   "outputs": [
    {
     "data": {
      "text/html": [
       "<div>\n",
       "<style scoped>\n",
       "    .dataframe tbody tr th:only-of-type {\n",
       "        vertical-align: middle;\n",
       "    }\n",
       "\n",
       "    .dataframe tbody tr th {\n",
       "        vertical-align: top;\n",
       "    }\n",
       "\n",
       "    .dataframe thead th {\n",
       "        text-align: right;\n",
       "    }\n",
       "</style>\n",
       "<table border=\"1\" class=\"dataframe\">\n",
       "  <thead>\n",
       "    <tr style=\"text-align: right;\">\n",
       "      <th></th>\n",
       "      <th>book_id</th>\n",
       "      <th>ratings_count</th>\n",
       "      <th>title</th>\n",
       "    </tr>\n",
       "  </thead>\n",
       "  <tbody>\n",
       "    <tr>\n",
       "      <th>0</th>\n",
       "      <td>1</td>\n",
       "      <td>4780653</td>\n",
       "      <td>The Hunger Games (The Hunger Games, #1)</td>\n",
       "    </tr>\n",
       "    <tr>\n",
       "      <th>1</th>\n",
       "      <td>2</td>\n",
       "      <td>4602479</td>\n",
       "      <td>Harry Potter and the Sorcerer's Stone (Harry Potter, #1)</td>\n",
       "    </tr>\n",
       "    <tr>\n",
       "      <th>2</th>\n",
       "      <td>3</td>\n",
       "      <td>3866839</td>\n",
       "      <td>Twilight (Twilight, #1)</td>\n",
       "    </tr>\n",
       "    <tr>\n",
       "      <th>3</th>\n",
       "      <td>4</td>\n",
       "      <td>3198671</td>\n",
       "      <td>To Kill a Mockingbird</td>\n",
       "    </tr>\n",
       "    <tr>\n",
       "      <th>4</th>\n",
       "      <td>5</td>\n",
       "      <td>2683664</td>\n",
       "      <td>The Great Gatsby</td>\n",
       "    </tr>\n",
       "    <tr>\n",
       "      <th>5</th>\n",
       "      <td>6</td>\n",
       "      <td>2346404</td>\n",
       "      <td>The Fault in Our Stars</td>\n",
       "    </tr>\n",
       "    <tr>\n",
       "      <th>6</th>\n",
       "      <td>7</td>\n",
       "      <td>2071616</td>\n",
       "      <td>The Hobbit</td>\n",
       "    </tr>\n",
       "    <tr>\n",
       "      <th>7</th>\n",
       "      <td>8</td>\n",
       "      <td>2044241</td>\n",
       "      <td>The Catcher in the Rye</td>\n",
       "    </tr>\n",
       "    <tr>\n",
       "      <th>9</th>\n",
       "      <td>10</td>\n",
       "      <td>2035490</td>\n",
       "      <td>Pride and Prejudice</td>\n",
       "    </tr>\n",
       "    <tr>\n",
       "      <th>8</th>\n",
       "      <td>9</td>\n",
       "      <td>2001311</td>\n",
       "      <td>Angels &amp; Demons  (Robert Langdon, #1)</td>\n",
       "    </tr>\n",
       "  </tbody>\n",
       "</table>\n",
       "</div>"
      ],
      "text/plain": [
       "   book_id  ratings_count  \\\n",
       "0  1        4780653         \n",
       "1  2        4602479         \n",
       "2  3        3866839         \n",
       "3  4        3198671         \n",
       "4  5        2683664         \n",
       "5  6        2346404         \n",
       "6  7        2071616         \n",
       "7  8        2044241         \n",
       "9  10       2035490         \n",
       "8  9        2001311         \n",
       "\n",
       "                                                      title  \n",
       "0  The Hunger Games (The Hunger Games, #1)                   \n",
       "1  Harry Potter and the Sorcerer's Stone (Harry Potter, #1)  \n",
       "2  Twilight (Twilight, #1)                                   \n",
       "3  To Kill a Mockingbird                                     \n",
       "4  The Great Gatsby                                          \n",
       "5  The Fault in Our Stars                                    \n",
       "6  The Hobbit                                                \n",
       "7  The Catcher in the Rye                                    \n",
       "9  Pride and Prejudice                                       \n",
       "8  Angels & Demons  (Robert Langdon, #1)                     "
      ]
     },
     "execution_count": 16,
     "metadata": {},
     "output_type": "execute_result"
    }
   ],
   "source": [
    "most_read[:10]"
   ]
  },
  {
   "cell_type": "markdown",
   "metadata": {},
   "source": [
    "A popularity based recommender can get list of  books, ordered by either ratings score or number of users who have rated.\n",
    "The drawback of this model is that it is not personalised. \n",
    "\n",
    "The next approach can be to recommends books to users based on the content of the book - for example: if user A likes books that are related to history, we can recommend other history books.\n",
    "Such kind of recommendation systems are called **Content Based Recommender Systems**\n",
    "\n",
    "Before, we build content based recommender system, let us look at the other features available in the dataset"
   ]
  },
  {
   "cell_type": "markdown",
   "metadata": {},
   "source": [
    "### Who are the most popular authors?\n",
    "\n",
    "1. Author with most votes?\n",
    "2. Author with highest ratings?"
   ]
  },
  {
   "cell_type": "code",
   "execution_count": 17,
   "metadata": {},
   "outputs": [
    {
     "data": {
      "text/html": [
       "<div>\n",
       "<style scoped>\n",
       "    .dataframe tbody tr th:only-of-type {\n",
       "        vertical-align: middle;\n",
       "    }\n",
       "\n",
       "    .dataframe tbody tr th {\n",
       "        vertical-align: top;\n",
       "    }\n",
       "\n",
       "    .dataframe thead th {\n",
       "        text-align: right;\n",
       "    }\n",
       "</style>\n",
       "<table border=\"1\" class=\"dataframe\">\n",
       "  <thead>\n",
       "    <tr style=\"text-align: right;\">\n",
       "      <th></th>\n",
       "      <th>authors</th>\n",
       "      <th>average_number_ratings</th>\n",
       "    </tr>\n",
       "  </thead>\n",
       "  <tbody>\n",
       "    <tr>\n",
       "      <th>274</th>\n",
       "      <td>Anne Frank, Eleanor Roosevelt, B.M. Mooyaart-Doubleday</td>\n",
       "      <td>1.972666e+06</td>\n",
       "    </tr>\n",
       "    <tr>\n",
       "      <th>1522</th>\n",
       "      <td>George Orwell, Erich Fromm, Celâl Üster</td>\n",
       "      <td>1.956832e+06</td>\n",
       "    </tr>\n",
       "    <tr>\n",
       "      <th>1870</th>\n",
       "      <td>J.K. Rowling, Mary GrandPré, Rufus Beck</td>\n",
       "      <td>1.832823e+06</td>\n",
       "    </tr>\n",
       "    <tr>\n",
       "      <th>1869</th>\n",
       "      <td>J.K. Rowling, Mary GrandPré</td>\n",
       "      <td>1.671596e+06</td>\n",
       "    </tr>\n",
       "    <tr>\n",
       "      <th>1652</th>\n",
       "      <td>Harper Lee</td>\n",
       "      <td>1.668670e+06</td>\n",
       "    </tr>\n",
       "    <tr>\n",
       "      <th>4581</th>\n",
       "      <td>William Shakespeare, Robert           Jackson</td>\n",
       "      <td>1.628519e+06</td>\n",
       "    </tr>\n",
       "    <tr>\n",
       "      <th>4553</th>\n",
       "      <td>William Golding</td>\n",
       "      <td>1.605019e+06</td>\n",
       "    </tr>\n",
       "    <tr>\n",
       "      <th>2542</th>\n",
       "      <td>Kathryn Stockett</td>\n",
       "      <td>1.531753e+06</td>\n",
       "    </tr>\n",
       "    <tr>\n",
       "      <th>352</th>\n",
       "      <td>Arthur Golden</td>\n",
       "      <td>1.300209e+06</td>\n",
       "    </tr>\n",
       "    <tr>\n",
       "      <th>737</th>\n",
       "      <td>Charlotte Brontë, Michael Mason</td>\n",
       "      <td>1.198557e+06</td>\n",
       "    </tr>\n",
       "    <tr>\n",
       "      <th>1141</th>\n",
       "      <td>E.B. White, Garth Williams, Rosemary Wells</td>\n",
       "      <td>1.064521e+06</td>\n",
       "    </tr>\n",
       "    <tr>\n",
       "      <th>2000</th>\n",
       "      <td>Jane Austen</td>\n",
       "      <td>1.027159e+06</td>\n",
       "    </tr>\n",
       "    <tr>\n",
       "      <th>3497</th>\n",
       "      <td>Paula Hawkins</td>\n",
       "      <td>1.008778e+06</td>\n",
       "    </tr>\n",
       "    <tr>\n",
       "      <th>2263</th>\n",
       "      <td>John Green</td>\n",
       "      <td>9.759848e+05</td>\n",
       "    </tr>\n",
       "    <tr>\n",
       "      <th>4222</th>\n",
       "      <td>Suzanne Collins</td>\n",
       "      <td>9.607103e+05</td>\n",
       "    </tr>\n",
       "    <tr>\n",
       "      <th>3007</th>\n",
       "      <td>Mark Twain, John Seelye, Guy Cardwell</td>\n",
       "      <td>9.537580e+05</td>\n",
       "    </tr>\n",
       "    <tr>\n",
       "      <th>2610</th>\n",
       "      <td>Khaled Hosseini</td>\n",
       "      <td>9.437040e+05</td>\n",
       "    </tr>\n",
       "    <tr>\n",
       "      <th>1269</th>\n",
       "      <td>Emily Brontë, Richard J. Dunn</td>\n",
       "      <td>8.991950e+05</td>\n",
       "    </tr>\n",
       "    <tr>\n",
       "      <th>4111</th>\n",
       "      <td>Stephen Chbosky</td>\n",
       "      <td>8.888060e+05</td>\n",
       "    </tr>\n",
       "    <tr>\n",
       "      <th>1879</th>\n",
       "      <td>J.R.R. Tolkien</td>\n",
       "      <td>8.771308e+05</td>\n",
       "    </tr>\n",
       "    <tr>\n",
       "      <th>2937</th>\n",
       "      <td>Margaret Mitchell</td>\n",
       "      <td>8.739810e+05</td>\n",
       "    </tr>\n",
       "    <tr>\n",
       "      <th>3055</th>\n",
       "      <td>Mary Wollstonecraft Shelley, Percy Bysshe Shelley, Maurice Hindle</td>\n",
       "      <td>8.085890e+05</td>\n",
       "    </tr>\n",
       "    <tr>\n",
       "      <th>4153</th>\n",
       "      <td>Stephenie Meyer</td>\n",
       "      <td>7.639489e+05</td>\n",
       "    </tr>\n",
       "    <tr>\n",
       "      <th>2854</th>\n",
       "      <td>Louis Sachar, Louis Sachar</td>\n",
       "      <td>7.474450e+05</td>\n",
       "    </tr>\n",
       "    <tr>\n",
       "      <th>2006</th>\n",
       "      <td>Jane Austen, Tony Tanner, Ros Ballaster</td>\n",
       "      <td>7.388940e+05</td>\n",
       "    </tr>\n",
       "    <tr>\n",
       "      <th>315</th>\n",
       "      <td>Antoine de Saint-Exupéry, Richard Howard, Dom Marcos Barbosa, Melina Karakosta</td>\n",
       "      <td>7.387570e+05</td>\n",
       "    </tr>\n",
       "    <tr>\n",
       "      <th>903</th>\n",
       "      <td>Dan Brown</td>\n",
       "      <td>7.146800e+05</td>\n",
       "    </tr>\n",
       "    <tr>\n",
       "      <th>4184</th>\n",
       "      <td>Stieg Larsson, Reg Keeland</td>\n",
       "      <td>7.115730e+05</td>\n",
       "    </tr>\n",
       "    <tr>\n",
       "      <th>1206</th>\n",
       "      <td>Elie Wiesel, Marion Wiesel</td>\n",
       "      <td>6.912310e+05</td>\n",
       "    </tr>\n",
       "    <tr>\n",
       "      <th>1754</th>\n",
       "      <td>Homer, Robert Fagles, E.V. Rieu, Frédéric Mugler, Bernard Knox</td>\n",
       "      <td>6.703260e+05</td>\n",
       "    </tr>\n",
       "    <tr>\n",
       "      <th>...</th>\n",
       "      <td>...</td>\n",
       "      <td>...</td>\n",
       "    </tr>\n",
       "    <tr>\n",
       "      <th>4593</th>\n",
       "      <td>Winston Graham</td>\n",
       "      <td>5.990000e+03</td>\n",
       "    </tr>\n",
       "    <tr>\n",
       "      <th>4266</th>\n",
       "      <td>Tayeb Salih, Denys Johnson-Davies</td>\n",
       "      <td>5.985000e+03</td>\n",
       "    </tr>\n",
       "    <tr>\n",
       "      <th>1555</th>\n",
       "      <td>Giulia Enders, Jill Enders</td>\n",
       "      <td>5.973000e+03</td>\n",
       "    </tr>\n",
       "    <tr>\n",
       "      <th>2782</th>\n",
       "      <td>Lettie B. Cowman, James Reimann</td>\n",
       "      <td>5.953000e+03</td>\n",
       "    </tr>\n",
       "    <tr>\n",
       "      <th>1468</th>\n",
       "      <td>Gary Ezzo</td>\n",
       "      <td>5.939000e+03</td>\n",
       "    </tr>\n",
       "    <tr>\n",
       "      <th>3197</th>\n",
       "      <td>Mika Waltari, ذبیح‌الله منصوری</td>\n",
       "      <td>5.907000e+03</td>\n",
       "    </tr>\n",
       "    <tr>\n",
       "      <th>1905</th>\n",
       "      <td>Jacob Grimm, Wilhelm Grimm, منى الخميسي</td>\n",
       "      <td>5.873000e+03</td>\n",
       "    </tr>\n",
       "    <tr>\n",
       "      <th>785</th>\n",
       "      <td>Christina McKenna</td>\n",
       "      <td>5.804000e+03</td>\n",
       "    </tr>\n",
       "    <tr>\n",
       "      <th>3818</th>\n",
       "      <td>Robert W. Chambers, E.F. Bleiler</td>\n",
       "      <td>5.719000e+03</td>\n",
       "    </tr>\n",
       "    <tr>\n",
       "      <th>2704</th>\n",
       "      <td>Laura  McBride</td>\n",
       "      <td>5.687000e+03</td>\n",
       "    </tr>\n",
       "    <tr>\n",
       "      <th>728</th>\n",
       "      <td>Charles Wheelan</td>\n",
       "      <td>5.646000e+03</td>\n",
       "    </tr>\n",
       "    <tr>\n",
       "      <th>2469</th>\n",
       "      <td>Kahlil Gibran, Anthony R. Ferris</td>\n",
       "      <td>5.611000e+03</td>\n",
       "    </tr>\n",
       "    <tr>\n",
       "      <th>3068</th>\n",
       "      <td>Mathias Malzieu</td>\n",
       "      <td>5.497000e+03</td>\n",
       "    </tr>\n",
       "    <tr>\n",
       "      <th>3151</th>\n",
       "      <td>Michael D. Watkins</td>\n",
       "      <td>5.490000e+03</td>\n",
       "    </tr>\n",
       "    <tr>\n",
       "      <th>522</th>\n",
       "      <td>Bohumil Hrabal</td>\n",
       "      <td>5.468000e+03</td>\n",
       "    </tr>\n",
       "    <tr>\n",
       "      <th>3917</th>\n",
       "      <td>Samad Behrangi</td>\n",
       "      <td>5.364000e+03</td>\n",
       "    </tr>\n",
       "    <tr>\n",
       "      <th>1447</th>\n",
       "      <td>Gabriel García Márquez, Randolph Hogan</td>\n",
       "      <td>5.354000e+03</td>\n",
       "    </tr>\n",
       "    <tr>\n",
       "      <th>244</th>\n",
       "      <td>Ann Hood</td>\n",
       "      <td>5.178000e+03</td>\n",
       "    </tr>\n",
       "    <tr>\n",
       "      <th>3905</th>\n",
       "      <td>Sadegh Hedayat, D.P. Costello</td>\n",
       "      <td>5.168000e+03</td>\n",
       "    </tr>\n",
       "    <tr>\n",
       "      <th>4654</th>\n",
       "      <td>محمد المنسي قنديل, Mohamed Mansi Qandil</td>\n",
       "      <td>5.070000e+03</td>\n",
       "    </tr>\n",
       "    <tr>\n",
       "      <th>1266</th>\n",
       "      <td>Emery Lord</td>\n",
       "      <td>5.017000e+03</td>\n",
       "    </tr>\n",
       "    <tr>\n",
       "      <th>2284</th>\n",
       "      <td>John Lanchester</td>\n",
       "      <td>4.961000e+03</td>\n",
       "    </tr>\n",
       "    <tr>\n",
       "      <th>1047</th>\n",
       "      <td>Denis Johnson, Bettina Abarbanell</td>\n",
       "      <td>4.886000e+03</td>\n",
       "    </tr>\n",
       "    <tr>\n",
       "      <th>4644</th>\n",
       "      <td>سهراب سپهری</td>\n",
       "      <td>4.769000e+03</td>\n",
       "    </tr>\n",
       "    <tr>\n",
       "      <th>3686</th>\n",
       "      <td>Richard   Phillips</td>\n",
       "      <td>4.281000e+03</td>\n",
       "    </tr>\n",
       "    <tr>\n",
       "      <th>1686</th>\n",
       "      <td>Heinrich Böll, محمد اسماعیل‌زاده</td>\n",
       "      <td>4.225000e+03</td>\n",
       "    </tr>\n",
       "    <tr>\n",
       "      <th>158</th>\n",
       "      <td>Amanda Berry, Gina DeJesus, Mary Jordan, Kevin Sullivan</td>\n",
       "      <td>3.799000e+03</td>\n",
       "    </tr>\n",
       "    <tr>\n",
       "      <th>3409</th>\n",
       "      <td>Omar Khayyám, محمدعلی فروغی, قاسم غنی</td>\n",
       "      <td>3.200000e+03</td>\n",
       "    </tr>\n",
       "    <tr>\n",
       "      <th>1630</th>\n",
       "      <td>Hafez</td>\n",
       "      <td>2.773000e+03</td>\n",
       "    </tr>\n",
       "    <tr>\n",
       "      <th>2390</th>\n",
       "      <td>José Mauro de Vasconcelos, قاسم صنعوی</td>\n",
       "      <td>2.716000e+03</td>\n",
       "    </tr>\n",
       "  </tbody>\n",
       "</table>\n",
       "<p>4664 rows × 2 columns</p>\n",
       "</div>"
      ],
      "text/plain": [
       "                                                                             authors  \\\n",
       "274   Anne Frank, Eleanor Roosevelt, B.M. Mooyaart-Doubleday                           \n",
       "1522  George Orwell, Erich Fromm, Celâl Üster                                          \n",
       "1870  J.K. Rowling, Mary GrandPré, Rufus Beck                                          \n",
       "1869  J.K. Rowling, Mary GrandPré                                                      \n",
       "1652  Harper Lee                                                                       \n",
       "4581  William Shakespeare, Robert           Jackson                                    \n",
       "4553  William Golding                                                                  \n",
       "2542  Kathryn Stockett                                                                 \n",
       "352   Arthur Golden                                                                    \n",
       "737   Charlotte Brontë, Michael Mason                                                  \n",
       "1141  E.B. White, Garth Williams, Rosemary Wells                                       \n",
       "2000  Jane Austen                                                                      \n",
       "3497  Paula Hawkins                                                                    \n",
       "2263  John Green                                                                       \n",
       "4222  Suzanne Collins                                                                  \n",
       "3007  Mark Twain, John Seelye, Guy Cardwell                                            \n",
       "2610  Khaled Hosseini                                                                  \n",
       "1269  Emily Brontë, Richard J. Dunn                                                    \n",
       "4111  Stephen Chbosky                                                                  \n",
       "1879  J.R.R. Tolkien                                                                   \n",
       "2937  Margaret Mitchell                                                                \n",
       "3055  Mary Wollstonecraft Shelley, Percy Bysshe Shelley, Maurice Hindle                \n",
       "4153  Stephenie Meyer                                                                  \n",
       "2854  Louis Sachar, Louis Sachar                                                       \n",
       "2006  Jane Austen, Tony Tanner, Ros Ballaster                                          \n",
       "315   Antoine de Saint-Exupéry, Richard Howard, Dom Marcos Barbosa, Melina Karakosta   \n",
       "903   Dan Brown                                                                        \n",
       "4184  Stieg Larsson, Reg Keeland                                                       \n",
       "1206  Elie Wiesel, Marion Wiesel                                                       \n",
       "1754  Homer, Robert Fagles, E.V. Rieu, Frédéric Mugler, Bernard Knox                   \n",
       "...                                                              ...                   \n",
       "4593  Winston Graham                                                                   \n",
       "4266  Tayeb Salih, Denys Johnson-Davies                                                \n",
       "1555  Giulia Enders, Jill Enders                                                       \n",
       "2782  Lettie B. Cowman, James Reimann                                                  \n",
       "1468  Gary Ezzo                                                                        \n",
       "3197  Mika Waltari, ذبیح‌الله منصوری                                                   \n",
       "1905  Jacob Grimm, Wilhelm Grimm, منى الخميسي                                          \n",
       "785   Christina McKenna                                                                \n",
       "3818  Robert W. Chambers, E.F. Bleiler                                                 \n",
       "2704  Laura  McBride                                                                   \n",
       "728   Charles Wheelan                                                                  \n",
       "2469  Kahlil Gibran, Anthony R. Ferris                                                 \n",
       "3068  Mathias Malzieu                                                                  \n",
       "3151  Michael D. Watkins                                                               \n",
       "522   Bohumil Hrabal                                                                   \n",
       "3917  Samad Behrangi                                                                   \n",
       "1447  Gabriel García Márquez, Randolph Hogan                                           \n",
       "244   Ann Hood                                                                         \n",
       "3905  Sadegh Hedayat, D.P. Costello                                                    \n",
       "4654  محمد المنسي قنديل, Mohamed Mansi Qandil                                          \n",
       "1266  Emery Lord                                                                       \n",
       "2284  John Lanchester                                                                  \n",
       "1047  Denis Johnson, Bettina Abarbanell                                                \n",
       "4644  سهراب سپهری                                                                      \n",
       "3686  Richard   Phillips                                                               \n",
       "1686  Heinrich Böll, محمد اسماعیل‌زاده                                                 \n",
       "158   Amanda Berry, Gina DeJesus, Mary Jordan, Kevin Sullivan                          \n",
       "3409  Omar Khayyám, محمدعلی فروغی, قاسم غنی                                            \n",
       "1630  Hafez                                                                            \n",
       "2390  José Mauro de Vasconcelos, قاسم صنعوی                                            \n",
       "\n",
       "      average_number_ratings  \n",
       "274   1.972666e+06            \n",
       "1522  1.956832e+06            \n",
       "1870  1.832823e+06            \n",
       "1869  1.671596e+06            \n",
       "1652  1.668670e+06            \n",
       "4581  1.628519e+06            \n",
       "4553  1.605019e+06            \n",
       "2542  1.531753e+06            \n",
       "352   1.300209e+06            \n",
       "737   1.198557e+06            \n",
       "1141  1.064521e+06            \n",
       "2000  1.027159e+06            \n",
       "3497  1.008778e+06            \n",
       "2263  9.759848e+05            \n",
       "4222  9.607103e+05            \n",
       "3007  9.537580e+05            \n",
       "2610  9.437040e+05            \n",
       "1269  8.991950e+05            \n",
       "4111  8.888060e+05            \n",
       "1879  8.771308e+05            \n",
       "2937  8.739810e+05            \n",
       "3055  8.085890e+05            \n",
       "4153  7.639489e+05            \n",
       "2854  7.474450e+05            \n",
       "2006  7.388940e+05            \n",
       "315   7.387570e+05            \n",
       "903   7.146800e+05            \n",
       "4184  7.115730e+05            \n",
       "1206  6.912310e+05            \n",
       "1754  6.703260e+05            \n",
       "...            ...            \n",
       "4593  5.990000e+03            \n",
       "4266  5.985000e+03            \n",
       "1555  5.973000e+03            \n",
       "2782  5.953000e+03            \n",
       "1468  5.939000e+03            \n",
       "3197  5.907000e+03            \n",
       "1905  5.873000e+03            \n",
       "785   5.804000e+03            \n",
       "3818  5.719000e+03            \n",
       "2704  5.687000e+03            \n",
       "728   5.646000e+03            \n",
       "2469  5.611000e+03            \n",
       "3068  5.497000e+03            \n",
       "3151  5.490000e+03            \n",
       "522   5.468000e+03            \n",
       "3917  5.364000e+03            \n",
       "1447  5.354000e+03            \n",
       "244   5.178000e+03            \n",
       "3905  5.168000e+03            \n",
       "4654  5.070000e+03            \n",
       "1266  5.017000e+03            \n",
       "2284  4.961000e+03            \n",
       "1047  4.886000e+03            \n",
       "4644  4.769000e+03            \n",
       "3686  4.281000e+03            \n",
       "1686  4.225000e+03            \n",
       "158   3.799000e+03            \n",
       "3409  3.200000e+03            \n",
       "1630  2.773000e+03            \n",
       "2390  2.716000e+03            \n",
       "\n",
       "[4664 rows x 2 columns]"
      ]
     },
     "execution_count": 17,
     "metadata": {},
     "output_type": "execute_result"
    }
   ],
   "source": [
    "most_votes_author=books.groupby(['authors'])['ratings_count'].mean().reset_index().rename(columns={'ratings_count':'average_number_ratings'})\n",
    "most_votes_author.sort_values(by='average_number_ratings',ascending=False)"
   ]
  },
  {
   "cell_type": "markdown",
   "metadata": {},
   "source": [
    "There are books authored by more than one author.. "
   ]
  },
  {
   "cell_type": "markdown",
   "metadata": {},
   "source": [
    " There seem to be non-english authors as well. This is because though good reads is english based it gives the author names of noth the translated edition and original edition."
   ]
  },
  {
   "cell_type": "markdown",
   "metadata": {},
   "source": [
    "### What factors effect a books rating??"
   ]
  },
  {
   "cell_type": "code",
   "execution_count": 18,
   "metadata": {},
   "outputs": [],
   "source": [
    "factors=books[['average_rating','ratings_count','work_ratings_count','work_text_reviews_count','books_count','original_publication_year']]"
   ]
  },
  {
   "cell_type": "code",
   "execution_count": 19,
   "metadata": {},
   "outputs": [],
   "source": [
    "corr=factors.corr()"
   ]
  },
  {
   "cell_type": "code",
   "execution_count": 20,
   "metadata": {},
   "outputs": [
    {
     "data": {
      "text/plain": [
       "<matplotlib.axes._subplots.AxesSubplot at 0x1155a7a90>"
      ]
     },
     "execution_count": 20,
     "metadata": {},
     "output_type": "execute_result"
    },
    {
     "data": {
      "image/png": "[encoded data removed]",
      "text/plain": [
       "<matplotlib.figure.Figure at 0x10e383ef0>"
      ]
     },
     "metadata": {
      "needs_background": "light"
     },
     "output_type": "display_data"
    }
   ],
   "source": [
    "sns.heatmap(corr,annot=True)"
   ]
  },
  {
   "cell_type": "markdown",
   "metadata": {},
   "source": [
    "There is only a very small correlation between average_rating and ratings_count"
   ]
  },
  {
   "cell_type": "markdown",
   "metadata": {},
   "source": [
    "Each book may have many editions. goodreads_book_id and best_book_id generally point to the most popular edition of a given book, while goodreads work_id refers to the book in the abstract sense.\n",
    "\n",
    "You can use the goodreads book and work IDs to create URLs to see the difference:\n",
    "\n",
    "https://www.goodreads.com/book/show/2767052 https://www.goodreads.com/work/editions/2792775\n",
    "\n",
    "Note that book_id in ratings.csv and to_read.csv maps to work_id, not to goodreads_book_id. It means that ratings for different editions are aggregated."
   ]
  },
  {
   "cell_type": "markdown",
   "metadata": {},
   "source": [
    "### Content Based Recommender System\n",
    "\n",
    "In contenyt based recommender system, we use the properties of the items to recommend other similar items. In our case, we can use the tags associated with a book and the author information to build a contentbased recommender systems\n",
    "\n",
    "To use the tags, we need to concatenate them as a book can be associated with multiple tags"
   ]
  },
  {
   "cell_type": "code",
   "execution_count": null,
   "metadata": {},
   "outputs": [],
   "source": []
  },
  {
   "cell_type": "code",
   "execution_count": 21,
   "metadata": {},
   "outputs": [
    {
     "data": {
      "text/html": [
       "<div>\n",
       "<style scoped>\n",
       "    .dataframe tbody tr th:only-of-type {\n",
       "        vertical-align: middle;\n",
       "    }\n",
       "\n",
       "    .dataframe tbody tr th {\n",
       "        vertical-align: top;\n",
       "    }\n",
       "\n",
       "    .dataframe thead th {\n",
       "        text-align: right;\n",
       "    }\n",
       "</style>\n",
       "<table border=\"1\" class=\"dataframe\">\n",
       "  <thead>\n",
       "    <tr style=\"text-align: right;\">\n",
       "      <th></th>\n",
       "      <th>goodreads_book_id</th>\n",
       "      <th>tag_id</th>\n",
       "      <th>count</th>\n",
       "      <th>tag_name</th>\n",
       "    </tr>\n",
       "  </thead>\n",
       "  <tbody>\n",
       "    <tr>\n",
       "      <th>0</th>\n",
       "      <td>1</td>\n",
       "      <td>30574</td>\n",
       "      <td>167697</td>\n",
       "      <td>to-read</td>\n",
       "    </tr>\n",
       "    <tr>\n",
       "      <th>1</th>\n",
       "      <td>1</td>\n",
       "      <td>11305</td>\n",
       "      <td>37174</td>\n",
       "      <td>fantasy</td>\n",
       "    </tr>\n",
       "    <tr>\n",
       "      <th>2</th>\n",
       "      <td>1</td>\n",
       "      <td>11557</td>\n",
       "      <td>34173</td>\n",
       "      <td>favorites</td>\n",
       "    </tr>\n",
       "    <tr>\n",
       "      <th>3</th>\n",
       "      <td>1</td>\n",
       "      <td>8717</td>\n",
       "      <td>12986</td>\n",
       "      <td>currently-reading</td>\n",
       "    </tr>\n",
       "    <tr>\n",
       "      <th>4</th>\n",
       "      <td>1</td>\n",
       "      <td>33114</td>\n",
       "      <td>12716</td>\n",
       "      <td>young-adult</td>\n",
       "    </tr>\n",
       "  </tbody>\n",
       "</table>\n",
       "</div>"
      ],
      "text/plain": [
       "   goodreads_book_id  tag_id   count           tag_name\n",
       "0  1                  30574   167697  to-read          \n",
       "1  1                  11305   37174   fantasy          \n",
       "2  1                  11557   34173   favorites        \n",
       "3  1                  8717    12986   currently-reading\n",
       "4  1                  33114   12716   young-adult      "
      ]
     },
     "execution_count": 21,
     "metadata": {},
     "output_type": "execute_result"
    }
   ],
   "source": [
    "book_tags=pd.merge(book_tags,tags,on='tag_id',how='left')\n",
    "book_tags.head()"
   ]
  },
  {
   "cell_type": "code",
   "execution_count": 22,
   "metadata": {},
   "outputs": [
    {
     "data": {
      "text/html": [
       "<div>\n",
       "<style scoped>\n",
       "    .dataframe tbody tr th:only-of-type {\n",
       "        vertical-align: middle;\n",
       "    }\n",
       "\n",
       "    .dataframe tbody tr th {\n",
       "        vertical-align: top;\n",
       "    }\n",
       "\n",
       "    .dataframe thead th {\n",
       "        text-align: right;\n",
       "    }\n",
       "</style>\n",
       "<table border=\"1\" class=\"dataframe\">\n",
       "  <thead>\n",
       "    <tr style=\"text-align: right;\">\n",
       "      <th></th>\n",
       "      <th>goodreads_book_id</th>\n",
       "      <th>tag_name</th>\n",
       "    </tr>\n",
       "  </thead>\n",
       "  <tbody>\n",
       "    <tr>\n",
       "      <th>0</th>\n",
       "      <td>1</td>\n",
       "      <td>to-read fantasy favorites currently-reading young-adult fiction harry-potter books-i-own owned ya series favourites magic childrens owned-books re-read adventure children j-k-rowling children-s sci-fi-fantasy childhood all-time-favorites default my-books classics reread i-own audiobook 5-stars children-s-books favorite-books kids novels fantasy-sci-fi favorite middle-grade audiobooks paranormal read-more-than-once my-library ya-fantasy teen witches english urban-fantasy british jk-rowling books read-in-2016 supernatural re-reads mystery ya-fiction harry-potter-series my-favorites own-it childrens-books library audio young-adult-fiction novel 2005 scifi-fantasy wizards faves favorite-series read-in-2015 made-me-cry juvenile shelfari-favorites kindle youth romance favourite to-buy read-in-2014 to-re-read all-time-favourites childhood-favorites kids-books ebook rereads contemporary read-in-english 5-star coming-of-age science-fiction-fantasy read-in-2017 england children-s-literature favourite-books on-my-shelf my-bookshelf children-s-lit bookshelf magical favs childhood-books potter</td>\n",
       "    </tr>\n",
       "    <tr>\n",
       "      <th>1</th>\n",
       "      <td>2</td>\n",
       "      <td>to-read currently-reading fantasy favorites children children-s all-time-favorites default fiction young-adult audiobook books-i-own novels kids owned fantasy-sci-fi harry-potter favorite paranormal my-library ya-fantasy teen witches urban-fantasy british jk-rowling re-reads supernatural ya-fiction childrens-books own-it ya mystery harry-potter-series my-favorites library novel audio young-adult-fiction wizards faves scifi-fantasy kindle favourites youth favorite-series shelfari-favorites juvenile favourite read-in-2014 childhood-favorites kids-books read-in-2017 owned-books coming-of-age science-fiction-fantasy all-time-favourites children-s-literature re-read england children-s-lit childhood-books potter fantasy-scifi 5-star magic favs hp classic 2003 magical boarding-school have audio-books action movie romance british-literature read-in-2013 fantasy-fiction rowling read-in-2011 read-multiple-times juvenile-fiction finished young-adult-fantasy read-again ya-books borrowed sci-fi fiction-fantasy childrens-lit audiobooks female-author fantasia children-young-adult books-i-have mine ya-lit middle-school</td>\n",
       "    </tr>\n",
       "    <tr>\n",
       "      <th>2</th>\n",
       "      <td>3</td>\n",
       "      <td>to-read favorites fantasy currently-reading young-adult fiction harry-potter books-i-own owned owned ya series favourites magic childrens re-read children adventure owned-books classics children-s childhood reread middle-grade j-k-rowling all-time-favorites sci-fi-fantasy children-s-books kids my-books audiobook favorite-books default novels 5-stars audiobooks i-own read-in-2016 favorite paranormal read-more-than-once fantasy-sci-fi re-reads my-library read-in-2015 books english ya-fantasy witches childrens-books british teen urban-fantasy mystery audio favorite-series supernatural my-favorites library read-in-2014 novel jk-rowling read-in-2017 ya-fiction faves own-it harry-potter-series juvenile kindle childhood-favorites wizards rereads kids-books scifi-fantasy re-reading read-in-english young-adult-fiction youth read-2016 children-s-literature classic favourite children-s-lit ebook to-re-read childhood-books contemporary friendship read-in-2013 shelfari-favorites on-my-shelf all-time-favourites favs to-buy science-fiction-fantasy read-2015 england bookshelf favourite-books my-bookshelf</td>\n",
       "    </tr>\n",
       "    <tr>\n",
       "      <th>3</th>\n",
       "      <td>5</td>\n",
       "      <td>favorites fantasy currently-reading young-adult to-read fiction harry-potter books-i-own owned ya favourites series magic childrens re-read adventure owned-books children j-k-rowling children-s childhood all-time-favorites sci-fi-fantasy middle-grade classics reread my-books default audiobook children-s-books favorite-books 5-stars kids i-own novels favorite audiobooks read-more-than-once fantasy-sci-fi paranormal read-in-2016 my-library ya-fantasy re-reads english witches urban-fantasy british books teen jk-rowling childrens-books read-in-2015 mystery supernatural audio shelfari-favorites my-favorites library faves time-travel harry-potter-series own-it ya-fiction novel read-in-2014 juvenile wizards scifi-fantasy kindle young-adult-fiction read-in-2017 favorite-series childhood-favorites favourite youth rereads all-time-favourites kids-books children-s-literature children-s-lit favourite-books read-in-english contemporary ebook favs to-buy on-my-shelf childhood-books read-2016 to-re-read 5-star science-fiction-fantasy england read-in-2013 my-bookshelf werewolves friendship audio-books bookshelf</td>\n",
       "    </tr>\n",
       "    <tr>\n",
       "      <th>4</th>\n",
       "      <td>6</td>\n",
       "      <td>fantasy young-adult fiction harry-potter owned ya series favourites childrens re-read owned-books adventure children j-k-rowling children-s sci-fi-fantasy all-time-favorites classics my-books reread default audiobook children-s-books 5-stars middle-grade i-own kids favorite-books novels audiobooks fantasy-sci-fi read-more-than-once favorite paranormal ya-fantasy my-library read-in-2016 dragons teen re-reads urban-fantasy witches english british jk-rowling books mystery supernatural childrens-books harry-potter-series read-in-2015 audio shelfari-favorites ya-fiction library my-favorites own-it novel wizards young-adult-fiction faves scifi-fantasy kindle favorite-series youth juvenile read-in-2014 childhood-favorites read-in-2017 rereads favourite kids-books to-buy ebook all-time-favourites to-re-read science-fiction-fantasy contemporary to-read coming-of-age england children-s-lit children-s-literature childhood-books 5-star on-my-shelf read-in-english my-bookshelf friendship read-2016 favourite-books favs séries potter read-in-2013 classic bookshelf fantasy-scifi audio-books rory-gilmore-reading-challenge</td>\n",
       "    </tr>\n",
       "  </tbody>\n",
       "</table>\n",
       "</div>"
      ],
      "text/plain": [
       "   goodreads_book_id  \\\n",
       "0  1                   \n",
       "1  2                   \n",
       "2  3                   \n",
       "3  5                   \n",
       "4  6                   \n",
       "\n",
       "                                                                                                                                                                                                                                                                                                                                                                                                                                                                                                                                                                                                                                                                                                                                                                                                                                                                                                                                                                                                                                                                                                                                                             tag_name  \n",
       "0  to-read fantasy favorites currently-reading young-adult fiction harry-potter books-i-own owned ya series favourites magic childrens owned-books re-read adventure children j-k-rowling children-s sci-fi-fantasy childhood all-time-favorites default my-books classics reread i-own audiobook 5-stars children-s-books favorite-books kids novels fantasy-sci-fi favorite middle-grade audiobooks paranormal read-more-than-once my-library ya-fantasy teen witches english urban-fantasy british jk-rowling books read-in-2016 supernatural re-reads mystery ya-fiction harry-potter-series my-favorites own-it childrens-books library audio young-adult-fiction novel 2005 scifi-fantasy wizards faves favorite-series read-in-2015 made-me-cry juvenile shelfari-favorites kindle youth romance favourite to-buy read-in-2014 to-re-read all-time-favourites childhood-favorites kids-books ebook rereads contemporary read-in-english 5-star coming-of-age science-fiction-fantasy read-in-2017 england children-s-literature favourite-books on-my-shelf my-bookshelf children-s-lit bookshelf magical favs childhood-books potter                           \n",
       "1  to-read currently-reading fantasy favorites children children-s all-time-favorites default fiction young-adult audiobook books-i-own novels kids owned fantasy-sci-fi harry-potter favorite paranormal my-library ya-fantasy teen witches urban-fantasy british jk-rowling re-reads supernatural ya-fiction childrens-books own-it ya mystery harry-potter-series my-favorites library novel audio young-adult-fiction wizards faves scifi-fantasy kindle favourites youth favorite-series shelfari-favorites juvenile favourite read-in-2014 childhood-favorites kids-books read-in-2017 owned-books coming-of-age science-fiction-fantasy all-time-favourites children-s-literature re-read england children-s-lit childhood-books potter fantasy-scifi 5-star magic favs hp classic 2003 magical boarding-school have audio-books action movie romance british-literature read-in-2013 fantasy-fiction rowling read-in-2011 read-multiple-times juvenile-fiction finished young-adult-fantasy read-again ya-books borrowed sci-fi fiction-fantasy childrens-lit audiobooks female-author fantasia children-young-adult books-i-have mine ya-lit middle-school    \n",
       "2  to-read favorites fantasy currently-reading young-adult fiction harry-potter books-i-own owned owned ya series favourites magic childrens re-read children adventure owned-books classics children-s childhood reread middle-grade j-k-rowling all-time-favorites sci-fi-fantasy children-s-books kids my-books audiobook favorite-books default novels 5-stars audiobooks i-own read-in-2016 favorite paranormal read-more-than-once fantasy-sci-fi re-reads my-library read-in-2015 books english ya-fantasy witches childrens-books british teen urban-fantasy mystery audio favorite-series supernatural my-favorites library read-in-2014 novel jk-rowling read-in-2017 ya-fiction faves own-it harry-potter-series juvenile kindle childhood-favorites wizards rereads kids-books scifi-fantasy re-reading read-in-english young-adult-fiction youth read-2016 children-s-literature classic favourite children-s-lit ebook to-re-read childhood-books contemporary friendship read-in-2013 shelfari-favorites on-my-shelf all-time-favourites favs to-buy science-fiction-fantasy read-2015 england bookshelf favourite-books my-bookshelf                   \n",
       "3  favorites fantasy currently-reading young-adult to-read fiction harry-potter books-i-own owned ya favourites series magic childrens re-read adventure owned-books children j-k-rowling children-s childhood all-time-favorites sci-fi-fantasy middle-grade classics reread my-books default audiobook children-s-books favorite-books 5-stars kids i-own novels favorite audiobooks read-more-than-once fantasy-sci-fi paranormal read-in-2016 my-library ya-fantasy re-reads english witches urban-fantasy british books teen jk-rowling childrens-books read-in-2015 mystery supernatural audio shelfari-favorites my-favorites library faves time-travel harry-potter-series own-it ya-fiction novel read-in-2014 juvenile wizards scifi-fantasy kindle young-adult-fiction read-in-2017 favorite-series childhood-favorites favourite youth rereads all-time-favourites kids-books children-s-literature children-s-lit favourite-books read-in-english contemporary ebook favs to-buy on-my-shelf childhood-books read-2016 to-re-read 5-star science-fiction-fantasy england read-in-2013 my-bookshelf werewolves friendship audio-books bookshelf            \n",
       "4  fantasy young-adult fiction harry-potter owned ya series favourites childrens re-read owned-books adventure children j-k-rowling children-s sci-fi-fantasy all-time-favorites classics my-books reread default audiobook children-s-books 5-stars middle-grade i-own kids favorite-books novels audiobooks fantasy-sci-fi read-more-than-once favorite paranormal ya-fantasy my-library read-in-2016 dragons teen re-reads urban-fantasy witches english british jk-rowling books mystery supernatural childrens-books harry-potter-series read-in-2015 audio shelfari-favorites ya-fiction library my-favorites own-it novel wizards young-adult-fiction faves scifi-fantasy kindle favorite-series youth juvenile read-in-2014 childhood-favorites read-in-2017 rereads favourite kids-books to-buy ebook all-time-favourites to-re-read science-fiction-fantasy contemporary to-read coming-of-age england children-s-lit children-s-literature childhood-books 5-star on-my-shelf read-in-english my-bookshelf friendship read-2016 favourite-books favs séries potter read-in-2013 classic bookshelf fantasy-scifi audio-books rory-gilmore-reading-challenge  "
      ]
     },
     "execution_count": 22,
     "metadata": {},
     "output_type": "execute_result"
    }
   ],
   "source": [
    "book_tags_final=book_tags.groupby(['goodreads_book_id'])['tag_name'].apply(\" \".join).reset_index()\n",
    "book_tags_final.head()"
   ]
  },
  {
   "cell_type": "code",
   "execution_count": 23,
   "metadata": {},
   "outputs": [
    {
     "data": {
      "text/html": [
       "<div>\n",
       "<style scoped>\n",
       "    .dataframe tbody tr th:only-of-type {\n",
       "        vertical-align: middle;\n",
       "    }\n",
       "\n",
       "    .dataframe tbody tr th {\n",
       "        vertical-align: top;\n",
       "    }\n",
       "\n",
       "    .dataframe thead th {\n",
       "        text-align: right;\n",
       "    }\n",
       "</style>\n",
       "<table border=\"1\" class=\"dataframe\">\n",
       "  <thead>\n",
       "    <tr style=\"text-align: right;\">\n",
       "      <th></th>\n",
       "      <th>book_id</th>\n",
       "      <th>goodreads_book_id</th>\n",
       "      <th>best_book_id</th>\n",
       "      <th>work_id</th>\n",
       "      <th>books_count</th>\n",
       "      <th>isbn</th>\n",
       "      <th>isbn13</th>\n",
       "      <th>authors</th>\n",
       "      <th>original_publication_year</th>\n",
       "      <th>original_title</th>\n",
       "      <th>...</th>\n",
       "      <th>work_ratings_count</th>\n",
       "      <th>work_text_reviews_count</th>\n",
       "      <th>ratings_1</th>\n",
       "      <th>ratings_2</th>\n",
       "      <th>ratings_3</th>\n",
       "      <th>ratings_4</th>\n",
       "      <th>ratings_5</th>\n",
       "      <th>image_url</th>\n",
       "      <th>small_image_url</th>\n",
       "      <th>tag_name</th>\n",
       "    </tr>\n",
       "  </thead>\n",
       "  <tbody>\n",
       "    <tr>\n",
       "      <th>0</th>\n",
       "      <td>1</td>\n",
       "      <td>2767052</td>\n",
       "      <td>2767052</td>\n",
       "      <td>2792775</td>\n",
       "      <td>272</td>\n",
       "      <td>439023483</td>\n",
       "      <td>9.780439e+12</td>\n",
       "      <td>Suzanne Collins</td>\n",
       "      <td>2008.0</td>\n",
       "      <td>The Hunger Games</td>\n",
       "      <td>...</td>\n",
       "      <td>4942365</td>\n",
       "      <td>155254</td>\n",
       "      <td>66715</td>\n",
       "      <td>127936</td>\n",
       "      <td>560092</td>\n",
       "      <td>1481305</td>\n",
       "      <td>2706317</td>\n",
       "      <td>https://images.gr-assets.com/books/1447303603m/2767052.jpg</td>\n",
       "      <td>https://images.gr-assets.com/books/1447303603s/2767052.jpg</td>\n",
       "      <td>favorites currently-reading young-adult fiction dystopian to-read dystopia fantasy ya science-fiction books-i-own sci-fi series owned favourites romance adventure hunger-games book-club kindle teen read-in-2012 post-apocalyptic my-books the-hunger-games favorite-books action suzanne-collins re-read all-time-favorites ya-fiction survival sci-fi-fantasy books favorite scifi 5-stars i-own read-in-2011 novels ebook audiobook young-adult-fiction thriller my-favorites audiobooks read-2012 futuristic ebooks default library fantasy-sci-fi suspense shelfari-favorites faves reread read-in-2010 my-library audio favorite-series teen-fiction ya-lit ya-books own-it finished action-adventure love love-triangle favs loved distopia read-in-2013 coming-of-age dystopian-fiction distopian borrowed english to-buy novel read-more-than-once favourite read-2011 favourite-books scifi-fantasy ya-fantasy future read-in-2014 contemporary trilogy dystopias e-book reviewed ya-dystopian speculative-fiction 2012-reads finished-series sf completed-series drama 5-star</td>\n",
       "    </tr>\n",
       "    <tr>\n",
       "      <th>1</th>\n",
       "      <td>2</td>\n",
       "      <td>3</td>\n",
       "      <td>3</td>\n",
       "      <td>4640799</td>\n",
       "      <td>491</td>\n",
       "      <td>439554934</td>\n",
       "      <td>9.780440e+12</td>\n",
       "      <td>J.K. Rowling, Mary GrandPré</td>\n",
       "      <td>1997.0</td>\n",
       "      <td>Harry Potter and the Philosopher's Stone</td>\n",
       "      <td>...</td>\n",
       "      <td>4800065</td>\n",
       "      <td>75867</td>\n",
       "      <td>75504</td>\n",
       "      <td>101676</td>\n",
       "      <td>455024</td>\n",
       "      <td>1156318</td>\n",
       "      <td>3011543</td>\n",
       "      <td>https://images.gr-assets.com/books/1474154022m/3.jpg</td>\n",
       "      <td>https://images.gr-assets.com/books/1474154022s/3.jpg</td>\n",
       "      <td>to-read favorites fantasy currently-reading young-adult fiction harry-potter books-i-own owned owned ya series favourites magic childrens re-read children adventure owned-books classics children-s childhood reread middle-grade j-k-rowling all-time-favorites sci-fi-fantasy children-s-books kids my-books audiobook favorite-books default novels 5-stars audiobooks i-own read-in-2016 favorite paranormal read-more-than-once fantasy-sci-fi re-reads my-library read-in-2015 books english ya-fantasy witches childrens-books british teen urban-fantasy mystery audio favorite-series supernatural my-favorites library read-in-2014 novel jk-rowling read-in-2017 ya-fiction faves own-it harry-potter-series juvenile kindle childhood-favorites wizards rereads kids-books scifi-fantasy re-reading read-in-english young-adult-fiction youth read-2016 children-s-literature classic favourite children-s-lit ebook to-re-read childhood-books contemporary friendship read-in-2013 shelfari-favorites on-my-shelf all-time-favourites favs to-buy science-fiction-fantasy read-2015 england bookshelf favourite-books my-bookshelf</td>\n",
       "    </tr>\n",
       "    <tr>\n",
       "      <th>2</th>\n",
       "      <td>3</td>\n",
       "      <td>41865</td>\n",
       "      <td>41865</td>\n",
       "      <td>3212258</td>\n",
       "      <td>226</td>\n",
       "      <td>316015849</td>\n",
       "      <td>9.780316e+12</td>\n",
       "      <td>Stephenie Meyer</td>\n",
       "      <td>2005.0</td>\n",
       "      <td>Twilight</td>\n",
       "      <td>...</td>\n",
       "      <td>3916824</td>\n",
       "      <td>95009</td>\n",
       "      <td>456191</td>\n",
       "      <td>436802</td>\n",
       "      <td>793319</td>\n",
       "      <td>875073</td>\n",
       "      <td>1355439</td>\n",
       "      <td>https://images.gr-assets.com/books/1361039443m/41865.jpg</td>\n",
       "      <td>https://images.gr-assets.com/books/1361039443s/41865.jpg</td>\n",
       "      <td>young-adult fantasy favorites vampires ya fiction to-read paranormal books-i-own vampire twilight paranormal-romance supernatural teen urban-fantasy owned-books stephenie-meyer my-books favourites werewolves i-own chick-lit re-read ya-fiction twilight-saga default young-adult-fiction sci-fi-fantasy contemporary twilight-series books love ya-fantasy horror book-club my-library novels favorite favorite-books teen-fiction guilty-pleasures high-school read-more-than-once fantasy-sci-fi stephanie-meyer vamps own-it ya-books my-favorites shelfari-favorites library audiobook kindle finished all-time-favorites read-in-2009 love-triangle 5-stars vampire-books read-in-2008 reread ya-lit abandoned never-again movies audiobooks science-fiction finished-series ya-paranormal guilty-pleasure currently-reading movie completed-series english sci-fi already-read did-not-finish ebook on-my-shelf pnr have book-to-movie meh paranormal-fantasy bookshelf drama my-bookshelf ya-romance séries youngadult favorite-series first-in-series young-adults books-i-have dnf faves fantasy-paranormal scifi-fantasy romantic american</td>\n",
       "    </tr>\n",
       "    <tr>\n",
       "      <th>3</th>\n",
       "      <td>4</td>\n",
       "      <td>2657</td>\n",
       "      <td>2657</td>\n",
       "      <td>3275794</td>\n",
       "      <td>487</td>\n",
       "      <td>61120081</td>\n",
       "      <td>9.780061e+12</td>\n",
       "      <td>Harper Lee</td>\n",
       "      <td>1960.0</td>\n",
       "      <td>To Kill a Mockingbird</td>\n",
       "      <td>...</td>\n",
       "      <td>3340896</td>\n",
       "      <td>72586</td>\n",
       "      <td>60427</td>\n",
       "      <td>117415</td>\n",
       "      <td>446835</td>\n",
       "      <td>1001952</td>\n",
       "      <td>1714267</td>\n",
       "      <td>https://images.gr-assets.com/books/1361975680m/2657.jpg</td>\n",
       "      <td>https://images.gr-assets.com/books/1361975680s/2657.jpg</td>\n",
       "      <td>classics favorites to-read classic historical-fiction owned school clàssics favourites literature young-adult currently-reading book-club read-for-school historical novels owned-books re-read all-time-favorites school-books for-school to-buy coming-of-age high-school fiction american classic-literature american-literature favorite-books ya pulitzer adult 1001-books novel to-re-read favorite my-books adult-fiction literary-fiction realistic-fiction drama library read-in-2015 english 20th-century pulitzer-prize general-fiction modern-classics southern my-library racism default shelfari-favorites school-reads reread i-own 5-stars read-in-school my-favorites audiobook classic-fiction american-lit childhood books history banned-books read-again classic-lit audiobooks 1001 kindle school-reading to-reread must-read classics-to-read literary required-reading audio crime to-read-again faves own-it family race read-in-2016 the-classics bookclub harper-lee contemporary read-in-2014 mystery usa wish-list american-classics all-time-favourites favourite 1001-books-to-read-before-you-die rory-gilmore-reading-challenge ebook read-2015</td>\n",
       "    </tr>\n",
       "    <tr>\n",
       "      <th>4</th>\n",
       "      <td>5</td>\n",
       "      <td>4671</td>\n",
       "      <td>4671</td>\n",
       "      <td>245494</td>\n",
       "      <td>1356</td>\n",
       "      <td>743273567</td>\n",
       "      <td>9.780743e+12</td>\n",
       "      <td>F. Scott Fitzgerald</td>\n",
       "      <td>1925.0</td>\n",
       "      <td>The Great Gatsby</td>\n",
       "      <td>...</td>\n",
       "      <td>2773745</td>\n",
       "      <td>51992</td>\n",
       "      <td>86236</td>\n",
       "      <td>197621</td>\n",
       "      <td>606158</td>\n",
       "      <td>936012</td>\n",
       "      <td>947718</td>\n",
       "      <td>https://images.gr-assets.com/books/1490528560m/4671.jpg</td>\n",
       "      <td>https://images.gr-assets.com/books/1490528560s/4671.jpg</td>\n",
       "      <td>classics favorites fiction classic books-i-own owned literature school historical-fiction to-read romance favourites book-club novels read-for-school american-literature owned-books high-school re-read american historical for-school adult school-books classic-literature clàssics adult-fiction novel read-in-2013 1001-books literary-fiction 20th-century to-buy all-time-favorites to-re-read favorite-books library my-books english american-lit modern-classics reread drama general-fiction audiobook classic-fiction my-library 1920s i-own young-adult default audiobooks school-reads classic-lit 1001 realistic-fiction classics-to-read to-reread read-in-school literary ebook currently-reading read-in-2014 the-classics books school-reading read-in-english new-york read-in-2015 favorite rory-gilmore-reading-challenge required-reading usa f-scott-fitzgerald read-2013 audio ebooks own-it read-again bookclub to-read-again read-in-2016 read-in-2012 1001-books-to-read-before-you-die american-classics read-in-high-school my-favorites america wish-list lit read-more-than-once love re-reads stand-alone 5-stars banned-books faves finished book-to-movie on-my-shelf</td>\n",
       "    </tr>\n",
       "    <tr>\n",
       "      <th>5</th>\n",
       "      <td>6</td>\n",
       "      <td>11870085</td>\n",
       "      <td>11870085</td>\n",
       "      <td>16827462</td>\n",
       "      <td>226</td>\n",
       "      <td>525478817</td>\n",
       "      <td>9.780525e+12</td>\n",
       "      <td>John Green</td>\n",
       "      <td>2012.0</td>\n",
       "      <td>The Fault in Our Stars</td>\n",
       "      <td>...</td>\n",
       "      <td>2478609</td>\n",
       "      <td>140739</td>\n",
       "      <td>47994</td>\n",
       "      <td>92723</td>\n",
       "      <td>327550</td>\n",
       "      <td>698471</td>\n",
       "      <td>1311871</td>\n",
       "      <td>https://images.gr-assets.com/books/1360206420m/11870085.jpg</td>\n",
       "      <td>https://images.gr-assets.com/books/1360206420s/11870085.jpg</td>\n",
       "      <td>favorites to-read young-adult fiction ya romance books-i-own contemporary owned favourites realistic-fiction book-club john-green read-in-2014 owned-books made-me-cry kindle read-in-2013 teen my-books favorite-books read-in-2012 ya-fiction cancer read-2014 coming-of-age death books favorite drama all-time-favorites love 5-stars i-own contemporary-fiction re-read novels ebook audiobook young-adult-fiction library stand-alone read-2013 2014-reads audiobooks currently-reading ebooks to-buy read-in-english humor the-fault-in-our-stars tear-jerker english realistic my-favorites faves sad friendship ya-lit audio ya-contemporary books-that-made-me-cry 2013-reads teen-fiction my-library ya-books finished favs reviewed favourite-books 2014-books novel on-my-shelf reread favourite want-to-read read-2012 read-in-2015 bookclub chick-lit funny must-read own-it love-story loved borrowed illness my-bookshelf bookshelf tear-jerkers emotional family contemporary-romance i-cried shelfari-favorites e-books general-fiction e-book default signed</td>\n",
       "    </tr>\n",
       "    <tr>\n",
       "      <th>6</th>\n",
       "      <td>7</td>\n",
       "      <td>5907</td>\n",
       "      <td>5907</td>\n",
       "      <td>1540236</td>\n",
       "      <td>969</td>\n",
       "      <td>618260307</td>\n",
       "      <td>9.780618e+12</td>\n",
       "      <td>J.R.R. Tolkien</td>\n",
       "      <td>1937.0</td>\n",
       "      <td>The Hobbit or There and Back Again</td>\n",
       "      <td>...</td>\n",
       "      <td>2196809</td>\n",
       "      <td>37653</td>\n",
       "      <td>46023</td>\n",
       "      <td>76784</td>\n",
       "      <td>288649</td>\n",
       "      <td>665635</td>\n",
       "      <td>1119718</td>\n",
       "      <td>https://images.gr-assets.com/books/1372847500m/5907.jpg</td>\n",
       "      <td>https://images.gr-assets.com/books/1372847500s/5907.jpg</td>\n",
       "      <td>fantasy favorites classics to-read fiction books-i-own classic adventure young-adult favourites sci-fi-fantasy tolkien owned-books high-fantasy childrens epic-fantasy currently-reading default literature novels fantasy-sci-fi re-read dragons series magic children my-books clàssics ya j-r-r-tolkien scifi-fantasy all-time-favorites children-s my-library 1001-books i-own library kindle books audiobook science-fiction british english science-fiction-fantasy sci-fi novel favorite-books adult audiobooks epic favorite middle-earth reread lord-of-the-rings school classic-literature fantasy-scifi own-it read-in-2013 20th-century read-in-2012 children-s-books to-re-read 1001 audio book-club kids read-more-than-once adult-fiction 5-stars sci-fi-and-fantasy british-literature read-in-2014 childhood-favorites shelfari-favorites fiction-fantasy ebook read-in-2015 fantasy-fiction ebooks re-reads my-favorites abandoned on-my-shelf jrr-tolkien childrens-books favourite re-reading audible on-hold to-reread middle-grade read-for-school finished my-bookshelf read-again 1001-books-to-read-before-you-die speculative-fiction personal-library unfinished</td>\n",
       "    </tr>\n",
       "    <tr>\n",
       "      <th>7</th>\n",
       "      <td>8</td>\n",
       "      <td>5107</td>\n",
       "      <td>5107</td>\n",
       "      <td>3036731</td>\n",
       "      <td>360</td>\n",
       "      <td>316769177</td>\n",
       "      <td>9.780317e+12</td>\n",
       "      <td>J.D. Salinger</td>\n",
       "      <td>1951.0</td>\n",
       "      <td>The Catcher in the Rye</td>\n",
       "      <td>...</td>\n",
       "      <td>2120637</td>\n",
       "      <td>44920</td>\n",
       "      <td>109383</td>\n",
       "      <td>185520</td>\n",
       "      <td>455042</td>\n",
       "      <td>661516</td>\n",
       "      <td>709176</td>\n",
       "      <td>https://images.gr-assets.com/books/1398034300m/5107.jpg</td>\n",
       "      <td>https://images.gr-assets.com/books/1398034300s/5107.jpg</td>\n",
       "      <td>classics favorites fiction to-read classic young-adult books-i-own owned literature clàssics school favourites novels ya coming-of-age owned-books american american-literature high-school read-for-school novel re-read currently-reading to-buy 1001-books classic-literature school-books book-club for-school library 20th-century to-re-read modern-classics english realistic-fiction classics-to-read literary-fiction all-time-favorites general-fiction default favorite-books my-books contemporary my-library american-lit adult 1001 banned-books classic-fiction i-own adult-fiction rory-gilmore-reading-challenge favorite books classic-lit drama to-reread read-in-english reread 1001-books-to-read-before-you-die literary usa the-classics school-reads teen new-york bildungsroman to-read-classics abandoned own-it read-in-school wish-list historical-fiction read-in-2015 to-read-again lit american-classics school-reading required-reading read-again rory-gilmore-challenge finished read-in-2014 read-in-2013 read-in-2016 my-favorites shelfari-favorites must-read j-d-salinger read-in-high-school 1950s read-more-than-once ebook borrowed did-not-finish faves america rory-gilmore favourite unfinished</td>\n",
       "    </tr>\n",
       "    <tr>\n",
       "      <th>8</th>\n",
       "      <td>9</td>\n",
       "      <td>960</td>\n",
       "      <td>960</td>\n",
       "      <td>3338963</td>\n",
       "      <td>311</td>\n",
       "      <td>1416524797</td>\n",
       "      <td>9.781417e+12</td>\n",
       "      <td>Dan Brown</td>\n",
       "      <td>2000.0</td>\n",
       "      <td>Angels &amp; Demons</td>\n",
       "      <td>...</td>\n",
       "      <td>2078754</td>\n",
       "      <td>25112</td>\n",
       "      <td>77841</td>\n",
       "      <td>145740</td>\n",
       "      <td>458429</td>\n",
       "      <td>716569</td>\n",
       "      <td>680175</td>\n",
       "      <td>https://images.gr-assets.com/books/1303390735m/960.jpg</td>\n",
       "      <td>https://images.gr-assets.com/books/1303390735s/960.jpg</td>\n",
       "      <td>to-read fiction mystery favorites thriller dan-brown owned books-i-own suspense series adventure mystery-thriller historical-fiction crime default adult thrillers owned-books currently-reading contemporary adult-fiction religion mystery-suspense novel favourites my-books general-fiction fantasy action library mysteries contemporary-fiction my-library i-own historical conspiracy action-adventure suspense-thriller robert-langdon books english to-buy crime-mystery history crime-thriller borrowed thriller-mystery shelfari-favorites drama italy science-fiction audiobook literature brown-dan kindle finished audiobooks own-it ebook favorite mystery-crime american other thriller-suspense sci-fi modern-fiction brown detective american-literature all-time-favorites book-club religious ebooks paperback movies favorite-books murder-mystery audio popular-fiction 2005 bookshelf re-read روايات classics romance mystery-thrillers mistery wish-list 2006 5-stars have abandoned read-fiction art favourite home-library movie personal-library realistic-fiction modern</td>\n",
       "    </tr>\n",
       "    <tr>\n",
       "      <th>9</th>\n",
       "      <td>10</td>\n",
       "      <td>1885</td>\n",
       "      <td>1885</td>\n",
       "      <td>3060926</td>\n",
       "      <td>3455</td>\n",
       "      <td>679783261</td>\n",
       "      <td>9.780680e+12</td>\n",
       "      <td>Jane Austen</td>\n",
       "      <td>1813.0</td>\n",
       "      <td>Pride and Prejudice</td>\n",
       "      <td>...</td>\n",
       "      <td>2191465</td>\n",
       "      <td>49152</td>\n",
       "      <td>54700</td>\n",
       "      <td>86485</td>\n",
       "      <td>284852</td>\n",
       "      <td>609755</td>\n",
       "      <td>1155673</td>\n",
       "      <td>https://images.gr-assets.com/books/1320399351m/1885.jpg</td>\n",
       "      <td>https://images.gr-assets.com/books/1320399351s/1885.jpg</td>\n",
       "      <td>classics favorites fiction romance classic books-i-own owned favourites historical-fiction literature historical jane-austen to-read clàssics owned-books kindle my-ebooks all-time-favorites novels historical-romance classic-literature re-read adult 19th-century british school book-club favorite english favorite-books british-literature my-books 1001-books audiobook novel i-own adult-fiction england ebook audiobooks chick-lit my-library to-buy austen ebooks regency 5-stars default classics-to-read library love classic-fiction reread my-favorites english-literature 1001 classic-lit own-it read-in-2016 high-school shelfari-favorites literary-fiction read-for-school faves audio drama the-classics read-more-than-once to-re-read favourite general-fiction abandoned read-in-2015 for-school books stand-alone school-books all-time-favourites e-book e-books read-in-english on-my-shelf on-hold read-in-2014 rory-gilmore-reading-challenge brit-lit romantic nook favs history re-reads 1001-books-to-read-before-you-die tbr young-adult favourite-books literary audible read-in-2013 unfinished women</td>\n",
       "    </tr>\n",
       "    <tr>\n",
       "      <th>10</th>\n",
       "      <td>11</td>\n",
       "      <td>77203</td>\n",
       "      <td>77203</td>\n",
       "      <td>3295919</td>\n",
       "      <td>283</td>\n",
       "      <td>1594480001</td>\n",
       "      <td>9.781594e+12</td>\n",
       "      <td>Khaled Hosseini</td>\n",
       "      <td>2003.0</td>\n",
       "      <td>The Kite Runner</td>\n",
       "      <td>...</td>\n",
       "      <td>1878095</td>\n",
       "      <td>59730</td>\n",
       "      <td>34288</td>\n",
       "      <td>59980</td>\n",
       "      <td>226062</td>\n",
       "      <td>628174</td>\n",
       "      <td>929591</td>\n",
       "      <td>https://images.gr-assets.com/books/1484565687m/77203.jpg</td>\n",
       "      <td>https://images.gr-assets.com/books/1484565687s/77203.jpg</td>\n",
       "      <td>favorites fiction to-read historical-fiction books-i-own owned book-club contemporary favourites afghanistan classics novels literature adult middle-east adult-fiction owned-books historical novel contemporary-fiction drama school general-fiction war literary-fiction to-buy all-time-favorites bookclub friendship favorite-books library coming-of-age default favorite my-books realistic-fiction khaled-hosseini history shelfari-favorites i-own my-library audiobook kindle read-for-school audiobooks english asia my-favorites cultural young-adult currently-reading 5-stars rory-gilmore-reading-challenge modern-fiction non-fiction book-club-books for-school classic audio family school-books finished must-read book-group own-it literary made-me-cry borrowed high-school contempor​ary wish-list faves recommended books ebook read-in-2014 modern abandoned to-read-fiction culture favourite ebooks read-in-2015 islam banned-books other re-read international read-in-2013 2006 21st-century multicultural book-club-reads read-in-2016 unfinished روايات popular-fiction have favs stand-alone</td>\n",
       "    </tr>\n",
       "    <tr>\n",
       "      <th>11</th>\n",
       "      <td>12</td>\n",
       "      <td>13335037</td>\n",
       "      <td>13335037</td>\n",
       "      <td>13155899</td>\n",
       "      <td>210</td>\n",
       "      <td>62024035</td>\n",
       "      <td>9.780062e+12</td>\n",
       "      <td>Veronica Roth</td>\n",
       "      <td>2011.0</td>\n",
       "      <td>Divergent</td>\n",
       "      <td>...</td>\n",
       "      <td>2216814</td>\n",
       "      <td>101023</td>\n",
       "      <td>36315</td>\n",
       "      <td>82870</td>\n",
       "      <td>310297</td>\n",
       "      <td>673028</td>\n",
       "      <td>1114304</td>\n",
       "      <td>https://images.gr-assets.com/books/1328559506m/13335037.jpg</td>\n",
       "      <td>https://images.gr-assets.com/books/1328559506s/13335037.jpg</td>\n",
       "      <td>favorites currently-reading to-read young-adult dystopian ya fiction books-i-own fantasy science-fiction series romance sci-fi owned favourites divergent read-in-2014 owned-books kindle adventure teen book-club read-in-2013 my-books action favorite-books read-in-2012 ya-fiction post-apocalyptic veronica-roth ebook read-2014 audiobook i-own re-read library 5-stars favorite young-adult-fiction ebooks audiobooks all-time-favorites books sci-fi-fantasy scifi read-in-2011 to-buy read-2013 ya-books audio 2014-reads futuristic dystopian-fiction coming-of-age ya-dystopian my-favorites ya-lit distopian read-in-2015 faves default teen-fiction read-2012 distopia fantasy-sci-fi reviewed love my-library novels reread trilogy dystopias 2013-reads finished favs ya-fantasy e-book e-books own-it english read-in-english thriller favorite-series on-my-shelf loved action-adventure 4-stars future my-bookshelf book-to-movie favourite 2014-books borrowed 2012-reads ya-dystopia favourite-books dystopia audible want-to-read first-in-series</td>\n",
       "    </tr>\n",
       "    <tr>\n",
       "      <th>12</th>\n",
       "      <td>13</td>\n",
       "      <td>5470</td>\n",
       "      <td>5470</td>\n",
       "      <td>153313</td>\n",
       "      <td>995</td>\n",
       "      <td>451524934</td>\n",
       "      <td>9.780452e+12</td>\n",
       "      <td>George Orwell, Erich Fromm, Celâl Üster</td>\n",
       "      <td>1949.0</td>\n",
       "      <td>Nineteen Eighty-Four</td>\n",
       "      <td>...</td>\n",
       "      <td>2053394</td>\n",
       "      <td>45518</td>\n",
       "      <td>41845</td>\n",
       "      <td>86425</td>\n",
       "      <td>324874</td>\n",
       "      <td>692021</td>\n",
       "      <td>908229</td>\n",
       "      <td>https://images.gr-assets.com/books/1348990566m/5470.jpg</td>\n",
       "      <td>https://images.gr-assets.com/books/1348990566s/5470.jpg</td>\n",
       "      <td>fiction science-fiction sci-fi dystopian classic currently-reading books-i-own literature favourites novels politics school owned-books scifi fantasy to-buy to-read adult novel re-read english philosophy sci-fi-fantasy 1001-books clàssics political british read-for-school default book-club classic-literature library Ｆａｖｏｒｉｔｅｓ high-school 20th-century modern-classics adult-fiction to-re-read kindle classics-to-read sf audiobook for-school my-books my-library school-books british-literature all-time-favorites rory-gilmore-reading-challenge favorite speculative-fiction george-orwell books i-own 1001 favorite-books audiobooks literary-fiction dystopias dystopian-fiction classic-fiction must-read general-fiction distopia english-literature banned-books ebook روايات wish-list to-reread scifi-fantasy classic-lit literary audio ebooks 1001-books-to-read-before-you-die young-adult reread read-in-2014 read-again satire favourite read-in-2016 read-in-2015 to-read-classics 5-stars horror abandoned read-in-2017 england unfinished own-it rory-gilmore-challenge social-commentary read-in-english fantasy-sci-fi futuristic on-hold to-read-again dystopia</td>\n",
       "    </tr>\n",
       "    <tr>\n",
       "      <th>13</th>\n",
       "      <td>14</td>\n",
       "      <td>7613</td>\n",
       "      <td>7613</td>\n",
       "      <td>2207778</td>\n",
       "      <td>896</td>\n",
       "      <td>452284244</td>\n",
       "      <td>9.780452e+12</td>\n",
       "      <td>George Orwell</td>\n",
       "      <td>1945.0</td>\n",
       "      <td>Animal Farm: A Fairy Story</td>\n",
       "      <td>...</td>\n",
       "      <td>1982987</td>\n",
       "      <td>35472</td>\n",
       "      <td>66854</td>\n",
       "      <td>135147</td>\n",
       "      <td>433432</td>\n",
       "      <td>698642</td>\n",
       "      <td>648912</td>\n",
       "      <td>https://images.gr-assets.com/books/1424037542m/7613.jpg</td>\n",
       "      <td>https://images.gr-assets.com/books/1424037542s/7613.jpg</td>\n",
       "      <td>classics fiction favorites classic dystopia fantasy literature owned dystopian school books-i-own politics science-fiction novels to-read favourites satire read-for-school sci-fi political owned-books animals english novel philosophy school-books high-school 1001-books clàssics to-buy for-school adult classic-literature british young-adult 20th-century modern-classics library re-read default adult-fiction british-literature george-orwell literary-fiction 1001 historical-fiction general-fiction my-library allegory to-re-read classic-fiction audiobook books classics-to-read my-books kindle english-literature audiobooks روايات school-reads read-in-2015 literary read-in-school classic-lit banned-books history read-in-2016 i-own read-in-english 1001-books-to-read-before-you-die historical favorite sci-fi-fantasy school-reading ebook favorite-books read-in-2014 must-read social-commentary book-club the-classics borrowed required-reading novella drama all-time-favorites communism to-reread finished orwell wish-list lit 5-stars reread ya audio to-read-classics ebooks read-in-2017 read-in-2013</td>\n",
       "    </tr>\n",
       "    <tr>\n",
       "      <th>14</th>\n",
       "      <td>15</td>\n",
       "      <td>48855</td>\n",
       "      <td>48855</td>\n",
       "      <td>3532896</td>\n",
       "      <td>710</td>\n",
       "      <td>553296981</td>\n",
       "      <td>9.780553e+12</td>\n",
       "      <td>Anne Frank, Eleanor Roosevelt, B.M. Mooyaart-Doubleday</td>\n",
       "      <td>1947.0</td>\n",
       "      <td>Het Achterhuis: Dagboekbrieven 14 juni 1942 - 1 augustus 1944</td>\n",
       "      <td>...</td>\n",
       "      <td>2024493</td>\n",
       "      <td>20825</td>\n",
       "      <td>45225</td>\n",
       "      <td>91270</td>\n",
       "      <td>355756</td>\n",
       "      <td>656870</td>\n",
       "      <td>875372</td>\n",
       "      <td>https://images.gr-assets.com/books/1358276407m/48855.jpg</td>\n",
       "      <td>https://images.gr-assets.com/books/1358276407s/48855.jpg</td>\n",
       "      <td>non-fiction classics history biography to-read nonfiction memoir young-adult classic historical holocaust owned autobiography war memoirs school biographies wwii biography-memoir ya owned-books historical-fiction world-war-ii favourites childhood fiction to-buy literature ww2 read-for-school diary my-books rory-gilmore-reading-challenge jewish library memoir-biography school-books re-read default world-war-2 biographical coming-of-age biography-autobiography anne-frank 20th-century i-own for-school my-library high-school childrens bio middle-school europe dutch read-in-school classic-literature children clàssics adult german rory-gilmore-challenge to-re-read childhood-favorites biographies-memoirs drama inspirational banned-books novels must-read teen classics-to-read 5-stars kindle autobiography-memoir auto-biography true-story school-reads children-s-books childhood-books diaries bio-memoir female-authors own-it rory-gilmore modern-classics autobiographies borrowed children-s all-time-favorites netherlands favorite-books wish-list women required-reading school-reading germany other translated historical-non-fiction finished</td>\n",
       "    </tr>\n",
       "    <tr>\n",
       "      <th>15</th>\n",
       "      <td>16</td>\n",
       "      <td>2429135</td>\n",
       "      <td>2429135</td>\n",
       "      <td>1708725</td>\n",
       "      <td>274</td>\n",
       "      <td>307269752</td>\n",
       "      <td>9.780307e+12</td>\n",
       "      <td>Stieg Larsson, Reg Keeland</td>\n",
       "      <td>2005.0</td>\n",
       "      <td>Män som hatar kvinnor</td>\n",
       "      <td>...</td>\n",
       "      <td>1929834</td>\n",
       "      <td>62543</td>\n",
       "      <td>54835</td>\n",
       "      <td>86051</td>\n",
       "      <td>285413</td>\n",
       "      <td>667485</td>\n",
       "      <td>836050</td>\n",
       "      <td>https://images.gr-assets.com/books/1327868566m/2429135.jpg</td>\n",
       "      <td>https://images.gr-assets.com/books/1327868566s/2429135.jpg</td>\n",
       "      <td>to-read currently-reading fiction mystery favorites thriller crime books-i-own owned series book-club suspense mystery-thriller contemporary adult kindle favourites adult-fiction sweden default owned-books mysteries audiobook thrillers novels contemporary-fiction audiobooks crime-fiction stieg-larsson mystery-suspense library read-in-2010 my-books ebook abandoned audio crime-mystery read-in-2011 scandinavian i-own mystery-crime my-library crime-thriller general-fiction bookclub novel swedish detective ebooks to-buy read-in-2012 drama read-2010 did-not-finish audible audio-books own-it murder-mystery borrowed translated adventure books all-time-favorites favorite-books favorite finished thriller-mystery audio-book shelfari-favorites europe suspense-thriller book-club-books dark action realistic-fiction scandinavia literature dnf didn-t-finish abuse 5-stars modern-fiction murder millennium unfinished read-2011 couldn-t-finish thriller-suspense movies gave-up-on english have movie 21st-century translation wish-list read-in-2015 nook my-favorites paperback</td>\n",
       "    </tr>\n",
       "    <tr>\n",
       "      <th>16</th>\n",
       "      <td>17</td>\n",
       "      <td>6148028</td>\n",
       "      <td>6148028</td>\n",
       "      <td>6171458</td>\n",
       "      <td>201</td>\n",
       "      <td>439023491</td>\n",
       "      <td>9.780439e+12</td>\n",
       "      <td>Suzanne Collins</td>\n",
       "      <td>2009.0</td>\n",
       "      <td>Catching Fire</td>\n",
       "      <td>...</td>\n",
       "      <td>1988079</td>\n",
       "      <td>88538</td>\n",
       "      <td>10492</td>\n",
       "      <td>48030</td>\n",
       "      <td>262010</td>\n",
       "      <td>687238</td>\n",
       "      <td>980309</td>\n",
       "      <td>https://images.gr-assets.com/books/1358273780m/6148028.jpg</td>\n",
       "      <td>https://images.gr-assets.com/books/1358273780s/6148028.jpg</td>\n",
       "      <td>young-adult dystopia fantasy sci-fi to-read series owned romance favourites adventure hunger-games kindle teen read-in-2012 post-apocalyptic my-books suzanne-collins the-hunger-games action ya-fiction favorite-books sci-fi-fantasy survival read-in-2011 ebook scifi audiobook i-own 5-stars young-adult-fiction favorite all-time-favorites novels currently-reading audiobooks read-2012 ebooks default dystopian thriller ya read-in-2010 library read-in-2013 futuristic fantasy-sci-fi book-club my-favorites reread my-library audio suspense shelfari-favorites fiction ya-books teen-fiction ya-lit own-it faves borrowed action-adventure read-in-2014 read-2011 distopia dystopian-fiction distopian finished english favorite-series ya-fantasy 2012-reads trilogy to-buy e-book favs read-more-than-once dystopias 4-stars novel love scifi-fantasy science-fiction books-i-own ya-dystopian future e-books on-my-shelf read-2013 speculative-fiction loved audio-books contemporary re-reads book-to-movie read-in-english my-bookshelf favourite-books favourite sf nook</td>\n",
       "    </tr>\n",
       "    <tr>\n",
       "      <th>17</th>\n",
       "      <td>18</td>\n",
       "      <td>5</td>\n",
       "      <td>5</td>\n",
       "      <td>2402163</td>\n",
       "      <td>376</td>\n",
       "      <td>043965548X</td>\n",
       "      <td>9.780440e+12</td>\n",
       "      <td>J.K. Rowling, Mary GrandPré, Rufus Beck</td>\n",
       "      <td>1999.0</td>\n",
       "      <td>Harry Potter and the Prisoner of Azkaban</td>\n",
       "      <td>...</td>\n",
       "      <td>1969375</td>\n",
       "      <td>36099</td>\n",
       "      <td>6716</td>\n",
       "      <td>20413</td>\n",
       "      <td>166129</td>\n",
       "      <td>509447</td>\n",
       "      <td>1266670</td>\n",
       "      <td>https://images.gr-assets.com/books/1499277281m/5.jpg</td>\n",
       "      <td>https://images.gr-assets.com/books/1499277281s/5.jpg</td>\n",
       "      <td>favorites fantasy currently-reading young-adult to-read fiction harry-potter books-i-own owned ya favourites series magic childrens re-read adventure owned-books children j-k-rowling children-s childhood all-time-favorites sci-fi-fantasy middle-grade classics reread my-books default audiobook children-s-books favorite-books 5-stars kids i-own novels favorite audiobooks read-more-than-once fantasy-sci-fi paranormal read-in-2016 my-library ya-fantasy re-reads english witches urban-fantasy british books teen jk-rowling childrens-books read-in-2015 mystery supernatural audio shelfari-favorites my-favorites library faves time-travel harry-potter-series own-it ya-fiction novel read-in-2014 juvenile wizards scifi-fantasy kindle young-adult-fiction read-in-2017 favorite-series childhood-favorites favourite youth rereads all-time-favourites kids-books children-s-literature children-s-lit favourite-books read-in-english contemporary ebook favs to-buy on-my-shelf childhood-books read-2016 to-re-read 5-star science-fiction-fantasy england read-in-2013 my-bookshelf werewolves friendship audio-books bookshelf</td>\n",
       "    </tr>\n",
       "    <tr>\n",
       "      <th>18</th>\n",
       "      <td>19</td>\n",
       "      <td>34</td>\n",
       "      <td>34</td>\n",
       "      <td>3204327</td>\n",
       "      <td>566</td>\n",
       "      <td>618346252</td>\n",
       "      <td>9.780618e+12</td>\n",
       "      <td>J.R.R. Tolkien</td>\n",
       "      <td>1954.0</td>\n",
       "      <td>The Fellowship of the Ring</td>\n",
       "      <td>...</td>\n",
       "      <td>1832541</td>\n",
       "      <td>15333</td>\n",
       "      <td>38031</td>\n",
       "      <td>55862</td>\n",
       "      <td>202332</td>\n",
       "      <td>493922</td>\n",
       "      <td>1042394</td>\n",
       "      <td>https://images.gr-assets.com/books/1298411339m/34.jpg</td>\n",
       "      <td>https://images.gr-assets.com/books/1298411339s/34.jpg</td>\n",
       "      <td>fantasy to-read classics fiction books-i-own classic adventure currently-reading series sci-fi-fantasy tolkien favourites epic-fantasy high-fantasy owned-books favorites young-adult magic default owned novels literature re-read j-r-r-tolkien my-books epic adult lord-of-the-rings all-time-favorites my-library i-own science-fiction audiobook sci-fi library audiobooks adult-fiction science-fiction-fantasy novel books british fantasy-scifi middle-earth english séries to-buy favorite kindle own-it favorite-books 20th-century reread audio childhood 1001-books 5-stars sci-fi-and-fantasy rory-gilmore-reading-challenge classic-literature fiction-fantasy lotr read-more-than-once ya abandoned to-re-read fantasy-fiction fantasia fantasía read-in-2015 elves on-hold british-literature movies unfinished shelfari-favorites audible ebook sf-fantasy on-my-shelf tbr modern-classics fantasy-science-fiction favourite the-lord-of-the-rings read-in-2016 my-favorites paperback have speculative-fiction fantasy-and-sci-fi dnf movie 1001 home-library re-reads read-in-2014 bookshelf ebooks war my-bookshelf</td>\n",
       "    </tr>\n",
       "    <tr>\n",
       "      <th>19</th>\n",
       "      <td>20</td>\n",
       "      <td>7260188</td>\n",
       "      <td>7260188</td>\n",
       "      <td>8812783</td>\n",
       "      <td>239</td>\n",
       "      <td>439023513</td>\n",
       "      <td>9.780439e+12</td>\n",
       "      <td>Suzanne Collins</td>\n",
       "      <td>2010.0</td>\n",
       "      <td>Mockingjay</td>\n",
       "      <td>...</td>\n",
       "      <td>1870748</td>\n",
       "      <td>96274</td>\n",
       "      <td>30144</td>\n",
       "      <td>110498</td>\n",
       "      <td>373060</td>\n",
       "      <td>618271</td>\n",
       "      <td>738775</td>\n",
       "      <td>https://images.gr-assets.com/books/1358275419m/7260188.jpg</td>\n",
       "      <td>https://images.gr-assets.com/books/1358275419s/7260188.jpg</td>\n",
       "      <td>currently-reading favorites young-adult dystopian fiction dystopia ya fantasy science-fiction books-i-own to-read sci-fi series owned romance adventure hunger-games favourites kindle owned-books teen read-in-2012 my-books post-apocalyptic suzanne-collins the-hunger-games ya-fiction action sci-fi-fantasy read-in-2011 re-read ebook i-own scifi young-adult-fiction survival audiobook read-in-2010 books favorite-books ebooks novels audiobooks default read-2012 war futuristic favorite thriller library made-me-cry read-in-2014 fantasy-sci-fi book-club all-time-favorites my-library 5-stars audio read-in-2013 teen-fiction ya-books reread suspense love-triangle ya-lit séries own-it borrowed read-2011 my-favorites shelfari-favorites dystopian-fiction distopian action-adventure to-buy english hunger-games-series favorite-series trilogy novel distopia finished e-book ya-fantasy faves scifi-fantasy 2012-reads dystopias e-books read-in-2015 ya-dystopian finished-series future 4-stars on-my-shelf coming-of-age read-in-english love speculative-fiction read-2014</td>\n",
       "    </tr>\n",
       "    <tr>\n",
       "      <th>20</th>\n",
       "      <td>21</td>\n",
       "      <td>2</td>\n",
       "      <td>2</td>\n",
       "      <td>2809203</td>\n",
       "      <td>307</td>\n",
       "      <td>439358078</td>\n",
       "      <td>9.780439e+12</td>\n",
       "      <td>J.K. Rowling, Mary GrandPré</td>\n",
       "      <td>2003.0</td>\n",
       "      <td>Harry Potter and the Order of the Phoenix</td>\n",
       "      <td>...</td>\n",
       "      <td>1840548</td>\n",
       "      <td>28685</td>\n",
       "      <td>9528</td>\n",
       "      <td>31577</td>\n",
       "      <td>180210</td>\n",
       "      <td>494427</td>\n",
       "      <td>1124806</td>\n",
       "      <td>https://images.gr-assets.com/books/1387141547m/2.jpg</td>\n",
       "      <td>https://images.gr-assets.com/books/1387141547s/2.jpg</td>\n",
       "      <td>to-read currently-reading fantasy favorites children children-s all-time-favorites default fiction young-adult audiobook books-i-own novels kids owned fantasy-sci-fi harry-potter favorite paranormal my-library ya-fantasy teen witches urban-fantasy british jk-rowling re-reads supernatural ya-fiction childrens-books own-it ya mystery harry-potter-series my-favorites library novel audio young-adult-fiction wizards faves scifi-fantasy kindle favourites youth favorite-series shelfari-favorites juvenile favourite read-in-2014 childhood-favorites kids-books read-in-2017 owned-books coming-of-age science-fiction-fantasy all-time-favourites children-s-literature re-read england children-s-lit childhood-books potter fantasy-scifi 5-star magic favs hp classic 2003 magical boarding-school have audio-books action movie romance british-literature read-in-2013 fantasy-fiction rowling read-in-2011 read-multiple-times juvenile-fiction finished young-adult-fantasy read-again ya-books borrowed sci-fi fiction-fantasy childrens-lit audiobooks female-author fantasia children-young-adult books-i-have mine ya-lit middle-school</td>\n",
       "    </tr>\n",
       "    <tr>\n",
       "      <th>21</th>\n",
       "      <td>22</td>\n",
       "      <td>12232938</td>\n",
       "      <td>12232938</td>\n",
       "      <td>1145090</td>\n",
       "      <td>183</td>\n",
       "      <td>316166685</td>\n",
       "      <td>9.780316e+12</td>\n",
       "      <td>Alice Sebold</td>\n",
       "      <td>2002.0</td>\n",
       "      <td>The Lovely Bones</td>\n",
       "      <td>...</td>\n",
       "      <td>1661562</td>\n",
       "      <td>36642</td>\n",
       "      <td>62777</td>\n",
       "      <td>131188</td>\n",
       "      <td>404699</td>\n",
       "      <td>583575</td>\n",
       "      <td>479323</td>\n",
       "      <td>https://images.gr-assets.com/books/1457810586m/12232938.jpg</td>\n",
       "      <td>https://images.gr-assets.com/books/1457810586s/12232938.jpg</td>\n",
       "      <td>to-read fiction favorites mystery books-i-own currently-reading young-adult owned contemporary fantasy book-club crime adult-fiction adult ya contemporary-fiction owned-books drama novels general-fiction favourites thriller paranormal my-books murder death i-own to-buy suspense default literature mystery-thriller library novel literary-fiction family supernatural chick-lit afterlife my-library magical-realism alice-sebold ghosts horror realistic-fiction abandoned bookclub rory-gilmore-reading-challenge did-not-finish audiobook kindle read-in-2010 romance dnf movies favorite-books mystery-suspense borrowed audiobooks own-it modern-fiction coming-of-age classics american finished movie ebook stand-alone books grief made-me-cry mysteries dark unfinished shelfari-favorites literary ebooks high-school book-to-movie audio rory-gilmore-challenge book-club-books sad all-time-favorites tear-jerker re-read have crime-mystery books-to-movies favorite other wish-list female-authors modern murder-mystery on-my-shelf didn-t-finish on-my-bookshelf book-group rape</td>\n",
       "    </tr>\n",
       "    <tr>\n",
       "      <th>22</th>\n",
       "      <td>23</td>\n",
       "      <td>15881</td>\n",
       "      <td>15881</td>\n",
       "      <td>6231171</td>\n",
       "      <td>398</td>\n",
       "      <td>439064864</td>\n",
       "      <td>9.780439e+12</td>\n",
       "      <td>J.K. Rowling, Mary GrandPré</td>\n",
       "      <td>1998.0</td>\n",
       "      <td>Harry Potter and the Chamber of Secrets</td>\n",
       "      <td>...</td>\n",
       "      <td>1906199</td>\n",
       "      <td>34172</td>\n",
       "      <td>8253</td>\n",
       "      <td>42251</td>\n",
       "      <td>242345</td>\n",
       "      <td>548266</td>\n",
       "      <td>1065084</td>\n",
       "      <td>https://images.gr-assets.com/books/1474169725m/15881.jpg</td>\n",
       "      <td>https://images.gr-assets.com/books/1474169725s/15881.jpg</td>\n",
       "      <td>fantasy favorites currently-reading young-adult fiction harry-potter books-i-own owned series ya magic to-read favourites childrens re-read children owned-books adventure children-s j-k-rowling childhood middle-grade reread sci-fi-fantasy classics my-books default audiobook children-s-books kids all-time-favorites audiobooks i-own novels read-more-than-once 5-stars favorite-books read-in-2016 fantasy-sci-fi paranormal my-library favorite re-reads ya-fantasy witches english mystery read-in-2015 jk-rowling books urban-fantasy british childrens-books teen audio supernatural library harry-potter-series read-in-2014 read-in-2017 own-it novel wizards ya-fiction juvenile kindle my-favorites young-adult-fiction scifi-fantasy favorite-series youth rereads shelfari-favorites childhood-favorites read-in-english faves kids-books read-2016 ebook children-s-lit read-in-2013 on-my-shelf contemporary england children-s-literature childhood-books re-reading science-fiction-fantasy favourite my-bookshelf bookshelf read-2015 classic to-buy to-re-read friendship audio-books all-time-favourites potter fantasy-scifi</td>\n",
       "    </tr>\n",
       "    <tr>\n",
       "      <th>23</th>\n",
       "      <td>24</td>\n",
       "      <td>6</td>\n",
       "      <td>6</td>\n",
       "      <td>3046572</td>\n",
       "      <td>332</td>\n",
       "      <td>439139600</td>\n",
       "      <td>9.780439e+12</td>\n",
       "      <td>J.K. Rowling, Mary GrandPré</td>\n",
       "      <td>2000.0</td>\n",
       "      <td>Harry Potter and the Goblet of Fire</td>\n",
       "      <td>...</td>\n",
       "      <td>1868642</td>\n",
       "      <td>31084</td>\n",
       "      <td>6676</td>\n",
       "      <td>20210</td>\n",
       "      <td>151785</td>\n",
       "      <td>494926</td>\n",
       "      <td>1195045</td>\n",
       "      <td>https://images.gr-assets.com/books/1361482611m/6.jpg</td>\n",
       "      <td>https://images.gr-assets.com/books/1361482611s/6.jpg</td>\n",
       "      <td>fantasy young-adult fiction harry-potter owned ya series favourites childrens re-read owned-books adventure children j-k-rowling children-s sci-fi-fantasy all-time-favorites classics my-books reread default audiobook children-s-books 5-stars middle-grade i-own kids favorite-books novels audiobooks fantasy-sci-fi read-more-than-once favorite paranormal ya-fantasy my-library read-in-2016 dragons teen re-reads urban-fantasy witches english british jk-rowling books mystery supernatural childrens-books harry-potter-series read-in-2015 audio shelfari-favorites ya-fiction library my-favorites own-it novel wizards young-adult-fiction faves scifi-fantasy kindle favorite-series youth juvenile read-in-2014 childhood-favorites read-in-2017 rereads favourite kids-books to-buy ebook all-time-favourites to-re-read science-fiction-fantasy contemporary to-read coming-of-age england children-s-lit children-s-literature childhood-books 5-star on-my-shelf read-in-english my-bookshelf friendship read-2016 favourite-books favs séries potter read-in-2013 classic bookshelf fantasy-scifi audio-books rory-gilmore-reading-challenge</td>\n",
       "    </tr>\n",
       "    <tr>\n",
       "      <th>24</th>\n",
       "      <td>25</td>\n",
       "      <td>136251</td>\n",
       "      <td>136251</td>\n",
       "      <td>2963218</td>\n",
       "      <td>263</td>\n",
       "      <td>545010225</td>\n",
       "      <td>9.780545e+12</td>\n",
       "      <td>J.K. Rowling, Mary GrandPré</td>\n",
       "      <td>2007.0</td>\n",
       "      <td>Harry Potter and the Deathly Hallows</td>\n",
       "      <td>...</td>\n",
       "      <td>1847395</td>\n",
       "      <td>51942</td>\n",
       "      <td>9363</td>\n",
       "      <td>22245</td>\n",
       "      <td>113646</td>\n",
       "      <td>383914</td>\n",
       "      <td>1318227</td>\n",
       "      <td>https://images.gr-assets.com/books/1474171184m/136251.jpg</td>\n",
       "      <td>https://images.gr-assets.com/books/1474171184s/136251.jpg</td>\n",
       "      <td>favorites fantasy young-adult fiction harry-potter books-i-own owned ya favourites series magic childrens owned-books adventure re-read children j-k-rowling all-time-favorites sci-fi-fantasy children-s classics childhood default favorite-books 5-stars i-own favorite reread audiobook children-s-books novels kids middle-grade fantasy-sci-fi audiobooks paranormal teen my-library read-more-than-once ya-fantasy made-me-cry english witches books urban-fantasy jk-rowling my-favorites british shelfari-favorites supernatural own-it read-in-2016 ya-fiction re-reads library harry-potter-series childrens-books faves audio mystery young-adult-fiction wizards novel scifi-fantasy favorite-series favourite kindle to-re-read romance youth to-read read-in-2015 juvenile all-time-favourites read-in-english favourite-books contemporary 5-star to-buy coming-of-age childhood-favorites read-in-2014 ebook favs kids-books science-fiction-fantasy on-my-shelf england dragons read-in-2011 my-bookshelf children-s-lit bookshelf children-s-literature classic rereads potter friendship to-reread read-in-2017</td>\n",
       "    </tr>\n",
       "    <tr>\n",
       "      <th>25</th>\n",
       "      <td>26</td>\n",
       "      <td>968</td>\n",
       "      <td>968</td>\n",
       "      <td>2982101</td>\n",
       "      <td>350</td>\n",
       "      <td>307277674</td>\n",
       "      <td>9.780307e+12</td>\n",
       "      <td>Dan Brown</td>\n",
       "      <td>2003.0</td>\n",
       "      <td>The Da Vinci Code</td>\n",
       "      <td>...</td>\n",
       "      <td>1557292</td>\n",
       "      <td>41560</td>\n",
       "      <td>71345</td>\n",
       "      <td>126493</td>\n",
       "      <td>340790</td>\n",
       "      <td>539277</td>\n",
       "      <td>479387</td>\n",
       "      <td>https://images.gr-assets.com/books/1303252999m/968.jpg</td>\n",
       "      <td>https://images.gr-assets.com/books/1303252999s/968.jpg</td>\n",
       "      <td>fiction currently-reading favorites thriller to-read books-i-own owned dan-brown suspense historical-fiction adventure mystery-thriller novels series default adult contemporary owned-books adult-fiction thrillers religion novel general-fiction favourites my-books mystery-suspense mysteries contemporary-fiction fantasy historical my-library book-club action history library i-own conspiracy literature kindle books action-adventure art english american crime-mystery robert-langdon rory-gilmore-reading-challenge suspense-thriller classics borrowed finished shelfari-favorites own-it drama audiobook thriller-mystery detective mystery-crime favorite to-buy other france روايات 2004 modern-fiction brown-dan popular-fiction ebook thriller-suspense 2006 audiobooks american-literature movie movies rory-gilmore-challenge ebooks 2005 re-read all-time-favorites brown favorite-books mystery 21st-century my-favorites audio realistic-fiction romance have crime-fiction bookshelf home-library read-fiction my-bookshelf mystery-thrillers 5-stars abandoned book-to-movie science-fiction rory-gilmore religious</td>\n",
       "    </tr>\n",
       "    <tr>\n",
       "      <th>26</th>\n",
       "      <td>27</td>\n",
       "      <td>1</td>\n",
       "      <td>1</td>\n",
       "      <td>41335427</td>\n",
       "      <td>275</td>\n",
       "      <td>439785960</td>\n",
       "      <td>9.780440e+12</td>\n",
       "      <td>J.K. Rowling, Mary GrandPré</td>\n",
       "      <td>2005.0</td>\n",
       "      <td>Harry Potter and the Half-Blood Prince</td>\n",
       "      <td>...</td>\n",
       "      <td>1785676</td>\n",
       "      <td>27520</td>\n",
       "      <td>7308</td>\n",
       "      <td>21516</td>\n",
       "      <td>136333</td>\n",
       "      <td>459028</td>\n",
       "      <td>1161491</td>\n",
       "      <td>https://images.gr-assets.com/books/1361039191m/1.jpg</td>\n",
       "      <td>https://images.gr-assets.com/books/1361039191s/1.jpg</td>\n",
       "      <td>to-read fantasy favorites currently-reading young-adult fiction harry-potter books-i-own owned ya series favourites magic childrens owned-books re-read adventure children j-k-rowling children-s sci-fi-fantasy childhood all-time-favorites default my-books classics reread i-own audiobook 5-stars children-s-books favorite-books kids novels fantasy-sci-fi favorite middle-grade audiobooks paranormal read-more-than-once my-library ya-fantasy teen witches english urban-fantasy british jk-rowling books read-in-2016 supernatural re-reads mystery ya-fiction harry-potter-series my-favorites own-it childrens-books library audio young-adult-fiction novel 2005 scifi-fantasy wizards faves favorite-series read-in-2015 made-me-cry juvenile shelfari-favorites kindle youth romance favourite to-buy read-in-2014 to-re-read all-time-favourites childhood-favorites kids-books ebook rereads contemporary read-in-english 5-star coming-of-age science-fiction-fantasy read-in-2017 england children-s-literature favourite-books on-my-shelf my-bookshelf children-s-lit bookshelf magical favs childhood-books potter</td>\n",
       "    </tr>\n",
       "    <tr>\n",
       "      <th>27</th>\n",
       "      <td>28</td>\n",
       "      <td>7624</td>\n",
       "      <td>7624</td>\n",
       "      <td>2766512</td>\n",
       "      <td>458</td>\n",
       "      <td>140283331</td>\n",
       "      <td>9.780140e+12</td>\n",
       "      <td>William Golding</td>\n",
       "      <td>1954.0</td>\n",
       "      <td>Lord of the Flies</td>\n",
       "      <td>...</td>\n",
       "      <td>1671484</td>\n",
       "      <td>26886</td>\n",
       "      <td>92779</td>\n",
       "      <td>160295</td>\n",
       "      <td>425648</td>\n",
       "      <td>564916</td>\n",
       "      <td>427846</td>\n",
       "      <td>https://images.gr-assets.com/books/1327869409m/7624.jpg</td>\n",
       "      <td>https://images.gr-assets.com/books/1327869409s/7624.jpg</td>\n",
       "      <td>classics to-read fiction favorites classic young-adult school literature owned books-i-own dystopia dystopian read-for-school ya novels adventure high-school for-school school-books horror currently-reading owned-books to-buy 1001-books classic-literature favourites novel survival library british english re-read literary-fiction modern-classics general-fiction default school-reads science-fiction read-in-school 20th-century to-re-read 1001 adult classics-to-read british-literature drama classic-fiction my-library school-reading my-books coming-of-age banned-books classic-lit adult-fiction fantasy childhood books i-own required-reading realistic-fiction rory-gilmore-reading-challenge literary 1001-books-to-read-before-you-die historical-fiction sci-fi english-literature book-club childrens the-classics psychology thriller read-in-high-school to-reread to-read-classics all-time-favorites children borrowed teen philosophy abandoned wish-list dark kindle audiobook lit audiobooks reread own-it favorite-books read-again must-read books-for-school read-in-2015 ebook other read-in-2016 contemporary read-in-2014 read-in-english unfinished</td>\n",
       "    </tr>\n",
       "    <tr>\n",
       "      <th>28</th>\n",
       "      <td>29</td>\n",
       "      <td>18135</td>\n",
       "      <td>18135</td>\n",
       "      <td>3349450</td>\n",
       "      <td>1937</td>\n",
       "      <td>743477111</td>\n",
       "      <td>9.780743e+12</td>\n",
       "      <td>William Shakespeare, Robert           Jackson</td>\n",
       "      <td>1595.0</td>\n",
       "      <td>An Excellent conceited Tragedie of Romeo and Juliet</td>\n",
       "      <td>...</td>\n",
       "      <td>1672889</td>\n",
       "      <td>14778</td>\n",
       "      <td>57980</td>\n",
       "      <td>153179</td>\n",
       "      <td>452673</td>\n",
       "      <td>519822</td>\n",
       "      <td>489235</td>\n",
       "      <td>https://images.gr-assets.com/books/1327872146m/18135.jpg</td>\n",
       "      <td>https://images.gr-assets.com/books/1327872146s/18135.jpg</td>\n",
       "      <td>to-read classics plays fiction romance classic favorites shakespeare school drama play books-i-own read-for-school literature owned for-school high-school school-books poetry clàssics theatre classic-literature tragedy my-ebooks historical historical-fiction owned-books adult school-reads british read-in-school favourites english theater young-adult school-reading british-literature my-books required-reading love books classic-lit re-read rory-gilmore-reading-challenge william-shakespeare teatro 16th-century english-literature i-own read-in-high-school default adult-fiction the-classics novels books-for-school to-buy my-library library classic-fiction italy assigned-reading borrowed classics-read rory-gilmore-challenge read-more-than-once 3-stars british-lit ebooks historical-romance romantic brit-lit 9th-grade renaissance stand-alone high-school-reads own-it rory-gilmore ya read-in-2015 kindle 4-stars finished movies read-in-english literary general-fiction england classics-to-read reread lit english-lit death all-time-favorites love-stories books-i-read-for-school romeo-and-juliet read-in-2016 favorite-books literary-fiction read-classics</td>\n",
       "    </tr>\n",
       "    <tr>\n",
       "      <th>29</th>\n",
       "      <td>30</td>\n",
       "      <td>8442457</td>\n",
       "      <td>19288043</td>\n",
       "      <td>13306276</td>\n",
       "      <td>196</td>\n",
       "      <td>297859382</td>\n",
       "      <td>9.780298e+12</td>\n",
       "      <td>Gillian Flynn</td>\n",
       "      <td>2012.0</td>\n",
       "      <td>Gone Girl</td>\n",
       "      <td>...</td>\n",
       "      <td>1626519</td>\n",
       "      <td>121614</td>\n",
       "      <td>38874</td>\n",
       "      <td>80807</td>\n",
       "      <td>280331</td>\n",
       "      <td>616031</td>\n",
       "      <td>610476</td>\n",
       "      <td>https://images.gr-assets.com/books/1339602131m/8442457.jpg</td>\n",
       "      <td>https://images.gr-assets.com/books/1339602131s/8442457.jpg</td>\n",
       "      <td>to-read favorites mystery crime fiction contemporary kindle thriller books-i-own library owned read-in-2015 ebook to-buy suspense psychological-thriller my-books mystery-thriller book-club audible romance adult dnf audio-book default realistic-fiction read-in-2016 owned-books my-library currently-reading finished 2015-reading-challenge favourites 5-stars thrillers gone-girl dysfunctional-family audiobooks audiobook book-group all-time-favorites psychological-mystery favorite adult-fiction murder family kindle-books movies 4-stars couldn-t-finish maybe want-to-read on-hold books 21st-century usa 2014-read books-to-movies mystery-thriller-suspense have literary-fiction read-2016 listened-to gillian-flynn novels my-bookshelf summer-reading contemporary-fiction mental-illness on-kindle 2015-books loved mystery-suspense on-my-bookshelf books-i-have sociopath psychological audio american-literature shelfari-favorites favs bought read-in-2017 mysteries adult-books creepy mystery-thriller-horror read-2015 dark 2015-challenge paperback purchased marriage abandoned for-fun summer-2014 recommend english modern 2016-reads</td>\n",
       "    </tr>\n",
       "    <tr>\n",
       "      <th>...</th>\n",
       "      <td>...</td>\n",
       "      <td>...</td>\n",
       "      <td>...</td>\n",
       "      <td>...</td>\n",
       "      <td>...</td>\n",
       "      <td>...</td>\n",
       "      <td>...</td>\n",
       "      <td>...</td>\n",
       "      <td>...</td>\n",
       "      <td>...</td>\n",
       "      <td>...</td>\n",
       "      <td>...</td>\n",
       "      <td>...</td>\n",
       "      <td>...</td>\n",
       "      <td>...</td>\n",
       "      <td>...</td>\n",
       "      <td>...</td>\n",
       "      <td>...</td>\n",
       "      <td>...</td>\n",
       "      <td>...</td>\n",
       "      <td>...</td>\n",
       "    </tr>\n",
       "    <tr>\n",
       "      <th>9970</th>\n",
       "      <td>9971</td>\n",
       "      <td>12602078</td>\n",
       "      <td>25781538</td>\n",
       "      <td>17617275</td>\n",
       "      <td>8</td>\n",
       "      <td>NaN</td>\n",
       "      <td>NaN</td>\n",
       "      <td>Melody Anne</td>\n",
       "      <td>2011.0</td>\n",
       "      <td>NaN</td>\n",
       "      <td>...</td>\n",
       "      <td>17606</td>\n",
       "      <td>881</td>\n",
       "      <td>395</td>\n",
       "      <td>1182</td>\n",
       "      <td>4378</td>\n",
       "      <td>6060</td>\n",
       "      <td>5591</td>\n",
       "      <td>https://images.gr-assets.com/books/1368675679m/12602078.jpg</td>\n",
       "      <td>https://images.gr-assets.com/books/1368675679s/12602078.jpg</td>\n",
       "      <td>to-read currently-reading romance kindle contemporary contemporary-romance melody-anne series ebook favorites erotica billionaire adult free ebooks freebies owned freebie kindle-books secret-baby billionaires alpha-male books-i-own nook on-kindle fiction kindle-freebie second-chance e-book pregnancy owned-books ibooks chick-lit e-books dnf purchased revenge lendable romance-contemporary erotic-romance second-chance-romance baby own-kindle anne-melody billionaire-romance new-adult virgin-heroine baby-for-the-billionaire i-own part-of-a-series read-2015 read-in-2012 on-my-kindle adult-romance kindle-unlimited kindle-free second-chances 4-stars first-in-series amazon kindle-lendable 3-stars erotic steamy m-f kindle-freebies harlequin kobo nook-books part-of-series free-kindle-books read-in-2014 have read-2014 adult-fiction virgin own-on-kindle kindle-book pregnant secret-child re-read default my-books own-it 2015-reads maybe meh bad-boys hea downloaded free-books free-ebook own-ebook amazon-freebie amazon-freebies millionaire rich-men read-in-2015 2015-read 2017-reads</td>\n",
       "    </tr>\n",
       "    <tr>\n",
       "      <th>9971</th>\n",
       "      <td>9972</td>\n",
       "      <td>4984</td>\n",
       "      <td>4984</td>\n",
       "      <td>6558445</td>\n",
       "      <td>28</td>\n",
       "      <td>99282968</td>\n",
       "      <td>9.780099e+12</td>\n",
       "      <td>Kurt Vonnegut Jr.</td>\n",
       "      <td>1999.0</td>\n",
       "      <td>Bagombo Snuff Box</td>\n",
       "      <td>...</td>\n",
       "      <td>8597</td>\n",
       "      <td>316</td>\n",
       "      <td>78</td>\n",
       "      <td>548</td>\n",
       "      <td>2817</td>\n",
       "      <td>3430</td>\n",
       "      <td>1724</td>\n",
       "      <td>https://images.gr-assets.com/books/1327353727m/4984.jpg</td>\n",
       "      <td>https://images.gr-assets.com/books/1327353727s/4984.jpg</td>\n",
       "      <td>to-read fiction currently-reading short-stories vonnegut owned kurt-vonnegut science-fiction classics favorites books-i-own literature american humor library default sci-fi short-fiction owned-books kindle short-story-collections satire to-buy short my-library ebook general-fiction favorite-authors short-story i-own audiobooks contemporary stories collection contemporary-fiction audiobook american-literature 20th-century collections my-books bookshelf adult anthology personal-library humour signed short-story-collection shortstories novels books shelfari-favorites usa literary american-lit to-read-fiction classic e-book read-2013 adult-fiction modern-classics unfinished scifi books-owned fiction-general fiction-and-literature own-it audio novel shelfari-wishlist literary-fiction owned-unread sf comedy in-my-library scanned at-home already-own fiction-classic read-in-2014 on-my-shelf ebooks my-collection lit biography need-to-buy unread science calibre owned-to-read to-read-owned not-read currently-own 2000 shelfie-app-books own-ebook essays-short-stories the-lewis-library my-home-library author-kurt-vonnegut a2</td>\n",
       "    </tr>\n",
       "    <tr>\n",
       "      <th>9972</th>\n",
       "      <td>9973</td>\n",
       "      <td>849380</td>\n",
       "      <td>849380</td>\n",
       "      <td>4370</td>\n",
       "      <td>52</td>\n",
       "      <td>609805797</td>\n",
       "      <td>9.780610e+12</td>\n",
       "      <td>John M. Gottman, Nan Silver</td>\n",
       "      <td>1999.0</td>\n",
       "      <td>The Seven Principles for Making Marriage Work: A Practical Guide from the Country's Foremost Relationship Expert</td>\n",
       "      <td>...</td>\n",
       "      <td>10017</td>\n",
       "      <td>749</td>\n",
       "      <td>126</td>\n",
       "      <td>334</td>\n",
       "      <td>1604</td>\n",
       "      <td>3446</td>\n",
       "      <td>4507</td>\n",
       "      <td>https://images.gr-assets.com/books/1320521960m/849380.jpg</td>\n",
       "      <td>https://images.gr-assets.com/books/1320521960s/849380.jpg</td>\n",
       "      <td>to-read currently-reading non-fiction self-help relationships nonfiction psychology relationship self-improvement favorites marriage family books-i-own counseling personal-development reference therapy personal-growth kindle love to-read-non-fiction parenting wish-list default non-fiction-to-read personal marriage-and-family owned audiobook audio ebook school to-buy adult audible maybe self-development didn-t-finish science marriage-relationships audiobooks library audio-book partially-read christian to-read-self-help happiness marriage-family psychotherapy own-it philosophy how-to self book-club abandoned unfinished on-hold did-not-finish religion mental-health professional growth social-work love-and-relationships favourites my-books reread i-own read-in-2014 read-in-2017 ebooks read-2017 life recommended next to-read-nonfiction sociology calibre personal-library 2016-reads leadership spiritual scanned adult-non-fiction psych relationships-marriage owned-books re-read shelfari-favorites spirituality college to-find work not-finished pop-psych other-nonfiction counselling resource marriage-and-relationships marriage-relationship</td>\n",
       "    </tr>\n",
       "    <tr>\n",
       "      <th>9973</th>\n",
       "      <td>9974</td>\n",
       "      <td>116494</td>\n",
       "      <td>116494</td>\n",
       "      <td>827585</td>\n",
       "      <td>38</td>\n",
       "      <td>553153382</td>\n",
       "      <td>9.780553e+12</td>\n",
       "      <td>Lois Lowry</td>\n",
       "      <td>1978.0</td>\n",
       "      <td>Anastasia Krupnik</td>\n",
       "      <td>...</td>\n",
       "      <td>12519</td>\n",
       "      <td>389</td>\n",
       "      <td>440</td>\n",
       "      <td>603</td>\n",
       "      <td>3062</td>\n",
       "      <td>4185</td>\n",
       "      <td>4229</td>\n",
       "      <td>https://images.gr-assets.com/books/1476942137m/116494.jpg</td>\n",
       "      <td>https://images.gr-assets.com/books/1476942137s/116494.jpg</td>\n",
       "      <td>to-read childrens fiction young-adult children children-s kids middle-grade favorites childhood childhood-favorites children-s-books ya realistic-fiction series currently-reading juvenile humor juvenile-fiction banned-books kids-books family children-s-literature chapter-books books-i-own owned childrens-books children-s-lit childhood-books children-s-fiction childrens-fiction funny youth middle-grades kid-lit lois-lowry childhood-reads childrens-lit childrens-literature re-read read-in-2015 female-author read-as-a-child read-as-a-kid children-young-adult childrens-ya default classics library audio kindle contemporary 20th-century my-childhood children-ya tween kidlit kids-ya anastasia-krupnik novels teen re-reads american junior-fiction kids-fiction reread coming-of-age classic childhood-favourites ebooks borrowed realistic comedy young-readers read-in-childhood when-i-was-a-kid young-adult-children favourites owned-books all-time-favorites audiobooks read-in-2014 school nostalgia for-the-kids 1970s first-in-series humour books-from-my-childhood books-from-childhood books-i-read-as-a-kid children-fiction childrensbooks j-fiction for-children families childrens-chapter-books kids-to-read chapter my-childhood-reads</td>\n",
       "    </tr>\n",
       "    <tr>\n",
       "      <th>9974</th>\n",
       "      <td>9975</td>\n",
       "      <td>613991</td>\n",
       "      <td>613991</td>\n",
       "      <td>835285</td>\n",
       "      <td>40</td>\n",
       "      <td>1857236653</td>\n",
       "      <td>9.781857e+12</td>\n",
       "      <td>David Gemmell</td>\n",
       "      <td>1985.0</td>\n",
       "      <td>The King Beyond the Gate</td>\n",
       "      <td>...</td>\n",
       "      <td>10307</td>\n",
       "      <td>149</td>\n",
       "      <td>49</td>\n",
       "      <td>249</td>\n",
       "      <td>1968</td>\n",
       "      <td>4174</td>\n",
       "      <td>3867</td>\n",
       "      <td>https://s.gr-assets.com/assets/nophoto/book/111x148-bcc042a9c91a29c1d680899eff700a03.png</td>\n",
       "      <td>https://s.gr-assets.com/assets/nophoto/book/50x75-a91bf249278a81aabab721ef782c4a74.png</td>\n",
       "      <td>to-read currently-reading default fiction fantasy david-gemmell owned heroic-fantasy favorites epic-fantasy gemmell books-i-own sword-and-sorcery adventure owned-books sci-fi-fantasy epic series fantasy-fiction scifi-fantasy kindle ebooks gemmell-david drenai-saga fantasy-sci-fi to-buy e-books calibre library david-gemmel my-books my-library books action unread favourites i-own historical sci-fi sff 1 to-read-fantasy fantasy-series héroïc-fantasy re-read novels english novel fantasy-and-sci-fi fantasy-read read-2016 owned-unread paperback want scifi sf-fantasy fantasy-scifi 1980s g fantasy-books to-review 1980-1989 drenai-series magic audiobook read-in-2015 shelfari-favorites read-in-2017 not-interested home-library wish-list romans 20th-century maybe next tbr sci-fi-and-fantasy military home physical pre-goodreads physical-copy series-to-finish at-home fantasy-sf e-reader interesting available old-books classic-fantasy fantasy-general fantasy-classic pfaf 2015-challenge to-read-maybe james-bowmans-books david-gemell fantasy-heroic the-drenai-saga fantaisie</td>\n",
       "    </tr>\n",
       "    <tr>\n",
       "      <th>9975</th>\n",
       "      <td>9976</td>\n",
       "      <td>6351939</td>\n",
       "      <td>6351939</td>\n",
       "      <td>6538518</td>\n",
       "      <td>24</td>\n",
       "      <td>778325806</td>\n",
       "      <td>9.780778e+12</td>\n",
       "      <td>Maria V. Snyder</td>\n",
       "      <td>2009.0</td>\n",
       "      <td>Sea Glass</td>\n",
       "      <td>...</td>\n",
       "      <td>15937</td>\n",
       "      <td>855</td>\n",
       "      <td>118</td>\n",
       "      <td>655</td>\n",
       "      <td>3685</td>\n",
       "      <td>6185</td>\n",
       "      <td>5294</td>\n",
       "      <td>https://images.gr-assets.com/books/1327132670m/6351939.jpg</td>\n",
       "      <td>https://images.gr-assets.com/books/1327132670s/6351939.jpg</td>\n",
       "      <td>to-read fantasy young-adult favorites magic books-i-own romance ya series currently-reading owned fiction maria-v-snyder high-fantasy paranormal adventure ya-fantasy sci-fi-fantasy favourites kindle glass ebook adult owned-books library ebooks fantasy-sci-fi read-in-2010 to-buy i-own supernatural default my-books epic-fantasy wish-list teen read-in-2011 read-in-2009 scifi-fantasy read-in-2015 tbr action fantasy-romance favorite read-in-2016 mystery read-in-2014 trilogy young-adult-fantasy maria-snyder audiobook own-it read-2015 paperback signed audiobooks bookshelf read-in-2013 e-books read-in-2012 paranormal-romance glass-series re-read books favourite-books 4-stars love-triangle reviewed books-i-have borrowed fantasy-magic maria-v--snyder all-time-favorites my-library completed-series ya-fiction part-of-a-series action-adventure e-book need-to-buy science-fiction want-to-buy witches urban-fantasy shelfari-favorites read-in-2017 favs shelfari-wishlist have favorite-authors read-2016 adult-fiction calibre ebooks-i-own teen-fantasy my-bookshelf read-2014 read-2013 maybe new-adult</td>\n",
       "    </tr>\n",
       "    <tr>\n",
       "      <th>9976</th>\n",
       "      <td>9977</td>\n",
       "      <td>202948</td>\n",
       "      <td>202948</td>\n",
       "      <td>851165</td>\n",
       "      <td>55</td>\n",
       "      <td>804113475</td>\n",
       "      <td>9.780804e+12</td>\n",
       "      <td>Anne Tyler</td>\n",
       "      <td>1995.0</td>\n",
       "      <td>Ladder of Years</td>\n",
       "      <td>...</td>\n",
       "      <td>12229</td>\n",
       "      <td>949</td>\n",
       "      <td>214</td>\n",
       "      <td>854</td>\n",
       "      <td>3714</td>\n",
       "      <td>4827</td>\n",
       "      <td>2620</td>\n",
       "      <td>https://s.gr-assets.com/assets/nophoto/book/111x148-bcc042a9c91a29c1d680899eff700a03.png</td>\n",
       "      <td>https://s.gr-assets.com/assets/nophoto/book/50x75-a91bf249278a81aabab721ef782c4a74.png</td>\n",
       "      <td>to-read fiction book-club favorites currently-reading anne-tyler contemporary-fiction contemporary books-i-own literary-fiction general-fiction owned novels novel owned-books kindle women default family-relationships adult adult-fiction women-s-fiction my-books library ebook literature family ebooks book-group american i-own my-library american-literature drama favorite-authors orange-prize shelfari-favorites usa maybe bookclub chick-lit relationships 2006 baltimore tyler life-stages all-time-favorites audio read-in-2012 library-book marriage fiction-contemporary 1995 running-away english own-it female-author e-books unread womens-fiction nook book-club-reads 2016-reads contemporary-lit women-writers women-authors the-lewis-library favorite-books audiobooks books 2005 romance read-in-2014 have literary modern wish-list realistic-fiction kindle-books audio-books abandoned tbr calibre summer-reads family-drama mine own-a-copy oprah psychological fiction-read contemporary-literature modern-lit literature-fiction 1998 anne fiction-literary 5-stars read-in-2016 your-library z-in-zwei-sprachen-vorhanden</td>\n",
       "    </tr>\n",
       "    <tr>\n",
       "      <th>9977</th>\n",
       "      <td>9978</td>\n",
       "      <td>162332</td>\n",
       "      <td>162332</td>\n",
       "      <td>880874</td>\n",
       "      <td>70</td>\n",
       "      <td>679750150</td>\n",
       "      <td>9.780680e+12</td>\n",
       "      <td>Yukio Mishima, John Nathan</td>\n",
       "      <td>1963.0</td>\n",
       "      <td>午後の曳航 [Gogo no eikō]</td>\n",
       "      <td>...</td>\n",
       "      <td>10541</td>\n",
       "      <td>755</td>\n",
       "      <td>142</td>\n",
       "      <td>590</td>\n",
       "      <td>2414</td>\n",
       "      <td>4551</td>\n",
       "      <td>2844</td>\n",
       "      <td>https://images.gr-assets.com/books/1327629352m/162332.jpg</td>\n",
       "      <td>https://images.gr-assets.com/books/1327629352s/162332.jpg</td>\n",
       "      <td>to-read fiction japan currently-reading japanese favorites japanese-literature classics japanese-lit literature owned novels asia novel translated asian books-i-own asian-literature japanese-fiction to-buy 20th-century literary-fiction translation 1960s literatura-japonesa mishima favourites read-in-2016 wish-list library school japanese-authors bowie asian-lit in-translation owned-books contemporary adult default my-library general-fiction to-read-fiction read-in-2012 yukio-mishima modern-classics east-asia japanese-books japon read-in-2015 adult-fiction short english ebook literary modern maybe lit fiction-to-read translations cultural bowie-s-top-100 20th-century-fiction literature-japanese books romance روايات library-books classic historical-fiction e-book philosophy abandoned 2016-reads oriental novela sea east-asian david-bowie-top-100 read-in-english read-in-2017 ebooks crime read-in-2013 read-2016 on-hold tbr pdf dnf modernism purchased to-read-2 japão vintage-classics 20th-century-lit novelas japanese-author david-bowie-s-top-100 japoneses 1963 日本語</td>\n",
       "    </tr>\n",
       "    <tr>\n",
       "      <th>9978</th>\n",
       "      <td>9979</td>\n",
       "      <td>16951</td>\n",
       "      <td>16951</td>\n",
       "      <td>891697</td>\n",
       "      <td>57</td>\n",
       "      <td>312940661</td>\n",
       "      <td>9.780313e+12</td>\n",
       "      <td>Wilbur Smith</td>\n",
       "      <td>1964.0</td>\n",
       "      <td>When the Lion Feeds</td>\n",
       "      <td>...</td>\n",
       "      <td>9581</td>\n",
       "      <td>322</td>\n",
       "      <td>64</td>\n",
       "      <td>268</td>\n",
       "      <td>1648</td>\n",
       "      <td>3732</td>\n",
       "      <td>3869</td>\n",
       "      <td>https://s.gr-assets.com/assets/nophoto/book/111x148-bcc042a9c91a29c1d680899eff700a03.png</td>\n",
       "      <td>https://s.gr-assets.com/assets/nophoto/book/50x75-a91bf249278a81aabab721ef782c4a74.png</td>\n",
       "      <td>to-read currently-reading historical-fiction wilbur-smith fiction historical favorites africa adventure thriller owned series default south-africa action-adventure favourites library ebook general-fiction book-club avventura owned-books kindle history action books-i-own audiobooks mystery novel ebooks paperback smith-wilbur books adult-fiction fiction-historical my-books english wish-list general 19th-century family-saga south-african courtney smith series-courtney novels audio drama modern adult to-read-fiction mystery-thriller suspense family e-book thrillers recommended did-not-finish calibre first-in-series cultural saga my-favourites incipitinwikiquote romanzo adventure-fiction wilbur-a-smith w-smith wilbur-smith-collection audiobook read-in-2016 to-buy read-in-2014 contemporary read-in-english read-2015 maybe abandoned unfinished recommended-to-me collection unread want-to-buy i-own-a-copy books-read fictions african thriller-mystery 1st-in-series fiction-general have-read debut our-library owned-not-read new-series own-unread house bbc-bookclub setting-south-africa historical-ficton</td>\n",
       "    </tr>\n",
       "    <tr>\n",
       "      <th>9979</th>\n",
       "      <td>9980</td>\n",
       "      <td>946899</td>\n",
       "      <td>946899</td>\n",
       "      <td>88345</td>\n",
       "      <td>11</td>\n",
       "      <td>764200739</td>\n",
       "      <td>9.780764e+12</td>\n",
       "      <td>Deeanne Gist</td>\n",
       "      <td>2006.0</td>\n",
       "      <td>The Measure of a Lady</td>\n",
       "      <td>...</td>\n",
       "      <td>9963</td>\n",
       "      <td>489</td>\n",
       "      <td>187</td>\n",
       "      <td>608</td>\n",
       "      <td>2337</td>\n",
       "      <td>3355</td>\n",
       "      <td>3476</td>\n",
       "      <td>https://s.gr-assets.com/assets/nophoto/book/111x148-bcc042a9c91a29c1d680899eff700a03.png</td>\n",
       "      <td>https://s.gr-assets.com/assets/nophoto/book/50x75-a91bf249278a81aabab721ef782c4a74.png</td>\n",
       "      <td>to-read christian-fiction historical-fiction romance christian historical currently-reading historical-romance fiction favorites christian-romance books-i-own deeanne-gist adult chick-lit library inspirational western christian-historical-fiction i-own kindle adult-fiction owned christian-books 19th-century inspirational-fiction clean-romance read-in-2016 christian-lit default audiobook my-library own-it read-in-2011 wish-list religious inspirational-romance owned-books my-books shelfari-favorites chic-lit california christianfiction christian-historical christian-historical-romance historical-christian-fiction favorite-books novels e-book audio-books history gist-deeanne all-time-favorites favorite my-favorites ebook home-library american maybe paperback fiction-historical paper own-a-copy own-book christian-to-read read-2009 2015-reading-list romance-historical book christian-novels genre-romance 2010-read historical-christian christian-fiction-historical deanne-gist series re-reads novel read-in-2014 my-bookshelf america library-books family read-in-2013 library-book bought 2013-read college romantic historical-fic misc fun-reads g 1800s my-personal-library western-romance next-in-line historical-christian-romance gist-deanne historical-romance-fiction</td>\n",
       "    </tr>\n",
       "    <tr>\n",
       "      <th>9980</th>\n",
       "      <td>9981</td>\n",
       "      <td>106312</td>\n",
       "      <td>106312</td>\n",
       "      <td>29083</td>\n",
       "      <td>58</td>\n",
       "      <td>739455834</td>\n",
       "      <td>9.780739e+12</td>\n",
       "      <td>Jeffery Deaver</td>\n",
       "      <td>2005.0</td>\n",
       "      <td>The Twelfth Card</td>\n",
       "      <td>...</td>\n",
       "      <td>12134</td>\n",
       "      <td>495</td>\n",
       "      <td>72</td>\n",
       "      <td>390</td>\n",
       "      <td>2874</td>\n",
       "      <td>5155</td>\n",
       "      <td>3643</td>\n",
       "      <td>https://images.gr-assets.com/books/1328407138m/106312.jpg</td>\n",
       "      <td>https://images.gr-assets.com/books/1328407138s/106312.jpg</td>\n",
       "      <td>to-read currently-reading mystery jeffery-deaver thriller default fiction crime favorites owned lincoln-rhyme deaver owned-books crime-thriller kindle books-i-own mystery-thriller series audiobook mysteries audiobooks audio suspense deaver-jeffery english 2005 wish-list library to-buy paperback jeffrey-deaver read-in-2016 audio-books detective thrillers deaver-jeffrey have crime-mystery-thriller mystery-thriller-suspense need-to-buy finished lincoln-rhyme-series e-book mystery-thrillers thriller-crime borrowed on-kindle mystery-suspense-thriller jeffery-deaver-lincoln-rhyme books novel read-in-2014 audible krimi crime-mystery mystery-crime unread serial-killers forensic-thriller have-book novels contemporary home-library usa contemporary-fiction drama general-fiction ebooks audio-book read-2014 listened-to read-2016 mystery-detective mysteries-thrillers read-in-2012 library-book bought on-the-shelf buy 1 purchased hardcover hardback books-read have-read detective-fiction law-enforcement detective-mystery d pop-fiction amelia-sachs gialli-e-thriller krimis incipitinwikiquote suspense-mystery read-in-2017 own-to-read jefferey-deaver series-in-progress jeffery-deavers</td>\n",
       "    </tr>\n",
       "    <tr>\n",
       "      <th>9981</th>\n",
       "      <td>9982</td>\n",
       "      <td>12444298</td>\n",
       "      <td>12444298</td>\n",
       "      <td>21900571</td>\n",
       "      <td>1</td>\n",
       "      <td>385344422</td>\n",
       "      <td>9.780385e+12</td>\n",
       "      <td>Karen Marie Moning</td>\n",
       "      <td>2016.0</td>\n",
       "      <td>Feverborn</td>\n",
       "      <td>...</td>\n",
       "      <td>14194</td>\n",
       "      <td>1891</td>\n",
       "      <td>179</td>\n",
       "      <td>521</td>\n",
       "      <td>2308</td>\n",
       "      <td>4779</td>\n",
       "      <td>6407</td>\n",
       "      <td>https://images.gr-assets.com/books/1435195536m/12444298.jpg</td>\n",
       "      <td>https://images.gr-assets.com/books/1435195536s/12444298.jpg</td>\n",
       "      <td>to-read urban-fantasy fantasy paranormal favorites currently-reading romance paranormal-romance fae karen-marie-moning series adult read-in-2016 magic fever fiction fever-series library read-2016 kindle supernatural wish-list favorite-series fairies books-i-own to-buy 2016-reads owned alpha-male pnr audiobook faeries moning-karen-marie not-yet-released to-be-released fantasy-paranormal paranormal-fantasy audio adult-fiction uf 2016-releases part-of-a-series audible 2016-read ebook dnf dystopian dystopia audiobooks favourites dark post-apocalyptic ireland 2016-release sci-fi-fantasy favorite-authors mystery audio-books maybe 2016-books kick-ass-heroine ebooks pnr-uf fey read-in-2017 read-2017 need-to-buy urban favorite-author paranormal-urban-fantasy can-t-wait not-interested must-read new-adult series-to-finish next-in-series moning kmm adventure contemporary tbr romance-paranormal coming-soon 2016-favorites i-own favorite action sci-fi faerie january-2016 waiting-for-release series-fever faves e-book adult-fantasy horror 2016-reading-challenge shapeshifters fantasy-romance 2016-challenge</td>\n",
       "    </tr>\n",
       "    <tr>\n",
       "      <th>9982</th>\n",
       "      <td>9983</td>\n",
       "      <td>8539798</td>\n",
       "      <td>8539798</td>\n",
       "      <td>8097499</td>\n",
       "      <td>16</td>\n",
       "      <td>2849659266</td>\n",
       "      <td>9.782850e+12</td>\n",
       "      <td>Kazue Kato</td>\n",
       "      <td>2009.0</td>\n",
       "      <td>青の祓魔師 2</td>\n",
       "      <td>...</td>\n",
       "      <td>9859</td>\n",
       "      <td>153</td>\n",
       "      <td>32</td>\n",
       "      <td>152</td>\n",
       "      <td>1025</td>\n",
       "      <td>2479</td>\n",
       "      <td>6171</td>\n",
       "      <td>https://images.gr-assets.com/books/1278403940m/8539798.jpg</td>\n",
       "      <td>https://images.gr-assets.com/books/1278403940s/8539798.jpg</td>\n",
       "      <td>to-read manga mangá fantasy favorites currently-reading blue-exorcist owned graphic-novels supernatural young-adult books-i-own shounen read-manga demons mangas paranormal mangás comics graphic-novel manga-read series action manga-graphic-novels shonen anime fiction comics-manga manga-i-own shōnen library ya default urban-fantasy read-in-english comics-and-manga magic owned-books manga-comics owned-manga horror japanese manga-shounen kazue-kato re-read i-own teen read-in-2014 wish-list library-book manga-anime favourites my-books own-it read-in-2015 action-adventure read-2015 read-in-2013 angels-and-demons manga-to-read to-read-manga manga-and-comics manga-collection demon comics-graphic-novels mangas-comics manga-shonen adventure read-in-2016 to-buy 5-star read-in-2017 my-bookshelf 2015-reads humor angels-demons paperback comedy comic manga-and-graphic-novels graphic-novels-manga graphic-novels-and-manga manga-and-manhwa comic-manga graphic-novel-manga graphic-novels-comics manga-light-novels ed-arg ao-no-exorcist library-books read-2017 graphic favorite-mangas comic-books summer-2015 i-have books-read-in-2017 in-portuguese graphic-manga type-manga</td>\n",
       "    </tr>\n",
       "    <tr>\n",
       "      <th>9983</th>\n",
       "      <td>9984</td>\n",
       "      <td>764165</td>\n",
       "      <td>764165</td>\n",
       "      <td>1824318</td>\n",
       "      <td>39</td>\n",
       "      <td>140255087</td>\n",
       "      <td>9.780140e+12</td>\n",
       "      <td>Peter Matthiessen</td>\n",
       "      <td>1978.0</td>\n",
       "      <td>The Snow Leopard</td>\n",
       "      <td>...</td>\n",
       "      <td>9532</td>\n",
       "      <td>686</td>\n",
       "      <td>145</td>\n",
       "      <td>406</td>\n",
       "      <td>1586</td>\n",
       "      <td>3393</td>\n",
       "      <td>4002</td>\n",
       "      <td>https://images.gr-assets.com/books/1309211772m/764165.jpg</td>\n",
       "      <td>https://images.gr-assets.com/books/1309211772s/764165.jpg</td>\n",
       "      <td>to-read travel non-fiction favorites nature nonfiction memoir adventure philosophy currently-reading fiction buddhism biography animals religion nepal asia owned natural-history classics spirituality science books-i-own tibet memoirs travel-adventure nature-writing mountains travel-writing travelogue himalayas to-buy literature national-book-award library book-club spiritual environment biography-memoir science-nature wish-list history favourites default abandoned autobiography autobiography-memoir to-read-non-fiction travel-books memoir-biography zen wildlife mountaineering owned-books american 20th-century adventure-travel outdoors bookclub exploration 501-must-read-books my-library recommended to-read-nonfiction did-not-finish philosophy-religion non-fic anthropology science-and-nature adventure-books all-time-favorites my-books other american-literature adult non-fiction-to-read borrowed want-to-read unread 1970s nonfiction-to-read penguin-classics nature-science outside i-own audiobook novels kindle maybe next tbr nonfic books-to-buy around-the-world geography journalism cats prize-winner creative-non-fiction central-asia</td>\n",
       "    </tr>\n",
       "    <tr>\n",
       "      <th>9984</th>\n",
       "      <td>9985</td>\n",
       "      <td>19688</td>\n",
       "      <td>19688</td>\n",
       "      <td>17028947</td>\n",
       "      <td>24</td>\n",
       "      <td>425176932</td>\n",
       "      <td>9.780425e+12</td>\n",
       "      <td>Steve Perry, Tom Clancy, Steve Pieczenik</td>\n",
       "      <td>2000.0</td>\n",
       "      <td>Tom Clancy's Net Force: Breaking Point</td>\n",
       "      <td>...</td>\n",
       "      <td>7825</td>\n",
       "      <td>26</td>\n",
       "      <td>268</td>\n",
       "      <td>684</td>\n",
       "      <td>2349</td>\n",
       "      <td>2456</td>\n",
       "      <td>2068</td>\n",
       "      <td>https://s.gr-assets.com/assets/nophoto/book/111x148-bcc042a9c91a29c1d680899eff700a03.png</td>\n",
       "      <td>https://s.gr-assets.com/assets/nophoto/book/50x75-a91bf249278a81aabab721ef782c4a74.png</td>\n",
       "      <td>to-read tom-clancy fiction thriller owned currently-reading default clancy ebooks action calibre clancy-tom books-i-own library books mystery action-adventure thrillers sci-fi military adventure i-own ebook have suspense science-fiction espionage net-force owned-books e-books speculative-fiction have-to-read archive fiction-war steve-perry tom-clancy-net-force series kindle wish-list audio-books paperback unread science-fiction-and-fantasy 1 spy donated scanned books-owned military-fiction military-thriller techno-thriller other-fiction available author-tom-clancy espionnage netforce second-hand-books family mystery-thrillers thriller-crime world want-to-buy home wwii at-home all watched 0-owned selling got-it conseguir ebooks-to-read gave-away crime-and-thrillers box-2 my-physical-books roald-dahl on-e-reader lazylibrarian_have alpha-male-action box-in-trailer gonna-read-asap created-by-tom-clancy justin-books so-much-fun-i-had-to-read-it-again tom-clancy-net-force-series z-2000-pub _d library-of-payne espionage-to-read nate-s-shelf everything-else unread-books-i-own ken-s-books not-now have-not-yet-read tc-netforce to-read-owned-in-real-life _audiobooks vivek-booklist</td>\n",
       "    </tr>\n",
       "    <tr>\n",
       "      <th>9985</th>\n",
       "      <td>9986</td>\n",
       "      <td>183092</td>\n",
       "      <td>183092</td>\n",
       "      <td>176939</td>\n",
       "      <td>16</td>\n",
       "      <td>310257689</td>\n",
       "      <td>9.780310e+12</td>\n",
       "      <td>Terri Blackstock</td>\n",
       "      <td>2006.0</td>\n",
       "      <td>Night Light: A Restoration Novel</td>\n",
       "      <td>...</td>\n",
       "      <td>8862</td>\n",
       "      <td>218</td>\n",
       "      <td>96</td>\n",
       "      <td>172</td>\n",
       "      <td>1115</td>\n",
       "      <td>2658</td>\n",
       "      <td>4821</td>\n",
       "      <td>https://s.gr-assets.com/assets/nophoto/book/111x148-bcc042a9c91a29c1d680899eff700a03.png</td>\n",
       "      <td>https://s.gr-assets.com/assets/nophoto/book/50x75-a91bf249278a81aabab721ef782c4a74.png</td>\n",
       "      <td>to-read christian-fiction currently-reading christian fiction terri-blackstock favorites series mystery books-i-own default suspense audio kindle thriller audio-books inspirational dystopian christian-books owned audiobook romance contemporary religious post-apocalyptic christian-suspense christian-mystery library mystery-suspense adventure audiobooks contemporary-fiction need apocalyptic inspirational-fiction christianfiction restoration-series blackstock-terri blackstock my-books my-favorites shelfari-wishlist adult wish-list family ebooks adult-fiction science-fiction christian-novels restoration owned-books favorite read-again general-fiction mystery-thriller realistic-fiction thrillers tbr sci-fi borrowed want-to-read paperback purchased faith religious-fiction read-in-2009 to-read-christian read-in-2008 thriller-suspense already-read survival apocalypse end-of-the-world christian-inspirational series-books alabama read-in-the-past christian-inspirational-fiction terry-blackstock really-liked outdoors 2017-reading-challenge on-kindle dnf hard-copy fiction-general incomplete-series action-suspense own-but-not-read-yet ryan box-6 books-just-for-fun 2016-completed blackstock_terri christian-author owned-but-incomplete-series incredible zoe ky-unbound travel-agent-challenge-books-read</td>\n",
       "    </tr>\n",
       "    <tr>\n",
       "      <th>9986</th>\n",
       "      <td>9987</td>\n",
       "      <td>8087038</td>\n",
       "      <td>8087038</td>\n",
       "      <td>12823536</td>\n",
       "      <td>29</td>\n",
       "      <td>312651198</td>\n",
       "      <td>9.780313e+12</td>\n",
       "      <td>Iris Johansen</td>\n",
       "      <td>2010.0</td>\n",
       "      <td>Chasing The Night</td>\n",
       "      <td>...</td>\n",
       "      <td>10964</td>\n",
       "      <td>411</td>\n",
       "      <td>113</td>\n",
       "      <td>331</td>\n",
       "      <td>2127</td>\n",
       "      <td>3957</td>\n",
       "      <td>4436</td>\n",
       "      <td>https://s.gr-assets.com/assets/nophoto/book/111x148-bcc042a9c91a29c1d680899eff700a03.png</td>\n",
       "      <td>https://s.gr-assets.com/assets/nophoto/book/50x75-a91bf249278a81aabab721ef782c4a74.png</td>\n",
       "      <td>to-read iris-johansen mystery currently-reading suspense default fiction thriller series eve-duncan-series owned eve-duncan crime johansen-iris mystery-thriller books-i-own mystery-suspense johansen mysteries kindle thrillers romance library favorites romantic-suspense audio iris-johansen-eve-duncan contemporary have read-in-2011 ebooks owned-books i-own my-library ebook audible calibre suspense-thriller eve iris-johanson audiobook wish-list unread duncan my-books books to-buy home-library audio-books e-books adult-fiction women read-in-2010 paranormal supernatural adult crime-fiction audio-book read-2011 want 2011-books own-to-read mystery-suspense-thriller kidnapping catherine-ling-series iris adventure audiobooks detective mystery-crime first-reads read-in-2012 finished nook purchased 2011-reads hardcover anthropology thriller-mystery thriller-suspense character fictitious j investigation sculptors reconstruction facial done e-book bought 2013-books on-kindle kobo ibooks suspense-mystery to-listen 2016-books-read 10 iris-johansen-catherine-ling johansen-eve</td>\n",
       "    </tr>\n",
       "    <tr>\n",
       "      <th>9987</th>\n",
       "      <td>9988</td>\n",
       "      <td>129237</td>\n",
       "      <td>129237</td>\n",
       "      <td>1383130</td>\n",
       "      <td>44</td>\n",
       "      <td>674017722</td>\n",
       "      <td>9.780674e+12</td>\n",
       "      <td>John Rawls</td>\n",
       "      <td>1971.0</td>\n",
       "      <td>A Theory of Justice</td>\n",
       "      <td>...</td>\n",
       "      <td>9108</td>\n",
       "      <td>168</td>\n",
       "      <td>234</td>\n",
       "      <td>607</td>\n",
       "      <td>2001</td>\n",
       "      <td>3171</td>\n",
       "      <td>3095</td>\n",
       "      <td>https://s.gr-assets.com/assets/nophoto/book/111x148-bcc042a9c91a29c1d680899eff700a03.png</td>\n",
       "      <td>https://s.gr-assets.com/assets/nophoto/book/50x75-a91bf249278a81aabab721ef782c4a74.png</td>\n",
       "      <td>to-read philosophy currently-reading law classics politics ethics non-fiction political-science owned favorites to-buy political economics justice political-philosophy social-justice library partially-read academic default to-read-non-fiction political-theory english nonfiction to-read-nonfiction sociology theory to-read-philosophy phil liberalism books-i-own my-library american wish-list owned-books history philosophy-to-read politics-economics politica philosophy-political kindle home-library reference want filosofía philosophy-and-religion philosophy-books university legal philosophy-politics political-economy ebook maybe philosophie philo philosophy-theory filosofi filosofie home modern-library political-thought jurisprudence america non-fiction-to-read philosophy-religion religion-philosophy western-philosophy science 1970s united-states non-fic shelved society social-science nf social-sciences uni to-read-soon poli-sci morality to-read-2016 important economics-politics analytic-philosophy to-read-politics politik derecho harvard ppe politics-and-foreign-policy pol inequality econ1 unfinished required-reading summer-2016 law-school ivy found</td>\n",
       "    </tr>\n",
       "    <tr>\n",
       "      <th>9988</th>\n",
       "      <td>9989</td>\n",
       "      <td>13489518</td>\n",
       "      <td>13489518</td>\n",
       "      <td>19028216</td>\n",
       "      <td>9</td>\n",
       "      <td>NaN</td>\n",
       "      <td>2.940015e+12</td>\n",
       "      <td>Quinn Loftis</td>\n",
       "      <td>2012.0</td>\n",
       "      <td>Out of the Dark</td>\n",
       "      <td>...</td>\n",
       "      <td>13614</td>\n",
       "      <td>595</td>\n",
       "      <td>72</td>\n",
       "      <td>229</td>\n",
       "      <td>1263</td>\n",
       "      <td>3280</td>\n",
       "      <td>8770</td>\n",
       "      <td>https://images.gr-assets.com/books/1334785691m/13489518.jpg</td>\n",
       "      <td>https://images.gr-assets.com/books/1334785691s/13489518.jpg</td>\n",
       "      <td>to-read favorites currently-reading werewolves paranormal young-adult romance fantasy quinn-loftis ya wolves series paranormal-romance kindle shifters supernatural the-grey-wolves werewolf magic witches ebook grey-wolves shapeshifters favourites ebooks shifter the-grey-wolves-series books-i-own e-books fae fiction ya-paranormal nook owned owned-books favorite-books kindle-books read-in-2012 funny soulmates grey-wolves-series pnr favorite faeries wolf soul-mates library faves favorite-series loved ya-books fairies my-books 5-stars urban-fantasy to-buy amazing finished on-my-kindle lol teen favs favorite-authors read-in-2013 read-2012 new-adult paranormal-fantasy paranormal-ya weres shape-shifters werewolfs books-i-love all-time-favorites own-it contemporary book-boyfriends want-to-read 2012-reads fav ibooks have-read nook-books young-adult-paranormal prince-of-wolves warewolves loftis-quinn re-read books audio read-in-2014 5-star read-2015 calibre 1 alpha-male alpha-males already-read series-to-finish indie to-review</td>\n",
       "    </tr>\n",
       "    <tr>\n",
       "      <th>9989</th>\n",
       "      <td>9990</td>\n",
       "      <td>294081</td>\n",
       "      <td>294081</td>\n",
       "      <td>14081</td>\n",
       "      <td>40</td>\n",
       "      <td>140143912</td>\n",
       "      <td>9.780140e+12</td>\n",
       "      <td>Oscar Hijuelos</td>\n",
       "      <td>1989.0</td>\n",
       "      <td>The Mambo Kings Play Songs of Love</td>\n",
       "      <td>...</td>\n",
       "      <td>9776</td>\n",
       "      <td>421</td>\n",
       "      <td>374</td>\n",
       "      <td>836</td>\n",
       "      <td>2692</td>\n",
       "      <td>3513</td>\n",
       "      <td>2361</td>\n",
       "      <td>https://images.gr-assets.com/books/1330072994m/294081.jpg</td>\n",
       "      <td>https://images.gr-assets.com/books/1330072994s/294081.jpg</td>\n",
       "      <td>fiction pulitzer currently-reading pulitzer-prize pulitzer-prize-winners pulitzer-fiction pulitzer-winners pulitzers music cuba favorites to-read pulitzer-prize-fiction historical-fiction literature novels owned literary-fiction book-club pulitzer-prize-for-fiction books-i-own pulitzer-prize-winner new-york latin-america owned-books pulitzer-winner contemporary-fiction latino kindle american american-literature new-york-city caribbean latin-american library novel modern-fiction cuban classics to-buy contemporary american-lit to-read-fiction adult-fiction unfinished didn-t-finish book-group fiction-to-read pulitzer-fiction-winners pulitzer-project my-library usa literary american-fiction 20th-century gave-up-on nyc prize-winners award-winners latin-american-lit latin latino-lit pulitzer-winners-fiction default my-books wish-list historical e-book maybe movie mine award-winner immigrants prize-pulitzer pulitzer-prizes pulitzer-challenge pulitzers-to-read pulitzer-to-read bookshelf love adult americana family school lit recommended abandoned tbr couldn-t-finish i-own-a-copy read-in-2009 multicultural film fiction-and-literature award-winning award-pulitzer latina-o latino-a blogged pulitzer-books</td>\n",
       "    </tr>\n",
       "    <tr>\n",
       "      <th>9990</th>\n",
       "      <td>9991</td>\n",
       "      <td>101094</td>\n",
       "      <td>101094</td>\n",
       "      <td>1198275</td>\n",
       "      <td>37</td>\n",
       "      <td>385425139</td>\n",
       "      <td>9.780385e+12</td>\n",
       "      <td>Ben Okri</td>\n",
       "      <td>1991.0</td>\n",
       "      <td>The Famished Road</td>\n",
       "      <td>...</td>\n",
       "      <td>8875</td>\n",
       "      <td>586</td>\n",
       "      <td>465</td>\n",
       "      <td>815</td>\n",
       "      <td>2046</td>\n",
       "      <td>2895</td>\n",
       "      <td>2654</td>\n",
       "      <td>https://images.gr-assets.com/books/1344396715m/101094.jpg</td>\n",
       "      <td>https://images.gr-assets.com/books/1344396715s/101094.jpg</td>\n",
       "      <td>to-read currently-reading fiction africa magical-realism favorites man-booker-prize booker-prize fantasy nigeria booker-prize-winners booker man-booker african african-literature novels african-lit books-i-own literary-fiction contemporary magic-realism 20th-century man-booker-prize-winners abandoned classics to-buy booker-winners default owned novel booker-prize-winner library kindle owned-books literature nigerian general-fiction wish-list man-booker-winners bookers to-read-fiction did-not-finish booker-winner literary maybe unfinished postcolonial african-fiction adult adult-fiction book-club 1990s man-booker-prize-winner african-authors contemporary-fiction modern-fiction gave-up-on award-winner african-writers favourites my-library english fiction-to-read owned-to-read post-colonial world-lit all-time-favorites my-books own-it ebook school world didn-t-finish poc guardian-1000 prize-winners award-winners world-literature series i-own british non-fiction reviewed authors-of-color dnf unread stopped-reading to-read-owned cultural book-lust cultural-africa fiction-literature read-in-2015 shelfari-wishlist must-read politics netgalley twin-peaks shelved spirituality-religion</td>\n",
       "    </tr>\n",
       "    <tr>\n",
       "      <th>9991</th>\n",
       "      <td>9992</td>\n",
       "      <td>13616278</td>\n",
       "      <td>13616278</td>\n",
       "      <td>19217996</td>\n",
       "      <td>26</td>\n",
       "      <td>575113294</td>\n",
       "      <td>9.780575e+12</td>\n",
       "      <td>Miles  Cameron</td>\n",
       "      <td>2012.0</td>\n",
       "      <td>The Red Knight</td>\n",
       "      <td>...</td>\n",
       "      <td>10102</td>\n",
       "      <td>742</td>\n",
       "      <td>232</td>\n",
       "      <td>491</td>\n",
       "      <td>1375</td>\n",
       "      <td>3712</td>\n",
       "      <td>4292</td>\n",
       "      <td>https://images.gr-assets.com/books/1348037761m/13616278.jpg</td>\n",
       "      <td>https://images.gr-assets.com/books/1348037761s/13616278.jpg</td>\n",
       "      <td>fantasy to-read epic-fantasy favorites high-fantasy fiction dragons series owned to-read-fantasy to-buy fantasy-to-read maybe kindle did-not-finish wish-list magic books-i-own adventure sci-fi-fantasy fantasy-sci-fi library dnf ebook audiobooks epic adult war abandoned audiobook military owned-books historical-fiction favourites audible default on-hold first-in-series tbr-fantasy military-fantasy tbr historical-fantasy dark-fantasy fantasy-series fantasy-tbr interested-in the-traitor-son-cycle my-books scifi-fantasy read-in-2014 didn-t-finish to-read-owned new-series might-read grimdark to-read-soon unfinished-series medieval interested series-to-start really-want-to-read sword-and-sorcery miles-cameron books read-in-2016 to-read-fiction ebooks e-books to-get need-to-buy must-read calibre series-to-read adult-fantasy looks-interesting maybe-read dropped gritty-fantasy considering novels my-library novel fantasy-read audio-book read-2016 adult-fiction recommended unfinished science-fiction want-to-read want want-to-buy sci-fi-and-fantasy gave-up fiction-fantasy books-to-buy 1 need-to-get fantasy-high heroic-fantasy</td>\n",
       "    </tr>\n",
       "    <tr>\n",
       "      <th>9992</th>\n",
       "      <td>9993</td>\n",
       "      <td>4936457</td>\n",
       "      <td>4936457</td>\n",
       "      <td>5002120</td>\n",
       "      <td>27</td>\n",
       "      <td>224079948</td>\n",
       "      <td>9.780224e+12</td>\n",
       "      <td>Ian Mortimer</td>\n",
       "      <td>2008.0</td>\n",
       "      <td>The Time-Traveller's Guide to Medieval England: A Handbook for Visitors to the Fourteenth Century</td>\n",
       "      <td>...</td>\n",
       "      <td>12115</td>\n",
       "      <td>970</td>\n",
       "      <td>236</td>\n",
       "      <td>521</td>\n",
       "      <td>2497</td>\n",
       "      <td>4790</td>\n",
       "      <td>4071</td>\n",
       "      <td>https://images.gr-assets.com/books/1328167619m/4936457.jpg</td>\n",
       "      <td>https://images.gr-assets.com/books/1328167619s/4936457.jpg</td>\n",
       "      <td>to-read history non-fiction currently-reading nonfiction medieval historical england favorites books-i-own to-buy owned british-history medieval-history travel library reference middle-ages wish-list 14th-century default english-history time-travel european-history to-read-nonfiction audiobook historical-fiction historical-non-fiction kindle to-read-history research british britain history-medieval audiobooks my-library adult to-read-non-fiction history-non-fiction nonfiction-history europe fiction owned-books english maybe uk abandoned did-not-finish non-fiction-history audio social-history my-books non-fic culture cultural-history ebook audible read-in-2012 history-to-read ebooks audio-book unfinished non-fiction-to-read london fantasy read-in-2015 library-books nonfic history-nonfiction favourites i-own read-in-2013 read-2012 need-to-buy humour history-biography nonfiction-to-read factual own-it read-in-2014 read-in-2017 other 21st-century audio-books read-2015 book-club on-hold unread 1 owned-to-read brit-lit interested world-history history-books great-britain general-history do-not-own história anglophilia tbr-non-fiction</td>\n",
       "    </tr>\n",
       "    <tr>\n",
       "      <th>9993</th>\n",
       "      <td>9994</td>\n",
       "      <td>4769651</td>\n",
       "      <td>4769651</td>\n",
       "      <td>4834466</td>\n",
       "      <td>2</td>\n",
       "      <td>810983559</td>\n",
       "      <td>9.780811e+12</td>\n",
       "      <td>Michael Buckley, Peter Ferguson</td>\n",
       "      <td>2009.0</td>\n",
       "      <td>The Everafter War (The Sisters Grimm, #7)</td>\n",
       "      <td>...</td>\n",
       "      <td>12965</td>\n",
       "      <td>455</td>\n",
       "      <td>110</td>\n",
       "      <td>289</td>\n",
       "      <td>1745</td>\n",
       "      <td>3989</td>\n",
       "      <td>6832</td>\n",
       "      <td>https://images.gr-assets.com/books/1388278230m/4769651.jpg</td>\n",
       "      <td>https://images.gr-assets.com/books/1388278230s/4769651.jpg</td>\n",
       "      <td>to-read fantasy favorites fairy-tales currently-reading series mystery fiction sisters-grimm young-adult childrens adventure books-i-own middle-grade magic children-s kids ya fairy-tale children the-sisters-grimm owned fairytale juvenile children-s-books juvenile-fiction fairytales kids-books michael-buckley library to-buy fairy-tale-retellings re-read childrens-books family audio childhood audiobooks retellings audiobook childhood-books middle-school 5-stars favourites my-books favorite detective retelling sci-fi-fantasy all-time-favorites default own-it favorite-series youth audio-books humor fairies owned-books i-own want-to-own funny fractured-fairy-tales favorite-books fantasy-sci-fi urban-fantasy books scifi-fantasy faves shelfari-favorites romance childhood-favorites dragons action-adventure childhood-reads read-aloud childrens-fiction chapter-books library-book kid-books war childrens-fantasy children-fiction read-in-2010 modern-fantasy hardcover middle-grades junior-fiction girl-power faeries best-books-ever fairytale-retelling grimm sister-s-grimm ebook have need-to-buy books-i-have elementary-school tween betrayal</td>\n",
       "    </tr>\n",
       "    <tr>\n",
       "      <th>9994</th>\n",
       "      <td>9995</td>\n",
       "      <td>15613</td>\n",
       "      <td>15613</td>\n",
       "      <td>2764239</td>\n",
       "      <td>199</td>\n",
       "      <td>1416523723</td>\n",
       "      <td>9.781417e+12</td>\n",
       "      <td>Herman Melville</td>\n",
       "      <td>1924.0</td>\n",
       "      <td>Billy Budd, Sailor</td>\n",
       "      <td>...</td>\n",
       "      <td>12110</td>\n",
       "      <td>681</td>\n",
       "      <td>1478</td>\n",
       "      <td>2225</td>\n",
       "      <td>3805</td>\n",
       "      <td>2985</td>\n",
       "      <td>1617</td>\n",
       "      <td>https://s.gr-assets.com/assets/nophoto/book/111x148-bcc042a9c91a29c1d680899eff700a03.png</td>\n",
       "      <td>https://s.gr-assets.com/assets/nophoto/book/50x75-a91bf249278a81aabab721ef782c4a74.png</td>\n",
       "      <td>to-read classics fiction literature classic 1001-books historical-fiction owned american-literature american novels 1001 19th-century favorites currently-reading school american-lit 1001-books-to-read-before-you-die books-i-own short-stories novel 1001-import classic-literature read-for-school historical adventure high-school classic-lit 1001-to-read novella library for-school 1001-books-you-must-read-before-you 1001-books-to-read literary-fiction melville american-classics school-books classic-fiction nautical short-classics default audiobook english usa literary adult wish-list college ap-lit required-reading to-buy general-fiction maritime literature-american herman-melville ror my-library history adult-fiction 1900s book-club novellas sea audiobooks ebook america read-in-school school-reads to-read-classics did-not-finish queer law sea-stories classics-american law-school owned-books audio have american-fiction to-read-fiction americana audio-books read-in-2012 lit 1001-list short-story short gay 1920s classici the-sea 19th-century-american read-in-2017 narrativa audible read-2017 uni easton-press challenge-1</td>\n",
       "    </tr>\n",
       "    <tr>\n",
       "      <th>9995</th>\n",
       "      <td>9996</td>\n",
       "      <td>7130616</td>\n",
       "      <td>7130616</td>\n",
       "      <td>7392860</td>\n",
       "      <td>19</td>\n",
       "      <td>441019455</td>\n",
       "      <td>9.780441e+12</td>\n",
       "      <td>Ilona Andrews</td>\n",
       "      <td>2010.0</td>\n",
       "      <td>Bayou Moon</td>\n",
       "      <td>...</td>\n",
       "      <td>18856</td>\n",
       "      <td>1180</td>\n",
       "      <td>105</td>\n",
       "      <td>575</td>\n",
       "      <td>3538</td>\n",
       "      <td>7860</td>\n",
       "      <td>6778</td>\n",
       "      <td>https://images.gr-assets.com/books/1307445460m/7130616.jpg</td>\n",
       "      <td>https://images.gr-assets.com/books/1307445460s/7130616.jpg</td>\n",
       "      <td>to-read urban-fantasy fantasy romance paranormal paranormal-romance favorites magic currently-reading ilona-andrews series shapeshifters shifters fiction pnr adult audiobook owned kindle supernatural library ebook uf the-edge werewolves audio books-i-own read-in-2011 default fantasy-romance audiobooks contemporary sci-fi-fantasy adventure favourites shapeshifter ebooks witches urban e-book pnr-uf shifter favorite-series action read-in-2010 read-in-2012 fantasy-paranormal paranormal-urban-fantasy favorite-authors kick-ass-heroine shape-shifters andrews-ilona read-in-2014 part-of-a-series audible fantasy-urban romance-paranormal mystery audio-book 5-stars wish-list e-books sci-fi m-f favorite-author werewolf scifi-fantasy action-adventure family 4-stars weres re-read favorite to-buy read-in-2013 adult-fiction reviewed nook all-time-favorites own-it read-in-2017 read-2015 funny contemporary-fantasy alpha-male andrews the-edge-series owned-books fantasy-sci-fi read-in-2015 read-2014 read-2016 2013-reads dnf calibre modern-fantasy paranormal-fantasy uf-pnr kick-ass-heroines shape-shifter</td>\n",
       "    </tr>\n",
       "    <tr>\n",
       "      <th>9996</th>\n",
       "      <td>9997</td>\n",
       "      <td>208324</td>\n",
       "      <td>208324</td>\n",
       "      <td>1084709</td>\n",
       "      <td>19</td>\n",
       "      <td>067973371X</td>\n",
       "      <td>9.780680e+12</td>\n",
       "      <td>Robert A. Caro</td>\n",
       "      <td>1990.0</td>\n",
       "      <td>Means of Ascent</td>\n",
       "      <td>...</td>\n",
       "      <td>12952</td>\n",
       "      <td>395</td>\n",
       "      <td>303</td>\n",
       "      <td>551</td>\n",
       "      <td>1737</td>\n",
       "      <td>3389</td>\n",
       "      <td>6972</td>\n",
       "      <td>https://s.gr-assets.com/assets/nophoto/book/111x148-bcc042a9c91a29c1d680899eff700a03.png</td>\n",
       "      <td>https://s.gr-assets.com/assets/nophoto/book/50x75-a91bf249278a81aabab721ef782c4a74.png</td>\n",
       "      <td>to-read biography history politics non-fiction currently-reading american-history presidents nonfiction favorites biographies us-presidents owned presidential-biographies biography-memoir us-history political audible hist texas bio default audiobook audio presidential presidential-biography political-history lbj owned-books biography-autobiography history-biography american-presidents library kindle bios political-biography books-i-own audiobooks 20th-century to-read-nonfiction political-science series my-library american usa historical u-s-history u-s-presidents president my-books to-buy ebook america memoir-biography memoir-bio unread history-american presidential-history presidential-bios journalism government biography-history hist-usa american-politics caro favourites classics bookshelf shelfari-wishlist americana audio-books non-fiction-to-read war bio-memoir want calibre leadership non-fiction-history united-states history-to-read history-and-biography do-not-own 1990 united ryan-holiday pleasure politics-and-foreign-policy the-years-of-lyndon-johnson lyndon-johnson history-united-states library-books read-2016 read-2017 biography-memoirs part-of-series to-read-biographies books-in-library fdr presidential-series history-america</td>\n",
       "    </tr>\n",
       "    <tr>\n",
       "      <th>9997</th>\n",
       "      <td>9998</td>\n",
       "      <td>77431</td>\n",
       "      <td>77431</td>\n",
       "      <td>2393986</td>\n",
       "      <td>60</td>\n",
       "      <td>039330762X</td>\n",
       "      <td>9.780393e+12</td>\n",
       "      <td>Patrick O'Brian</td>\n",
       "      <td>1977.0</td>\n",
       "      <td>The Mauritius Command</td>\n",
       "      <td>...</td>\n",
       "      <td>10733</td>\n",
       "      <td>374</td>\n",
       "      <td>11</td>\n",
       "      <td>111</td>\n",
       "      <td>1191</td>\n",
       "      <td>4240</td>\n",
       "      <td>5180</td>\n",
       "      <td>https://images.gr-assets.com/books/1455373531m/77431.jpg</td>\n",
       "      <td>https://images.gr-assets.com/books/1455373531s/77431.jpg</td>\n",
       "      <td>to-read historical-fiction fiction historical currently-reading aubrey-maturin adventure owned nautical favorites patrick-o-brian history war naval age-of-sail audiobook audiobooks default series military nautical-fiction napoleonic books-i-own library naval-fiction sea sea-stories napoleonic-wars british audio literature fiction-historical o-brian kindle maritime sailing classics novels ebook general-fiction seafaring aubrey-maturin-series action historic-fiction favourites england audio-books navy novel historical-novels own-it action-adventure ebooks calibre 19th-century master-and-commander my-books my-library lit historical-novel the-sea napoleonic-era reread 2004 20th-century listened-to historicalfiction military-fiction regency patrick-o-brien aubreyad jack-aubrey owned-books re-read all-time-favorites contemporary-fiction audio-book e-books stories unread 2006 wars britain to-read-historical-fiction century jack stephen great avventura series-aubrey-maturin aubrey maturin read-in-2015 shelfari-favorites to-buy read-in-2013 historical-fic to-read-series war-military master-commander</td>\n",
       "    </tr>\n",
       "    <tr>\n",
       "      <th>9998</th>\n",
       "      <td>9999</td>\n",
       "      <td>8565083</td>\n",
       "      <td>8565083</td>\n",
       "      <td>13433613</td>\n",
       "      <td>7</td>\n",
       "      <td>61711527</td>\n",
       "      <td>9.780062e+12</td>\n",
       "      <td>Peggy Orenstein</td>\n",
       "      <td>2011.0</td>\n",
       "      <td>Cinderella Ate My Daughter: Dispatches from the Frontlines of the New Girlie-Girl Culture</td>\n",
       "      <td>...</td>\n",
       "      <td>11994</td>\n",
       "      <td>1988</td>\n",
       "      <td>275</td>\n",
       "      <td>1002</td>\n",
       "      <td>3765</td>\n",
       "      <td>4577</td>\n",
       "      <td>2375</td>\n",
       "      <td>https://images.gr-assets.com/books/1279214118m/8565083.jpg</td>\n",
       "      <td>https://images.gr-assets.com/books/1279214118s/8565083.jpg</td>\n",
       "      <td>to-read non-fiction nonfiction parenting feminism sociology psychology currently-reading feminist gender favorites book-club adult library women kindle women-s-studies gender-studies read-in-2011 pop-culture culture ebook memoir read-in-2012 books-i-own audiobooks to-read-non-fiction womens-studies family social-commentary wish-list to-read-nonfiction social-issues to-buy contemporary nonfic owned memoirs education non-fic audiobook read-in-2013 humor motherhood adult-nonfiction adult-non-fiction girl-power girls feminist-lit read-in-2016 library-books ebooks read-2011 nook female-authors consumerism parenthood read-in-2014 abandoned social-justice bookclub 2012-reads society research women-s-issues audio-books history e-books library-book non-fiction-to-read politics 2013-reads 2012-books book-club-books essays 2011-reads nonfiction-to-read child-development parenting-books children kids audio female-author read-2014 maybe recommended unfinished chick-lit 2011-books baby social-science social-sciences sexuality feminist-non-fiction read-2013 read-2012 for-school on-hold gave-up-on girlhood</td>\n",
       "    </tr>\n",
       "    <tr>\n",
       "      <th>9999</th>\n",
       "      <td>10000</td>\n",
       "      <td>8914</td>\n",
       "      <td>8914</td>\n",
       "      <td>11817</td>\n",
       "      <td>31</td>\n",
       "      <td>375700455</td>\n",
       "      <td>9.780376e+12</td>\n",
       "      <td>John Keegan</td>\n",
       "      <td>1998.0</td>\n",
       "      <td>The First World War</td>\n",
       "      <td>...</td>\n",
       "      <td>9700</td>\n",
       "      <td>364</td>\n",
       "      <td>117</td>\n",
       "      <td>345</td>\n",
       "      <td>2031</td>\n",
       "      <td>4138</td>\n",
       "      <td>3069</td>\n",
       "      <td>https://images.gr-assets.com/books/1403194704m/8914.jpg</td>\n",
       "      <td>https://images.gr-assets.com/books/1403194704s/8914.jpg</td>\n",
       "      <td>to-read history currently-reading non-fiction military-history war wwi world-war-i military nonfiction ww1 world-war-1 owned european-history hist world-history world-war-one first-world-war default favorites books-i-own politics historical history-military europe ww-i library to-read-history to-buy history-european germany american-history warfare owned-books 20th-century france my-library reference abandoned history-wwi english ebook wish-list world non-fiction-to-read history-biography history-books history-to-read general-history modern-history history-ww1 ww-1 my-books home-library british-history great-war war-military england to-read-nonfiction on-hold want-to-read us-history russia historia the-great-war 20th-century-history it-wikipedia histoire german-history audiobook kindle have to-read-non-fiction unfinished military-war britain history-nonfiction french-history history-europe history-war i storia geschiedenis john-keegan other historical-fiction ebooks biography book-collection did-not-finish stopped-reading scanned histories nonfiction-history international-relations history-politics world-war war-ww1 modern-european-history wwi-general</td>\n",
       "    </tr>\n",
       "  </tbody>\n",
       "</table>\n",
       "<p>10000 rows × 24 columns</p>\n",
       "</div>"
      ],
      "text/plain": [
       "      book_id  goodreads_book_id  best_book_id   work_id  books_count  \\\n",
       "0     1        2767052            2767052       2792775   272           \n",
       "1     2        3                  3             4640799   491           \n",
       "2     3        41865              41865         3212258   226           \n",
       "3     4        2657               2657          3275794   487           \n",
       "4     5        4671               4671          245494    1356          \n",
       "5     6        11870085           11870085      16827462  226           \n",
       "6     7        5907               5907          1540236   969           \n",
       "7     8        5107               5107          3036731   360           \n",
       "8     9        960                960           3338963   311           \n",
       "9     10       1885               1885          3060926   3455          \n",
       "10    11       77203              77203         3295919   283           \n",
       "11    12       13335037           13335037      13155899  210           \n",
       "12    13       5470               5470          153313    995           \n",
       "13    14       7613               7613          2207778   896           \n",
       "14    15       48855              48855         3532896   710           \n",
       "15    16       2429135            2429135       1708725   274           \n",
       "16    17       6148028            6148028       6171458   201           \n",
       "17    18       5                  5             2402163   376           \n",
       "18    19       34                 34            3204327   566           \n",
       "19    20       7260188            7260188       8812783   239           \n",
       "20    21       2                  2             2809203   307           \n",
       "21    22       12232938           12232938      1145090   183           \n",
       "22    23       15881              15881         6231171   398           \n",
       "23    24       6                  6             3046572   332           \n",
       "24    25       136251             136251        2963218   263           \n",
       "25    26       968                968           2982101   350           \n",
       "26    27       1                  1             41335427  275           \n",
       "27    28       7624               7624          2766512   458           \n",
       "28    29       18135              18135         3349450   1937          \n",
       "29    30       8442457            19288043      13306276  196           \n",
       "...   ..           ...                 ...           ...  ...           \n",
       "9970  9971     12602078           25781538      17617275  8             \n",
       "9971  9972     4984               4984          6558445   28            \n",
       "9972  9973     849380             849380        4370      52            \n",
       "9973  9974     116494             116494        827585    38            \n",
       "9974  9975     613991             613991        835285    40            \n",
       "9975  9976     6351939            6351939       6538518   24            \n",
       "9976  9977     202948             202948        851165    55            \n",
       "9977  9978     162332             162332        880874    70            \n",
       "9978  9979     16951              16951         891697    57            \n",
       "9979  9980     946899             946899        88345     11            \n",
       "9980  9981     106312             106312        29083     58            \n",
       "9981  9982     12444298           12444298      21900571  1             \n",
       "9982  9983     8539798            8539798       8097499   16            \n",
       "9983  9984     764165             764165        1824318   39            \n",
       "9984  9985     19688              19688         17028947  24            \n",
       "9985  9986     183092             183092        176939    16            \n",
       "9986  9987     8087038            8087038       12823536  29            \n",
       "9987  9988     129237             129237        1383130   44            \n",
       "9988  9989     13489518           13489518      19028216  9             \n",
       "9989  9990     294081             294081        14081     40            \n",
       "9990  9991     101094             101094        1198275   37            \n",
       "9991  9992     13616278           13616278      19217996  26            \n",
       "9992  9993     4936457            4936457       5002120   27            \n",
       "9993  9994     4769651            4769651       4834466   2             \n",
       "9994  9995     15613              15613         2764239   199           \n",
       "9995  9996     7130616            7130616       7392860   19            \n",
       "9996  9997     208324             208324        1084709   19            \n",
       "9997  9998     77431              77431         2393986   60            \n",
       "9998  9999     8565083            8565083       13433613  7             \n",
       "9999  10000    8914               8914          11817     31            \n",
       "\n",
       "            isbn        isbn13  \\\n",
       "0     439023483   9.780439e+12   \n",
       "1     439554934   9.780440e+12   \n",
       "2     316015849   9.780316e+12   \n",
       "3     61120081    9.780061e+12   \n",
       "4     743273567   9.780743e+12   \n",
       "5     525478817   9.780525e+12   \n",
       "6     618260307   9.780618e+12   \n",
       "7     316769177   9.780317e+12   \n",
       "8     1416524797  9.781417e+12   \n",
       "9     679783261   9.780680e+12   \n",
       "10    1594480001  9.781594e+12   \n",
       "11    62024035    9.780062e+12   \n",
       "12    451524934   9.780452e+12   \n",
       "13    452284244   9.780452e+12   \n",
       "14    553296981   9.780553e+12   \n",
       "15    307269752   9.780307e+12   \n",
       "16    439023491   9.780439e+12   \n",
       "17    043965548X  9.780440e+12   \n",
       "18    618346252   9.780618e+12   \n",
       "19    439023513   9.780439e+12   \n",
       "20    439358078   9.780439e+12   \n",
       "21    316166685   9.780316e+12   \n",
       "22    439064864   9.780439e+12   \n",
       "23    439139600   9.780439e+12   \n",
       "24    545010225   9.780545e+12   \n",
       "25    307277674   9.780307e+12   \n",
       "26    439785960   9.780440e+12   \n",
       "27    140283331   9.780140e+12   \n",
       "28    743477111   9.780743e+12   \n",
       "29    297859382   9.780298e+12   \n",
       "...         ...            ...   \n",
       "9970  NaN        NaN             \n",
       "9971  99282968    9.780099e+12   \n",
       "9972  609805797   9.780610e+12   \n",
       "9973  553153382   9.780553e+12   \n",
       "9974  1857236653  9.781857e+12   \n",
       "9975  778325806   9.780778e+12   \n",
       "9976  804113475   9.780804e+12   \n",
       "9977  679750150   9.780680e+12   \n",
       "9978  312940661   9.780313e+12   \n",
       "9979  764200739   9.780764e+12   \n",
       "9980  739455834   9.780739e+12   \n",
       "9981  385344422   9.780385e+12   \n",
       "9982  2849659266  9.782850e+12   \n",
       "9983  140255087   9.780140e+12   \n",
       "9984  425176932   9.780425e+12   \n",
       "9985  310257689   9.780310e+12   \n",
       "9986  312651198   9.780313e+12   \n",
       "9987  674017722   9.780674e+12   \n",
       "9988  NaN         2.940015e+12   \n",
       "9989  140143912   9.780140e+12   \n",
       "9990  385425139   9.780385e+12   \n",
       "9991  575113294   9.780575e+12   \n",
       "9992  224079948   9.780224e+12   \n",
       "9993  810983559   9.780811e+12   \n",
       "9994  1416523723  9.781417e+12   \n",
       "9995  441019455   9.780441e+12   \n",
       "9996  067973371X  9.780680e+12   \n",
       "9997  039330762X  9.780393e+12   \n",
       "9998  61711527    9.780062e+12   \n",
       "9999  375700455   9.780376e+12   \n",
       "\n",
       "                                                     authors  \\\n",
       "0     Suzanne Collins                                          \n",
       "1     J.K. Rowling, Mary GrandPré                              \n",
       "2     Stephenie Meyer                                          \n",
       "3     Harper Lee                                               \n",
       "4     F. Scott Fitzgerald                                      \n",
       "5     John Green                                               \n",
       "6     J.R.R. Tolkien                                           \n",
       "7     J.D. Salinger                                            \n",
       "8     Dan Brown                                                \n",
       "9     Jane Austen                                              \n",
       "10    Khaled Hosseini                                          \n",
       "11    Veronica Roth                                            \n",
       "12    George Orwell, Erich Fromm, Celâl Üster                  \n",
       "13    George Orwell                                            \n",
       "14    Anne Frank, Eleanor Roosevelt, B.M. Mooyaart-Doubleday   \n",
       "15    Stieg Larsson, Reg Keeland                               \n",
       "16    Suzanne Collins                                          \n",
       "17    J.K. Rowling, Mary GrandPré, Rufus Beck                  \n",
       "18    J.R.R. Tolkien                                           \n",
       "19    Suzanne Collins                                          \n",
       "20    J.K. Rowling, Mary GrandPré                              \n",
       "21    Alice Sebold                                             \n",
       "22    J.K. Rowling, Mary GrandPré                              \n",
       "23    J.K. Rowling, Mary GrandPré                              \n",
       "24    J.K. Rowling, Mary GrandPré                              \n",
       "25    Dan Brown                                                \n",
       "26    J.K. Rowling, Mary GrandPré                              \n",
       "27    William Golding                                          \n",
       "28    William Shakespeare, Robert           Jackson            \n",
       "29    Gillian Flynn                                            \n",
       "...             ...                                            \n",
       "9970  Melody Anne                                              \n",
       "9971  Kurt Vonnegut Jr.                                        \n",
       "9972  John M. Gottman, Nan Silver                              \n",
       "9973  Lois Lowry                                               \n",
       "9974  David Gemmell                                            \n",
       "9975  Maria V. Snyder                                          \n",
       "9976  Anne Tyler                                               \n",
       "9977  Yukio Mishima, John Nathan                               \n",
       "9978  Wilbur Smith                                             \n",
       "9979  Deeanne Gist                                             \n",
       "9980  Jeffery Deaver                                           \n",
       "9981  Karen Marie Moning                                       \n",
       "9982  Kazue Kato                                               \n",
       "9983  Peter Matthiessen                                        \n",
       "9984  Steve Perry, Tom Clancy, Steve Pieczenik                 \n",
       "9985  Terri Blackstock                                         \n",
       "9986  Iris Johansen                                            \n",
       "9987  John Rawls                                               \n",
       "9988  Quinn Loftis                                             \n",
       "9989  Oscar Hijuelos                                           \n",
       "9990  Ben Okri                                                 \n",
       "9991  Miles  Cameron                                           \n",
       "9992  Ian Mortimer                                             \n",
       "9993  Michael Buckley, Peter Ferguson                          \n",
       "9994  Herman Melville                                          \n",
       "9995  Ilona Andrews                                            \n",
       "9996  Robert A. Caro                                           \n",
       "9997  Patrick O'Brian                                          \n",
       "9998  Peggy Orenstein                                          \n",
       "9999  John Keegan                                              \n",
       "\n",
       "      original_publication_year  \\\n",
       "0     2008.0                      \n",
       "1     1997.0                      \n",
       "2     2005.0                      \n",
       "3     1960.0                      \n",
       "4     1925.0                      \n",
       "5     2012.0                      \n",
       "6     1937.0                      \n",
       "7     1951.0                      \n",
       "8     2000.0                      \n",
       "9     1813.0                      \n",
       "10    2003.0                      \n",
       "11    2011.0                      \n",
       "12    1949.0                      \n",
       "13    1945.0                      \n",
       "14    1947.0                      \n",
       "15    2005.0                      \n",
       "16    2009.0                      \n",
       "17    1999.0                      \n",
       "18    1954.0                      \n",
       "19    2010.0                      \n",
       "20    2003.0                      \n",
       "21    2002.0                      \n",
       "22    1998.0                      \n",
       "23    2000.0                      \n",
       "24    2007.0                      \n",
       "25    2003.0                      \n",
       "26    2005.0                      \n",
       "27    1954.0                      \n",
       "28    1595.0                      \n",
       "29    2012.0                      \n",
       "...      ...                      \n",
       "9970  2011.0                      \n",
       "9971  1999.0                      \n",
       "9972  1999.0                      \n",
       "9973  1978.0                      \n",
       "9974  1985.0                      \n",
       "9975  2009.0                      \n",
       "9976  1995.0                      \n",
       "9977  1963.0                      \n",
       "9978  1964.0                      \n",
       "9979  2006.0                      \n",
       "9980  2005.0                      \n",
       "9981  2016.0                      \n",
       "9982  2009.0                      \n",
       "9983  1978.0                      \n",
       "9984  2000.0                      \n",
       "9985  2006.0                      \n",
       "9986  2010.0                      \n",
       "9987  1971.0                      \n",
       "9988  2012.0                      \n",
       "9989  1989.0                      \n",
       "9990  1991.0                      \n",
       "9991  2012.0                      \n",
       "9992  2008.0                      \n",
       "9993  2009.0                      \n",
       "9994  1924.0                      \n",
       "9995  2010.0                      \n",
       "9996  1990.0                      \n",
       "9997  1977.0                      \n",
       "9998  2011.0                      \n",
       "9999  1998.0                      \n",
       "\n",
       "                                                                                                        original_title  \\\n",
       "0     The Hunger Games                                                                                                   \n",
       "1     Harry Potter and the Philosopher's Stone                                                                           \n",
       "2     Twilight                                                                                                           \n",
       "3     To Kill a Mockingbird                                                                                              \n",
       "4     The Great Gatsby                                                                                                   \n",
       "5     The Fault in Our Stars                                                                                             \n",
       "6     The Hobbit or There and Back Again                                                                                 \n",
       "7     The Catcher in the Rye                                                                                             \n",
       "8     Angels & Demons                                                                                                    \n",
       "9     Pride and Prejudice                                                                                                \n",
       "10    The Kite Runner                                                                                                    \n",
       "11    Divergent                                                                                                          \n",
       "12    Nineteen Eighty-Four                                                                                               \n",
       "13    Animal Farm: A Fairy Story                                                                                         \n",
       "14    Het Achterhuis: Dagboekbrieven 14 juni 1942 - 1 augustus 1944                                                      \n",
       "15    Män som hatar kvinnor                                                                                              \n",
       "16    Catching Fire                                                                                                      \n",
       "17    Harry Potter and the Prisoner of Azkaban                                                                           \n",
       "18     The Fellowship of the Ring                                                                                        \n",
       "19    Mockingjay                                                                                                         \n",
       "20    Harry Potter and the Order of the Phoenix                                                                          \n",
       "21    The Lovely Bones                                                                                                   \n",
       "22    Harry Potter and the Chamber of Secrets                                                                            \n",
       "23    Harry Potter and the Goblet of Fire                                                                                \n",
       "24    Harry Potter and the Deathly Hallows                                                                               \n",
       "25    The Da Vinci Code                                                                                                  \n",
       "26    Harry Potter and the Half-Blood Prince                                                                             \n",
       "27    Lord of the Flies                                                                                                  \n",
       "28    An Excellent conceited Tragedie of Romeo and Juliet                                                                \n",
       "29    Gone Girl                                                                                                          \n",
       "...         ...                                                                                                          \n",
       "9970  NaN                                                                                                                \n",
       "9971  Bagombo Snuff Box                                                                                                  \n",
       "9972  The Seven Principles for Making Marriage Work: A Practical Guide from the Country's Foremost Relationship Expert   \n",
       "9973  Anastasia Krupnik                                                                                                  \n",
       "9974  The King Beyond the Gate                                                                                           \n",
       "9975  Sea Glass                                                                                                          \n",
       "9976  Ladder of Years                                                                                                    \n",
       "9977  午後の曳航 [Gogo no eikō]                                                                                               \n",
       "9978  When the Lion Feeds                                                                                                \n",
       "9979  The Measure of a Lady                                                                                              \n",
       "9980  The Twelfth Card                                                                                                   \n",
       "9981  Feverborn                                                                                                          \n",
       "9982  青の祓魔師 2                                                                                                            \n",
       "9983  The Snow Leopard                                                                                                   \n",
       "9984  Tom Clancy's Net Force: Breaking Point                                                                             \n",
       "9985  Night Light: A Restoration Novel                                                                                   \n",
       "9986  Chasing The Night                                                                                                  \n",
       "9987  A Theory of Justice                                                                                                \n",
       "9988  Out of the Dark                                                                                                    \n",
       "9989  The Mambo Kings Play Songs of Love                                                                                 \n",
       "9990  The Famished Road                                                                                                  \n",
       "9991  The Red Knight                                                                                                     \n",
       "9992  The Time-Traveller's Guide to Medieval England: A Handbook for Visitors to the Fourteenth Century                  \n",
       "9993  The Everafter War (The Sisters Grimm, #7)                                                                          \n",
       "9994  Billy Budd, Sailor                                                                                                 \n",
       "9995  Bayou Moon                                                                                                         \n",
       "9996  Means of Ascent                                                                                                    \n",
       "9997  The Mauritius Command                                                                                              \n",
       "9998  Cinderella Ate My Daughter: Dispatches from the Frontlines of the New Girlie-Girl Culture                          \n",
       "9999  The First World War                                                                                                \n",
       "\n",
       "                                                                                                                                                                                                                                                                                                                                                                                                                                                                                                                                                                                                                                                                                 ...                                                                                                                                                                                                                                                                                                                                                                                                                                                                                                                                                                                                                                                                              \\\n",
       "0                                                                                                                                                                                                                                                                                                                                                                                                                                                                                                                                                                                                                                                                                ...                                                                                                                                                                                                                                                                                                                                                                                                                                                                                                                                                                                                                                                                               \n",
       "1                                                                                                                                                                                                                                                                                                                                                                                                                                                                                                                                                                                                                                                                                ...                                                                                                                                                                                                                                                                                                                                                                                                                                                                                                                                                                                                                                                                               \n",
       "2                                                                                                                                                                                                                                                                                                                                                                                                                                                                                                                                                                                                                                                                                ...                                                                                                                                                                                                                                                                                                                                                                                                                                                                                                                                                                                                                                                                               \n",
       "3                                                                                                                                                                                                                                                                                                                                                                                                                                                                                                                                                                                                                                                                                ...                                                                                                                                                                                                                                                                                                                                                                                                                                                                                                                                                                                                                                                                               \n",
       "4                                                                                                                                                                                                                                                                                                                                                                                                                                                                                                                                                                                                                                                                                ...                                                                                                                                                                                                                                                                                                                                                                                                                                                                                                                                                                                                                                                                               \n",
       "5                                                                                                                                                                                                                                                                                                                                                                                                                                                                                                                                                                                                                                                                                ...                                                                                                                                                                                                                                                                                                                                                                                                                                                                                                                                                                                                                                                                               \n",
       "6                                                                                                                                                                                                                                                                                                                                                                                                                                                                                                                                                                                                                                                                                ...                                                                                                                                                                                                                                                                                                                                                                                                                                                                                                                                                                                                                                                                               \n",
       "7                                                                                                                                                                                                                                                                                                                                                                                                                                                                                                                                                                                                                                                                                ...                                                                                                                                                                                                                                                                                                                                                                                                                                                                                                                                                                                                                                                                               \n",
       "8                                                                                                                                                                                                                                                                                                                                                                                                                                                                                                                                                                                                                                                                                ...                                                                                                                                                                                                                                                                                                                                                                                                                                                                                                                                                                                                                                                                               \n",
       "9                                                                                                                                                                                                                                                                                                                                                                                                                                                                                                                                                                                                                                                                                ...                                                                                                                                                                                                                                                                                                                                                                                                                                                                                                                                                                                                                                                                               \n",
       "10                                                                                                                                                                                                                                                                                                                                                                                                                                                                                                                                                                                                                                                                               ...                                                                                                                                                                                                                                                                                                                                                                                                                                                                                                                                                                                                                                                                               \n",
       "11                                                                                                                                                                                                                                                                                                                                                                                                                                                                                                                                                                                                                                                                               ...                                                                                                                                                                                                                                                                                                                                                                                                                                                                                                                                                                                                                                                                               \n",
       "12                                                                                                                                                                                                                                                                                                                                                                                                                                                                                                                                                                                                                                                                               ...                                                                                                                                                                                                                                                                                                                                                                                                                                                                                                                                                                                                                                                                               \n",
       "13                                                                                                                                                                                                                                                                                                                                                                                                                                                                                                                                                                                                                                                                               ...                                                                                                                                                                                                                                                                                                                                                                                                                                                                                                                                                                                                                                                                               \n",
       "14                                                                                                                                                                                                                                                                                                                                                                                                                                                                                                                                                                                                                                                                               ...                                                                                                                                                                                                                                                                                                                                                                                                                                                                                                                                                                                                                                                                               \n",
       "15                                                                                                                                                                                                                                                                                                                                                                                                                                                                                                                                                                                                                                                                               ...                                                                                                                                                                                                                                                                                                                                                                                                                                                                                                                                                                                                                                                                               \n",
       "16                                                                                                                                                                                                                                                                                                                                                                                                                                                                                                                                                                                                                                                                               ...                                                                                                                                                                                                                                                                                                                                                                                                                                                                                                                                                                                                                                                                               \n",
       "17                                                                                                                                                                                                                                                                                                                                                                                                                                                                                                                                                                                                                                                                               ...                                                                                                                                                                                                                                                                                                                                                                                                                                                                                                                                                                                                                                                                               \n",
       "18                                                                                                                                                                                                                                                                                                                                                                                                                                                                                                                                                                                                                                                                               ...                                                                                                                                                                                                                                                                                                                                                                                                                                                                                                                                                                                                                                                                               \n",
       "19                                                                                                                                                                                                                                                                                                                                                                                                                                                                                                                                                                                                                                                                               ...                                                                                                                                                                                                                                                                                                                                                                                                                                                                                                                                                                                                                                                                               \n",
       "20                                                                                                                                                                                                                                                                                                                                                                                                                                                                                                                                                                                                                                                                               ...                                                                                                                                                                                                                                                                                                                                                                                                                                                                                                                                                                                                                                                                               \n",
       "21                                                                                                                                                                                                                                                                                                                                                                                                                                                                                                                                                                                                                                                                               ...                                                                                                                                                                                                                                                                                                                                                                                                                                                                                                                                                                                                                                                                               \n",
       "22                                                                                                                                                                                                                                                                                                                                                                                                                                                                                                                                                                                                                                                                               ...                                                                                                                                                                                                                                                                                                                                                                                                                                                                                                                                                                                                                                                                               \n",
       "23                                                                                                                                                                                                                                                                                                                                                                                                                                                                                                                                                                                                                                                                               ...                                                                                                                                                                                                                                                                                                                                                                                                                                                                                                                                                                                                                                                                               \n",
       "24                                                                                                                                                                                                                                                                                                                                                                                                                                                                                                                                                                                                                                                                               ...                                                                                                                                                                                                                                                                                                                                                                                                                                                                                                                                                                                                                                                                               \n",
       "25                                                                                                                                                                                                                                                                                                                                                                                                                                                                                                                                                                                                                                                                               ...                                                                                                                                                                                                                                                                                                                                                                                                                                                                                                                                                                                                                                                                               \n",
       "26                                                                                                                                                                                                                                                                                                                                                                                                                                                                                                                                                                                                                                                                               ...                                                                                                                                                                                                                                                                                                                                                                                                                                                                                                                                                                                                                                                                               \n",
       "27                                                                                                                                                                                                                                                                                                                                                                                                                                                                                                                                                                                                                                                                               ...                                                                                                                                                                                                                                                                                                                                                                                                                                                                                                                                                                                                                                                                               \n",
       "28                                                                                                                                                                                                                                                                                                                                                                                                                                                                                                                                                                                                                                                                               ...                                                                                                                                                                                                                                                                                                                                                                                                                                                                                                                                                                                                                                                                               \n",
       "29                                                                                                                                                                                                                                                                                                                                                                                                                                                                                                                                                                                                                                                                               ...                                                                                                                                                                                                                                                                                                                                                                                                                                                                                                                                                                                                                                                                               \n",
       "...                                                                                                                                                                                                                                                                                                                                                                                                                                                                                                                                                                                                                                                                              ...                                                                                                                                                                                                                                                                                                                                                                                                                                                                                                                                                                                                                                                                               \n",
       "9970                                                                                                                                                                                                                                                                                                                                                                                                                                                                                                                                                                                                                                                                             ...                                                                                                                                                                                                                                                                                                                                                                                                                                                                                                                                                                                                                                                                               \n",
       "9971                                                                                                                                                                                                                                                                                                                                                                                                                                                                                                                                                                                                                                                                             ...                                                                                                                                                                                                                                                                                                                                                                                                                                                                                                                                                                                                                                                                               \n",
       "9972                                                                                                                                                                                                                                                                                                                                                                                                                                                                                                                                                                                                                                                                             ...                                                                                                                                                                                                                                                                                                                                                                                                                                                                                                                                                                                                                                                                               \n",
       "9973                                                                                                                                                                                                                                                                                                                                                                                                                                                                                                                                                                                                                                                                             ...                                                                                                                                                                                                                                                                                                                                                                                                                                                                                                                                                                                                                                                                               \n",
       "9974                                                                                                                                                                                                                                                                                                                                                                                                                                                                                                                                                                                                                                                                             ...                                                                                                                                                                                                                                                                                                                                                                                                                                                                                                                                                                                                                                                                               \n",
       "9975                                                                                                                                                                                                                                                                                                                                                                                                                                                                                                                                                                                                                                                                             ...                                                                                                                                                                                                                                                                                                                                                                                                                                                                                                                                                                                                                                                                               \n",
       "9976                                                                                                                                                                                                                                                                                                                                                                                                                                                                                                                                                                                                                                                                             ...                                                                                                                                                                                                                                                                                                                                                                                                                                                                                                                                                                                                                                                                               \n",
       "9977                                                                                                                                                                                                                                                                                                                                                                                                                                                                                                                                                                                                                                                                             ...                                                                                                                                                                                                                                                                                                                                                                                                                                                                                                                                                                                                                                                                               \n",
       "9978                                                                                                                                                                                                                                                                                                                                                                                                                                                                                                                                                                                                                                                                             ...                                                                                                                                                                                                                                                                                                                                                                                                                                                                                                                                                                                                                                                                               \n",
       "9979                                                                                                                                                                                                                                                                                                                                                                                                                                                                                                                                                                                                                                                                             ...                                                                                                                                                                                                                                                                                                                                                                                                                                                                                                                                                                                                                                                                               \n",
       "9980                                                                                                                                                                                                                                                                                                                                                                                                                                                                                                                                                                                                                                                                             ...                                                                                                                                                                                                                                                                                                                                                                                                                                                                                                                                                                                                                                                                               \n",
       "9981                                                                                                                                                                                                                                                                                                                                                                                                                                                                                                                                                                                                                                                                             ...                                                                                                                                                                                                                                                                                                                                                                                                                                                                                                                                                                                                                                                                               \n",
       "9982                                                                                                                                                                                                                                                                                                                                                                                                                                                                                                                                                                                                                                                                             ...                                                                                                                                                                                                                                                                                                                                                                                                                                                                                                                                                                                                                                                                               \n",
       "9983                                                                                                                                                                                                                                                                                                                                                                                                                                                                                                                                                                                                                                                                             ...                                                                                                                                                                                                                                                                                                                                                                                                                                                                                                                                                                                                                                                                               \n",
       "9984                                                                                                                                                                                                                                                                                                                                                                                                                                                                                                                                                                                                                                                                             ...                                                                                                                                                                                                                                                                                                                                                                                                                                                                                                                                                                                                                                                                               \n",
       "9985                                                                                                                                                                                                                                                                                                                                                                                                                                                                                                                                                                                                                                                                             ...                                                                                                                                                                                                                                                                                                                                                                                                                                                                                                                                                                                                                                                                               \n",
       "9986                                                                                                                                                                                                                                                                                                                                                                                                                                                                                                                                                                                                                                                                             ...                                                                                                                                                                                                                                                                                                                                                                                                                                                                                                                                                                                                                                                                               \n",
       "9987                                                                                                                                                                                                                                                                                                                                                                                                                                                                                                                                                                                                                                                                             ...                                                                                                                                                                                                                                                                                                                                                                                                                                                                                                                                                                                                                                                                               \n",
       "9988                                                                                                                                                                                                                                                                                                                                                                                                                                                                                                                                                                                                                                                                             ...                                                                                                                                                                                                                                                                                                                                                                                                                                                                                                                                                                                                                                                                               \n",
       "9989                                                                                                                                                                                                                                                                                                                                                                                                                                                                                                                                                                                                                                                                             ...                                                                                                                                                                                                                                                                                                                                                                                                                                                                                                                                                                                                                                                                               \n",
       "9990                                                                                                                                                                                                                                                                                                                                                                                                                                                                                                                                                                                                                                                                             ...                                                                                                                                                                                                                                                                                                                                                                                                                                                                                                                                                                                                                                                                               \n",
       "9991                                                                                                                                                                                                                                                                                                                                                                                                                                                                                                                                                                                                                                                                             ...                                                                                                                                                                                                                                                                                                                                                                                                                                                                                                                                                                                                                                                                               \n",
       "9992                                                                                                                                                                                                                                                                                                                                                                                                                                                                                                                                                                                                                                                                             ...                                                                                                                                                                                                                                                                                                                                                                                                                                                                                                                                                                                                                                                                               \n",
       "9993                                                                                                                                                                                                                                                                                                                                                                                                                                                                                                                                                                                                                                                                             ...                                                                                                                                                                                                                                                                                                                                                                                                                                                                                                                                                                                                                                                                               \n",
       "9994                                                                                                                                                                                                                                                                                                                                                                                                                                                                                                                                                                                                                                                                             ...                                                                                                                                                                                                                                                                                                                                                                                                                                                                                                                                                                                                                                                                               \n",
       "9995                                                                                                                                                                                                                                                                                                                                                                                                                                                                                                                                                                                                                                                                             ...                                                                                                                                                                                                                                                                                                                                                                                                                                                                                                                                                                                                                                                                               \n",
       "9996                                                                                                                                                                                                                                                                                                                                                                                                                                                                                                                                                                                                                                                                             ...                                                                                                                                                                                                                                                                                                                                                                                                                                                                                                                                                                                                                                                                               \n",
       "9997                                                                                                                                                                                                                                                                                                                                                                                                                                                                                                                                                                                                                                                                             ...                                                                                                                                                                                                                                                                                                                                                                                                                                                                                                                                                                                                                                                                               \n",
       "9998                                                                                                                                                                                                                                                                                                                                                                                                                                                                                                                                                                                                                                                                             ...                                                                                                                                                                                                                                                                                                                                                                                                                                                                                                                                                                                                                                                                               \n",
       "9999                                                                                                                                                                                                                                                                                                                                                                                                                                                                                                                                                                                                                                                                             ...                                                                                                                                                                                                                                                                                                                                                                                                                                                                                                                                                                                                                                                                               \n",
       "\n",
       "     work_ratings_count work_text_reviews_count  ratings_1  ratings_2  \\\n",
       "0     4942365            155254                  66715      127936      \n",
       "1     4800065            75867                   75504      101676      \n",
       "2     3916824            95009                   456191     436802      \n",
       "3     3340896            72586                   60427      117415      \n",
       "4     2773745            51992                   86236      197621      \n",
       "5     2478609            140739                  47994      92723       \n",
       "6     2196809            37653                   46023      76784       \n",
       "7     2120637            44920                   109383     185520      \n",
       "8     2078754            25112                   77841      145740      \n",
       "9     2191465            49152                   54700      86485       \n",
       "10    1878095            59730                   34288      59980       \n",
       "11    2216814            101023                  36315      82870       \n",
       "12    2053394            45518                   41845      86425       \n",
       "13    1982987            35472                   66854      135147      \n",
       "14    2024493            20825                   45225      91270       \n",
       "15    1929834            62543                   54835      86051       \n",
       "16    1988079            88538                   10492      48030       \n",
       "17    1969375            36099                   6716       20413       \n",
       "18    1832541            15333                   38031      55862       \n",
       "19    1870748            96274                   30144      110498      \n",
       "20    1840548            28685                   9528       31577       \n",
       "21    1661562            36642                   62777      131188      \n",
       "22    1906199            34172                   8253       42251       \n",
       "23    1868642            31084                   6676       20210       \n",
       "24    1847395            51942                   9363       22245       \n",
       "25    1557292            41560                   71345      126493      \n",
       "26    1785676            27520                   7308       21516       \n",
       "27    1671484            26886                   92779      160295      \n",
       "28    1672889            14778                   57980      153179      \n",
       "29    1626519            121614                  38874      80807       \n",
       "...       ...               ...                    ...        ...       \n",
       "9970  17606              881                     395        1182        \n",
       "9971  8597               316                     78         548         \n",
       "9972  10017              749                     126        334         \n",
       "9973  12519              389                     440        603         \n",
       "9974  10307              149                     49         249         \n",
       "9975  15937              855                     118        655         \n",
       "9976  12229              949                     214        854         \n",
       "9977  10541              755                     142        590         \n",
       "9978  9581               322                     64         268         \n",
       "9979  9963               489                     187        608         \n",
       "9980  12134              495                     72         390         \n",
       "9981  14194              1891                    179        521         \n",
       "9982  9859               153                     32         152         \n",
       "9983  9532               686                     145        406         \n",
       "9984  7825               26                      268        684         \n",
       "9985  8862               218                     96         172         \n",
       "9986  10964              411                     113        331         \n",
       "9987  9108               168                     234        607         \n",
       "9988  13614              595                     72         229         \n",
       "9989  9776               421                     374        836         \n",
       "9990  8875               586                     465        815         \n",
       "9991  10102              742                     232        491         \n",
       "9992  12115              970                     236        521         \n",
       "9993  12965              455                     110        289         \n",
       "9994  12110              681                     1478       2225        \n",
       "9995  18856              1180                    105        575         \n",
       "9996  12952              395                     303        551         \n",
       "9997  10733              374                     11         111         \n",
       "9998  11994              1988                    275        1002        \n",
       "9999  9700               364                     117        345         \n",
       "\n",
       "      ratings_3  ratings_4  ratings_5  \\\n",
       "0     560092     1481305    2706317     \n",
       "1     455024     1156318    3011543     \n",
       "2     793319     875073     1355439     \n",
       "3     446835     1001952    1714267     \n",
       "4     606158     936012     947718      \n",
       "5     327550     698471     1311871     \n",
       "6     288649     665635     1119718     \n",
       "7     455042     661516     709176      \n",
       "8     458429     716569     680175      \n",
       "9     284852     609755     1155673     \n",
       "10    226062     628174     929591      \n",
       "11    310297     673028     1114304     \n",
       "12    324874     692021     908229      \n",
       "13    433432     698642     648912      \n",
       "14    355756     656870     875372      \n",
       "15    285413     667485     836050      \n",
       "16    262010     687238     980309      \n",
       "17    166129     509447     1266670     \n",
       "18    202332     493922     1042394     \n",
       "19    373060     618271     738775      \n",
       "20    180210     494427     1124806     \n",
       "21    404699     583575     479323      \n",
       "22    242345     548266     1065084     \n",
       "23    151785     494926     1195045     \n",
       "24    113646     383914     1318227     \n",
       "25    340790     539277     479387      \n",
       "26    136333     459028     1161491     \n",
       "27    425648     564916     427846      \n",
       "28    452673     519822     489235      \n",
       "29    280331     616031     610476      \n",
       "...      ...        ...        ...      \n",
       "9970  4378       6060       5591        \n",
       "9971  2817       3430       1724        \n",
       "9972  1604       3446       4507        \n",
       "9973  3062       4185       4229        \n",
       "9974  1968       4174       3867        \n",
       "9975  3685       6185       5294        \n",
       "9976  3714       4827       2620        \n",
       "9977  2414       4551       2844        \n",
       "9978  1648       3732       3869        \n",
       "9979  2337       3355       3476        \n",
       "9980  2874       5155       3643        \n",
       "9981  2308       4779       6407        \n",
       "9982  1025       2479       6171        \n",
       "9983  1586       3393       4002        \n",
       "9984  2349       2456       2068        \n",
       "9985  1115       2658       4821        \n",
       "9986  2127       3957       4436        \n",
       "9987  2001       3171       3095        \n",
       "9988  1263       3280       8770        \n",
       "9989  2692       3513       2361        \n",
       "9990  2046       2895       2654        \n",
       "9991  1375       3712       4292        \n",
       "9992  2497       4790       4071        \n",
       "9993  1745       3989       6832        \n",
       "9994  3805       2985       1617        \n",
       "9995  3538       7860       6778        \n",
       "9996  1737       3389       6972        \n",
       "9997  1191       4240       5180        \n",
       "9998  3765       4577       2375        \n",
       "9999  2031       4138       3069        \n",
       "\n",
       "                                                                                     image_url  \\\n",
       "0     https://images.gr-assets.com/books/1447303603m/2767052.jpg                                 \n",
       "1     https://images.gr-assets.com/books/1474154022m/3.jpg                                       \n",
       "2     https://images.gr-assets.com/books/1361039443m/41865.jpg                                   \n",
       "3     https://images.gr-assets.com/books/1361975680m/2657.jpg                                    \n",
       "4     https://images.gr-assets.com/books/1490528560m/4671.jpg                                    \n",
       "5     https://images.gr-assets.com/books/1360206420m/11870085.jpg                                \n",
       "6     https://images.gr-assets.com/books/1372847500m/5907.jpg                                    \n",
       "7     https://images.gr-assets.com/books/1398034300m/5107.jpg                                    \n",
       "8     https://images.gr-assets.com/books/1303390735m/960.jpg                                     \n",
       "9     https://images.gr-assets.com/books/1320399351m/1885.jpg                                    \n",
       "10    https://images.gr-assets.com/books/1484565687m/77203.jpg                                   \n",
       "11    https://images.gr-assets.com/books/1328559506m/13335037.jpg                                \n",
       "12    https://images.gr-assets.com/books/1348990566m/5470.jpg                                    \n",
       "13    https://images.gr-assets.com/books/1424037542m/7613.jpg                                    \n",
       "14    https://images.gr-assets.com/books/1358276407m/48855.jpg                                   \n",
       "15    https://images.gr-assets.com/books/1327868566m/2429135.jpg                                 \n",
       "16    https://images.gr-assets.com/books/1358273780m/6148028.jpg                                 \n",
       "17    https://images.gr-assets.com/books/1499277281m/5.jpg                                       \n",
       "18    https://images.gr-assets.com/books/1298411339m/34.jpg                                      \n",
       "19    https://images.gr-assets.com/books/1358275419m/7260188.jpg                                 \n",
       "20    https://images.gr-assets.com/books/1387141547m/2.jpg                                       \n",
       "21    https://images.gr-assets.com/books/1457810586m/12232938.jpg                                \n",
       "22    https://images.gr-assets.com/books/1474169725m/15881.jpg                                   \n",
       "23    https://images.gr-assets.com/books/1361482611m/6.jpg                                       \n",
       "24    https://images.gr-assets.com/books/1474171184m/136251.jpg                                  \n",
       "25    https://images.gr-assets.com/books/1303252999m/968.jpg                                     \n",
       "26    https://images.gr-assets.com/books/1361039191m/1.jpg                                       \n",
       "27    https://images.gr-assets.com/books/1327869409m/7624.jpg                                    \n",
       "28    https://images.gr-assets.com/books/1327872146m/18135.jpg                                   \n",
       "29    https://images.gr-assets.com/books/1339602131m/8442457.jpg                                 \n",
       "...                                                          ...                                 \n",
       "9970  https://images.gr-assets.com/books/1368675679m/12602078.jpg                                \n",
       "9971  https://images.gr-assets.com/books/1327353727m/4984.jpg                                    \n",
       "9972  https://images.gr-assets.com/books/1320521960m/849380.jpg                                  \n",
       "9973  https://images.gr-assets.com/books/1476942137m/116494.jpg                                  \n",
       "9974  https://s.gr-assets.com/assets/nophoto/book/111x148-bcc042a9c91a29c1d680899eff700a03.png   \n",
       "9975  https://images.gr-assets.com/books/1327132670m/6351939.jpg                                 \n",
       "9976  https://s.gr-assets.com/assets/nophoto/book/111x148-bcc042a9c91a29c1d680899eff700a03.png   \n",
       "9977  https://images.gr-assets.com/books/1327629352m/162332.jpg                                  \n",
       "9978  https://s.gr-assets.com/assets/nophoto/book/111x148-bcc042a9c91a29c1d680899eff700a03.png   \n",
       "9979  https://s.gr-assets.com/assets/nophoto/book/111x148-bcc042a9c91a29c1d680899eff700a03.png   \n",
       "9980  https://images.gr-assets.com/books/1328407138m/106312.jpg                                  \n",
       "9981  https://images.gr-assets.com/books/1435195536m/12444298.jpg                                \n",
       "9982  https://images.gr-assets.com/books/1278403940m/8539798.jpg                                 \n",
       "9983  https://images.gr-assets.com/books/1309211772m/764165.jpg                                  \n",
       "9984  https://s.gr-assets.com/assets/nophoto/book/111x148-bcc042a9c91a29c1d680899eff700a03.png   \n",
       "9985  https://s.gr-assets.com/assets/nophoto/book/111x148-bcc042a9c91a29c1d680899eff700a03.png   \n",
       "9986  https://s.gr-assets.com/assets/nophoto/book/111x148-bcc042a9c91a29c1d680899eff700a03.png   \n",
       "9987  https://s.gr-assets.com/assets/nophoto/book/111x148-bcc042a9c91a29c1d680899eff700a03.png   \n",
       "9988  https://images.gr-assets.com/books/1334785691m/13489518.jpg                                \n",
       "9989  https://images.gr-assets.com/books/1330072994m/294081.jpg                                  \n",
       "9990  https://images.gr-assets.com/books/1344396715m/101094.jpg                                  \n",
       "9991  https://images.gr-assets.com/books/1348037761m/13616278.jpg                                \n",
       "9992  https://images.gr-assets.com/books/1328167619m/4936457.jpg                                 \n",
       "9993  https://images.gr-assets.com/books/1388278230m/4769651.jpg                                 \n",
       "9994  https://s.gr-assets.com/assets/nophoto/book/111x148-bcc042a9c91a29c1d680899eff700a03.png   \n",
       "9995  https://images.gr-assets.com/books/1307445460m/7130616.jpg                                 \n",
       "9996  https://s.gr-assets.com/assets/nophoto/book/111x148-bcc042a9c91a29c1d680899eff700a03.png   \n",
       "9997  https://images.gr-assets.com/books/1455373531m/77431.jpg                                   \n",
       "9998  https://images.gr-assets.com/books/1279214118m/8565083.jpg                                 \n",
       "9999  https://images.gr-assets.com/books/1403194704m/8914.jpg                                    \n",
       "\n",
       "                                                                             small_image_url  \\\n",
       "0     https://images.gr-assets.com/books/1447303603s/2767052.jpg                               \n",
       "1     https://images.gr-assets.com/books/1474154022s/3.jpg                                     \n",
       "2     https://images.gr-assets.com/books/1361039443s/41865.jpg                                 \n",
       "3     https://images.gr-assets.com/books/1361975680s/2657.jpg                                  \n",
       "4     https://images.gr-assets.com/books/1490528560s/4671.jpg                                  \n",
       "5     https://images.gr-assets.com/books/1360206420s/11870085.jpg                              \n",
       "6     https://images.gr-assets.com/books/1372847500s/5907.jpg                                  \n",
       "7     https://images.gr-assets.com/books/1398034300s/5107.jpg                                  \n",
       "8     https://images.gr-assets.com/books/1303390735s/960.jpg                                   \n",
       "9     https://images.gr-assets.com/books/1320399351s/1885.jpg                                  \n",
       "10    https://images.gr-assets.com/books/1484565687s/77203.jpg                                 \n",
       "11    https://images.gr-assets.com/books/1328559506s/13335037.jpg                              \n",
       "12    https://images.gr-assets.com/books/1348990566s/5470.jpg                                  \n",
       "13    https://images.gr-assets.com/books/1424037542s/7613.jpg                                  \n",
       "14    https://images.gr-assets.com/books/1358276407s/48855.jpg                                 \n",
       "15    https://images.gr-assets.com/books/1327868566s/2429135.jpg                               \n",
       "16    https://images.gr-assets.com/books/1358273780s/6148028.jpg                               \n",
       "17    https://images.gr-assets.com/books/1499277281s/5.jpg                                     \n",
       "18    https://images.gr-assets.com/books/1298411339s/34.jpg                                    \n",
       "19    https://images.gr-assets.com/books/1358275419s/7260188.jpg                               \n",
       "20    https://images.gr-assets.com/books/1387141547s/2.jpg                                     \n",
       "21    https://images.gr-assets.com/books/1457810586s/12232938.jpg                              \n",
       "22    https://images.gr-assets.com/books/1474169725s/15881.jpg                                 \n",
       "23    https://images.gr-assets.com/books/1361482611s/6.jpg                                     \n",
       "24    https://images.gr-assets.com/books/1474171184s/136251.jpg                                \n",
       "25    https://images.gr-assets.com/books/1303252999s/968.jpg                                   \n",
       "26    https://images.gr-assets.com/books/1361039191s/1.jpg                                     \n",
       "27    https://images.gr-assets.com/books/1327869409s/7624.jpg                                  \n",
       "28    https://images.gr-assets.com/books/1327872146s/18135.jpg                                 \n",
       "29    https://images.gr-assets.com/books/1339602131s/8442457.jpg                               \n",
       "...                                                          ...                               \n",
       "9970  https://images.gr-assets.com/books/1368675679s/12602078.jpg                              \n",
       "9971  https://images.gr-assets.com/books/1327353727s/4984.jpg                                  \n",
       "9972  https://images.gr-assets.com/books/1320521960s/849380.jpg                                \n",
       "9973  https://images.gr-assets.com/books/1476942137s/116494.jpg                                \n",
       "9974  https://s.gr-assets.com/assets/nophoto/book/50x75-a91bf249278a81aabab721ef782c4a74.png   \n",
       "9975  https://images.gr-assets.com/books/1327132670s/6351939.jpg                               \n",
       "9976  https://s.gr-assets.com/assets/nophoto/book/50x75-a91bf249278a81aabab721ef782c4a74.png   \n",
       "9977  https://images.gr-assets.com/books/1327629352s/162332.jpg                                \n",
       "9978  https://s.gr-assets.com/assets/nophoto/book/50x75-a91bf249278a81aabab721ef782c4a74.png   \n",
       "9979  https://s.gr-assets.com/assets/nophoto/book/50x75-a91bf249278a81aabab721ef782c4a74.png   \n",
       "9980  https://images.gr-assets.com/books/1328407138s/106312.jpg                                \n",
       "9981  https://images.gr-assets.com/books/1435195536s/12444298.jpg                              \n",
       "9982  https://images.gr-assets.com/books/1278403940s/8539798.jpg                               \n",
       "9983  https://images.gr-assets.com/books/1309211772s/764165.jpg                                \n",
       "9984  https://s.gr-assets.com/assets/nophoto/book/50x75-a91bf249278a81aabab721ef782c4a74.png   \n",
       "9985  https://s.gr-assets.com/assets/nophoto/book/50x75-a91bf249278a81aabab721ef782c4a74.png   \n",
       "9986  https://s.gr-assets.com/assets/nophoto/book/50x75-a91bf249278a81aabab721ef782c4a74.png   \n",
       "9987  https://s.gr-assets.com/assets/nophoto/book/50x75-a91bf249278a81aabab721ef782c4a74.png   \n",
       "9988  https://images.gr-assets.com/books/1334785691s/13489518.jpg                              \n",
       "9989  https://images.gr-assets.com/books/1330072994s/294081.jpg                                \n",
       "9990  https://images.gr-assets.com/books/1344396715s/101094.jpg                                \n",
       "9991  https://images.gr-assets.com/books/1348037761s/13616278.jpg                              \n",
       "9992  https://images.gr-assets.com/books/1328167619s/4936457.jpg                               \n",
       "9993  https://images.gr-assets.com/books/1388278230s/4769651.jpg                               \n",
       "9994  https://s.gr-assets.com/assets/nophoto/book/50x75-a91bf249278a81aabab721ef782c4a74.png   \n",
       "9995  https://images.gr-assets.com/books/1307445460s/7130616.jpg                               \n",
       "9996  https://s.gr-assets.com/assets/nophoto/book/50x75-a91bf249278a81aabab721ef782c4a74.png   \n",
       "9997  https://images.gr-assets.com/books/1455373531s/77431.jpg                                 \n",
       "9998  https://images.gr-assets.com/books/1279214118s/8565083.jpg                               \n",
       "9999  https://images.gr-assets.com/books/1403194704s/8914.jpg                                  \n",
       "\n",
       "                                                                                                                                                                                                                                                                                                                                                                                                                                                                                                                                                                                                                                                                                                                                                                                                                                                                                                                                                                                                                                                                                                                                                                                                                                                                                                                                                        tag_name  \n",
       "0     favorites currently-reading young-adult fiction dystopian to-read dystopia fantasy ya science-fiction books-i-own sci-fi series owned favourites romance adventure hunger-games book-club kindle teen read-in-2012 post-apocalyptic my-books the-hunger-games favorite-books action suzanne-collins re-read all-time-favorites ya-fiction survival sci-fi-fantasy books favorite scifi 5-stars i-own read-in-2011 novels ebook audiobook young-adult-fiction thriller my-favorites audiobooks read-2012 futuristic ebooks default library fantasy-sci-fi suspense shelfari-favorites faves reread read-in-2010 my-library audio favorite-series teen-fiction ya-lit ya-books own-it finished action-adventure love love-triangle favs loved distopia read-in-2013 coming-of-age dystopian-fiction distopian borrowed english to-buy novel read-more-than-once favourite read-2011 favourite-books scifi-fantasy ya-fantasy future read-in-2014 contemporary trilogy dystopias e-book reviewed ya-dystopian speculative-fiction 2012-reads finished-series sf completed-series drama 5-star                                                                                                                                                                                                                                                                  \n",
       "1     to-read favorites fantasy currently-reading young-adult fiction harry-potter books-i-own owned owned ya series favourites magic childrens re-read children adventure owned-books classics children-s childhood reread middle-grade j-k-rowling all-time-favorites sci-fi-fantasy children-s-books kids my-books audiobook favorite-books default novels 5-stars audiobooks i-own read-in-2016 favorite paranormal read-more-than-once fantasy-sci-fi re-reads my-library read-in-2015 books english ya-fantasy witches childrens-books british teen urban-fantasy mystery audio favorite-series supernatural my-favorites library read-in-2014 novel jk-rowling read-in-2017 ya-fiction faves own-it harry-potter-series juvenile kindle childhood-favorites wizards rereads kids-books scifi-fantasy re-reading read-in-english young-adult-fiction youth read-2016 children-s-literature classic favourite children-s-lit ebook to-re-read childhood-books contemporary friendship read-in-2013 shelfari-favorites on-my-shelf all-time-favourites favs to-buy science-fiction-fantasy read-2015 england bookshelf favourite-books my-bookshelf                                                                                                                                                                                                           \n",
       "2     young-adult fantasy favorites vampires ya fiction to-read paranormal books-i-own vampire twilight paranormal-romance supernatural teen urban-fantasy owned-books stephenie-meyer my-books favourites werewolves i-own chick-lit re-read ya-fiction twilight-saga default young-adult-fiction sci-fi-fantasy contemporary twilight-series books love ya-fantasy horror book-club my-library novels favorite favorite-books teen-fiction guilty-pleasures high-school read-more-than-once fantasy-sci-fi stephanie-meyer vamps own-it ya-books my-favorites shelfari-favorites library audiobook kindle finished all-time-favorites read-in-2009 love-triangle 5-stars vampire-books read-in-2008 reread ya-lit abandoned never-again movies audiobooks science-fiction finished-series ya-paranormal guilty-pleasure currently-reading movie completed-series english sci-fi already-read did-not-finish ebook on-my-shelf pnr have book-to-movie meh paranormal-fantasy bookshelf drama my-bookshelf ya-romance séries youngadult favorite-series first-in-series young-adults books-i-have dnf faves fantasy-paranormal scifi-fantasy romantic american                                                                                                                                                                                                    \n",
       "3     classics favorites to-read classic historical-fiction owned school clàssics favourites literature young-adult currently-reading book-club read-for-school historical novels owned-books re-read all-time-favorites school-books for-school to-buy coming-of-age high-school fiction american classic-literature american-literature favorite-books ya pulitzer adult 1001-books novel to-re-read favorite my-books adult-fiction literary-fiction realistic-fiction drama library read-in-2015 english 20th-century pulitzer-prize general-fiction modern-classics southern my-library racism default shelfari-favorites school-reads reread i-own 5-stars read-in-school my-favorites audiobook classic-fiction american-lit childhood books history banned-books read-again classic-lit audiobooks 1001 kindle school-reading to-reread must-read classics-to-read literary required-reading audio crime to-read-again faves own-it family race read-in-2016 the-classics bookclub harper-lee contemporary read-in-2014 mystery usa wish-list american-classics all-time-favourites favourite 1001-books-to-read-before-you-die rory-gilmore-reading-challenge ebook read-2015                                                                                                                                                                            \n",
       "4     classics favorites fiction classic books-i-own owned literature school historical-fiction to-read romance favourites book-club novels read-for-school american-literature owned-books high-school re-read american historical for-school adult school-books classic-literature clàssics adult-fiction novel read-in-2013 1001-books literary-fiction 20th-century to-buy all-time-favorites to-re-read favorite-books library my-books english american-lit modern-classics reread drama general-fiction audiobook classic-fiction my-library 1920s i-own young-adult default audiobooks school-reads classic-lit 1001 realistic-fiction classics-to-read to-reread read-in-school literary ebook currently-reading read-in-2014 the-classics books school-reading read-in-english new-york read-in-2015 favorite rory-gilmore-reading-challenge required-reading usa f-scott-fitzgerald read-2013 audio ebooks own-it read-again bookclub to-read-again read-in-2016 read-in-2012 1001-books-to-read-before-you-die american-classics read-in-high-school my-favorites america wish-list lit read-more-than-once love re-reads stand-alone 5-stars banned-books faves finished book-to-movie on-my-shelf                                                                                                                                                   \n",
       "5     favorites to-read young-adult fiction ya romance books-i-own contemporary owned favourites realistic-fiction book-club john-green read-in-2014 owned-books made-me-cry kindle read-in-2013 teen my-books favorite-books read-in-2012 ya-fiction cancer read-2014 coming-of-age death books favorite drama all-time-favorites love 5-stars i-own contemporary-fiction re-read novels ebook audiobook young-adult-fiction library stand-alone read-2013 2014-reads audiobooks currently-reading ebooks to-buy read-in-english humor the-fault-in-our-stars tear-jerker english realistic my-favorites faves sad friendship ya-lit audio ya-contemporary books-that-made-me-cry 2013-reads teen-fiction my-library ya-books finished favs reviewed favourite-books 2014-books novel on-my-shelf reread favourite want-to-read read-2012 read-in-2015 bookclub chick-lit funny must-read own-it love-story loved borrowed illness my-bookshelf bookshelf tear-jerkers emotional family contemporary-romance i-cried shelfari-favorites e-books general-fiction e-book default signed                                                                                                                                                                                                                                                                            \n",
       "6     fantasy favorites classics to-read fiction books-i-own classic adventure young-adult favourites sci-fi-fantasy tolkien owned-books high-fantasy childrens epic-fantasy currently-reading default literature novels fantasy-sci-fi re-read dragons series magic children my-books clàssics ya j-r-r-tolkien scifi-fantasy all-time-favorites children-s my-library 1001-books i-own library kindle books audiobook science-fiction british english science-fiction-fantasy sci-fi novel favorite-books adult audiobooks epic favorite middle-earth reread lord-of-the-rings school classic-literature fantasy-scifi own-it read-in-2013 20th-century read-in-2012 children-s-books to-re-read 1001 audio book-club kids read-more-than-once adult-fiction 5-stars sci-fi-and-fantasy british-literature read-in-2014 childhood-favorites shelfari-favorites fiction-fantasy ebook read-in-2015 fantasy-fiction ebooks re-reads my-favorites abandoned on-my-shelf jrr-tolkien childrens-books favourite re-reading audible on-hold to-reread middle-grade read-for-school finished my-bookshelf read-again 1001-books-to-read-before-you-die speculative-fiction personal-library unfinished                                                                                                                                                                 \n",
       "7     classics favorites fiction to-read classic young-adult books-i-own owned literature clàssics school favourites novels ya coming-of-age owned-books american american-literature high-school read-for-school novel re-read currently-reading to-buy 1001-books classic-literature school-books book-club for-school library 20th-century to-re-read modern-classics english realistic-fiction classics-to-read literary-fiction all-time-favorites general-fiction default favorite-books my-books contemporary my-library american-lit adult 1001 banned-books classic-fiction i-own adult-fiction rory-gilmore-reading-challenge favorite books classic-lit drama to-reread read-in-english reread 1001-books-to-read-before-you-die literary usa the-classics school-reads teen new-york bildungsroman to-read-classics abandoned own-it read-in-school wish-list historical-fiction read-in-2015 to-read-again lit american-classics school-reading required-reading read-again rory-gilmore-challenge finished read-in-2014 read-in-2013 read-in-2016 my-favorites shelfari-favorites must-read j-d-salinger read-in-high-school 1950s read-more-than-once ebook borrowed did-not-finish faves america rory-gilmore favourite unfinished                                                                                                                \n",
       "8     to-read fiction mystery favorites thriller dan-brown owned books-i-own suspense series adventure mystery-thriller historical-fiction crime default adult thrillers owned-books currently-reading contemporary adult-fiction religion mystery-suspense novel favourites my-books general-fiction fantasy action library mysteries contemporary-fiction my-library i-own historical conspiracy action-adventure suspense-thriller robert-langdon books english to-buy crime-mystery history crime-thriller borrowed thriller-mystery shelfari-favorites drama italy science-fiction audiobook literature brown-dan kindle finished audiobooks own-it ebook favorite mystery-crime american other thriller-suspense sci-fi modern-fiction brown detective american-literature all-time-favorites book-club religious ebooks paperback movies favorite-books murder-mystery audio popular-fiction 2005 bookshelf re-read روايات classics romance mystery-thrillers mistery wish-list 2006 5-stars have abandoned read-fiction art favourite home-library movie personal-library realistic-fiction modern                                                                                                                                                                                                                                                        \n",
       "9     classics favorites fiction romance classic books-i-own owned favourites historical-fiction literature historical jane-austen to-read clàssics owned-books kindle my-ebooks all-time-favorites novels historical-romance classic-literature re-read adult 19th-century british school book-club favorite english favorite-books british-literature my-books 1001-books audiobook novel i-own adult-fiction england ebook audiobooks chick-lit my-library to-buy austen ebooks regency 5-stars default classics-to-read library love classic-fiction reread my-favorites english-literature 1001 classic-lit own-it read-in-2016 high-school shelfari-favorites literary-fiction read-for-school faves audio drama the-classics read-more-than-once to-re-read favourite general-fiction abandoned read-in-2015 for-school books stand-alone school-books all-time-favourites e-book e-books read-in-english on-my-shelf on-hold read-in-2014 rory-gilmore-reading-challenge brit-lit romantic nook favs history re-reads 1001-books-to-read-before-you-die tbr young-adult favourite-books literary audible read-in-2013 unfinished women                                                                                                                                                                                                                    \n",
       "10    favorites fiction to-read historical-fiction books-i-own owned book-club contemporary favourites afghanistan classics novels literature adult middle-east adult-fiction owned-books historical novel contemporary-fiction drama school general-fiction war literary-fiction to-buy all-time-favorites bookclub friendship favorite-books library coming-of-age default favorite my-books realistic-fiction khaled-hosseini history shelfari-favorites i-own my-library audiobook kindle read-for-school audiobooks english asia my-favorites cultural young-adult currently-reading 5-stars rory-gilmore-reading-challenge modern-fiction non-fiction book-club-books for-school classic audio family school-books finished must-read book-group own-it literary made-me-cry borrowed high-school contempor​ary wish-list faves recommended books ebook read-in-2014 modern abandoned to-read-fiction culture favourite ebooks read-in-2015 islam banned-books other re-read international read-in-2013 2006 21st-century multicultural book-club-reads read-in-2016 unfinished روايات popular-fiction have favs stand-alone                                                                                                                                                                                                                                \n",
       "11    favorites currently-reading to-read young-adult dystopian ya fiction books-i-own fantasy science-fiction series romance sci-fi owned favourites divergent read-in-2014 owned-books kindle adventure teen book-club read-in-2013 my-books action favorite-books read-in-2012 ya-fiction post-apocalyptic veronica-roth ebook read-2014 audiobook i-own re-read library 5-stars favorite young-adult-fiction ebooks audiobooks all-time-favorites books sci-fi-fantasy scifi read-in-2011 to-buy read-2013 ya-books audio 2014-reads futuristic dystopian-fiction coming-of-age ya-dystopian my-favorites ya-lit distopian read-in-2015 faves default teen-fiction read-2012 distopia fantasy-sci-fi reviewed love my-library novels reread trilogy dystopias 2013-reads finished favs ya-fantasy e-book e-books own-it english read-in-english thriller favorite-series on-my-shelf loved action-adventure 4-stars future my-bookshelf book-to-movie favourite 2014-books borrowed 2012-reads ya-dystopia favourite-books dystopia audible want-to-read first-in-series                                                                                                                                                                                                                                                                                      \n",
       "12    fiction science-fiction sci-fi dystopian classic currently-reading books-i-own literature favourites novels politics school owned-books scifi fantasy to-buy to-read adult novel re-read english philosophy sci-fi-fantasy 1001-books clàssics political british read-for-school default book-club classic-literature library Ｆａｖｏｒｉｔｅｓ high-school 20th-century modern-classics adult-fiction to-re-read kindle classics-to-read sf audiobook for-school my-books my-library school-books british-literature all-time-favorites rory-gilmore-reading-challenge favorite speculative-fiction george-orwell books i-own 1001 favorite-books audiobooks literary-fiction dystopias dystopian-fiction classic-fiction must-read general-fiction distopia english-literature banned-books ebook روايات wish-list to-reread scifi-fantasy classic-lit literary audio ebooks 1001-books-to-read-before-you-die young-adult reread read-in-2014 read-again satire favourite read-in-2016 read-in-2015 to-read-classics 5-stars horror abandoned read-in-2017 england unfinished own-it rory-gilmore-challenge social-commentary read-in-english fantasy-sci-fi futuristic on-hold to-read-again dystopia                                                                                                                                                           \n",
       "13    classics fiction favorites classic dystopia fantasy literature owned dystopian school books-i-own politics science-fiction novels to-read favourites satire read-for-school sci-fi political owned-books animals english novel philosophy school-books high-school 1001-books clàssics to-buy for-school adult classic-literature british young-adult 20th-century modern-classics library re-read default adult-fiction british-literature george-orwell literary-fiction 1001 historical-fiction general-fiction my-library allegory to-re-read classic-fiction audiobook books classics-to-read my-books kindle english-literature audiobooks روايات school-reads read-in-2015 literary read-in-school classic-lit banned-books history read-in-2016 i-own read-in-english 1001-books-to-read-before-you-die historical favorite sci-fi-fantasy school-reading ebook favorite-books read-in-2014 must-read social-commentary book-club the-classics borrowed required-reading novella drama all-time-favorites communism to-reread finished orwell wish-list lit 5-stars reread ya audio to-read-classics ebooks read-in-2017 read-in-2013                                                                                                                                                                                                               \n",
       "14    non-fiction classics history biography to-read nonfiction memoir young-adult classic historical holocaust owned autobiography war memoirs school biographies wwii biography-memoir ya owned-books historical-fiction world-war-ii favourites childhood fiction to-buy literature ww2 read-for-school diary my-books rory-gilmore-reading-challenge jewish library memoir-biography school-books re-read default world-war-2 biographical coming-of-age biography-autobiography anne-frank 20th-century i-own for-school my-library high-school childrens bio middle-school europe dutch read-in-school classic-literature children clàssics adult german rory-gilmore-challenge to-re-read childhood-favorites biographies-memoirs drama inspirational banned-books novels must-read teen classics-to-read 5-stars kindle autobiography-memoir auto-biography true-story school-reads children-s-books childhood-books diaries bio-memoir female-authors own-it rory-gilmore modern-classics autobiographies borrowed children-s all-time-favorites netherlands favorite-books wish-list women required-reading school-reading germany other translated historical-non-fiction finished                                                                                                                                                                     \n",
       "15    to-read currently-reading fiction mystery favorites thriller crime books-i-own owned series book-club suspense mystery-thriller contemporary adult kindle favourites adult-fiction sweden default owned-books mysteries audiobook thrillers novels contemporary-fiction audiobooks crime-fiction stieg-larsson mystery-suspense library read-in-2010 my-books ebook abandoned audio crime-mystery read-in-2011 scandinavian i-own mystery-crime my-library crime-thriller general-fiction bookclub novel swedish detective ebooks to-buy read-in-2012 drama read-2010 did-not-finish audible audio-books own-it murder-mystery borrowed translated adventure books all-time-favorites favorite-books favorite finished thriller-mystery audio-book shelfari-favorites europe suspense-thriller book-club-books dark action realistic-fiction scandinavia literature dnf didn-t-finish abuse 5-stars modern-fiction murder millennium unfinished read-2011 couldn-t-finish thriller-suspense movies gave-up-on english have movie 21st-century translation wish-list read-in-2015 nook my-favorites paperback                                                                                                                                                                                                                                                \n",
       "16    young-adult dystopia fantasy sci-fi to-read series owned romance favourites adventure hunger-games kindle teen read-in-2012 post-apocalyptic my-books suzanne-collins the-hunger-games action ya-fiction favorite-books sci-fi-fantasy survival read-in-2011 ebook scifi audiobook i-own 5-stars young-adult-fiction favorite all-time-favorites novels currently-reading audiobooks read-2012 ebooks default dystopian thriller ya read-in-2010 library read-in-2013 futuristic fantasy-sci-fi book-club my-favorites reread my-library audio suspense shelfari-favorites fiction ya-books teen-fiction ya-lit own-it faves borrowed action-adventure read-in-2014 read-2011 distopia dystopian-fiction distopian finished english favorite-series ya-fantasy 2012-reads trilogy to-buy e-book favs read-more-than-once dystopias 4-stars novel love scifi-fantasy science-fiction books-i-own ya-dystopian future e-books on-my-shelf read-2013 speculative-fiction loved audio-books contemporary re-reads book-to-movie read-in-english my-bookshelf favourite-books favourite sf nook                                                                                                                                                                                                                                                                  \n",
       "17    favorites fantasy currently-reading young-adult to-read fiction harry-potter books-i-own owned ya favourites series magic childrens re-read adventure owned-books children j-k-rowling children-s childhood all-time-favorites sci-fi-fantasy middle-grade classics reread my-books default audiobook children-s-books favorite-books 5-stars kids i-own novels favorite audiobooks read-more-than-once fantasy-sci-fi paranormal read-in-2016 my-library ya-fantasy re-reads english witches urban-fantasy british books teen jk-rowling childrens-books read-in-2015 mystery supernatural audio shelfari-favorites my-favorites library faves time-travel harry-potter-series own-it ya-fiction novel read-in-2014 juvenile wizards scifi-fantasy kindle young-adult-fiction read-in-2017 favorite-series childhood-favorites favourite youth rereads all-time-favourites kids-books children-s-literature children-s-lit favourite-books read-in-english contemporary ebook favs to-buy on-my-shelf childhood-books read-2016 to-re-read 5-star science-fiction-fantasy england read-in-2013 my-bookshelf werewolves friendship audio-books bookshelf                                                                                                                                                                                                    \n",
       "18    fantasy to-read classics fiction books-i-own classic adventure currently-reading series sci-fi-fantasy tolkien favourites epic-fantasy high-fantasy owned-books favorites young-adult magic default owned novels literature re-read j-r-r-tolkien my-books epic adult lord-of-the-rings all-time-favorites my-library i-own science-fiction audiobook sci-fi library audiobooks adult-fiction science-fiction-fantasy novel books british fantasy-scifi middle-earth english séries to-buy favorite kindle own-it favorite-books 20th-century reread audio childhood 1001-books 5-stars sci-fi-and-fantasy rory-gilmore-reading-challenge classic-literature fiction-fantasy lotr read-more-than-once ya abandoned to-re-read fantasy-fiction fantasia fantasía read-in-2015 elves on-hold british-literature movies unfinished shelfari-favorites audible ebook sf-fantasy on-my-shelf tbr modern-classics fantasy-science-fiction favourite the-lord-of-the-rings read-in-2016 my-favorites paperback have speculative-fiction fantasy-and-sci-fi dnf movie 1001 home-library re-reads read-in-2014 bookshelf ebooks war my-bookshelf                                                                                                                                                                                                                     \n",
       "19    currently-reading favorites young-adult dystopian fiction dystopia ya fantasy science-fiction books-i-own to-read sci-fi series owned romance adventure hunger-games favourites kindle owned-books teen read-in-2012 my-books post-apocalyptic suzanne-collins the-hunger-games ya-fiction action sci-fi-fantasy read-in-2011 re-read ebook i-own scifi young-adult-fiction survival audiobook read-in-2010 books favorite-books ebooks novels audiobooks default read-2012 war futuristic favorite thriller library made-me-cry read-in-2014 fantasy-sci-fi book-club all-time-favorites my-library 5-stars audio read-in-2013 teen-fiction ya-books reread suspense love-triangle ya-lit séries own-it borrowed read-2011 my-favorites shelfari-favorites dystopian-fiction distopian action-adventure to-buy english hunger-games-series favorite-series trilogy novel distopia finished e-book ya-fantasy faves scifi-fantasy 2012-reads dystopias e-books read-in-2015 ya-dystopian finished-series future 4-stars on-my-shelf coming-of-age read-in-english love speculative-fiction read-2014                                                                                                                                                                                                                                                        \n",
       "20    to-read currently-reading fantasy favorites children children-s all-time-favorites default fiction young-adult audiobook books-i-own novels kids owned fantasy-sci-fi harry-potter favorite paranormal my-library ya-fantasy teen witches urban-fantasy british jk-rowling re-reads supernatural ya-fiction childrens-books own-it ya mystery harry-potter-series my-favorites library novel audio young-adult-fiction wizards faves scifi-fantasy kindle favourites youth favorite-series shelfari-favorites juvenile favourite read-in-2014 childhood-favorites kids-books read-in-2017 owned-books coming-of-age science-fiction-fantasy all-time-favourites children-s-literature re-read england children-s-lit childhood-books potter fantasy-scifi 5-star magic favs hp classic 2003 magical boarding-school have audio-books action movie romance british-literature read-in-2013 fantasy-fiction rowling read-in-2011 read-multiple-times juvenile-fiction finished young-adult-fantasy read-again ya-books borrowed sci-fi fiction-fantasy childrens-lit audiobooks female-author fantasia children-young-adult books-i-have mine ya-lit middle-school                                                                                                                                                                                            \n",
       "21    to-read fiction favorites mystery books-i-own currently-reading young-adult owned contemporary fantasy book-club crime adult-fiction adult ya contemporary-fiction owned-books drama novels general-fiction favourites thriller paranormal my-books murder death i-own to-buy suspense default literature mystery-thriller library novel literary-fiction family supernatural chick-lit afterlife my-library magical-realism alice-sebold ghosts horror realistic-fiction abandoned bookclub rory-gilmore-reading-challenge did-not-finish audiobook kindle read-in-2010 romance dnf movies favorite-books mystery-suspense borrowed audiobooks own-it modern-fiction coming-of-age classics american finished movie ebook stand-alone books grief made-me-cry mysteries dark unfinished shelfari-favorites literary ebooks high-school book-to-movie audio rory-gilmore-challenge book-club-books sad all-time-favorites tear-jerker re-read have crime-mystery books-to-movies favorite other wish-list female-authors modern murder-mystery on-my-shelf didn-t-finish on-my-bookshelf book-group rape                                                                                                                                                                                                                                                    \n",
       "22    fantasy favorites currently-reading young-adult fiction harry-potter books-i-own owned series ya magic to-read favourites childrens re-read children owned-books adventure children-s j-k-rowling childhood middle-grade reread sci-fi-fantasy classics my-books default audiobook children-s-books kids all-time-favorites audiobooks i-own novels read-more-than-once 5-stars favorite-books read-in-2016 fantasy-sci-fi paranormal my-library favorite re-reads ya-fantasy witches english mystery read-in-2015 jk-rowling books urban-fantasy british childrens-books teen audio supernatural library harry-potter-series read-in-2014 read-in-2017 own-it novel wizards ya-fiction juvenile kindle my-favorites young-adult-fiction scifi-fantasy favorite-series youth rereads shelfari-favorites childhood-favorites read-in-english faves kids-books read-2016 ebook children-s-lit read-in-2013 on-my-shelf contemporary england children-s-literature childhood-books re-reading science-fiction-fantasy favourite my-bookshelf bookshelf read-2015 classic to-buy to-re-read friendship audio-books all-time-favourites potter fantasy-scifi                                                                                                                                                                                                     \n",
       "23    fantasy young-adult fiction harry-potter owned ya series favourites childrens re-read owned-books adventure children j-k-rowling children-s sci-fi-fantasy all-time-favorites classics my-books reread default audiobook children-s-books 5-stars middle-grade i-own kids favorite-books novels audiobooks fantasy-sci-fi read-more-than-once favorite paranormal ya-fantasy my-library read-in-2016 dragons teen re-reads urban-fantasy witches english british jk-rowling books mystery supernatural childrens-books harry-potter-series read-in-2015 audio shelfari-favorites ya-fiction library my-favorites own-it novel wizards young-adult-fiction faves scifi-fantasy kindle favorite-series youth juvenile read-in-2014 childhood-favorites read-in-2017 rereads favourite kids-books to-buy ebook all-time-favourites to-re-read science-fiction-fantasy contemporary to-read coming-of-age england children-s-lit children-s-literature childhood-books 5-star on-my-shelf read-in-english my-bookshelf friendship read-2016 favourite-books favs séries potter read-in-2013 classic bookshelf fantasy-scifi audio-books rory-gilmore-reading-challenge                                                                                                                                                                                          \n",
       "24    favorites fantasy young-adult fiction harry-potter books-i-own owned ya favourites series magic childrens owned-books adventure re-read children j-k-rowling all-time-favorites sci-fi-fantasy children-s classics childhood default favorite-books 5-stars i-own favorite reread audiobook children-s-books novels kids middle-grade fantasy-sci-fi audiobooks paranormal teen my-library read-more-than-once ya-fantasy made-me-cry english witches books urban-fantasy jk-rowling my-favorites british shelfari-favorites supernatural own-it read-in-2016 ya-fiction re-reads library harry-potter-series childrens-books faves audio mystery young-adult-fiction wizards novel scifi-fantasy favorite-series favourite kindle to-re-read romance youth to-read read-in-2015 juvenile all-time-favourites read-in-english favourite-books contemporary 5-star to-buy coming-of-age childhood-favorites read-in-2014 ebook favs kids-books science-fiction-fantasy on-my-shelf england dragons read-in-2011 my-bookshelf children-s-lit bookshelf children-s-literature classic rereads potter friendship to-reread read-in-2017                                                                                                                                                                                                                         \n",
       "25    fiction currently-reading favorites thriller to-read books-i-own owned dan-brown suspense historical-fiction adventure mystery-thriller novels series default adult contemporary owned-books adult-fiction thrillers religion novel general-fiction favourites my-books mystery-suspense mysteries contemporary-fiction fantasy historical my-library book-club action history library i-own conspiracy literature kindle books action-adventure art english american crime-mystery robert-langdon rory-gilmore-reading-challenge suspense-thriller classics borrowed finished shelfari-favorites own-it drama audiobook thriller-mystery detective mystery-crime favorite to-buy other france روايات 2004 modern-fiction brown-dan popular-fiction ebook thriller-suspense 2006 audiobooks american-literature movie movies rory-gilmore-challenge ebooks 2005 re-read all-time-favorites brown favorite-books mystery 21st-century my-favorites audio realistic-fiction romance have crime-fiction bookshelf home-library read-fiction my-bookshelf mystery-thrillers 5-stars abandoned book-to-movie science-fiction rory-gilmore religious                                                                                                                                                                                                              \n",
       "26    to-read fantasy favorites currently-reading young-adult fiction harry-potter books-i-own owned ya series favourites magic childrens owned-books re-read adventure children j-k-rowling children-s sci-fi-fantasy childhood all-time-favorites default my-books classics reread i-own audiobook 5-stars children-s-books favorite-books kids novels fantasy-sci-fi favorite middle-grade audiobooks paranormal read-more-than-once my-library ya-fantasy teen witches english urban-fantasy british jk-rowling books read-in-2016 supernatural re-reads mystery ya-fiction harry-potter-series my-favorites own-it childrens-books library audio young-adult-fiction novel 2005 scifi-fantasy wizards faves favorite-series read-in-2015 made-me-cry juvenile shelfari-favorites kindle youth romance favourite to-buy read-in-2014 to-re-read all-time-favourites childhood-favorites kids-books ebook rereads contemporary read-in-english 5-star coming-of-age science-fiction-fantasy read-in-2017 england children-s-literature favourite-books on-my-shelf my-bookshelf children-s-lit bookshelf magical favs childhood-books potter                                                                                                                                                                                                                   \n",
       "27    classics to-read fiction favorites classic young-adult school literature owned books-i-own dystopia dystopian read-for-school ya novels adventure high-school for-school school-books horror currently-reading owned-books to-buy 1001-books classic-literature favourites novel survival library british english re-read literary-fiction modern-classics general-fiction default school-reads science-fiction read-in-school 20th-century to-re-read 1001 adult classics-to-read british-literature drama classic-fiction my-library school-reading my-books coming-of-age banned-books classic-lit adult-fiction fantasy childhood books i-own required-reading realistic-fiction rory-gilmore-reading-challenge literary 1001-books-to-read-before-you-die historical-fiction sci-fi english-literature book-club childrens the-classics psychology thriller read-in-high-school to-reread to-read-classics all-time-favorites children borrowed teen philosophy abandoned wish-list dark kindle audiobook lit audiobooks reread own-it favorite-books read-again must-read books-for-school read-in-2015 ebook other read-in-2016 contemporary read-in-2014 read-in-english unfinished                                                                                                                                                                 \n",
       "28    to-read classics plays fiction romance classic favorites shakespeare school drama play books-i-own read-for-school literature owned for-school high-school school-books poetry clàssics theatre classic-literature tragedy my-ebooks historical historical-fiction owned-books adult school-reads british read-in-school favourites english theater young-adult school-reading british-literature my-books required-reading love books classic-lit re-read rory-gilmore-reading-challenge william-shakespeare teatro 16th-century english-literature i-own read-in-high-school default adult-fiction the-classics novels books-for-school to-buy my-library library classic-fiction italy assigned-reading borrowed classics-read rory-gilmore-challenge read-more-than-once 3-stars british-lit ebooks historical-romance romantic brit-lit 9th-grade renaissance stand-alone high-school-reads own-it rory-gilmore ya read-in-2015 kindle 4-stars finished movies read-in-english literary general-fiction england classics-to-read reread lit english-lit death all-time-favorites love-stories books-i-read-for-school romeo-and-juliet read-in-2016 favorite-books literary-fiction read-classics                                                                                                                                                      \n",
       "29    to-read favorites mystery crime fiction contemporary kindle thriller books-i-own library owned read-in-2015 ebook to-buy suspense psychological-thriller my-books mystery-thriller book-club audible romance adult dnf audio-book default realistic-fiction read-in-2016 owned-books my-library currently-reading finished 2015-reading-challenge favourites 5-stars thrillers gone-girl dysfunctional-family audiobooks audiobook book-group all-time-favorites psychological-mystery favorite adult-fiction murder family kindle-books movies 4-stars couldn-t-finish maybe want-to-read on-hold books 21st-century usa 2014-read books-to-movies mystery-thriller-suspense have literary-fiction read-2016 listened-to gillian-flynn novels my-bookshelf summer-reading contemporary-fiction mental-illness on-kindle 2015-books loved mystery-suspense on-my-bookshelf books-i-have sociopath psychological audio american-literature shelfari-favorites favs bought read-in-2017 mysteries adult-books creepy mystery-thriller-horror read-2015 dark 2015-challenge paperback purchased marriage abandoned for-fun summer-2014 recommend english modern 2016-reads                                                                                                                                                                                     \n",
       "...                                                                                                                                                                                                                                                                                                                                                                                                                                                                                                                                                                                                                                                                                                                                                                                                                                                                                                                                                                                                                                                                                                                                                                       ...                                                                                                                                                                                     \n",
       "9970  to-read currently-reading romance kindle contemporary contemporary-romance melody-anne series ebook favorites erotica billionaire adult free ebooks freebies owned freebie kindle-books secret-baby billionaires alpha-male books-i-own nook on-kindle fiction kindle-freebie second-chance e-book pregnancy owned-books ibooks chick-lit e-books dnf purchased revenge lendable romance-contemporary erotic-romance second-chance-romance baby own-kindle anne-melody billionaire-romance new-adult virgin-heroine baby-for-the-billionaire i-own part-of-a-series read-2015 read-in-2012 on-my-kindle adult-romance kindle-unlimited kindle-free second-chances 4-stars first-in-series amazon kindle-lendable 3-stars erotic steamy m-f kindle-freebies harlequin kobo nook-books part-of-series free-kindle-books read-in-2014 have read-2014 adult-fiction virgin own-on-kindle kindle-book pregnant secret-child re-read default my-books own-it 2015-reads maybe meh bad-boys hea downloaded free-books free-ebook own-ebook amazon-freebie amazon-freebies millionaire rich-men read-in-2015 2015-read 2017-reads                                                                                                                                                                                                                                   \n",
       "9971  to-read fiction currently-reading short-stories vonnegut owned kurt-vonnegut science-fiction classics favorites books-i-own literature american humor library default sci-fi short-fiction owned-books kindle short-story-collections satire to-buy short my-library ebook general-fiction favorite-authors short-story i-own audiobooks contemporary stories collection contemporary-fiction audiobook american-literature 20th-century collections my-books bookshelf adult anthology personal-library humour signed short-story-collection shortstories novels books shelfari-favorites usa literary american-lit to-read-fiction classic e-book read-2013 adult-fiction modern-classics unfinished scifi books-owned fiction-general fiction-and-literature own-it audio novel shelfari-wishlist literary-fiction owned-unread sf comedy in-my-library scanned at-home already-own fiction-classic read-in-2014 on-my-shelf ebooks my-collection lit biography need-to-buy unread science calibre owned-to-read to-read-owned not-read currently-own 2000 shelfie-app-books own-ebook essays-short-stories the-lewis-library my-home-library author-kurt-vonnegut a2                                                                                                                                                                                    \n",
       "9972  to-read currently-reading non-fiction self-help relationships nonfiction psychology relationship self-improvement favorites marriage family books-i-own counseling personal-development reference therapy personal-growth kindle love to-read-non-fiction parenting wish-list default non-fiction-to-read personal marriage-and-family owned audiobook audio ebook school to-buy adult audible maybe self-development didn-t-finish science marriage-relationships audiobooks library audio-book partially-read christian to-read-self-help happiness marriage-family psychotherapy own-it philosophy how-to self book-club abandoned unfinished on-hold did-not-finish religion mental-health professional growth social-work love-and-relationships favourites my-books reread i-own read-in-2014 read-in-2017 ebooks read-2017 life recommended next to-read-nonfiction sociology calibre personal-library 2016-reads leadership spiritual scanned adult-non-fiction psych relationships-marriage owned-books re-read shelfari-favorites spirituality college to-find work not-finished pop-psych other-nonfiction counselling resource marriage-and-relationships marriage-relationship                                                                                                                                                                 \n",
       "9973  to-read childrens fiction young-adult children children-s kids middle-grade favorites childhood childhood-favorites children-s-books ya realistic-fiction series currently-reading juvenile humor juvenile-fiction banned-books kids-books family children-s-literature chapter-books books-i-own owned childrens-books children-s-lit childhood-books children-s-fiction childrens-fiction funny youth middle-grades kid-lit lois-lowry childhood-reads childrens-lit childrens-literature re-read read-in-2015 female-author read-as-a-child read-as-a-kid children-young-adult childrens-ya default classics library audio kindle contemporary 20th-century my-childhood children-ya tween kidlit kids-ya anastasia-krupnik novels teen re-reads american junior-fiction kids-fiction reread coming-of-age classic childhood-favourites ebooks borrowed realistic comedy young-readers read-in-childhood when-i-was-a-kid young-adult-children favourites owned-books all-time-favorites audiobooks read-in-2014 school nostalgia for-the-kids 1970s first-in-series humour books-from-my-childhood books-from-childhood books-i-read-as-a-kid children-fiction childrensbooks j-fiction for-children families childrens-chapter-books kids-to-read chapter my-childhood-reads                                                                           \n",
       "9974  to-read currently-reading default fiction fantasy david-gemmell owned heroic-fantasy favorites epic-fantasy gemmell books-i-own sword-and-sorcery adventure owned-books sci-fi-fantasy epic series fantasy-fiction scifi-fantasy kindle ebooks gemmell-david drenai-saga fantasy-sci-fi to-buy e-books calibre library david-gemmel my-books my-library books action unread favourites i-own historical sci-fi sff 1 to-read-fantasy fantasy-series héroïc-fantasy re-read novels english novel fantasy-and-sci-fi fantasy-read read-2016 owned-unread paperback want scifi sf-fantasy fantasy-scifi 1980s g fantasy-books to-review 1980-1989 drenai-series magic audiobook read-in-2015 shelfari-favorites read-in-2017 not-interested home-library wish-list romans 20th-century maybe next tbr sci-fi-and-fantasy military home physical pre-goodreads physical-copy series-to-finish at-home fantasy-sf e-reader interesting available old-books classic-fantasy fantasy-general fantasy-classic pfaf 2015-challenge to-read-maybe james-bowmans-books david-gemell fantasy-heroic the-drenai-saga fantaisie                                                                                                                                                                                                                                           \n",
       "9975  to-read fantasy young-adult favorites magic books-i-own romance ya series currently-reading owned fiction maria-v-snyder high-fantasy paranormal adventure ya-fantasy sci-fi-fantasy favourites kindle glass ebook adult owned-books library ebooks fantasy-sci-fi read-in-2010 to-buy i-own supernatural default my-books epic-fantasy wish-list teen read-in-2011 read-in-2009 scifi-fantasy read-in-2015 tbr action fantasy-romance favorite read-in-2016 mystery read-in-2014 trilogy young-adult-fantasy maria-snyder audiobook own-it read-2015 paperback signed audiobooks bookshelf read-in-2013 e-books read-in-2012 paranormal-romance glass-series re-read books favourite-books 4-stars love-triangle reviewed books-i-have borrowed fantasy-magic maria-v--snyder all-time-favorites my-library completed-series ya-fiction part-of-a-series action-adventure e-book need-to-buy science-fiction want-to-buy witches urban-fantasy shelfari-favorites read-in-2017 favs shelfari-wishlist have favorite-authors read-2016 adult-fiction calibre ebooks-i-own teen-fantasy my-bookshelf read-2014 read-2013 maybe new-adult                                                                                                                                                                                                                     \n",
       "9976  to-read fiction book-club favorites currently-reading anne-tyler contemporary-fiction contemporary books-i-own literary-fiction general-fiction owned novels novel owned-books kindle women default family-relationships adult adult-fiction women-s-fiction my-books library ebook literature family ebooks book-group american i-own my-library american-literature drama favorite-authors orange-prize shelfari-favorites usa maybe bookclub chick-lit relationships 2006 baltimore tyler life-stages all-time-favorites audio read-in-2012 library-book marriage fiction-contemporary 1995 running-away english own-it female-author e-books unread womens-fiction nook book-club-reads 2016-reads contemporary-lit women-writers women-authors the-lewis-library favorite-books audiobooks books 2005 romance read-in-2014 have literary modern wish-list realistic-fiction kindle-books audio-books abandoned tbr calibre summer-reads family-drama mine own-a-copy oprah psychological fiction-read contemporary-literature modern-lit literature-fiction 1998 anne fiction-literary 5-stars read-in-2016 your-library z-in-zwei-sprachen-vorhanden                                                                                                                                                                                                  \n",
       "9977  to-read fiction japan currently-reading japanese favorites japanese-literature classics japanese-lit literature owned novels asia novel translated asian books-i-own asian-literature japanese-fiction to-buy 20th-century literary-fiction translation 1960s literatura-japonesa mishima favourites read-in-2016 wish-list library school japanese-authors bowie asian-lit in-translation owned-books contemporary adult default my-library general-fiction to-read-fiction read-in-2012 yukio-mishima modern-classics east-asia japanese-books japon read-in-2015 adult-fiction short english ebook literary modern maybe lit fiction-to-read translations cultural bowie-s-top-100 20th-century-fiction literature-japanese books romance روايات library-books classic historical-fiction e-book philosophy abandoned 2016-reads oriental novela sea east-asian david-bowie-top-100 read-in-english read-in-2017 ebooks crime read-in-2013 read-2016 on-hold tbr pdf dnf modernism purchased to-read-2 japão vintage-classics 20th-century-lit novelas japanese-author david-bowie-s-top-100 japoneses 1963 日本語                                                                                                                                                                                                                                          \n",
       "9978  to-read currently-reading historical-fiction wilbur-smith fiction historical favorites africa adventure thriller owned series default south-africa action-adventure favourites library ebook general-fiction book-club avventura owned-books kindle history action books-i-own audiobooks mystery novel ebooks paperback smith-wilbur books adult-fiction fiction-historical my-books english wish-list general 19th-century family-saga south-african courtney smith series-courtney novels audio drama modern adult to-read-fiction mystery-thriller suspense family e-book thrillers recommended did-not-finish calibre first-in-series cultural saga my-favourites incipitinwikiquote romanzo adventure-fiction wilbur-a-smith w-smith wilbur-smith-collection audiobook read-in-2016 to-buy read-in-2014 contemporary read-in-english read-2015 maybe abandoned unfinished recommended-to-me collection unread want-to-buy i-own-a-copy books-read fictions african thriller-mystery 1st-in-series fiction-general have-read debut our-library owned-not-read new-series own-unread house bbc-bookclub setting-south-africa historical-ficton                                                                                                                                                                                                          \n",
       "9979  to-read christian-fiction historical-fiction romance christian historical currently-reading historical-romance fiction favorites christian-romance books-i-own deeanne-gist adult chick-lit library inspirational western christian-historical-fiction i-own kindle adult-fiction owned christian-books 19th-century inspirational-fiction clean-romance read-in-2016 christian-lit default audiobook my-library own-it read-in-2011 wish-list religious inspirational-romance owned-books my-books shelfari-favorites chic-lit california christianfiction christian-historical christian-historical-romance historical-christian-fiction favorite-books novels e-book audio-books history gist-deeanne all-time-favorites favorite my-favorites ebook home-library american maybe paperback fiction-historical paper own-a-copy own-book christian-to-read read-2009 2015-reading-list romance-historical book christian-novels genre-romance 2010-read historical-christian christian-fiction-historical deanne-gist series re-reads novel read-in-2014 my-bookshelf america library-books family read-in-2013 library-book bought 2013-read college romantic historical-fic misc fun-reads g 1800s my-personal-library western-romance next-in-line historical-christian-romance gist-deanne historical-romance-fiction                                 \n",
       "9980  to-read currently-reading mystery jeffery-deaver thriller default fiction crime favorites owned lincoln-rhyme deaver owned-books crime-thriller kindle books-i-own mystery-thriller series audiobook mysteries audiobooks audio suspense deaver-jeffery english 2005 wish-list library to-buy paperback jeffrey-deaver read-in-2016 audio-books detective thrillers deaver-jeffrey have crime-mystery-thriller mystery-thriller-suspense need-to-buy finished lincoln-rhyme-series e-book mystery-thrillers thriller-crime borrowed on-kindle mystery-suspense-thriller jeffery-deaver-lincoln-rhyme books novel read-in-2014 audible krimi crime-mystery mystery-crime unread serial-killers forensic-thriller have-book novels contemporary home-library usa contemporary-fiction drama general-fiction ebooks audio-book read-2014 listened-to read-2016 mystery-detective mysteries-thrillers read-in-2012 library-book bought on-the-shelf buy 1 purchased hardcover hardback books-read have-read detective-fiction law-enforcement detective-mystery d pop-fiction amelia-sachs gialli-e-thriller krimis incipitinwikiquote suspense-mystery read-in-2017 own-to-read jefferey-deaver series-in-progress jeffery-deavers                                                                                                                             \n",
       "9981  to-read urban-fantasy fantasy paranormal favorites currently-reading romance paranormal-romance fae karen-marie-moning series adult read-in-2016 magic fever fiction fever-series library read-2016 kindle supernatural wish-list favorite-series fairies books-i-own to-buy 2016-reads owned alpha-male pnr audiobook faeries moning-karen-marie not-yet-released to-be-released fantasy-paranormal paranormal-fantasy audio adult-fiction uf 2016-releases part-of-a-series audible 2016-read ebook dnf dystopian dystopia audiobooks favourites dark post-apocalyptic ireland 2016-release sci-fi-fantasy favorite-authors mystery audio-books maybe 2016-books kick-ass-heroine ebooks pnr-uf fey read-in-2017 read-2017 need-to-buy urban favorite-author paranormal-urban-fantasy can-t-wait not-interested must-read new-adult series-to-finish next-in-series moning kmm adventure contemporary tbr romance-paranormal coming-soon 2016-favorites i-own favorite action sci-fi faerie january-2016 waiting-for-release series-fever faves e-book adult-fantasy horror 2016-reading-challenge shapeshifters fantasy-romance 2016-challenge                                                                                                                                                                                                           \n",
       "9982  to-read manga mangá fantasy favorites currently-reading blue-exorcist owned graphic-novels supernatural young-adult books-i-own shounen read-manga demons mangas paranormal mangás comics graphic-novel manga-read series action manga-graphic-novels shonen anime fiction comics-manga manga-i-own shōnen library ya default urban-fantasy read-in-english comics-and-manga magic owned-books manga-comics owned-manga horror japanese manga-shounen kazue-kato re-read i-own teen read-in-2014 wish-list library-book manga-anime favourites my-books own-it read-in-2015 action-adventure read-2015 read-in-2013 angels-and-demons manga-to-read to-read-manga manga-and-comics manga-collection demon comics-graphic-novels mangas-comics manga-shonen adventure read-in-2016 to-buy 5-star read-in-2017 my-bookshelf 2015-reads humor angels-demons paperback comedy comic manga-and-graphic-novels graphic-novels-manga graphic-novels-and-manga manga-and-manhwa comic-manga graphic-novel-manga graphic-novels-comics manga-light-novels ed-arg ao-no-exorcist library-books read-2017 graphic favorite-mangas comic-books summer-2015 i-have books-read-in-2017 in-portuguese graphic-manga type-manga                                                                                                                                             \n",
       "9983  to-read travel non-fiction favorites nature nonfiction memoir adventure philosophy currently-reading fiction buddhism biography animals religion nepal asia owned natural-history classics spirituality science books-i-own tibet memoirs travel-adventure nature-writing mountains travel-writing travelogue himalayas to-buy literature national-book-award library book-club spiritual environment biography-memoir science-nature wish-list history favourites default abandoned autobiography autobiography-memoir to-read-non-fiction travel-books memoir-biography zen wildlife mountaineering owned-books american 20th-century adventure-travel outdoors bookclub exploration 501-must-read-books my-library recommended to-read-nonfiction did-not-finish philosophy-religion non-fic anthropology science-and-nature adventure-books all-time-favorites my-books other american-literature adult non-fiction-to-read borrowed want-to-read unread 1970s nonfiction-to-read penguin-classics nature-science outside i-own audiobook novels kindle maybe next tbr nonfic books-to-buy around-the-world geography journalism cats prize-winner creative-non-fiction central-asia                                                                                                                                                                    \n",
       "9984  to-read tom-clancy fiction thriller owned currently-reading default clancy ebooks action calibre clancy-tom books-i-own library books mystery action-adventure thrillers sci-fi military adventure i-own ebook have suspense science-fiction espionage net-force owned-books e-books speculative-fiction have-to-read archive fiction-war steve-perry tom-clancy-net-force series kindle wish-list audio-books paperback unread science-fiction-and-fantasy 1 spy donated scanned books-owned military-fiction military-thriller techno-thriller other-fiction available author-tom-clancy espionnage netforce second-hand-books family mystery-thrillers thriller-crime world want-to-buy home wwii at-home all watched 0-owned selling got-it conseguir ebooks-to-read gave-away crime-and-thrillers box-2 my-physical-books roald-dahl on-e-reader lazylibrarian_have alpha-male-action box-in-trailer gonna-read-asap created-by-tom-clancy justin-books so-much-fun-i-had-to-read-it-again tom-clancy-net-force-series z-2000-pub _d library-of-payne espionage-to-read nate-s-shelf everything-else unread-books-i-own ken-s-books not-now have-not-yet-read tc-netforce to-read-owned-in-real-life _audiobooks vivek-booklist                                                                                                                        \n",
       "9985  to-read christian-fiction currently-reading christian fiction terri-blackstock favorites series mystery books-i-own default suspense audio kindle thriller audio-books inspirational dystopian christian-books owned audiobook romance contemporary religious post-apocalyptic christian-suspense christian-mystery library mystery-suspense adventure audiobooks contemporary-fiction need apocalyptic inspirational-fiction christianfiction restoration-series blackstock-terri blackstock my-books my-favorites shelfari-wishlist adult wish-list family ebooks adult-fiction science-fiction christian-novels restoration owned-books favorite read-again general-fiction mystery-thriller realistic-fiction thrillers tbr sci-fi borrowed want-to-read paperback purchased faith religious-fiction read-in-2009 to-read-christian read-in-2008 thriller-suspense already-read survival apocalypse end-of-the-world christian-inspirational series-books alabama read-in-the-past christian-inspirational-fiction terry-blackstock really-liked outdoors 2017-reading-challenge on-kindle dnf hard-copy fiction-general incomplete-series action-suspense own-but-not-read-yet ryan box-6 books-just-for-fun 2016-completed blackstock_terri christian-author owned-but-incomplete-series incredible zoe ky-unbound travel-agent-challenge-books-read  \n",
       "9986  to-read iris-johansen mystery currently-reading suspense default fiction thriller series eve-duncan-series owned eve-duncan crime johansen-iris mystery-thriller books-i-own mystery-suspense johansen mysteries kindle thrillers romance library favorites romantic-suspense audio iris-johansen-eve-duncan contemporary have read-in-2011 ebooks owned-books i-own my-library ebook audible calibre suspense-thriller eve iris-johanson audiobook wish-list unread duncan my-books books to-buy home-library audio-books e-books adult-fiction women read-in-2010 paranormal supernatural adult crime-fiction audio-book read-2011 want 2011-books own-to-read mystery-suspense-thriller kidnapping catherine-ling-series iris adventure audiobooks detective mystery-crime first-reads read-in-2012 finished nook purchased 2011-reads hardcover anthropology thriller-mystery thriller-suspense character fictitious j investigation sculptors reconstruction facial done e-book bought 2013-books on-kindle kobo ibooks suspense-mystery to-listen 2016-books-read 10 iris-johansen-catherine-ling johansen-eve                                                                                                                                                                                                                                        \n",
       "9987  to-read philosophy currently-reading law classics politics ethics non-fiction political-science owned favorites to-buy political economics justice political-philosophy social-justice library partially-read academic default to-read-non-fiction political-theory english nonfiction to-read-nonfiction sociology theory to-read-philosophy phil liberalism books-i-own my-library american wish-list owned-books history philosophy-to-read politics-economics politica philosophy-political kindle home-library reference want filosofía philosophy-and-religion philosophy-books university legal philosophy-politics political-economy ebook maybe philosophie philo philosophy-theory filosofi filosofie home modern-library political-thought jurisprudence america non-fiction-to-read philosophy-religion religion-philosophy western-philosophy science 1970s united-states non-fic shelved society social-science nf social-sciences uni to-read-soon poli-sci morality to-read-2016 important economics-politics analytic-philosophy to-read-politics politik derecho harvard ppe politics-and-foreign-policy pol inequality econ1 unfinished required-reading summer-2016 law-school ivy found                                                                                                                                                \n",
       "9988  to-read favorites currently-reading werewolves paranormal young-adult romance fantasy quinn-loftis ya wolves series paranormal-romance kindle shifters supernatural the-grey-wolves werewolf magic witches ebook grey-wolves shapeshifters favourites ebooks shifter the-grey-wolves-series books-i-own e-books fae fiction ya-paranormal nook owned owned-books favorite-books kindle-books read-in-2012 funny soulmates grey-wolves-series pnr favorite faeries wolf soul-mates library faves favorite-series loved ya-books fairies my-books 5-stars urban-fantasy to-buy amazing finished on-my-kindle lol teen favs favorite-authors read-in-2013 read-2012 new-adult paranormal-fantasy paranormal-ya weres shape-shifters werewolfs books-i-love all-time-favorites own-it contemporary book-boyfriends want-to-read 2012-reads fav ibooks have-read nook-books young-adult-paranormal prince-of-wolves warewolves loftis-quinn re-read books audio read-in-2014 5-star read-2015 calibre 1 alpha-male alpha-males already-read series-to-finish indie to-review                                                                                                                                                                                                                                                                                     \n",
       "9989  fiction pulitzer currently-reading pulitzer-prize pulitzer-prize-winners pulitzer-fiction pulitzer-winners pulitzers music cuba favorites to-read pulitzer-prize-fiction historical-fiction literature novels owned literary-fiction book-club pulitzer-prize-for-fiction books-i-own pulitzer-prize-winner new-york latin-america owned-books pulitzer-winner contemporary-fiction latino kindle american american-literature new-york-city caribbean latin-american library novel modern-fiction cuban classics to-buy contemporary american-lit to-read-fiction adult-fiction unfinished didn-t-finish book-group fiction-to-read pulitzer-fiction-winners pulitzer-project my-library usa literary american-fiction 20th-century gave-up-on nyc prize-winners award-winners latin-american-lit latin latino-lit pulitzer-winners-fiction default my-books wish-list historical e-book maybe movie mine award-winner immigrants prize-pulitzer pulitzer-prizes pulitzer-challenge pulitzers-to-read pulitzer-to-read bookshelf love adult americana family school lit recommended abandoned tbr couldn-t-finish i-own-a-copy read-in-2009 multicultural film fiction-and-literature award-winning award-pulitzer latina-o latino-a blogged pulitzer-books                                                                                                \n",
       "9990  to-read currently-reading fiction africa magical-realism favorites man-booker-prize booker-prize fantasy nigeria booker-prize-winners booker man-booker african african-literature novels african-lit books-i-own literary-fiction contemporary magic-realism 20th-century man-booker-prize-winners abandoned classics to-buy booker-winners default owned novel booker-prize-winner library kindle owned-books literature nigerian general-fiction wish-list man-booker-winners bookers to-read-fiction did-not-finish booker-winner literary maybe unfinished postcolonial african-fiction adult adult-fiction book-club 1990s man-booker-prize-winner african-authors contemporary-fiction modern-fiction gave-up-on award-winner african-writers favourites my-library english fiction-to-read owned-to-read post-colonial world-lit all-time-favorites my-books own-it ebook school world didn-t-finish poc guardian-1000 prize-winners award-winners world-literature series i-own british non-fiction reviewed authors-of-color dnf unread stopped-reading to-read-owned cultural book-lust cultural-africa fiction-literature read-in-2015 shelfari-wishlist must-read politics netgalley twin-peaks shelved spirituality-religion                                                                                                                  \n",
       "9991  fantasy to-read epic-fantasy favorites high-fantasy fiction dragons series owned to-read-fantasy to-buy fantasy-to-read maybe kindle did-not-finish wish-list magic books-i-own adventure sci-fi-fantasy fantasy-sci-fi library dnf ebook audiobooks epic adult war abandoned audiobook military owned-books historical-fiction favourites audible default on-hold first-in-series tbr-fantasy military-fantasy tbr historical-fantasy dark-fantasy fantasy-series fantasy-tbr interested-in the-traitor-son-cycle my-books scifi-fantasy read-in-2014 didn-t-finish to-read-owned new-series might-read grimdark to-read-soon unfinished-series medieval interested series-to-start really-want-to-read sword-and-sorcery miles-cameron books read-in-2016 to-read-fiction ebooks e-books to-get need-to-buy must-read calibre series-to-read adult-fantasy looks-interesting maybe-read dropped gritty-fantasy considering novels my-library novel fantasy-read audio-book read-2016 adult-fiction recommended unfinished science-fiction want-to-read want want-to-buy sci-fi-and-fantasy gave-up fiction-fantasy books-to-buy 1 need-to-get fantasy-high heroic-fantasy                                                                                                                                                                                 \n",
       "9992  to-read history non-fiction currently-reading nonfiction medieval historical england favorites books-i-own to-buy owned british-history medieval-history travel library reference middle-ages wish-list 14th-century default english-history time-travel european-history to-read-nonfiction audiobook historical-fiction historical-non-fiction kindle to-read-history research british britain history-medieval audiobooks my-library adult to-read-non-fiction history-non-fiction nonfiction-history europe fiction owned-books english maybe uk abandoned did-not-finish non-fiction-history audio social-history my-books non-fic culture cultural-history ebook audible read-in-2012 history-to-read ebooks audio-book unfinished non-fiction-to-read london fantasy read-in-2015 library-books nonfic history-nonfiction favourites i-own read-in-2013 read-2012 need-to-buy humour history-biography nonfiction-to-read factual own-it read-in-2014 read-in-2017 other 21st-century audio-books read-2015 book-club on-hold unread 1 owned-to-read brit-lit interested world-history history-books great-britain general-history do-not-own história anglophilia tbr-non-fiction                                                                                                                                                                   \n",
       "9993  to-read fantasy favorites fairy-tales currently-reading series mystery fiction sisters-grimm young-adult childrens adventure books-i-own middle-grade magic children-s kids ya fairy-tale children the-sisters-grimm owned fairytale juvenile children-s-books juvenile-fiction fairytales kids-books michael-buckley library to-buy fairy-tale-retellings re-read childrens-books family audio childhood audiobooks retellings audiobook childhood-books middle-school 5-stars favourites my-books favorite detective retelling sci-fi-fantasy all-time-favorites default own-it favorite-series youth audio-books humor fairies owned-books i-own want-to-own funny fractured-fairy-tales favorite-books fantasy-sci-fi urban-fantasy books scifi-fantasy faves shelfari-favorites romance childhood-favorites dragons action-adventure childhood-reads read-aloud childrens-fiction chapter-books library-book kid-books war childrens-fantasy children-fiction read-in-2010 modern-fantasy hardcover middle-grades junior-fiction girl-power faeries best-books-ever fairytale-retelling grimm sister-s-grimm ebook have need-to-buy books-i-have elementary-school tween betrayal                                                                                                                                                                      \n",
       "9994  to-read classics fiction literature classic 1001-books historical-fiction owned american-literature american novels 1001 19th-century favorites currently-reading school american-lit 1001-books-to-read-before-you-die books-i-own short-stories novel 1001-import classic-literature read-for-school historical adventure high-school classic-lit 1001-to-read novella library for-school 1001-books-you-must-read-before-you 1001-books-to-read literary-fiction melville american-classics school-books classic-fiction nautical short-classics default audiobook english usa literary adult wish-list college ap-lit required-reading to-buy general-fiction maritime literature-american herman-melville ror my-library history adult-fiction 1900s book-club novellas sea audiobooks ebook america read-in-school school-reads to-read-classics did-not-finish queer law sea-stories classics-american law-school owned-books audio have american-fiction to-read-fiction americana audio-books read-in-2012 lit 1001-list short-story short gay 1920s classici the-sea 19th-century-american read-in-2017 narrativa audible read-2017 uni easton-press challenge-1                                                                                                                                                                                  \n",
       "9995  to-read urban-fantasy fantasy romance paranormal paranormal-romance favorites magic currently-reading ilona-andrews series shapeshifters shifters fiction pnr adult audiobook owned kindle supernatural library ebook uf the-edge werewolves audio books-i-own read-in-2011 default fantasy-romance audiobooks contemporary sci-fi-fantasy adventure favourites shapeshifter ebooks witches urban e-book pnr-uf shifter favorite-series action read-in-2010 read-in-2012 fantasy-paranormal paranormal-urban-fantasy favorite-authors kick-ass-heroine shape-shifters andrews-ilona read-in-2014 part-of-a-series audible fantasy-urban romance-paranormal mystery audio-book 5-stars wish-list e-books sci-fi m-f favorite-author werewolf scifi-fantasy action-adventure family 4-stars weres re-read favorite to-buy read-in-2013 adult-fiction reviewed nook all-time-favorites own-it read-in-2017 read-2015 funny contemporary-fantasy alpha-male andrews the-edge-series owned-books fantasy-sci-fi read-in-2015 read-2014 read-2016 2013-reads dnf calibre modern-fantasy paranormal-fantasy uf-pnr kick-ass-heroines shape-shifter                                                                                                                                                                                                                 \n",
       "9996  to-read biography history politics non-fiction currently-reading american-history presidents nonfiction favorites biographies us-presidents owned presidential-biographies biography-memoir us-history political audible hist texas bio default audiobook audio presidential presidential-biography political-history lbj owned-books biography-autobiography history-biography american-presidents library kindle bios political-biography books-i-own audiobooks 20th-century to-read-nonfiction political-science series my-library american usa historical u-s-history u-s-presidents president my-books to-buy ebook america memoir-biography memoir-bio unread history-american presidential-history presidential-bios journalism government biography-history hist-usa american-politics caro favourites classics bookshelf shelfari-wishlist americana audio-books non-fiction-to-read war bio-memoir want calibre leadership non-fiction-history united-states history-to-read history-and-biography do-not-own 1990 united ryan-holiday pleasure politics-and-foreign-policy the-years-of-lyndon-johnson lyndon-johnson history-united-states library-books read-2016 read-2017 biography-memoirs part-of-series to-read-biographies books-in-library fdr presidential-series history-america                                                     \n",
       "9997  to-read historical-fiction fiction historical currently-reading aubrey-maturin adventure owned nautical favorites patrick-o-brian history war naval age-of-sail audiobook audiobooks default series military nautical-fiction napoleonic books-i-own library naval-fiction sea sea-stories napoleonic-wars british audio literature fiction-historical o-brian kindle maritime sailing classics novels ebook general-fiction seafaring aubrey-maturin-series action historic-fiction favourites england audio-books navy novel historical-novels own-it action-adventure ebooks calibre 19th-century master-and-commander my-books my-library lit historical-novel the-sea napoleonic-era reread 2004 20th-century listened-to historicalfiction military-fiction regency patrick-o-brien aubreyad jack-aubrey owned-books re-read all-time-favorites contemporary-fiction audio-book e-books stories unread 2006 wars britain to-read-historical-fiction century jack stephen great avventura series-aubrey-maturin aubrey maturin read-in-2015 shelfari-favorites to-buy read-in-2013 historical-fic to-read-series war-military master-commander                                                                                                                                                                                                         \n",
       "9998  to-read non-fiction nonfiction parenting feminism sociology psychology currently-reading feminist gender favorites book-club adult library women kindle women-s-studies gender-studies read-in-2011 pop-culture culture ebook memoir read-in-2012 books-i-own audiobooks to-read-non-fiction womens-studies family social-commentary wish-list to-read-nonfiction social-issues to-buy contemporary nonfic owned memoirs education non-fic audiobook read-in-2013 humor motherhood adult-nonfiction adult-non-fiction girl-power girls feminist-lit read-in-2016 library-books ebooks read-2011 nook female-authors consumerism parenthood read-in-2014 abandoned social-justice bookclub 2012-reads society research women-s-issues audio-books history e-books library-book non-fiction-to-read politics 2013-reads 2012-books book-club-books essays 2011-reads nonfiction-to-read child-development parenting-books children kids audio female-author read-2014 maybe recommended unfinished chick-lit 2011-books baby social-science social-sciences sexuality feminist-non-fiction read-2013 read-2012 for-school on-hold gave-up-on girlhood                                                                                                                                                                                                         \n",
       "9999  to-read history currently-reading non-fiction military-history war wwi world-war-i military nonfiction ww1 world-war-1 owned european-history hist world-history world-war-one first-world-war default favorites books-i-own politics historical history-military europe ww-i library to-read-history to-buy history-european germany american-history warfare owned-books 20th-century france my-library reference abandoned history-wwi english ebook wish-list world non-fiction-to-read history-biography history-books history-to-read general-history modern-history history-ww1 ww-1 my-books home-library british-history great-war war-military england to-read-nonfiction on-hold want-to-read us-history russia historia the-great-war 20th-century-history it-wikipedia histoire german-history audiobook kindle have to-read-non-fiction unfinished military-war britain history-nonfiction french-history history-europe history-war i storia geschiedenis john-keegan other historical-fiction ebooks biography book-collection did-not-finish stopped-reading scanned histories nonfiction-history international-relations history-politics world-war war-ww1 modern-european-history wwi-general                                                                                                                                           \n",
       "\n",
       "[10000 rows x 24 columns]"
      ]
     },
     "execution_count": 23,
     "metadata": {},
     "output_type": "execute_result"
    }
   ],
   "source": [
    "books_final=pd.merge(books,book_tags_final,on='goodreads_book_id',how='left')\n",
    "books_final"
   ]
  },
  {
   "cell_type": "markdown",
   "metadata": {},
   "source": [
    "### There are 34252 tags overall in the dataset, to build a simple Content Based Filtering system, we can build a TF-IDF Model and then calculate the cosine similarity"
   ]
  },
  {
   "cell_type": "code",
   "execution_count": 24,
   "metadata": {},
   "outputs": [],
   "source": [
    "from sklearn.feature_extraction.text import TfidfVectorizer\n",
    "from sklearn.metrics.pairwise import linear_kernel"
   ]
  },
  {
   "cell_type": "code",
   "execution_count": 25,
   "metadata": {},
   "outputs": [],
   "source": [
    "def getSimilarityMatrix(data,ngram_range=(1,2),min_df=0):\n",
    "    tf=TfidfVectorizer(analyzer='word',ngram_range=ngram_range)\n",
    "    tfidf_matrix=tf.fit_transform(data)\n",
    "    cosine_sim=linear_kernel(tfidf_matrix,tfidf_matrix)\n",
    "    return cosine_sim"
   ]
  },
  {
   "cell_type": "code",
   "execution_count": 26,
   "metadata": {},
   "outputs": [
    {
     "data": {
      "text/plain": [
       "array([[1.        , 0.17127899, 0.1632564 , ..., 0.04547493, 0.06177077,\n",
       "        0.01666192],\n",
       "       [0.17127899, 1.        , 0.17424248, ..., 0.04702583, 0.06293497,\n",
       "        0.02201723],\n",
       "       [0.1632564 , 0.17424248, 1.        , ..., 0.02876147, 0.03575429,\n",
       "        0.01907293],\n",
       "       ...,\n",
       "       [0.04547493, 0.04702583, 0.02876147, ..., 1.        , 0.02642018,\n",
       "        0.07305185],\n",
       "       [0.06177077, 0.06293497, 0.03575429, ..., 0.02642018, 1.        ,\n",
       "        0.06633839],\n",
       "       [0.01666192, 0.02201723, 0.01907293, ..., 0.07305185, 0.06633839,\n",
       "        1.        ]])"
      ]
     },
     "execution_count": 26,
     "metadata": {},
     "output_type": "execute_result"
    }
   ],
   "source": [
    "tag_similarity_matrix=getSimilarityMatrix(books_final['tag_name'])\n",
    "tag_similarity_matrix"
   ]
  },
  {
   "cell_type": "code",
   "execution_count": 27,
   "metadata": {},
   "outputs": [],
   "source": [
    "def getMostSimilarBooks(similarity_matrix,title,n=10):\n",
    "    titles = books_final['title']\n",
    "    indices = pd.Series(books_final.index, index=books['title'])\n",
    "    idx = indices[title]\n",
    "    sim_scores = list(enumerate(similarity_matrix[idx]))\n",
    "    sim_scores = sorted(sim_scores, key=lambda x: x[1], reverse=True)\n",
    "    sim_scores = sim_scores[1:n+1]\n",
    "    book_indices = [i[0] for i in sim_scores]\n",
    "    return titles.iloc[book_indices]"
   ]
  },
  {
   "cell_type": "code",
   "execution_count": 28,
   "metadata": {},
   "outputs": [
    {
     "data": {
      "text/plain": [
       "188     The Lord of the Rings (The Lord of the Rings, #1-3)                  \n",
       "154     The Two Towers (The Lord of the Rings, #2)                           \n",
       "160     The Return of the King (The Lord of the Rings, #3)                   \n",
       "18      The Fellowship of the Ring (The Lord of the Rings, #1)               \n",
       "610     The Silmarillion (Middle-Earth Universe)                             \n",
       "4975    Unfinished Tales of Númenor and Middle-Earth                         \n",
       "2308    The Children of Húrin                                                \n",
       "465     The Hobbit: Graphic Novel                                            \n",
       "8271    The Complete Guide to Middle-Earth                                   \n",
       "963     J.R.R. Tolkien 4-Book Boxed Set: The Hobbit and The Lord of the Rings\n",
       "Name: title, dtype: object"
      ]
     },
     "execution_count": 28,
     "metadata": {},
     "output_type": "execute_result"
    }
   ],
   "source": [
    "getMostSimilarBooks(similarity_matrix=tag_similarity_matrix,title=\"The Hobbit\")"
   ]
  },
  {
   "cell_type": "code",
   "execution_count": 29,
   "metadata": {},
   "outputs": [
    {
     "data": {
      "text/plain": [
       "5579    The Calvin and Hobbes Lazy Sunday Book                           \n",
       "1787    The Calvin and Hobbes Tenth Anniversary Book                     \n",
       "6919    The Indispensable Calvin and Hobbes                              \n",
       "1009    The Essential Calvin and Hobbes: A Calvin and Hobbes Treasury    \n",
       "6589    The Authoritative Calvin and Hobbes: A Calvin and Hobbes Treasury\n",
       "7253    Homicidal Psycho Jungle Cat: A Calvin and Hobbes Collection      \n",
       "5206    The Days Are Just Packed: A Calvin and Hobbes Collection         \n",
       "8977    The Revenge of the Baby-Sat                                      \n",
       "4482    It's a Magical World: A Calvin and Hobbes Collection             \n",
       "6360    There's Treasure Everywhere: A Calvin and Hobbes Collection      \n",
       "Name: title, dtype: object"
      ]
     },
     "execution_count": 29,
     "metadata": {},
     "output_type": "execute_result"
    }
   ],
   "source": [
    "getMostSimilarBooks(similarity_matrix=tag_similarity_matrix,title=\"The Complete Calvin and Hobbes\")"
   ]
  },
  {
   "cell_type": "markdown",
   "metadata": {},
   "source": [
    "We can see this had done really well. But, is this good enough?? \n",
    "\n",
    "this model will only recommend book similar to what he had read. he will not see books of different genres .\n",
    "\n",
    "To solve this, we use Collabrative Filtering\n",
    "\n",
    "### Collabrative Filtering\n",
    "\n",
    "This model is based on the fact that similar users will like similar items."
   ]
  },
  {
   "cell_type": "code",
   "execution_count": 45,
   "metadata": {},
   "outputs": [],
   "source": [
    "ratings=pd.merge(ratings,books[['title','book_id']],on='book_id',how='left')\n",
    "\n",
    "import turicreate\n",
    "ratings_data = turicreate.SFrame(ratings)\n"
   ]
  },
  {
   "cell_type": "code",
   "execution_count": 47,
   "metadata": {},
   "outputs": [
    {
     "data": {
      "text/plain": [
       "(5976479, 4)"
      ]
     },
     "execution_count": 47,
     "metadata": {},
     "output_type": "execute_result"
    }
   ],
   "source": [
    "ratings_data.shape"
   ]
  },
  {
   "cell_type": "code",
   "execution_count": 48,
   "metadata": {},
   "outputs": [
    {
     "data": {
      "text/html": [
       "<div>\n",
       "<style scoped>\n",
       "    .dataframe tbody tr th:only-of-type {\n",
       "        vertical-align: middle;\n",
       "    }\n",
       "\n",
       "    .dataframe tbody tr th {\n",
       "        vertical-align: top;\n",
       "    }\n",
       "\n",
       "    .dataframe thead th {\n",
       "        text-align: right;\n",
       "    }\n",
       "</style>\n",
       "<table border=\"1\" class=\"dataframe\">\n",
       "  <thead>\n",
       "    <tr style=\"text-align: right;\">\n",
       "      <th></th>\n",
       "      <th>user_id</th>\n",
       "      <th>book_id</th>\n",
       "      <th>rating</th>\n",
       "      <th>title</th>\n",
       "    </tr>\n",
       "  </thead>\n",
       "  <tbody>\n",
       "    <tr>\n",
       "      <th>0</th>\n",
       "      <td>1</td>\n",
       "      <td>258</td>\n",
       "      <td>5</td>\n",
       "      <td>The Shadow of the Wind (The Cemetery of Forgotten Books,  #1)</td>\n",
       "    </tr>\n",
       "    <tr>\n",
       "      <th>1</th>\n",
       "      <td>2</td>\n",
       "      <td>4081</td>\n",
       "      <td>4</td>\n",
       "      <td>I am Charlotte Simmons</td>\n",
       "    </tr>\n",
       "    <tr>\n",
       "      <th>2</th>\n",
       "      <td>2</td>\n",
       "      <td>260</td>\n",
       "      <td>5</td>\n",
       "      <td>How to Win Friends and Influence People</td>\n",
       "    </tr>\n",
       "    <tr>\n",
       "      <th>3</th>\n",
       "      <td>2</td>\n",
       "      <td>9296</td>\n",
       "      <td>5</td>\n",
       "      <td>The Drama of the Gifted Child: The Search for the True Self</td>\n",
       "    </tr>\n",
       "    <tr>\n",
       "      <th>4</th>\n",
       "      <td>2</td>\n",
       "      <td>2318</td>\n",
       "      <td>3</td>\n",
       "      <td>The Millionaire Next Door: The Surprising Secrets of Americas Wealthy</td>\n",
       "    </tr>\n",
       "  </tbody>\n",
       "</table>\n",
       "</div>"
      ],
      "text/plain": [
       "   user_id  book_id  rating  \\\n",
       "0  1        258      5        \n",
       "1  2        4081     4        \n",
       "2  2        260      5        \n",
       "3  2        9296     5        \n",
       "4  2        2318     3        \n",
       "\n",
       "                                                                   title  \n",
       "0  The Shadow of the Wind (The Cemetery of Forgotten Books,  #1)          \n",
       "1  I am Charlotte Simmons                                                 \n",
       "2  How to Win Friends and Influence People                                \n",
       "3  The Drama of the Gifted Child: The Search for the True Self            \n",
       "4  The Millionaire Next Door: The Surprising Secrets of Americas Wealthy  "
      ]
     },
     "execution_count": 48,
     "metadata": {},
     "output_type": "execute_result"
    }
   ],
   "source": [
    "ratings.head()"
   ]
  },
  {
   "cell_type": "markdown",
   "metadata": {},
   "source": [
    "#### Split the data into training and validation set"
   ]
  },
  {
   "cell_type": "code",
   "execution_count": 49,
   "metadata": {},
   "outputs": [],
   "source": [
    "training_data, validation_data = turicreate.recommender.util.random_split_by_user(ratings_data, 'user_id', 'book_id',item_test_proportion=0.25)"
   ]
  },
  {
   "cell_type": "code",
   "execution_count": 50,
   "metadata": {},
   "outputs": [
    {
     "data": {
      "text/plain": [
       "(5948715, 4)"
      ]
     },
     "execution_count": 50,
     "metadata": {},
     "output_type": "execute_result"
    }
   ],
   "source": [
    "training_data.shape"
   ]
  },
  {
   "cell_type": "code",
   "execution_count": 51,
   "metadata": {},
   "outputs": [
    {
     "data": {
      "text/plain": [
       "(27764, 4)"
      ]
     },
     "execution_count": 51,
     "metadata": {},
     "output_type": "execute_result"
    }
   ],
   "source": [
    "validation_data.shape"
   ]
  },
  {
   "cell_type": "markdown",
   "metadata": {},
   "source": [
    "Let us first not use ratings, and only use whther a user read a book or not and build a item-item recommender.\n",
    "In turicreate, by deafult if no target field (implicit feedback) is not provided, it defaults to item-item recommender"
   ]
  },
  {
   "cell_type": "code",
   "execution_count": 52,
   "metadata": {},
   "outputs": [
    {
     "data": {
      "text/html": [
       "<pre>Warning: Ignoring columns rating, title;</pre>"
      ],
      "text/plain": [
       "Warning: Ignoring columns rating, title;"
      ]
     },
     "metadata": {},
     "output_type": "display_data"
    },
    {
     "data": {
      "text/html": [
       "<pre>    To use one of these as a target column, set target = <column_name></pre>"
      ],
      "text/plain": [
       "    To use one of these as a target column, set target = <column_name>"
      ]
     },
     "metadata": {},
     "output_type": "display_data"
    },
    {
     "data": {
      "text/html": [
       "<pre>    and use a method that allows the use of a target.</pre>"
      ],
      "text/plain": [
       "    and use a method that allows the use of a target."
      ]
     },
     "metadata": {},
     "output_type": "display_data"
    },
    {
     "data": {
      "text/html": [
       "<pre>Preparing data set.</pre>"
      ],
      "text/plain": [
       "Preparing data set."
      ]
     },
     "metadata": {},
     "output_type": "display_data"
    },
    {
     "data": {
      "text/html": [
       "<pre>    Data has 5948715 observations with 53424 users and 10000 items.</pre>"
      ],
      "text/plain": [
       "    Data has 5948715 observations with 53424 users and 10000 items."
      ]
     },
     "metadata": {},
     "output_type": "display_data"
    },
    {
     "data": {
      "text/html": [
       "<pre>    Data prepared in: 2.37849s</pre>"
      ],
      "text/plain": [
       "    Data prepared in: 2.37849s"
      ]
     },
     "metadata": {},
     "output_type": "display_data"
    },
    {
     "data": {
      "text/html": [
       "<pre>Training model from provided data.</pre>"
      ],
      "text/plain": [
       "Training model from provided data."
      ]
     },
     "metadata": {},
     "output_type": "display_data"
    },
    {
     "data": {
      "text/html": [
       "<pre>Gathering per-item and per-user statistics.</pre>"
      ],
      "text/plain": [
       "Gathering per-item and per-user statistics."
      ]
     },
     "metadata": {},
     "output_type": "display_data"
    },
    {
     "data": {
      "text/html": [
       "<pre>+--------------------------------+------------+</pre>"
      ],
      "text/plain": [
       "+--------------------------------+------------+"
      ]
     },
     "metadata": {},
     "output_type": "display_data"
    },
    {
     "data": {
      "text/html": [
       "<pre>| Elapsed Time (Item Statistics) | % Complete |</pre>"
      ],
      "text/plain": [
       "| Elapsed Time (Item Statistics) | % Complete |"
      ]
     },
     "metadata": {},
     "output_type": "display_data"
    },
    {
     "data": {
      "text/html": [
       "<pre>+--------------------------------+------------+</pre>"
      ],
      "text/plain": [
       "+--------------------------------+------------+"
      ]
     },
     "metadata": {},
     "output_type": "display_data"
    },
    {
     "data": {
      "text/html": [
       "<pre>| 17.831ms                       | 1.75       |</pre>"
      ],
      "text/plain": [
       "| 17.831ms                       | 1.75       |"
      ]
     },
     "metadata": {},
     "output_type": "display_data"
    },
    {
     "data": {
      "text/html": [
       "<pre>| 167.765ms                      | 100        |</pre>"
      ],
      "text/plain": [
       "| 167.765ms                      | 100        |"
      ]
     },
     "metadata": {},
     "output_type": "display_data"
    },
    {
     "data": {
      "text/html": [
       "<pre>+--------------------------------+------------+</pre>"
      ],
      "text/plain": [
       "+--------------------------------+------------+"
      ]
     },
     "metadata": {},
     "output_type": "display_data"
    },
    {
     "data": {
      "text/html": [
       "<pre>Setting up lookup tables.</pre>"
      ],
      "text/plain": [
       "Setting up lookup tables."
      ]
     },
     "metadata": {},
     "output_type": "display_data"
    },
    {
     "data": {
      "text/html": [
       "<pre>Processing data in one pass using dense lookup tables.</pre>"
      ],
      "text/plain": [
       "Processing data in one pass using dense lookup tables."
      ]
     },
     "metadata": {},
     "output_type": "display_data"
    },
    {
     "data": {
      "text/html": [
       "<pre>+-------------------------------------+------------------+-----------------+</pre>"
      ],
      "text/plain": [
       "+-------------------------------------+------------------+-----------------+"
      ]
     },
     "metadata": {},
     "output_type": "display_data"
    },
    {
     "data": {
      "text/html": [
       "<pre>| Elapsed Time (Constructing Lookups) | Total % Complete | Items Processed |</pre>"
      ],
      "text/plain": [
       "| Elapsed Time (Constructing Lookups) | Total % Complete | Items Processed |"
      ]
     },
     "metadata": {},
     "output_type": "display_data"
    },
    {
     "data": {
      "text/html": [
       "<pre>+-------------------------------------+------------------+-----------------+</pre>"
      ],
      "text/plain": [
       "+-------------------------------------+------------------+-----------------+"
      ]
     },
     "metadata": {},
     "output_type": "display_data"
    },
    {
     "data": {
      "text/html": [
       "<pre>| 595.16ms                            | 0                | 0               |</pre>"
      ],
      "text/plain": [
       "| 595.16ms                            | 0                | 0               |"
      ]
     },
     "metadata": {},
     "output_type": "display_data"
    },
    {
     "data": {
      "text/html": [
       "<pre>| 3.60s                               | 62.25            | 6237            |</pre>"
      ],
      "text/plain": [
       "| 3.60s                               | 62.25            | 6237            |"
      ]
     },
     "metadata": {},
     "output_type": "display_data"
    },
    {
     "data": {
      "text/html": [
       "<pre>| 5.96s                               | 100              | 10000           |</pre>"
      ],
      "text/plain": [
       "| 5.96s                               | 100              | 10000           |"
      ]
     },
     "metadata": {},
     "output_type": "display_data"
    },
    {
     "data": {
      "text/html": [
       "<pre>+-------------------------------------+------------------+-----------------+</pre>"
      ],
      "text/plain": [
       "+-------------------------------------+------------------+-----------------+"
      ]
     },
     "metadata": {},
     "output_type": "display_data"
    },
    {
     "data": {
      "text/html": [
       "<pre>Finalizing lookup tables.</pre>"
      ],
      "text/plain": [
       "Finalizing lookup tables."
      ]
     },
     "metadata": {},
     "output_type": "display_data"
    },
    {
     "data": {
      "text/html": [
       "<pre>Generating candidate set for working with new users.</pre>"
      ],
      "text/plain": [
       "Generating candidate set for working with new users."
      ]
     },
     "metadata": {},
     "output_type": "display_data"
    },
    {
     "data": {
      "text/html": [
       "<pre>Finished training in 6.15867s</pre>"
      ],
      "text/plain": [
       "Finished training in 6.15867s"
      ]
     },
     "metadata": {},
     "output_type": "display_data"
    }
   ],
   "source": [
    "model = turicreate.recommender.create(training_data, 'user_id', 'book_id')\n"
   ]
  },
  {
   "attachments": {
    "Screenshot%202019-02-22%20at%209.23.24%20PM.png": {
     "image/png": "[encoded data removed]"
    }
   },
   "cell_type": "markdown",
   "metadata": {},
   "source": [
    "\n",
    "![Screenshot%202019-02-22%20at%209.23.24%20PM.png](attachment:Screenshot%202019-02-22%20at%209.23.24%20PM.png)\n"
   ]
  },
  {
   "cell_type": "code",
   "execution_count": 115,
   "metadata": {},
   "outputs": [
    {
     "data": {
      "text/html": [
       "<pre>recommendations finished on 1000/1000 queries. users per second: 2614.24</pre>"
      ],
      "text/plain": [
       "recommendations finished on 1000/1000 queries. users per second: 2614.24"
      ]
     },
     "metadata": {},
     "output_type": "display_data"
    },
    {
     "name": "stderr",
     "output_type": "stream",
     "text": [
      "WARNING:root:Model trained without a target. Skipping RMSE computation.\n"
     ]
    },
    {
     "name": "stdout",
     "output_type": "stream",
     "text": [
      "\n",
      "Precision and recall summary statistics by cutoff\n",
      "+--------+---------------------+----------------------+\n",
      "| cutoff |    mean_precision   |     mean_recall      |\n",
      "+--------+---------------------+----------------------+\n",
      "|   1    |  0.5819999999999997 | 0.022719688156076837 |\n",
      "|   2    |  0.5299999999999996 | 0.04083673435247345  |\n",
      "|   3    |  0.4956666666666664 | 0.05747796162813136  |\n",
      "|   4    |  0.4605000000000007 | 0.07060659731498146  |\n",
      "|   5    |  0.4307999999999995 |  0.0827923044256554  |\n",
      "|   6    | 0.41233333333333305 | 0.09499148182811147  |\n",
      "|   7    |  0.3922857142857146 | 0.10502979187743701  |\n",
      "|   8    | 0.37662499999999954 | 0.11515655919550755  |\n",
      "|   9    | 0.36055555555555563 | 0.12355065524496787  |\n",
      "|   10   |  0.3475999999999998 | 0.13199841539004104  |\n",
      "+--------+---------------------+----------------------+\n",
      "[10 rows x 3 columns]\n",
      "\n"
     ]
    },
    {
     "data": {
      "text/plain": [
       "{'precision_recall_by_user': Columns:\n",
       " \tuser_id\tint\n",
       " \tcutoff\tint\n",
       " \tprecision\tfloat\n",
       " \trecall\tfloat\n",
       " \tcount\tint\n",
       " \n",
       " Rows: 18000\n",
       " \n",
       " Data:\n",
       " +---------+--------+--------------------+----------------------+-------+\n",
       " | user_id | cutoff |     precision      |        recall        | count |\n",
       " +---------+--------+--------------------+----------------------+-------+\n",
       " |    55   |   1    |        0.0         |         0.0          |   21  |\n",
       " |    55   |   2    |        0.0         |         0.0          |   21  |\n",
       " |    55   |   3    | 0.3333333333333333 | 0.047619047619047616 |   21  |\n",
       " |    55   |   4    |        0.25        | 0.047619047619047616 |   21  |\n",
       " |    55   |   5    |        0.2         | 0.047619047619047616 |   21  |\n",
       " |    55   |   6    | 0.3333333333333333 | 0.09523809523809523  |   21  |\n",
       " |    55   |   7    | 0.2857142857142857 | 0.09523809523809523  |   21  |\n",
       " |    55   |   8    |       0.375        | 0.14285714285714285  |   21  |\n",
       " |    55   |   9    | 0.3333333333333333 | 0.14285714285714285  |   21  |\n",
       " |    55   |   10   |        0.4         | 0.19047619047619047  |   21  |\n",
       " +---------+--------+--------------------+----------------------+-------+\n",
       " [18000 rows x 5 columns]\n",
       " Note: Only the head of the SFrame is printed.\n",
       " You can use print_rows(num_rows=m, num_columns=n) to print more rows and columns.,\n",
       " 'precision_recall_overall': Columns:\n",
       " \tcutoff\tint\n",
       " \tprecision\tfloat\n",
       " \trecall\tfloat\n",
       " \n",
       " Rows: 18\n",
       " \n",
       " Data:\n",
       " +--------+---------------------+----------------------+\n",
       " | cutoff |      precision      |        recall        |\n",
       " +--------+---------------------+----------------------+\n",
       " |   1    |  0.5819999999999997 | 0.022719688156076903 |\n",
       " |   2    |  0.5300000000000008 | 0.040836734352473404 |\n",
       " |   3    |  0.4956666666666668 | 0.05747796162813139  |\n",
       " |   4    | 0.46049999999999985 | 0.07060659731498165  |\n",
       " |   5    |  0.4308000000000003 |  0.0827923044256553  |\n",
       " |   6    | 0.41233333333333344 | 0.09499148182811133  |\n",
       " |   7    | 0.39228571428571474 | 0.10502979187743686  |\n",
       " |   8    |  0.3766250000000001 | 0.11515655919550762  |\n",
       " |   9    | 0.36055555555555546 | 0.12355065524496787  |\n",
       " |   10   |  0.3475999999999998 | 0.13199841539004092  |\n",
       " +--------+---------------------+----------------------+\n",
       " [18 rows x 3 columns]\n",
       " Note: Only the head of the SFrame is printed.\n",
       " You can use print_rows(num_rows=m, num_columns=n) to print more rows and columns.}"
      ]
     },
     "execution_count": 115,
     "metadata": {},
     "output_type": "execute_result"
    }
   ],
   "source": [
    "model.evaluate(validation_data)"
   ]
  },
  {
   "cell_type": "code",
   "execution_count": 59,
   "metadata": {},
   "outputs": [],
   "source": [
    "user_1=ratings[ratings['user_id']==55]"
   ]
  },
  {
   "cell_type": "code",
   "execution_count": 68,
   "metadata": {},
   "outputs": [],
   "source": [
    "top_20_user=model.recommend(users=[55],k=10)"
   ]
  },
  {
   "cell_type": "code",
   "execution_count": 70,
   "metadata": {},
   "outputs": [],
   "source": [
    "valid_user=validation_data.filter_by(55,'user_id')"
   ]
  },
  {
   "cell_type": "code",
   "execution_count": 71,
   "metadata": {},
   "outputs": [],
   "source": [
    "final_user=top_20_user.join(valid_user,on='book_id',how='left')"
   ]
  },
  {
   "cell_type": "code",
   "execution_count": 72,
   "metadata": {},
   "outputs": [
    {
     "data": {
      "text/html": [
       "<div style=\"max-height:1000px;max-width:1500px;overflow:auto;\"><table frame=\"box\" rules=\"cols\">\n",
       "    <tr>\n",
       "        <th style=\"padding-left: 1em; padding-right: 1em; text-align: center\">user_id</th>\n",
       "        <th style=\"padding-left: 1em; padding-right: 1em; text-align: center\">book_id</th>\n",
       "        <th style=\"padding-left: 1em; padding-right: 1em; text-align: center\">score</th>\n",
       "        <th style=\"padding-left: 1em; padding-right: 1em; text-align: center\">rank</th>\n",
       "        <th style=\"padding-left: 1em; padding-right: 1em; text-align: center\">user_id.1</th>\n",
       "        <th style=\"padding-left: 1em; padding-right: 1em; text-align: center\">rating</th>\n",
       "        <th style=\"padding-left: 1em; padding-right: 1em; text-align: center\">title</th>\n",
       "    </tr>\n",
       "    <tr>\n",
       "        <td style=\"padding-left: 1em; padding-right: 1em; text-align: center; vertical-align: top\">55</td>\n",
       "        <td style=\"padding-left: 1em; padding-right: 1em; text-align: center; vertical-align: top\">11</td>\n",
       "        <td style=\"padding-left: 1em; padding-right: 1em; text-align: center; vertical-align: top\">0.054220174843410275</td>\n",
       "        <td style=\"padding-left: 1em; padding-right: 1em; text-align: center; vertical-align: top\">3</td>\n",
       "        <td style=\"padding-left: 1em; padding-right: 1em; text-align: center; vertical-align: top\">55</td>\n",
       "        <td style=\"padding-left: 1em; padding-right: 1em; text-align: center; vertical-align: top\">4</td>\n",
       "        <td style=\"padding-left: 1em; padding-right: 1em; text-align: center; vertical-align: top\">The Kite Runner</td>\n",
       "    </tr>\n",
       "    <tr>\n",
       "        <td style=\"padding-left: 1em; padding-right: 1em; text-align: center; vertical-align: top\">55</td>\n",
       "        <td style=\"padding-left: 1em; padding-right: 1em; text-align: center; vertical-align: top\">26</td>\n",
       "        <td style=\"padding-left: 1em; padding-right: 1em; text-align: center; vertical-align: top\">0.04565362829082417</td>\n",
       "        <td style=\"padding-left: 1em; padding-right: 1em; text-align: center; vertical-align: top\">9</td>\n",
       "        <td style=\"padding-left: 1em; padding-right: 1em; text-align: center; vertical-align: top\">None</td>\n",
       "        <td style=\"padding-left: 1em; padding-right: 1em; text-align: center; vertical-align: top\">None</td>\n",
       "        <td style=\"padding-left: 1em; padding-right: 1em; text-align: center; vertical-align: top\">None</td>\n",
       "    </tr>\n",
       "    <tr>\n",
       "        <td style=\"padding-left: 1em; padding-right: 1em; text-align: center; vertical-align: top\">55</td>\n",
       "        <td style=\"padding-left: 1em; padding-right: 1em; text-align: center; vertical-align: top\">14</td>\n",
       "        <td style=\"padding-left: 1em; padding-right: 1em; text-align: center; vertical-align: top\">0.04720570793691671</td>\n",
       "        <td style=\"padding-left: 1em; padding-right: 1em; text-align: center; vertical-align: top\">7</td>\n",
       "        <td style=\"padding-left: 1em; padding-right: 1em; text-align: center; vertical-align: top\">None</td>\n",
       "        <td style=\"padding-left: 1em; padding-right: 1em; text-align: center; vertical-align: top\">None</td>\n",
       "        <td style=\"padding-left: 1em; padding-right: 1em; text-align: center; vertical-align: top\">None</td>\n",
       "    </tr>\n",
       "    <tr>\n",
       "        <td style=\"padding-left: 1em; padding-right: 1em; text-align: center; vertical-align: top\">55</td>\n",
       "        <td style=\"padding-left: 1em; padding-right: 1em; text-align: center; vertical-align: top\">46</td>\n",
       "        <td style=\"padding-left: 1em; padding-right: 1em; text-align: center; vertical-align: top\">0.05117528056198696</td>\n",
       "        <td style=\"padding-left: 1em; padding-right: 1em; text-align: center; vertical-align: top\">5</td>\n",
       "        <td style=\"padding-left: 1em; padding-right: 1em; text-align: center; vertical-align: top\">None</td>\n",
       "        <td style=\"padding-left: 1em; padding-right: 1em; text-align: center; vertical-align: top\">None</td>\n",
       "        <td style=\"padding-left: 1em; padding-right: 1em; text-align: center; vertical-align: top\">None</td>\n",
       "    </tr>\n",
       "    <tr>\n",
       "        <td style=\"padding-left: 1em; padding-right: 1em; text-align: center; vertical-align: top\">55</td>\n",
       "        <td style=\"padding-left: 1em; padding-right: 1em; text-align: center; vertical-align: top\">22</td>\n",
       "        <td style=\"padding-left: 1em; padding-right: 1em; text-align: center; vertical-align: top\">0.053062790407324735</td>\n",
       "        <td style=\"padding-left: 1em; padding-right: 1em; text-align: center; vertical-align: top\">4</td>\n",
       "        <td style=\"padding-left: 1em; padding-right: 1em; text-align: center; vertical-align: top\">None</td>\n",
       "        <td style=\"padding-left: 1em; padding-right: 1em; text-align: center; vertical-align: top\">None</td>\n",
       "        <td style=\"padding-left: 1em; padding-right: 1em; text-align: center; vertical-align: top\">None</td>\n",
       "    </tr>\n",
       "    <tr>\n",
       "        <td style=\"padding-left: 1em; padding-right: 1em; text-align: center; vertical-align: top\">55</td>\n",
       "        <td style=\"padding-left: 1em; padding-right: 1em; text-align: center; vertical-align: top\">33</td>\n",
       "        <td style=\"padding-left: 1em; padding-right: 1em; text-align: center; vertical-align: top\">0.054653500048619394</td>\n",
       "        <td style=\"padding-left: 1em; padding-right: 1em; text-align: center; vertical-align: top\">2</td>\n",
       "        <td style=\"padding-left: 1em; padding-right: 1em; text-align: center; vertical-align: top\">None</td>\n",
       "        <td style=\"padding-left: 1em; padding-right: 1em; text-align: center; vertical-align: top\">None</td>\n",
       "        <td style=\"padding-left: 1em; padding-right: 1em; text-align: center; vertical-align: top\">None</td>\n",
       "    </tr>\n",
       "    <tr>\n",
       "        <td style=\"padding-left: 1em; padding-right: 1em; text-align: center; vertical-align: top\">55</td>\n",
       "        <td style=\"padding-left: 1em; padding-right: 1em; text-align: center; vertical-align: top\">45</td>\n",
       "        <td style=\"padding-left: 1em; padding-right: 1em; text-align: center; vertical-align: top\">0.06324077271065622</td>\n",
       "        <td style=\"padding-left: 1em; padding-right: 1em; text-align: center; vertical-align: top\">1</td>\n",
       "        <td style=\"padding-left: 1em; padding-right: 1em; text-align: center; vertical-align: top\">None</td>\n",
       "        <td style=\"padding-left: 1em; padding-right: 1em; text-align: center; vertical-align: top\">None</td>\n",
       "        <td style=\"padding-left: 1em; padding-right: 1em; text-align: center; vertical-align: top\">None</td>\n",
       "    </tr>\n",
       "    <tr>\n",
       "        <td style=\"padding-left: 1em; padding-right: 1em; text-align: center; vertical-align: top\">55</td>\n",
       "        <td style=\"padding-left: 1em; padding-right: 1em; text-align: center; vertical-align: top\">21</td>\n",
       "        <td style=\"padding-left: 1em; padding-right: 1em; text-align: center; vertical-align: top\">0.04560177393679349</td>\n",
       "        <td style=\"padding-left: 1em; padding-right: 1em; text-align: center; vertical-align: top\">10</td>\n",
       "        <td style=\"padding-left: 1em; padding-right: 1em; text-align: center; vertical-align: top\">55</td>\n",
       "        <td style=\"padding-left: 1em; padding-right: 1em; text-align: center; vertical-align: top\">3</td>\n",
       "        <td style=\"padding-left: 1em; padding-right: 1em; text-align: center; vertical-align: top\">Harry Potter and the<br>Order of the Phoenix ...</td>\n",
       "    </tr>\n",
       "    <tr>\n",
       "        <td style=\"padding-left: 1em; padding-right: 1em; text-align: center; vertical-align: top\">55</td>\n",
       "        <td style=\"padding-left: 1em; padding-right: 1em; text-align: center; vertical-align: top\">24</td>\n",
       "        <td style=\"padding-left: 1em; padding-right: 1em; text-align: center; vertical-align: top\">0.0466096727353222</td>\n",
       "        <td style=\"padding-left: 1em; padding-right: 1em; text-align: center; vertical-align: top\">8</td>\n",
       "        <td style=\"padding-left: 1em; padding-right: 1em; text-align: center; vertical-align: top\">55</td>\n",
       "        <td style=\"padding-left: 1em; padding-right: 1em; text-align: center; vertical-align: top\">3</td>\n",
       "        <td style=\"padding-left: 1em; padding-right: 1em; text-align: center; vertical-align: top\">Harry Potter and the<br>Goblet of Fire (Harry ...</td>\n",
       "    </tr>\n",
       "    <tr>\n",
       "        <td style=\"padding-left: 1em; padding-right: 1em; text-align: center; vertical-align: top\">55</td>\n",
       "        <td style=\"padding-left: 1em; padding-right: 1em; text-align: center; vertical-align: top\">2</td>\n",
       "        <td style=\"padding-left: 1em; padding-right: 1em; text-align: center; vertical-align: top\">0.04786305157643444</td>\n",
       "        <td style=\"padding-left: 1em; padding-right: 1em; text-align: center; vertical-align: top\">6</td>\n",
       "        <td style=\"padding-left: 1em; padding-right: 1em; text-align: center; vertical-align: top\">55</td>\n",
       "        <td style=\"padding-left: 1em; padding-right: 1em; text-align: center; vertical-align: top\">3</td>\n",
       "        <td style=\"padding-left: 1em; padding-right: 1em; text-align: center; vertical-align: top\">Harry Potter and the<br>Sorcerer&#x27;s Stone (Harry ...</td>\n",
       "    </tr>\n",
       "</table>\n",
       "[10 rows x 7 columns]<br/>\n",
       "</div>"
      ],
      "text/plain": [
       "Columns:\n",
       "\tuser_id\tint\n",
       "\tbook_id\tint\n",
       "\tscore\tfloat\n",
       "\trank\tint\n",
       "\tuser_id.1\tint\n",
       "\trating\tint\n",
       "\ttitle\tstr\n",
       "\n",
       "Rows: 10\n",
       "\n",
       "Data:\n",
       "+---------+---------+----------------------+------+-----------+--------+\n",
       "| user_id | book_id |        score         | rank | user_id.1 | rating |\n",
       "+---------+---------+----------------------+------+-----------+--------+\n",
       "|    55   |    11   | 0.054220174843410275 |  3   |     55    |   4    |\n",
       "|    55   |    26   | 0.04565362829082417  |  9   |    None   |  None  |\n",
       "|    55   |    14   | 0.04720570793691671  |  7   |    None   |  None  |\n",
       "|    55   |    46   | 0.05117528056198696  |  5   |    None   |  None  |\n",
       "|    55   |    22   | 0.053062790407324735 |  4   |    None   |  None  |\n",
       "|    55   |    33   | 0.054653500048619394 |  2   |    None   |  None  |\n",
       "|    55   |    45   | 0.06324077271065622  |  1   |    None   |  None  |\n",
       "|    55   |    21   | 0.04560177393679349  |  10  |     55    |   3    |\n",
       "|    55   |    24   |  0.0466096727353222  |  8   |     55    |   3    |\n",
       "|    55   |    2    | 0.04786305157643444  |  6   |     55    |   3    |\n",
       "+---------+---------+----------------------+------+-----------+--------+\n",
       "+-------------------------------+\n",
       "|             title             |\n",
       "+-------------------------------+\n",
       "|        The Kite Runner        |\n",
       "|              None             |\n",
       "|              None             |\n",
       "|              None             |\n",
       "|              None             |\n",
       "|              None             |\n",
       "|              None             |\n",
       "| Harry Potter and the Order... |\n",
       "| Harry Potter and the Goble... |\n",
       "| Harry Potter and the Sorce... |\n",
       "+-------------------------------+\n",
       "[10 rows x 7 columns]"
      ]
     },
     "execution_count": 72,
     "metadata": {},
     "output_type": "execute_result"
    }
   ],
   "source": [
    "final_user"
   ]
  },
  {
   "cell_type": "markdown",
   "metadata": {},
   "source": [
    "### Let us also look at books which are similar based on this"
   ]
  },
  {
   "cell_type": "code",
   "execution_count": 93,
   "metadata": {},
   "outputs": [],
   "source": [
    "book_id=books.loc[books['title']=='The Complete Calvin and Hobbes','book_id'].tolist()\n",
    "\n",
    "similar_items=model.get_similar_items(book_id,k=10)"
   ]
  },
  {
   "cell_type": "code",
   "execution_count": 94,
   "metadata": {},
   "outputs": [
    {
     "data": {
      "text/html": [
       "<div style=\"max-height:1000px;max-width:1500px;overflow:auto;\"><table frame=\"box\" rules=\"cols\">\n",
       "    <tr>\n",
       "        <th style=\"padding-left: 1em; padding-right: 1em; text-align: center\">book_id</th>\n",
       "        <th style=\"padding-left: 1em; padding-right: 1em; text-align: center\">similar</th>\n",
       "        <th style=\"padding-left: 1em; padding-right: 1em; text-align: center\">score</th>\n",
       "        <th style=\"padding-left: 1em; padding-right: 1em; text-align: center\">rank</th>\n",
       "    </tr>\n",
       "    <tr>\n",
       "        <td style=\"padding-left: 1em; padding-right: 1em; text-align: center; vertical-align: top\">3628</td>\n",
       "        <td style=\"padding-left: 1em; padding-right: 1em; text-align: center; vertical-align: top\">1788</td>\n",
       "        <td style=\"padding-left: 1em; padding-right: 1em; text-align: center; vertical-align: top\">0.15306121110916138</td>\n",
       "        <td style=\"padding-left: 1em; padding-right: 1em; text-align: center; vertical-align: top\">1</td>\n",
       "    </tr>\n",
       "    <tr>\n",
       "        <td style=\"padding-left: 1em; padding-right: 1em; text-align: center; vertical-align: top\">3628</td>\n",
       "        <td style=\"padding-left: 1em; padding-right: 1em; text-align: center; vertical-align: top\">1010</td>\n",
       "        <td style=\"padding-left: 1em; padding-right: 1em; text-align: center; vertical-align: top\">0.10102301836013794</td>\n",
       "        <td style=\"padding-left: 1em; padding-right: 1em; text-align: center; vertical-align: top\">2</td>\n",
       "    </tr>\n",
       "    <tr>\n",
       "        <td style=\"padding-left: 1em; padding-right: 1em; text-align: center; vertical-align: top\">3628</td>\n",
       "        <td style=\"padding-left: 1em; padding-right: 1em; text-align: center; vertical-align: top\">5207</td>\n",
       "        <td style=\"padding-left: 1em; padding-right: 1em; text-align: center; vertical-align: top\">0.09836065769195557</td>\n",
       "        <td style=\"padding-left: 1em; padding-right: 1em; text-align: center; vertical-align: top\">3</td>\n",
       "    </tr>\n",
       "    <tr>\n",
       "        <td style=\"padding-left: 1em; padding-right: 1em; text-align: center; vertical-align: top\">3628</td>\n",
       "        <td style=\"padding-left: 1em; padding-right: 1em; text-align: center; vertical-align: top\">780</td>\n",
       "        <td style=\"padding-left: 1em; padding-right: 1em; text-align: center; vertical-align: top\">0.09607499837875366</td>\n",
       "        <td style=\"padding-left: 1em; padding-right: 1em; text-align: center; vertical-align: top\">4</td>\n",
       "    </tr>\n",
       "    <tr>\n",
       "        <td style=\"padding-left: 1em; padding-right: 1em; text-align: center; vertical-align: top\">3628</td>\n",
       "        <td style=\"padding-left: 1em; padding-right: 1em; text-align: center; vertical-align: top\">4483</td>\n",
       "        <td style=\"padding-left: 1em; padding-right: 1em; text-align: center; vertical-align: top\">0.08964645862579346</td>\n",
       "        <td style=\"padding-left: 1em; padding-right: 1em; text-align: center; vertical-align: top\">5</td>\n",
       "    </tr>\n",
       "    <tr>\n",
       "        <td style=\"padding-left: 1em; padding-right: 1em; text-align: center; vertical-align: top\">3628</td>\n",
       "        <td style=\"padding-left: 1em; padding-right: 1em; text-align: center; vertical-align: top\">5580</td>\n",
       "        <td style=\"padding-left: 1em; padding-right: 1em; text-align: center; vertical-align: top\">0.08248913288116455</td>\n",
       "        <td style=\"padding-left: 1em; padding-right: 1em; text-align: center; vertical-align: top\">6</td>\n",
       "    </tr>\n",
       "    <tr>\n",
       "        <td style=\"padding-left: 1em; padding-right: 1em; text-align: center; vertical-align: top\">3628</td>\n",
       "        <td style=\"padding-left: 1em; padding-right: 1em; text-align: center; vertical-align: top\">4046</td>\n",
       "        <td style=\"padding-left: 1em; padding-right: 1em; text-align: center; vertical-align: top\">0.07861274480819702</td>\n",
       "        <td style=\"padding-left: 1em; padding-right: 1em; text-align: center; vertical-align: top\">7</td>\n",
       "    </tr>\n",
       "    <tr>\n",
       "        <td style=\"padding-left: 1em; padding-right: 1em; text-align: center; vertical-align: top\">3628</td>\n",
       "        <td style=\"padding-left: 1em; padding-right: 1em; text-align: center; vertical-align: top\">6361</td>\n",
       "        <td style=\"padding-left: 1em; padding-right: 1em; text-align: center; vertical-align: top\">0.07670044898986816</td>\n",
       "        <td style=\"padding-left: 1em; padding-right: 1em; text-align: center; vertical-align: top\">8</td>\n",
       "    </tr>\n",
       "    <tr>\n",
       "        <td style=\"padding-left: 1em; padding-right: 1em; text-align: center; vertical-align: top\">3628</td>\n",
       "        <td style=\"padding-left: 1em; padding-right: 1em; text-align: center; vertical-align: top\">6590</td>\n",
       "        <td style=\"padding-left: 1em; padding-right: 1em; text-align: center; vertical-align: top\">0.06794685125350952</td>\n",
       "        <td style=\"padding-left: 1em; padding-right: 1em; text-align: center; vertical-align: top\">9</td>\n",
       "    </tr>\n",
       "    <tr>\n",
       "        <td style=\"padding-left: 1em; padding-right: 1em; text-align: center; vertical-align: top\">3628</td>\n",
       "        <td style=\"padding-left: 1em; padding-right: 1em; text-align: center; vertical-align: top\">8978</td>\n",
       "        <td style=\"padding-left: 1em; padding-right: 1em; text-align: center; vertical-align: top\">0.054574668407440186</td>\n",
       "        <td style=\"padding-left: 1em; padding-right: 1em; text-align: center; vertical-align: top\">10</td>\n",
       "    </tr>\n",
       "</table>\n",
       "[10 rows x 4 columns]<br/>\n",
       "</div>"
      ],
      "text/plain": [
       "Columns:\n",
       "\tbook_id\tint\n",
       "\tsimilar\tint\n",
       "\tscore\tfloat\n",
       "\trank\tint\n",
       "\n",
       "Rows: 10\n",
       "\n",
       "Data:\n",
       "+---------+---------+----------------------+------+\n",
       "| book_id | similar |        score         | rank |\n",
       "+---------+---------+----------------------+------+\n",
       "|   3628  |   1788  | 0.15306121110916138  |  1   |\n",
       "|   3628  |   1010  | 0.10102301836013794  |  2   |\n",
       "|   3628  |   5207  | 0.09836065769195557  |  3   |\n",
       "|   3628  |   780   | 0.09607499837875366  |  4   |\n",
       "|   3628  |   4483  | 0.08964645862579346  |  5   |\n",
       "|   3628  |   5580  | 0.08248913288116455  |  6   |\n",
       "|   3628  |   4046  | 0.07861274480819702  |  7   |\n",
       "|   3628  |   6361  | 0.07670044898986816  |  8   |\n",
       "|   3628  |   6590  | 0.06794685125350952  |  9   |\n",
       "|   3628  |   8978  | 0.054574668407440186 |  10  |\n",
       "+---------+---------+----------------------+------+\n",
       "[10 rows x 4 columns]"
      ]
     },
     "execution_count": 94,
     "metadata": {},
     "output_type": "execute_result"
    }
   ],
   "source": [
    "similar_items"
   ]
  },
  {
   "cell_type": "code",
   "execution_count": 91,
   "metadata": {},
   "outputs": [],
   "source": [
    "book_title=ratings_data[['book_id','title']]"
   ]
  },
  {
   "cell_type": "code",
   "execution_count": 92,
   "metadata": {},
   "outputs": [
    {
     "data": {
      "text/html": [
       "<div style=\"max-height:1000px;max-width:1500px;overflow:auto;\"><table frame=\"box\" rules=\"cols\">\n",
       "    <tr>\n",
       "        <th style=\"padding-left: 1em; padding-right: 1em; text-align: center\">book_id</th>\n",
       "        <th style=\"padding-left: 1em; padding-right: 1em; text-align: center\">title</th>\n",
       "    </tr>\n",
       "    <tr>\n",
       "        <td style=\"padding-left: 1em; padding-right: 1em; text-align: center; vertical-align: top\">258</td>\n",
       "        <td style=\"padding-left: 1em; padding-right: 1em; text-align: center; vertical-align: top\">The Shadow of the Wind<br>(The Cemetery of ...</td>\n",
       "    </tr>\n",
       "    <tr>\n",
       "        <td style=\"padding-left: 1em; padding-right: 1em; text-align: center; vertical-align: top\">4081</td>\n",
       "        <td style=\"padding-left: 1em; padding-right: 1em; text-align: center; vertical-align: top\">I am Charlotte Simmons</td>\n",
       "    </tr>\n",
       "    <tr>\n",
       "        <td style=\"padding-left: 1em; padding-right: 1em; text-align: center; vertical-align: top\">260</td>\n",
       "        <td style=\"padding-left: 1em; padding-right: 1em; text-align: center; vertical-align: top\">How to Win Friends and<br>Influence People ...</td>\n",
       "    </tr>\n",
       "    <tr>\n",
       "        <td style=\"padding-left: 1em; padding-right: 1em; text-align: center; vertical-align: top\">9296</td>\n",
       "        <td style=\"padding-left: 1em; padding-right: 1em; text-align: center; vertical-align: top\">The Drama of the Gifted<br>Child: The Search for ...</td>\n",
       "    </tr>\n",
       "    <tr>\n",
       "        <td style=\"padding-left: 1em; padding-right: 1em; text-align: center; vertical-align: top\">2318</td>\n",
       "        <td style=\"padding-left: 1em; padding-right: 1em; text-align: center; vertical-align: top\">The Millionaire Next<br>Door: The Surprising ...</td>\n",
       "    </tr>\n",
       "    <tr>\n",
       "        <td style=\"padding-left: 1em; padding-right: 1em; text-align: center; vertical-align: top\">26</td>\n",
       "        <td style=\"padding-left: 1em; padding-right: 1em; text-align: center; vertical-align: top\">The Da Vinci Code (Robert<br>Langdon, #2) ...</td>\n",
       "    </tr>\n",
       "    <tr>\n",
       "        <td style=\"padding-left: 1em; padding-right: 1em; text-align: center; vertical-align: top\">315</td>\n",
       "        <td style=\"padding-left: 1em; padding-right: 1em; text-align: center; vertical-align: top\">Who Moved My Cheese?</td>\n",
       "    </tr>\n",
       "    <tr>\n",
       "        <td style=\"padding-left: 1em; padding-right: 1em; text-align: center; vertical-align: top\">33</td>\n",
       "        <td style=\"padding-left: 1em; padding-right: 1em; text-align: center; vertical-align: top\">Memoirs of a Geisha</td>\n",
       "    </tr>\n",
       "    <tr>\n",
       "        <td style=\"padding-left: 1em; padding-right: 1em; text-align: center; vertical-align: top\">301</td>\n",
       "        <td style=\"padding-left: 1em; padding-right: 1em; text-align: center; vertical-align: top\">Heart of Darkness</td>\n",
       "    </tr>\n",
       "    <tr>\n",
       "        <td style=\"padding-left: 1em; padding-right: 1em; text-align: center; vertical-align: top\">2686</td>\n",
       "        <td style=\"padding-left: 1em; padding-right: 1em; text-align: center; vertical-align: top\">Blue Ocean Strategy: How<br>To Create Uncontested ...</td>\n",
       "    </tr>\n",
       "</table>\n",
       "[5976479 rows x 2 columns]<br/>Note: Only the head of the SFrame is printed.<br/>You can use print_rows(num_rows=m, num_columns=n) to print more rows and columns.\n",
       "</div>"
      ],
      "text/plain": [
       "Columns:\n",
       "\tbook_id\tint\n",
       "\ttitle\tstr\n",
       "\n",
       "Rows: 5976479\n",
       "\n",
       "Data:\n",
       "+---------+-------------------------------+\n",
       "| book_id |             title             |\n",
       "+---------+-------------------------------+\n",
       "|   258   | The Shadow of the Wind (Th... |\n",
       "|   4081  |     I am Charlotte Simmons    |\n",
       "|   260   | How to Win Friends and Inf... |\n",
       "|   9296  | The Drama of the Gifted Ch... |\n",
       "|   2318  | The Millionaire Next Door:... |\n",
       "|    26   | The Da Vinci Code (Robert ... |\n",
       "|   315   |      Who Moved My Cheese?     |\n",
       "|    33   |      Memoirs of a Geisha      |\n",
       "|   301   |       Heart of Darkness       |\n",
       "|   2686  | Blue Ocean Strategy: How T... |\n",
       "+---------+-------------------------------+\n",
       "[5976479 rows x 2 columns]\n",
       "Note: Only the head of the SFrame is printed.\n",
       "You can use print_rows(num_rows=m, num_columns=n) to print more rows and columns."
      ]
     },
     "execution_count": 92,
     "metadata": {},
     "output_type": "execute_result"
    }
   ],
   "source": [
    "book_title"
   ]
  },
  {
   "cell_type": "code",
   "execution_count": 95,
   "metadata": {},
   "outputs": [],
   "source": [
    "similar_items=similar_items.join(book_title,on={'similar':'book_id'},how='left')"
   ]
  },
  {
   "cell_type": "code",
   "execution_count": 96,
   "metadata": {},
   "outputs": [
    {
     "data": {
      "text/html": [
       "<div style=\"max-height:1000px;max-width:1500px;overflow:auto;\"><table frame=\"box\" rules=\"cols\">\n",
       "    <tr>\n",
       "        <th style=\"padding-left: 1em; padding-right: 1em; text-align: center\">book_id</th>\n",
       "        <th style=\"padding-left: 1em; padding-right: 1em; text-align: center\">similar</th>\n",
       "        <th style=\"padding-left: 1em; padding-right: 1em; text-align: center\">score</th>\n",
       "        <th style=\"padding-left: 1em; padding-right: 1em; text-align: center\">rank</th>\n",
       "        <th style=\"padding-left: 1em; padding-right: 1em; text-align: center\">title</th>\n",
       "    </tr>\n",
       "    <tr>\n",
       "        <td style=\"padding-left: 1em; padding-right: 1em; text-align: center; vertical-align: top\">3628</td>\n",
       "        <td style=\"padding-left: 1em; padding-right: 1em; text-align: center; vertical-align: top\">1010</td>\n",
       "        <td style=\"padding-left: 1em; padding-right: 1em; text-align: center; vertical-align: top\">0.10102301836013794</td>\n",
       "        <td style=\"padding-left: 1em; padding-right: 1em; text-align: center; vertical-align: top\">2</td>\n",
       "        <td style=\"padding-left: 1em; padding-right: 1em; text-align: center; vertical-align: top\">The Essential Calvin and<br>Hobbes: A Calvin and ...</td>\n",
       "    </tr>\n",
       "    <tr>\n",
       "        <td style=\"padding-left: 1em; padding-right: 1em; text-align: center; vertical-align: top\">3628</td>\n",
       "        <td style=\"padding-left: 1em; padding-right: 1em; text-align: center; vertical-align: top\">5207</td>\n",
       "        <td style=\"padding-left: 1em; padding-right: 1em; text-align: center; vertical-align: top\">0.09836065769195557</td>\n",
       "        <td style=\"padding-left: 1em; padding-right: 1em; text-align: center; vertical-align: top\">3</td>\n",
       "        <td style=\"padding-left: 1em; padding-right: 1em; text-align: center; vertical-align: top\">The Days Are Just Packed:<br>A Calvin and Hobbes ...</td>\n",
       "    </tr>\n",
       "    <tr>\n",
       "        <td style=\"padding-left: 1em; padding-right: 1em; text-align: center; vertical-align: top\">3628</td>\n",
       "        <td style=\"padding-left: 1em; padding-right: 1em; text-align: center; vertical-align: top\">1788</td>\n",
       "        <td style=\"padding-left: 1em; padding-right: 1em; text-align: center; vertical-align: top\">0.15306121110916138</td>\n",
       "        <td style=\"padding-left: 1em; padding-right: 1em; text-align: center; vertical-align: top\">1</td>\n",
       "        <td style=\"padding-left: 1em; padding-right: 1em; text-align: center; vertical-align: top\">The Calvin and Hobbes<br>Tenth Anniversary Book ...</td>\n",
       "    </tr>\n",
       "    <tr>\n",
       "        <td style=\"padding-left: 1em; padding-right: 1em; text-align: center; vertical-align: top\">3628</td>\n",
       "        <td style=\"padding-left: 1em; padding-right: 1em; text-align: center; vertical-align: top\">4483</td>\n",
       "        <td style=\"padding-left: 1em; padding-right: 1em; text-align: center; vertical-align: top\">0.08964645862579346</td>\n",
       "        <td style=\"padding-left: 1em; padding-right: 1em; text-align: center; vertical-align: top\">5</td>\n",
       "        <td style=\"padding-left: 1em; padding-right: 1em; text-align: center; vertical-align: top\">It&#x27;s a Magical World: A<br>Calvin and Hobbes ...</td>\n",
       "    </tr>\n",
       "    <tr>\n",
       "        <td style=\"padding-left: 1em; padding-right: 1em; text-align: center; vertical-align: top\">3628</td>\n",
       "        <td style=\"padding-left: 1em; padding-right: 1em; text-align: center; vertical-align: top\">6590</td>\n",
       "        <td style=\"padding-left: 1em; padding-right: 1em; text-align: center; vertical-align: top\">0.06794685125350952</td>\n",
       "        <td style=\"padding-left: 1em; padding-right: 1em; text-align: center; vertical-align: top\">9</td>\n",
       "        <td style=\"padding-left: 1em; padding-right: 1em; text-align: center; vertical-align: top\">The Authoritative Calvin<br>and Hobbes: A Calvin and ...</td>\n",
       "    </tr>\n",
       "    <tr>\n",
       "        <td style=\"padding-left: 1em; padding-right: 1em; text-align: center; vertical-align: top\">3628</td>\n",
       "        <td style=\"padding-left: 1em; padding-right: 1em; text-align: center; vertical-align: top\">6361</td>\n",
       "        <td style=\"padding-left: 1em; padding-right: 1em; text-align: center; vertical-align: top\">0.07670044898986816</td>\n",
       "        <td style=\"padding-left: 1em; padding-right: 1em; text-align: center; vertical-align: top\">8</td>\n",
       "        <td style=\"padding-left: 1em; padding-right: 1em; text-align: center; vertical-align: top\">There&#x27;s Treasure<br>Everywhere: A Calvin and ...</td>\n",
       "    </tr>\n",
       "    <tr>\n",
       "        <td style=\"padding-left: 1em; padding-right: 1em; text-align: center; vertical-align: top\">3628</td>\n",
       "        <td style=\"padding-left: 1em; padding-right: 1em; text-align: center; vertical-align: top\">1010</td>\n",
       "        <td style=\"padding-left: 1em; padding-right: 1em; text-align: center; vertical-align: top\">0.10102301836013794</td>\n",
       "        <td style=\"padding-left: 1em; padding-right: 1em; text-align: center; vertical-align: top\">2</td>\n",
       "        <td style=\"padding-left: 1em; padding-right: 1em; text-align: center; vertical-align: top\">The Essential Calvin and<br>Hobbes: A Calvin and ...</td>\n",
       "    </tr>\n",
       "    <tr>\n",
       "        <td style=\"padding-left: 1em; padding-right: 1em; text-align: center; vertical-align: top\">3628</td>\n",
       "        <td style=\"padding-left: 1em; padding-right: 1em; text-align: center; vertical-align: top\">6361</td>\n",
       "        <td style=\"padding-left: 1em; padding-right: 1em; text-align: center; vertical-align: top\">0.07670044898986816</td>\n",
       "        <td style=\"padding-left: 1em; padding-right: 1em; text-align: center; vertical-align: top\">8</td>\n",
       "        <td style=\"padding-left: 1em; padding-right: 1em; text-align: center; vertical-align: top\">There&#x27;s Treasure<br>Everywhere: A Calvin and ...</td>\n",
       "    </tr>\n",
       "    <tr>\n",
       "        <td style=\"padding-left: 1em; padding-right: 1em; text-align: center; vertical-align: top\">3628</td>\n",
       "        <td style=\"padding-left: 1em; padding-right: 1em; text-align: center; vertical-align: top\">4483</td>\n",
       "        <td style=\"padding-left: 1em; padding-right: 1em; text-align: center; vertical-align: top\">0.08964645862579346</td>\n",
       "        <td style=\"padding-left: 1em; padding-right: 1em; text-align: center; vertical-align: top\">5</td>\n",
       "        <td style=\"padding-left: 1em; padding-right: 1em; text-align: center; vertical-align: top\">It&#x27;s a Magical World: A<br>Calvin and Hobbes ...</td>\n",
       "    </tr>\n",
       "    <tr>\n",
       "        <td style=\"padding-left: 1em; padding-right: 1em; text-align: center; vertical-align: top\">3628</td>\n",
       "        <td style=\"padding-left: 1em; padding-right: 1em; text-align: center; vertical-align: top\">5207</td>\n",
       "        <td style=\"padding-left: 1em; padding-right: 1em; text-align: center; vertical-align: top\">0.09836065769195557</td>\n",
       "        <td style=\"padding-left: 1em; padding-right: 1em; text-align: center; vertical-align: top\">3</td>\n",
       "        <td style=\"padding-left: 1em; padding-right: 1em; text-align: center; vertical-align: top\">The Days Are Just Packed:<br>A Calvin and Hobbes ...</td>\n",
       "    </tr>\n",
       "</table>\n",
       "[5337 rows x 5 columns]<br/>Note: Only the head of the SFrame is printed.<br/>You can use print_rows(num_rows=m, num_columns=n) to print more rows and columns.\n",
       "</div>"
      ],
      "text/plain": [
       "Columns:\n",
       "\tbook_id\tint\n",
       "\tsimilar\tint\n",
       "\tscore\tfloat\n",
       "\trank\tint\n",
       "\ttitle\tstr\n",
       "\n",
       "Rows: 5337\n",
       "\n",
       "Data:\n",
       "+---------+---------+---------------------+------+\n",
       "| book_id | similar |        score        | rank |\n",
       "+---------+---------+---------------------+------+\n",
       "|   3628  |   1010  | 0.10102301836013794 |  2   |\n",
       "|   3628  |   5207  | 0.09836065769195557 |  3   |\n",
       "|   3628  |   1788  | 0.15306121110916138 |  1   |\n",
       "|   3628  |   4483  | 0.08964645862579346 |  5   |\n",
       "|   3628  |   6590  | 0.06794685125350952 |  9   |\n",
       "|   3628  |   6361  | 0.07670044898986816 |  8   |\n",
       "|   3628  |   1010  | 0.10102301836013794 |  2   |\n",
       "|   3628  |   6361  | 0.07670044898986816 |  8   |\n",
       "|   3628  |   4483  | 0.08964645862579346 |  5   |\n",
       "|   3628  |   5207  | 0.09836065769195557 |  3   |\n",
       "+---------+---------+---------------------+------+\n",
       "+-------------------------------+\n",
       "|             title             |\n",
       "+-------------------------------+\n",
       "| The Essential Calvin and H... |\n",
       "| The Days Are Just Packed: ... |\n",
       "| The Calvin and Hobbes Tent... |\n",
       "| It's a Magical World: A Ca... |\n",
       "| The Authoritative Calvin a... |\n",
       "| There's Treasure Everywher... |\n",
       "| The Essential Calvin and H... |\n",
       "| There's Treasure Everywher... |\n",
       "| It's a Magical World: A Ca... |\n",
       "| The Days Are Just Packed: ... |\n",
       "+-------------------------------+\n",
       "[5337 rows x 5 columns]\n",
       "Note: Only the head of the SFrame is printed.\n",
       "You can use print_rows(num_rows=m, num_columns=n) to print more rows and columns."
      ]
     },
     "execution_count": 96,
     "metadata": {},
     "output_type": "execute_result"
    }
   ],
   "source": [
    "similar_items"
   ]
  },
  {
   "cell_type": "markdown",
   "metadata": {},
   "source": [
    "Even though we never explicitly gave the name od the book the model has identified all Calvin Hbbes books as highly similar"
   ]
  },
  {
   "cell_type": "markdown",
   "metadata": {},
   "source": [
    "### Let us build a Recommender System considering the Ratings "
   ]
  },
  {
   "cell_type": "code",
   "execution_count": 111,
   "metadata": {},
   "outputs": [
    {
     "data": {
      "text/html": [
       "<pre>Warning: Ignoring columns title;</pre>"
      ],
      "text/plain": [
       "Warning: Ignoring columns title;"
      ]
     },
     "metadata": {},
     "output_type": "display_data"
    },
    {
     "data": {
      "text/html": [
       "<pre>    To use these columns in scoring predictions, use a model that allows the use of additional features.</pre>"
      ],
      "text/plain": [
       "    To use these columns in scoring predictions, use a model that allows the use of additional features."
      ]
     },
     "metadata": {},
     "output_type": "display_data"
    },
    {
     "data": {
      "text/html": [
       "<pre>Preparing data set.</pre>"
      ],
      "text/plain": [
       "Preparing data set."
      ]
     },
     "metadata": {},
     "output_type": "display_data"
    },
    {
     "data": {
      "text/html": [
       "<pre>    Data has 5948715 observations with 53424 users and 10000 items.</pre>"
      ],
      "text/plain": [
       "    Data has 5948715 observations with 53424 users and 10000 items."
      ]
     },
     "metadata": {},
     "output_type": "display_data"
    },
    {
     "data": {
      "text/html": [
       "<pre>    Data prepared in: 3.65205s</pre>"
      ],
      "text/plain": [
       "    Data prepared in: 3.65205s"
      ]
     },
     "metadata": {},
     "output_type": "display_data"
    },
    {
     "data": {
      "text/html": [
       "<pre>Training model from provided data.</pre>"
      ],
      "text/plain": [
       "Training model from provided data."
      ]
     },
     "metadata": {},
     "output_type": "display_data"
    },
    {
     "data": {
      "text/html": [
       "<pre>Gathering per-item and per-user statistics.</pre>"
      ],
      "text/plain": [
       "Gathering per-item and per-user statistics."
      ]
     },
     "metadata": {},
     "output_type": "display_data"
    },
    {
     "data": {
      "text/html": [
       "<pre>+--------------------------------+------------+</pre>"
      ],
      "text/plain": [
       "+--------------------------------+------------+"
      ]
     },
     "metadata": {},
     "output_type": "display_data"
    },
    {
     "data": {
      "text/html": [
       "<pre>| Elapsed Time (Item Statistics) | % Complete |</pre>"
      ],
      "text/plain": [
       "| Elapsed Time (Item Statistics) | % Complete |"
      ]
     },
     "metadata": {},
     "output_type": "display_data"
    },
    {
     "data": {
      "text/html": [
       "<pre>+--------------------------------+------------+</pre>"
      ],
      "text/plain": [
       "+--------------------------------+------------+"
      ]
     },
     "metadata": {},
     "output_type": "display_data"
    },
    {
     "data": {
      "text/html": [
       "<pre>| 10.242ms                       | 1.75       |</pre>"
      ],
      "text/plain": [
       "| 10.242ms                       | 1.75       |"
      ]
     },
     "metadata": {},
     "output_type": "display_data"
    },
    {
     "data": {
      "text/html": [
       "<pre>| 203.926ms                      | 100        |</pre>"
      ],
      "text/plain": [
       "| 203.926ms                      | 100        |"
      ]
     },
     "metadata": {},
     "output_type": "display_data"
    },
    {
     "data": {
      "text/html": [
       "<pre>+--------------------------------+------------+</pre>"
      ],
      "text/plain": [
       "+--------------------------------+------------+"
      ]
     },
     "metadata": {},
     "output_type": "display_data"
    },
    {
     "data": {
      "text/html": [
       "<pre>Setting up lookup tables.</pre>"
      ],
      "text/plain": [
       "Setting up lookup tables."
      ]
     },
     "metadata": {},
     "output_type": "display_data"
    },
    {
     "data": {
      "text/html": [
       "<pre>Processing data in one pass using dense lookup tables.</pre>"
      ],
      "text/plain": [
       "Processing data in one pass using dense lookup tables."
      ]
     },
     "metadata": {},
     "output_type": "display_data"
    },
    {
     "data": {
      "text/html": [
       "<pre>+-------------------------------------+------------------+-----------------+</pre>"
      ],
      "text/plain": [
       "+-------------------------------------+------------------+-----------------+"
      ]
     },
     "metadata": {},
     "output_type": "display_data"
    },
    {
     "data": {
      "text/html": [
       "<pre>| Elapsed Time (Constructing Lookups) | Total % Complete | Items Processed |</pre>"
      ],
      "text/plain": [
       "| Elapsed Time (Constructing Lookups) | Total % Complete | Items Processed |"
      ]
     },
     "metadata": {},
     "output_type": "display_data"
    },
    {
     "data": {
      "text/html": [
       "<pre>+-------------------------------------+------------------+-----------------+</pre>"
      ],
      "text/plain": [
       "+-------------------------------------+------------------+-----------------+"
      ]
     },
     "metadata": {},
     "output_type": "display_data"
    },
    {
     "data": {
      "text/html": [
       "<pre>| 624.526ms                           | 0                | 0               |</pre>"
      ],
      "text/plain": [
       "| 624.526ms                           | 0                | 0               |"
      ]
     },
     "metadata": {},
     "output_type": "display_data"
    },
    {
     "data": {
      "text/html": [
       "<pre>| 3.63s                               | 55               | 5515            |</pre>"
      ],
      "text/plain": [
       "| 3.63s                               | 55               | 5515            |"
      ]
     },
     "metadata": {},
     "output_type": "display_data"
    },
    {
     "data": {
      "text/html": [
       "<pre>| 7.12s                               | 100              | 10000           |</pre>"
      ],
      "text/plain": [
       "| 7.12s                               | 100              | 10000           |"
      ]
     },
     "metadata": {},
     "output_type": "display_data"
    },
    {
     "data": {
      "text/html": [
       "<pre>+-------------------------------------+------------------+-----------------+</pre>"
      ],
      "text/plain": [
       "+-------------------------------------+------------------+-----------------+"
      ]
     },
     "metadata": {},
     "output_type": "display_data"
    },
    {
     "data": {
      "text/html": [
       "<pre>Finalizing lookup tables.</pre>"
      ],
      "text/plain": [
       "Finalizing lookup tables."
      ]
     },
     "metadata": {},
     "output_type": "display_data"
    },
    {
     "data": {
      "text/html": [
       "<pre>Generating candidate set for working with new users.</pre>"
      ],
      "text/plain": [
       "Generating candidate set for working with new users."
      ]
     },
     "metadata": {},
     "output_type": "display_data"
    },
    {
     "data": {
      "text/html": [
       "<pre>Finished training in 7.38451s</pre>"
      ],
      "text/plain": [
       "Finished training in 7.38451s"
      ]
     },
     "metadata": {},
     "output_type": "display_data"
    }
   ],
   "source": [
    "model_2 = turicreate.item_similarity_recommender.create(training_data, 'user_id', 'book_id',target='rating')\n"
   ]
  },
  {
   "cell_type": "code",
   "execution_count": 112,
   "metadata": {},
   "outputs": [
    {
     "data": {
      "text/plain": [
       "{'rmse_by_user': Columns:\n",
       " \tuser_id\tint\n",
       " \trmse\tfloat\n",
       " \tcount\tint\n",
       " \n",
       " Rows: 1000\n",
       " \n",
       " Data:\n",
       " +---------+--------------------+-------+\n",
       " | user_id |        rmse        | count |\n",
       " +---------+--------------------+-------+\n",
       " |   5783  | 3.847660473041364  |   31  |\n",
       " |  33316  | 4.196178041163094  |   30  |\n",
       " |  45930  | 3.1676255031741176 |   29  |\n",
       " |  22772  |  3.43103601838131  |   26  |\n",
       " |  13518  | 3.6705261822344855 |   35  |\n",
       " |  11581  | 2.9129825633707007 |   16  |\n",
       " |  23577  | 3.431405757041383  |   37  |\n",
       " |  15913  | 4.008257267557576  |   26  |\n",
       " |  15504  | 4.040906357878154  |   23  |\n",
       " |  24375  | 4.4895936624843324 |   25  |\n",
       " +---------+--------------------+-------+\n",
       " [1000 rows x 3 columns]\n",
       " Note: Only the head of the SFrame is printed.\n",
       " You can use print_rows(num_rows=m, num_columns=n) to print more rows and columns.,\n",
       " 'rmse_by_item': Columns:\n",
       " \tbook_id\tint\n",
       " \trmse\tfloat\n",
       " \tcount\tint\n",
       " \n",
       " Rows: 6954\n",
       " \n",
       " Data:\n",
       " +---------+--------------------+-------+\n",
       " | book_id |        rmse        | count |\n",
       " +---------+--------------------+-------+\n",
       " |   5288  | 3.992834427417853  |   1   |\n",
       " |   3143  | 4.685445197653988  |   3   |\n",
       " |   6769  |        4.0         |   1   |\n",
       " |   5684  | 4.0375016183896575 |   2   |\n",
       " |   2779  | 4.928157047978763  |   1   |\n",
       " |   118   | 4.071605163390544  |   27  |\n",
       " |   2847  | 3.872606687705062  |   3   |\n",
       " |   8091  | 4.526687488946105  |   2   |\n",
       " |   8324  | 3.534559670424615  |   2   |\n",
       " |   9234  | 3.7824069823525353 |   2   |\n",
       " +---------+--------------------+-------+\n",
       " [6954 rows x 3 columns]\n",
       " Note: Only the head of the SFrame is printed.\n",
       " You can use print_rows(num_rows=m, num_columns=n) to print more rows and columns.,\n",
       " 'rmse_overall': 4.0246192057409935}"
      ]
     },
     "execution_count": 112,
     "metadata": {},
     "output_type": "execute_result"
    }
   ],
   "source": [
    "model_2.evaluate_rmse(validation_data,target='rating')"
   ]
  },
  {
   "cell_type": "code",
   "execution_count": 113,
   "metadata": {},
   "outputs": [
    {
     "data": {
      "text/plain": [
       "{'rmse_by_user': Columns:\n",
       " \tuser_id\tint\n",
       " \trmse\tfloat\n",
       " \tcount\tint\n",
       " \n",
       " Rows: 53424\n",
       " \n",
       " Data:\n",
       " +---------+--------------------+-------+\n",
       " | user_id |        rmse        | count |\n",
       " +---------+--------------------+-------+\n",
       " |  21855  | 4.430621960273091  |  136  |\n",
       " |   7899  | 4.415498955760625  |   99  |\n",
       " |  25263  | 4.273005078841926  |  102  |\n",
       " |  30621  | 4.136906735781155  |   90  |\n",
       " |  43116  | 3.8802839887462057 |  116  |\n",
       " |  27112  | 4.190335132319076  |  132  |\n",
       " |  26319  | 4.740158753179054  |  110  |\n",
       " |  26439  | 4.911642548242507  |  125  |\n",
       " |   5288  | 3.2138423187972136 |  106  |\n",
       " |  19584  | 4.300155621261543  |  129  |\n",
       " +---------+--------------------+-------+\n",
       " [53424 rows x 3 columns]\n",
       " Note: Only the head of the SFrame is printed.\n",
       " You can use print_rows(num_rows=m, num_columns=n) to print more rows and columns.,\n",
       " 'rmse_by_item': Columns:\n",
       " \tbook_id\tint\n",
       " \trmse\tfloat\n",
       " \tcount\tint\n",
       " \n",
       " Rows: 10000\n",
       " \n",
       " Data:\n",
       " +---------+--------------------+-------+\n",
       " | book_id |        rmse        | count |\n",
       " +---------+--------------------+-------+\n",
       " |   7899  | 4.382838367569454  |  211  |\n",
       " |   5288  | 3.876565506402413  |  313  |\n",
       " |   3143  | 4.210176439496125  |  567  |\n",
       " |   6769  | 3.9138885497912312 |  163  |\n",
       " |   5684  | 4.038143694170321  |  288  |\n",
       " |   2779  | 4.035819981959015  |  353  |\n",
       " |   8455  | 4.411347518283017  |  151  |\n",
       " |   118   | 3.963933579397884  |  6185 |\n",
       " |   3988  | 4.330473671030039  |  471  |\n",
       " |   5783  | 3.7534400239133716 |  198  |\n",
       " +---------+--------------------+-------+\n",
       " [10000 rows x 3 columns]\n",
       " Note: Only the head of the SFrame is printed.\n",
       " You can use print_rows(num_rows=m, num_columns=n) to print more rows and columns.,\n",
       " 'rmse_overall': 4.023507801077554}"
      ]
     },
     "execution_count": 113,
     "metadata": {},
     "output_type": "execute_result"
    }
   ],
   "source": [
    "model_2.evaluate_rmse(training_data,target='rating')"
   ]
  },
  {
   "cell_type": "code",
   "execution_count": 117,
   "metadata": {},
   "outputs": [
    {
     "data": {
      "text/html": [
       "<pre>recommendations finished on 1000/1000 queries. users per second: 2788.86</pre>"
      ],
      "text/plain": [
       "recommendations finished on 1000/1000 queries. users per second: 2788.86"
      ]
     },
     "metadata": {},
     "output_type": "display_data"
    },
    {
     "data": {
      "text/plain": [
       "{'precision_recall_by_user': Columns:\n",
       " \tuser_id\tint\n",
       " \tcutoff\tint\n",
       " \tprecision\tfloat\n",
       " \trecall\tfloat\n",
       " \tcount\tint\n",
       " \n",
       " Rows: 18000\n",
       " \n",
       " Data:\n",
       " +---------+--------+---------------------+----------------------+-------+\n",
       " | user_id | cutoff |      precision      |        recall        | count |\n",
       " +---------+--------+---------------------+----------------------+-------+\n",
       " |    55   |   1    |         0.0         |         0.0          |   21  |\n",
       " |    55   |   2    |         0.0         |         0.0          |   21  |\n",
       " |    55   |   3    |  0.3333333333333333 | 0.047619047619047616 |   21  |\n",
       " |    55   |   4    |         0.25        | 0.047619047619047616 |   21  |\n",
       " |    55   |   5    |         0.2         | 0.047619047619047616 |   21  |\n",
       " |    55   |   6    |  0.3333333333333333 | 0.09523809523809523  |   21  |\n",
       " |    55   |   7    | 0.42857142857142855 | 0.14285714285714285  |   21  |\n",
       " |    55   |   8    |         0.5         | 0.19047619047619047  |   21  |\n",
       " |    55   |   9    |  0.4444444444444444 | 0.19047619047619047  |   21  |\n",
       " |    55   |   10   |         0.4         | 0.19047619047619047  |   21  |\n",
       " +---------+--------+---------------------+----------------------+-------+\n",
       " [18000 rows x 5 columns]\n",
       " Note: Only the head of the SFrame is printed.\n",
       " You can use print_rows(num_rows=m, num_columns=n) to print more rows and columns.,\n",
       " 'precision_recall_overall': Columns:\n",
       " \tcutoff\tint\n",
       " \tprecision\tfloat\n",
       " \trecall\tfloat\n",
       " \n",
       " Rows: 18\n",
       " \n",
       " Data:\n",
       " +--------+---------------------+----------------------+\n",
       " | cutoff |      precision      |        recall        |\n",
       " +--------+---------------------+----------------------+\n",
       " |   1    |  0.5609999999999998 | 0.021982614972238648 |\n",
       " |   2    |  0.5199999999999992 | 0.04023665696139005  |\n",
       " |   3    | 0.48666666666666675 | 0.05638685871780481  |\n",
       " |   4    |  0.4565000000000004 | 0.07019148861021103  |\n",
       " |   5    | 0.42880000000000007 | 0.08236174106893751  |\n",
       " |   6    |  0.4086666666666671 | 0.09402566240894304  |\n",
       " |   7    | 0.38914285714285707 | 0.10427764868487328  |\n",
       " |   8    |  0.3731249999999998 | 0.11415352483080625  |\n",
       " |   9    | 0.35811111111111077 | 0.12281995091949545  |\n",
       " |   10   |  0.3427999999999999 |  0.1305951938608583  |\n",
       " +--------+---------------------+----------------------+\n",
       " [18 rows x 3 columns]\n",
       " Note: Only the head of the SFrame is printed.\n",
       " You can use print_rows(num_rows=m, num_columns=n) to print more rows and columns.}"
      ]
     },
     "execution_count": 117,
     "metadata": {},
     "output_type": "execute_result"
    }
   ],
   "source": [
    "model_2.evaluate_precision_recall(validation_data)"
   ]
  },
  {
   "cell_type": "code",
   "execution_count": 116,
   "metadata": {},
   "outputs": [
    {
     "data": {
      "text/html": [
       "<pre>Preparing data set.</pre>"
      ],
      "text/plain": [
       "Preparing data set."
      ]
     },
     "metadata": {},
     "output_type": "display_data"
    },
    {
     "data": {
      "text/html": [
       "<pre>    Data has 5948715 observations with 53424 users and 10000 items.</pre>"
      ],
      "text/plain": [
       "    Data has 5948715 observations with 53424 users and 10000 items."
      ]
     },
     "metadata": {},
     "output_type": "display_data"
    },
    {
     "data": {
      "text/html": [
       "<pre>    Data prepared in: 7.46091s</pre>"
      ],
      "text/plain": [
       "    Data prepared in: 7.46091s"
      ]
     },
     "metadata": {},
     "output_type": "display_data"
    },
    {
     "data": {
      "text/html": [
       "<pre>Training factorization_recommender for recommendations.</pre>"
      ],
      "text/plain": [
       "Training factorization_recommender for recommendations."
      ]
     },
     "metadata": {},
     "output_type": "display_data"
    },
    {
     "data": {
      "text/html": [
       "<pre>+--------------------------------+--------------------------------------------------+----------+</pre>"
      ],
      "text/plain": [
       "+--------------------------------+--------------------------------------------------+----------+"
      ]
     },
     "metadata": {},
     "output_type": "display_data"
    },
    {
     "data": {
      "text/html": [
       "<pre>| Parameter                      | Description                                      | Value    |</pre>"
      ],
      "text/plain": [
       "| Parameter                      | Description                                      | Value    |"
      ]
     },
     "metadata": {},
     "output_type": "display_data"
    },
    {
     "data": {
      "text/html": [
       "<pre>+--------------------------------+--------------------------------------------------+----------+</pre>"
      ],
      "text/plain": [
       "+--------------------------------+--------------------------------------------------+----------+"
      ]
     },
     "metadata": {},
     "output_type": "display_data"
    },
    {
     "data": {
      "text/html": [
       "<pre>| num_factors                    | Factor Dimension                                 | 8        |</pre>"
      ],
      "text/plain": [
       "| num_factors                    | Factor Dimension                                 | 8        |"
      ]
     },
     "metadata": {},
     "output_type": "display_data"
    },
    {
     "data": {
      "text/html": [
       "<pre>| regularization                 | L2 Regularization on Factors                     | 1e-08    |</pre>"
      ],
      "text/plain": [
       "| regularization                 | L2 Regularization on Factors                     | 1e-08    |"
      ]
     },
     "metadata": {},
     "output_type": "display_data"
    },
    {
     "data": {
      "text/html": [
       "<pre>| solver                         | Solver used for training                         | adagrad  |</pre>"
      ],
      "text/plain": [
       "| solver                         | Solver used for training                         | adagrad  |"
      ]
     },
     "metadata": {},
     "output_type": "display_data"
    },
    {
     "data": {
      "text/html": [
       "<pre>| linear_regularization          | L2 Regularization on Linear Coefficients         | 1e-10    |</pre>"
      ],
      "text/plain": [
       "| linear_regularization          | L2 Regularization on Linear Coefficients         | 1e-10    |"
      ]
     },
     "metadata": {},
     "output_type": "display_data"
    },
    {
     "data": {
      "text/html": [
       "<pre>| max_iterations                 | Maximum Number of Iterations                     | 50       |</pre>"
      ],
      "text/plain": [
       "| max_iterations                 | Maximum Number of Iterations                     | 50       |"
      ]
     },
     "metadata": {},
     "output_type": "display_data"
    },
    {
     "data": {
      "text/html": [
       "<pre>+--------------------------------+--------------------------------------------------+----------+</pre>"
      ],
      "text/plain": [
       "+--------------------------------+--------------------------------------------------+----------+"
      ]
     },
     "metadata": {},
     "output_type": "display_data"
    },
    {
     "data": {
      "text/html": [
       "<pre>  Optimizing model using SGD; tuning step size.</pre>"
      ],
      "text/plain": [
       "  Optimizing model using SGD; tuning step size."
      ]
     },
     "metadata": {},
     "output_type": "display_data"
    },
    {
     "data": {
      "text/html": [
       "<pre>  Using 743589 / 5948715 points for tuning the step size.</pre>"
      ],
      "text/plain": [
       "  Using 743589 / 5948715 points for tuning the step size."
      ]
     },
     "metadata": {},
     "output_type": "display_data"
    },
    {
     "data": {
      "text/html": [
       "<pre>+---------+-------------------+------------------------------------------+</pre>"
      ],
      "text/plain": [
       "+---------+-------------------+------------------------------------------+"
      ]
     },
     "metadata": {},
     "output_type": "display_data"
    },
    {
     "data": {
      "text/html": [
       "<pre>| Attempt | Initial Step Size | Estimated Objective Value                |</pre>"
      ],
      "text/plain": [
       "| Attempt | Initial Step Size | Estimated Objective Value                |"
      ]
     },
     "metadata": {},
     "output_type": "display_data"
    },
    {
     "data": {
      "text/html": [
       "<pre>+---------+-------------------+------------------------------------------+</pre>"
      ],
      "text/plain": [
       "+---------+-------------------+------------------------------------------+"
      ]
     },
     "metadata": {},
     "output_type": "display_data"
    },
    {
     "data": {
      "text/html": [
       "<pre>| 0       | 16.6667           | Not Viable                               |</pre>"
      ],
      "text/plain": [
       "| 0       | 16.6667           | Not Viable                               |"
      ]
     },
     "metadata": {},
     "output_type": "display_data"
    },
    {
     "data": {
      "text/html": [
       "<pre>| 1       | 4.16667           | Not Viable                               |</pre>"
      ],
      "text/plain": [
       "| 1       | 4.16667           | Not Viable                               |"
      ]
     },
     "metadata": {},
     "output_type": "display_data"
    },
    {
     "data": {
      "text/html": [
       "<pre>| 2       | 1.04167           | Not Viable                               |</pre>"
      ],
      "text/plain": [
       "| 2       | 1.04167           | Not Viable                               |"
      ]
     },
     "metadata": {},
     "output_type": "display_data"
    },
    {
     "data": {
      "text/html": [
       "<pre>| 3       | 0.260417          | 0.289623                                 |</pre>"
      ],
      "text/plain": [
       "| 3       | 0.260417          | 0.289623                                 |"
      ]
     },
     "metadata": {},
     "output_type": "display_data"
    },
    {
     "data": {
      "text/html": [
       "<pre>| 4       | 0.130208          | 0.298589                                 |</pre>"
      ],
      "text/plain": [
       "| 4       | 0.130208          | 0.298589                                 |"
      ]
     },
     "metadata": {},
     "output_type": "display_data"
    },
    {
     "data": {
      "text/html": [
       "<pre>| 5       | 0.0651042         | 0.410134                                 |</pre>"
      ],
      "text/plain": [
       "| 5       | 0.0651042         | 0.410134                                 |"
      ]
     },
     "metadata": {},
     "output_type": "display_data"
    },
    {
     "data": {
      "text/html": [
       "<pre>| 6       | 0.0325521         | 0.586569                                 |</pre>"
      ],
      "text/plain": [
       "| 6       | 0.0325521         | 0.586569                                 |"
      ]
     },
     "metadata": {},
     "output_type": "display_data"
    },
    {
     "data": {
      "text/html": [
       "<pre>+---------+-------------------+------------------------------------------+</pre>"
      ],
      "text/plain": [
       "+---------+-------------------+------------------------------------------+"
      ]
     },
     "metadata": {},
     "output_type": "display_data"
    },
    {
     "data": {
      "text/html": [
       "<pre>| Final   | 0.260417          | 0.289623                                 |</pre>"
      ],
      "text/plain": [
       "| Final   | 0.260417          | 0.289623                                 |"
      ]
     },
     "metadata": {},
     "output_type": "display_data"
    },
    {
     "data": {
      "text/html": [
       "<pre>+---------+-------------------+------------------------------------------+</pre>"
      ],
      "text/plain": [
       "+---------+-------------------+------------------------------------------+"
      ]
     },
     "metadata": {},
     "output_type": "display_data"
    },
    {
     "data": {
      "text/html": [
       "<pre>Starting Optimization.</pre>"
      ],
      "text/plain": [
       "Starting Optimization."
      ]
     },
     "metadata": {},
     "output_type": "display_data"
    },
    {
     "data": {
      "text/html": [
       "<pre>+---------+--------------+-------------------+-----------------------+-------------+</pre>"
      ],
      "text/plain": [
       "+---------+--------------+-------------------+-----------------------+-------------+"
      ]
     },
     "metadata": {},
     "output_type": "display_data"
    },
    {
     "data": {
      "text/html": [
       "<pre>| Iter.   | Elapsed Time | Approx. Objective | Approx. Training RMSE | Step Size   |</pre>"
      ],
      "text/plain": [
       "| Iter.   | Elapsed Time | Approx. Objective | Approx. Training RMSE | Step Size   |"
      ]
     },
     "metadata": {},
     "output_type": "display_data"
    },
    {
     "data": {
      "text/html": [
       "<pre>+---------+--------------+-------------------+-----------------------+-------------+</pre>"
      ],
      "text/plain": [
       "+---------+--------------+-------------------+-----------------------+-------------+"
      ]
     },
     "metadata": {},
     "output_type": "display_data"
    },
    {
     "data": {
      "text/html": [
       "<pre>| Initial | 90us         | 0.98228           | 0.991101              |             |</pre>"
      ],
      "text/plain": [
       "| Initial | 90us         | 0.98228           | 0.991101              |             |"
      ]
     },
     "metadata": {},
     "output_type": "display_data"
    },
    {
     "data": {
      "text/html": [
       "<pre>+---------+--------------+-------------------+-----------------------+-------------+</pre>"
      ],
      "text/plain": [
       "+---------+--------------+-------------------+-----------------------+-------------+"
      ]
     },
     "metadata": {},
     "output_type": "display_data"
    },
    {
     "data": {
      "text/html": [
       "<pre>| 1       | 1.32s        | 0.787514          | 0.887055              | 0.260417    |</pre>"
      ],
      "text/plain": [
       "| 1       | 1.32s        | 0.787514          | 0.887055              | 0.260417    |"
      ]
     },
     "metadata": {},
     "output_type": "display_data"
    },
    {
     "data": {
      "text/html": [
       "<pre>| 2       | 2.58s        | 0.663764          | 0.81433               | 0.260417    |</pre>"
      ],
      "text/plain": [
       "| 2       | 2.58s        | 0.663764          | 0.81433               | 0.260417    |"
      ]
     },
     "metadata": {},
     "output_type": "display_data"
    },
    {
     "data": {
      "text/html": [
       "<pre>| 3       | 3.95s        | 0.624782          | 0.790016              | 0.260417    |</pre>"
      ],
      "text/plain": [
       "| 3       | 3.95s        | 0.624782          | 0.790016              | 0.260417    |"
      ]
     },
     "metadata": {},
     "output_type": "display_data"
    },
    {
     "data": {
      "text/html": [
       "<pre>| 4       | 5.58s        | 0.605361          | 0.77761               | 0.260417    |</pre>"
      ],
      "text/plain": [
       "| 4       | 5.58s        | 0.605361          | 0.77761               | 0.260417    |"
      ]
     },
     "metadata": {},
     "output_type": "display_data"
    },
    {
     "data": {
      "text/html": [
       "<pre>| 5       | 7.39s        | 0.593811          | 0.770132              | 0.260417    |</pre>"
      ],
      "text/plain": [
       "| 5       | 7.39s        | 0.593811          | 0.770132              | 0.260417    |"
      ]
     },
     "metadata": {},
     "output_type": "display_data"
    },
    {
     "data": {
      "text/html": [
       "<pre>| 10      | 14.12s       | 0.568662          | 0.753585              | 0.260417    |</pre>"
      ],
      "text/plain": [
       "| 10      | 14.12s       | 0.568662          | 0.753585              | 0.260417    |"
      ]
     },
     "metadata": {},
     "output_type": "display_data"
    },
    {
     "data": {
      "text/html": [
       "<pre>| 15      | 20.44s       | 0.559021          | 0.747141              | 0.260417    |</pre>"
      ],
      "text/plain": [
       "| 15      | 20.44s       | 0.559021          | 0.747141              | 0.260417    |"
      ]
     },
     "metadata": {},
     "output_type": "display_data"
    },
    {
     "data": {
      "text/html": [
       "<pre>| 20      | 27.75s       | 0.553473          | 0.743408              | 0.260417    |</pre>"
      ],
      "text/plain": [
       "| 20      | 27.75s       | 0.553473          | 0.743408              | 0.260417    |"
      ]
     },
     "metadata": {},
     "output_type": "display_data"
    },
    {
     "data": {
      "text/html": [
       "<pre>| 25      | 34.60s       | 0.550132          | 0.741151              | 0.260417    |</pre>"
      ],
      "text/plain": [
       "| 25      | 34.60s       | 0.550132          | 0.741151              | 0.260417    |"
      ]
     },
     "metadata": {},
     "output_type": "display_data"
    },
    {
     "data": {
      "text/html": [
       "<pre>| 30      | 41.03s       | 0.547513          | 0.739376              | 0.260417    |</pre>"
      ],
      "text/plain": [
       "| 30      | 41.03s       | 0.547513          | 0.739376              | 0.260417    |"
      ]
     },
     "metadata": {},
     "output_type": "display_data"
    },
    {
     "data": {
      "text/html": [
       "<pre>| 35      | 47.22s       | 0.545426          | 0.73796               | 0.260417    |</pre>"
      ],
      "text/plain": [
       "| 35      | 47.22s       | 0.545426          | 0.73796               | 0.260417    |"
      ]
     },
     "metadata": {},
     "output_type": "display_data"
    },
    {
     "data": {
      "text/html": [
       "<pre>| 40      | 53.50s       | 0.543975          | 0.736973              | 0.260417    |</pre>"
      ],
      "text/plain": [
       "| 40      | 53.50s       | 0.543975          | 0.736973              | 0.260417    |"
      ]
     },
     "metadata": {},
     "output_type": "display_data"
    },
    {
     "data": {
      "text/html": [
       "<pre>| 45      | 1m 0s        | 0.542639          | 0.736063              | 0.260417    |</pre>"
      ],
      "text/plain": [
       "| 45      | 1m 0s        | 0.542639          | 0.736063              | 0.260417    |"
      ]
     },
     "metadata": {},
     "output_type": "display_data"
    },
    {
     "data": {
      "text/html": [
       "<pre>| 50      | 1m 6s        | 0.541483          | 0.735275              | 0.260417    |</pre>"
      ],
      "text/plain": [
       "| 50      | 1m 6s        | 0.541483          | 0.735275              | 0.260417    |"
      ]
     },
     "metadata": {},
     "output_type": "display_data"
    },
    {
     "data": {
      "text/html": [
       "<pre>+---------+--------------+-------------------+-----------------------+-------------+</pre>"
      ],
      "text/plain": [
       "+---------+--------------+-------------------+-----------------------+-------------+"
      ]
     },
     "metadata": {},
     "output_type": "display_data"
    },
    {
     "data": {
      "text/html": [
       "<pre>Optimization Complete: Maximum number of passes through the data reached.</pre>"
      ],
      "text/plain": [
       "Optimization Complete: Maximum number of passes through the data reached."
      ]
     },
     "metadata": {},
     "output_type": "display_data"
    },
    {
     "data": {
      "text/html": [
       "<pre>Computing final objective value and training RMSE.</pre>"
      ],
      "text/plain": [
       "Computing final objective value and training RMSE."
      ]
     },
     "metadata": {},
     "output_type": "display_data"
    },
    {
     "data": {
      "text/html": [
       "<pre>       Final objective value: 0.528986</pre>"
      ],
      "text/plain": [
       "       Final objective value: 0.528986"
      ]
     },
     "metadata": {},
     "output_type": "display_data"
    },
    {
     "data": {
      "text/html": [
       "<pre>       Final training RMSE: 0.726728</pre>"
      ],
      "text/plain": [
       "       Final training RMSE: 0.726728"
      ]
     },
     "metadata": {},
     "output_type": "display_data"
    }
   ],
   "source": [
    "model_3 = turicreate.factorization_recommender.create(training_data, 'user_id', 'book_id',target='rating')\n"
   ]
  },
  {
   "cell_type": "markdown",
   "metadata": {},
   "source": [
    "Factorization recommender has a much much lower RMSE than item similarity recommender"
   ]
  },
  {
   "cell_type": "code",
   "execution_count": 118,
   "metadata": {},
   "outputs": [
    {
     "data": {
      "text/plain": [
       "{'rmse_by_user': Columns:\n",
       " \tuser_id\tint\n",
       " \trmse\tfloat\n",
       " \tcount\tint\n",
       " \n",
       " Rows: 1000\n",
       " \n",
       " Data:\n",
       " +---------+--------------------+-------+\n",
       " | user_id |        rmse        | count |\n",
       " +---------+--------------------+-------+\n",
       " |   5783  | 0.9056421204844872 |   31  |\n",
       " |  33316  | 0.8331003204595658 |   30  |\n",
       " |  45930  | 0.5490743722501252 |   29  |\n",
       " |  22772  | 0.9436293498864293 |   26  |\n",
       " |  13518  | 0.9620374475882048 |   35  |\n",
       " |  11581  | 0.9273638068012636 |   16  |\n",
       " |  23577  | 0.9345809488225041 |   37  |\n",
       " |  15913  | 0.8551349647883705 |   26  |\n",
       " |  15504  | 0.7920466267429852 |   23  |\n",
       " |  24375  | 0.8002423952206067 |   25  |\n",
       " +---------+--------------------+-------+\n",
       " [1000 rows x 3 columns]\n",
       " Note: Only the head of the SFrame is printed.\n",
       " You can use print_rows(num_rows=m, num_columns=n) to print more rows and columns.,\n",
       " 'rmse_by_item': Columns:\n",
       " \tbook_id\tint\n",
       " \trmse\tfloat\n",
       " \tcount\tint\n",
       " \n",
       " Rows: 6954\n",
       " \n",
       " Data:\n",
       " +---------+---------------------+-------+\n",
       " | book_id |         rmse        | count |\n",
       " +---------+---------------------+-------+\n",
       " |   5288  |  0.8116890798736676 |   1   |\n",
       " |   3143  |  0.8097680910290619 |   3   |\n",
       " |   6769  |  0.4085672657419308 |   1   |\n",
       " |   5684  |  0.5738948411988024 |   2   |\n",
       " |   2779  | 0.23641501473675852 |   1   |\n",
       " |   118   |  0.8593706210701779 |   27  |\n",
       " |   2847  |  0.7360844098865367 |   3   |\n",
       " |   8091  |  0.7708546967222957 |   2   |\n",
       " |   8324  |  0.9953634637931077 |   2   |\n",
       " |   9234  |  0.6997789276656515 |   2   |\n",
       " +---------+---------------------+-------+\n",
       " [6954 rows x 3 columns]\n",
       " Note: Only the head of the SFrame is printed.\n",
       " You can use print_rows(num_rows=m, num_columns=n) to print more rows and columns.,\n",
       " 'rmse_overall': 0.843680803921903}"
      ]
     },
     "execution_count": 118,
     "metadata": {},
     "output_type": "execute_result"
    }
   ],
   "source": [
    "model_3.evaluate_rmse(validation_data,target='rating')"
   ]
  },
  {
   "cell_type": "code",
   "execution_count": null,
   "metadata": {},
   "outputs": [],
   "source": []
  }
 ],
 "metadata": {
  "kernelspec": {
   "display_name": "Python 3",
   "language": "python",
   "name": "python3"
  },
  "language_info": {
   "codemirror_mode": {
    "name": "ipython",
    "version": 3
   },
   "file_extension": ".py",
   "mimetype": "text/x-python",
   "name": "python",
   "nbconvert_exporter": "python",
   "pygments_lexer": "ipython3",
   "version": "3.6.8"
  }
 },
 "nbformat": 4,
 "nbformat_minor": 2
}
